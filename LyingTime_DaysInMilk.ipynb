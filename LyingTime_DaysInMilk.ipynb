{
  "cells": [
    {
      "cell_type": "markdown",
      "metadata": {
        "id": "view-in-github",
        "colab_type": "text"
      },
      "source": [
        "<a href=\"https://colab.research.google.com/github/Bovi-analytics/Salamone-et-al-2025/blob/main/LyingTime_DaysInMilk.ipynb\" target=\"_parent\"><img src=\"https://colab.research.google.com/assets/colab-badge.svg\" alt=\"Open In Colab\"/></a>"
      ]
    },
    {
      "cell_type": "markdown",
      "metadata": {
        "id": "pSzM2hzkY3TZ"
      },
      "source": [
        "# Statistical notebook for lying time DaysInMilk"
      ]
    },
    {
      "cell_type": "markdown",
      "metadata": {
        "id": "-loUUIJvY-oP"
      },
      "source": [
        "## Importing of google drive"
      ]
    },
    {
      "cell_type": "code",
      "execution_count": null,
      "metadata": {
        "colab": {
          "base_uri": "https://localhost:8080/"
        },
        "id": "WCUSUtqb21vg",
        "outputId": "bca82888-52be-4de6-e424-d48898b3a44d"
      },
      "outputs": [
        {
          "output_type": "stream",
          "name": "stdout",
          "text": [
            "Mounted at /content/drive\n"
          ]
        }
      ],
      "source": [
        "from google.colab import drive\n",
        "drive.mount('/content/drive')"
      ]
    },
    {
      "cell_type": "markdown",
      "metadata": {
        "id": "7tRvZ42CZDxk"
      },
      "source": [
        "## R loading"
      ]
    },
    {
      "cell_type": "code",
      "execution_count": null,
      "metadata": {
        "id": "TxkiqsiB23Kg"
      },
      "outputs": [],
      "source": [
        "%reload_ext rpy2.ipython"
      ]
    },
    {
      "cell_type": "code",
      "execution_count": null,
      "metadata": {
        "id": "eyN1qW2wCdmf"
      },
      "outputs": [],
      "source": [
        "%%R\n",
        "lib_loc <- \"/content/drive/Shareddrives/Bovi-Analytics/R-lib/\""
      ]
    },
    {
      "cell_type": "code",
      "execution_count": null,
      "metadata": {
        "colab": {
          "base_uri": "https://localhost:8080/"
        },
        "id": "lP-kMcJHCjvs",
        "outputId": "3519575a-dc08-4ec5-a868-7eee35486e2e"
      },
      "outputs": [
        {
          "output_type": "stream",
          "name": "stderr",
          "text": [
            "WARNING:rpy2.rinterface_lib.callbacks:R[write to console]: \n",
            "Attaching package: ‘dplyr’\n",
            "\n",
            "\n",
            "WARNING:rpy2.rinterface_lib.callbacks:R[write to console]: The following objects are masked from ‘package:plyr’:\n",
            "\n",
            "    arrange, count, desc, failwith, id, mutate, rename, summarise,\n",
            "    summarize\n",
            "\n",
            "\n",
            "WARNING:rpy2.rinterface_lib.callbacks:R[write to console]: The following objects are masked from ‘package:stats’:\n",
            "\n",
            "    filter, lag\n",
            "\n",
            "\n",
            "WARNING:rpy2.rinterface_lib.callbacks:R[write to console]: The following objects are masked from ‘package:base’:\n",
            "\n",
            "    intersect, setdiff, setequal, union\n",
            "\n",
            "\n",
            "WARNING:rpy2.rinterface_lib.callbacks:R[write to console]: \n",
            "Attaching package: ‘Matrix’\n",
            "\n",
            "\n",
            "WARNING:rpy2.rinterface_lib.callbacks:R[write to console]: The following objects are masked from ‘package:tidyr’:\n",
            "\n",
            "    expand, pack, unpack\n",
            "\n",
            "\n",
            "WARNING:rpy2.rinterface_lib.callbacks:R[write to console]: \n",
            "Attaching package: ‘lmerTest’\n",
            "\n",
            "\n",
            "WARNING:rpy2.rinterface_lib.callbacks:R[write to console]: The following object is masked from ‘package:lme4’:\n",
            "\n",
            "    lmer\n",
            "\n",
            "\n",
            "WARNING:rpy2.rinterface_lib.callbacks:R[write to console]: The following object is masked from ‘package:stats’:\n",
            "\n",
            "    step\n",
            "\n",
            "\n",
            "WARNING:rpy2.rinterface_lib.callbacks:R[write to console]: \n",
            "Attaching package: ‘MASS’\n",
            "\n",
            "\n",
            "WARNING:rpy2.rinterface_lib.callbacks:R[write to console]: The following object is masked from ‘package:dplyr’:\n",
            "\n",
            "    select\n",
            "\n",
            "\n",
            "WARNING:rpy2.rinterface_lib.callbacks:R[write to console]: \n",
            "Attaching package: ‘TH.data’\n",
            "\n",
            "\n",
            "WARNING:rpy2.rinterface_lib.callbacks:R[write to console]: The following object is masked from ‘package:MASS’:\n",
            "\n",
            "    geyser\n",
            "\n",
            "\n",
            "WARNING:rpy2.rinterface_lib.callbacks:R[write to console]: Welcome to emmeans.\n",
            "Caution: You lose important information if you filter this package's results.\n",
            "See '? untidy'\n",
            "\n",
            "WARNING:rpy2.rinterface_lib.callbacks:R[write to console]: The 'lsmeans' package is now basically a front end for 'emmeans'.\n",
            "Users are encouraged to switch the rest of the way.\n",
            "See help('transition') for more information, including how to\n",
            "convert old 'lsmeans' objects and scripts to work with 'emmeans'.\n",
            "\n",
            "WARNING:rpy2.rinterface_lib.callbacks:R[write to console]: \n",
            "Attaching package: ‘car’\n",
            "\n",
            "\n",
            "WARNING:rpy2.rinterface_lib.callbacks:R[write to console]: The following object is masked from ‘package:dplyr’:\n",
            "\n",
            "    recode\n",
            "\n",
            "\n",
            "WARNING:rpy2.rinterface_lib.callbacks:R[write to console]: \n",
            "Attaching package: ‘nlme’\n",
            "\n",
            "\n",
            "WARNING:rpy2.rinterface_lib.callbacks:R[write to console]: The following object is masked from ‘package:lme4’:\n",
            "\n",
            "    lmList\n",
            "\n",
            "\n",
            "WARNING:rpy2.rinterface_lib.callbacks:R[write to console]: The following object is masked from ‘package:dplyr’:\n",
            "\n",
            "    collapse\n",
            "\n",
            "\n",
            "WARNING:rpy2.rinterface_lib.callbacks:R[write to console]: Registered S3 method overwritten by 'clubSandwich':\n",
            "  method    from    \n",
            "  bread.mlm sandwich\n",
            "\n",
            "WARNING:rpy2.rinterface_lib.callbacks:R[write to console]: \n",
            "Attaching package: ‘purrr’\n",
            "\n",
            "\n",
            "WARNING:rpy2.rinterface_lib.callbacks:R[write to console]: The following object is masked from ‘package:car’:\n",
            "\n",
            "    some\n",
            "\n",
            "\n",
            "WARNING:rpy2.rinterface_lib.callbacks:R[write to console]: The following object is masked from ‘package:plyr’:\n",
            "\n",
            "    compact\n",
            "\n",
            "\n",
            "WARNING:rpy2.rinterface_lib.callbacks:R[write to console]: \n",
            "Attaching package: ‘ggpubr’\n",
            "\n",
            "\n",
            "WARNING:rpy2.rinterface_lib.callbacks:R[write to console]: The following object is masked from ‘package:cowplot’:\n",
            "\n",
            "    get_legend\n",
            "\n",
            "\n",
            "WARNING:rpy2.rinterface_lib.callbacks:R[write to console]: The following object is masked from ‘package:plyr’:\n",
            "\n",
            "    mutate\n",
            "\n",
            "\n"
          ]
        },
        {
          "output_type": "stream",
          "name": "stdout",
          "text": [
            "[[1]]\n",
            "[1] TRUE\n",
            "\n",
            "[[2]]\n",
            "[1] TRUE\n",
            "\n",
            "[[3]]\n",
            "[1] TRUE\n",
            "\n",
            "[[4]]\n",
            "[1] TRUE\n",
            "\n",
            "[[5]]\n",
            "[1] TRUE\n",
            "\n",
            "[[6]]\n",
            "[1] TRUE\n",
            "\n",
            "[[7]]\n",
            "[1] TRUE\n",
            "\n",
            "[[8]]\n",
            "[1] TRUE\n",
            "\n",
            "[[9]]\n",
            "[1] TRUE\n",
            "\n",
            "[[10]]\n",
            "[1] TRUE\n",
            "\n",
            "[[11]]\n",
            "[1] TRUE\n",
            "\n",
            "[[12]]\n",
            "[1] TRUE\n",
            "\n",
            "[[13]]\n",
            "[1] TRUE\n",
            "\n",
            "[[14]]\n",
            "[1] TRUE\n",
            "\n",
            "[[15]]\n",
            "[1] TRUE\n",
            "\n",
            "[[16]]\n",
            "[1] TRUE\n",
            "\n",
            "[[17]]\n",
            "[1] TRUE\n",
            "\n",
            "[[18]]\n",
            "[1] TRUE\n",
            "\n",
            "[[19]]\n",
            "[1] TRUE\n",
            "\n",
            "[[20]]\n",
            "[1] TRUE\n",
            "\n",
            "[[21]]\n",
            "[1] TRUE\n",
            "\n",
            "[[22]]\n",
            "[1] TRUE\n",
            "\n",
            "[[23]]\n",
            "[1] TRUE\n",
            "\n",
            "[[24]]\n",
            "[1] TRUE\n",
            "\n",
            "[[25]]\n",
            "[1] TRUE\n",
            "\n",
            "[[26]]\n",
            "[1] TRUE\n",
            "\n",
            "[[27]]\n",
            "[1] TRUE\n",
            "\n"
          ]
        }
      ],
      "source": [
        "%%R\n",
        ".packages <- c(\"ggplot2\",\n",
        "                  \"readr\",\n",
        "                  \"plyr\",\n",
        "                  \"dplyr\",\n",
        "                  \"tidyr\",\n",
        "                  \"tibble\",\n",
        "                  \"lme4\",\n",
        "                  \"lmerTest\",\n",
        "                  \"multcompView\",\n",
        "                  \"mvtnorm\",\n",
        "                  \"TH.data\",\n",
        "                  \"multcomp\",\n",
        "                  \"emmeans\",\n",
        "                  \"lsmeans\",\n",
        "                  \"carData\",\n",
        "                  \"car\",\n",
        "                  \"stringr\",\n",
        "                  \"cAIC4\",\n",
        "                  \"ggrepel\",\n",
        "                  \"geomtextpath\",\n",
        "                  \"grid\",\n",
        "                  \"sandwich\",\n",
        "                  \"clubSandwich\",\n",
        "                  \"skimr\",\n",
        "                  \"purrr\",\n",
        "                  'cowplot',\n",
        "                  \"ggpubr\"\n",
        "                  )\n",
        "# Install CRAN packages (if not already installed)\n",
        ".inst <- .packages %in% installed.packages(lib.loc=lib_loc)\n",
        "if(length(.packages[!.inst]) > 0) install.packages(.packages[!.inst], lib=lib_loc, repos = \"http://cran.us.r-project.org\")\n",
        "\n",
        "# Load packages into session\n",
        "lapply(.packages, require, character.only=TRUE, lib.loc = lib_loc, quietly = TRUE)\n",
        "\n"
      ]
    },
    {
      "cell_type": "markdown",
      "metadata": {
        "id": "v3uHxMw0ZX8U"
      },
      "source": [
        "## Data loading into dataframe"
      ]
    },
    {
      "cell_type": "code",
      "execution_count": null,
      "metadata": {
        "id": "4tNohnSTa8hh"
      },
      "outputs": [],
      "source": [
        "%%R\n",
        "MrtData <-\n",
        "  readr::read_csv(\n",
        "      \"/content/drive/Shareddrives/Bovi-Analytics/Projects/CelienKemel/NextMilkPredictions.csv\",\n",
        "      col_types = readr::cols(\n",
        "          HerdId = readr::col_character(),\n",
        "          AnimalId = readr::col_character()\n",
        "          )\n",
        "   ) %>%\n",
        "  dplyr::filter(AmountMPRNext > 0.0) %>%\n",
        "  dplyr::filter(DimMPRNext < 45) %>%\n",
        "  dplyr::filter(DimMPRNext > 5) %>%\n",
        "  dplyr::mutate(\n",
        "      AnimalIdentifier = factor(AnimalId),\n",
        "      CalvingDate = CalvingDateNext,\n",
        "      MRT = AmountMPRNext - prediction,\n",
        "      LactationNumber = lactationNumber + 1,\n",
        "      HerdIdentifier = factor(case_when(\n",
        "          HerdId == \"287359\"  ~ \"3\",\n",
        "          HerdId == \"269621\" ~ \"2746\",\n",
        "          HerdId == \"6177195\" ~ \"2514\",\n",
        "          HerdId == \"410638\" ~ \"3314\",\n",
        "          HerdId == \"2209799\" ~ \"544\",\n",
        "          HerdId == \"196062\" ~ \"700\",\n",
        "          HerdId == \"325565\" ~ \"2011\",\n",
        "          HerdId == \"207456\" ~ \"2297\",\n",
        "          TRUE ~  \"UnknownUBN\"\n",
        "      ))) %>%\n",
        "      group_by(HerdId) %>%\n",
        "      mutate( MRTQuantile = case_when(\n",
        "          MRT < quantile(MRT, probs= 0.33) ~ \"LOW MRT\",\n",
        "          MRT <= quantile(MRT, probs= 0.66) ~ \"MED MRT\",\n",
        "          MRT > quantile(MRT, probs= 0.66) ~ \"HIGH MRT\",\n",
        "          TRUE ~\"Missing\")\n",
        "      ) %>%  ungroup() %>%\n",
        "  dplyr::select(\n",
        "      \"AnimalIdentifier\",\n",
        "      \"HerdIdentifier\",\n",
        "      #\"LactationNumber\",\n",
        "      \"CalvingDate\",\n",
        "      \"MRT\",\n",
        "      \"MRTQuantile\",\n",
        "      \"AmountMPRNext\"\n",
        "  )"
      ]
    },
    {
      "cell_type": "code",
      "execution_count": null,
      "metadata": {
        "id": "EdsoTgv63LDl"
      },
      "outputs": [],
      "source": [
        "%%R\n",
        "BehaviorData <-\n",
        "  readr::read_csv(\"/content/drive/Shareddrives/Bovi-Analytics/Projects/SenseOfSensors/CsvData/SensorAndCalvingDataRepartitioned08032021/ObservationType=LyingTimeMinutesPerDay/part-00000-tid-3815821870089910923-ec384d9a-727d-46aa-970e-588ecba307c7-410-26.c000.csv\",\n",
        "    col_types = readr::cols(HerdIdentifier = readr::col_character(),\n",
        "        TransitionLactationNumber = readr::col_integer(),\n",
        "        TransitionParity = readr::col_character(),\n",
        "        TransitionMonthsInMilk = readr::col_integer(),\n",
        "        TransitionDaysInMilk = readr::col_integer(),\n",
        "        TransitionCalvingDate = readr::col_character(),\n",
        "        ##Hour = readr::col_integer(),\n",
        "        Observations = readr::col_integer())) %>%\n",
        "  dplyr::filter(dplyr::between(TransitionDaysInMilk, -21, 21)) %>%\n",
        "  dplyr::filter(TransitionDaysInMilk != 0 )%>%\n",
        "  dplyr:: filter(dplyr::between(ObservationValue,0,1500))%>%\n",
        "  dplyr::mutate(\n",
        "    CalvingDate = as.Date(TransitionCalvingDate),\n",
        "    AnimalIdentifier = factor(str_replace_all(TransitionAnimalEartag, \"[^0-9.]\", \"\")),\n",
        "    HerdIdentifier = factor(HerdIdentifier),\n",
        "    LactationIdentifier = factor(paste(AnimalIdentifier,CalvingDate,sep=\"-\")),\n",
        "    Parity = factor(TransitionParity),\n",
        "    LactationNumber = factor(TransitionLactationNumber),\n",
        "    MonthsInMilk = factor(TransitionMonthsInMilk),\n",
        "    DaysInMilk = factor (TransitionDaysInMilk),\n",
        "    numMonthsInMilk = TransitionMonthsInMilk,\n",
        "    numDaysInMilk = TransitionDaysInMilk,\n",
        "    CalvingSeason = factor(TransitionSeason),\n",
        "    ##Hour = factor(Hour),\n",
        "    SensorValue = ObservationValue,\n",
        "    MilkingType = factor(case_when(\n",
        "    HerdIdentifier %in% c(\"544\", \"2514\", \"3314\")~\"AMS\",\n",
        "    TRUE~\"CMS\")),\n",
        "    CalvingGroup = factor(case_when(\n",
        "          TransitionDaysInMilk <= -1 ~ \"PreCalving\",\n",
        "          TransitionDaysInMilk >= 1 ~ \"PostCalving\",\n",
        "          TRUE ~ \"Missing\"))) %>%\n",
        "dplyr::select(\n",
        "      AnimalIdentifier,\n",
        "      HerdIdentifier,\n",
        "      LactationIdentifier,\n",
        "      Parity,\n",
        "      MonthsInMilk,\n",
        "      DaysInMilk,\n",
        "      CalvingGroup,\n",
        "      numMonthsInMilk,\n",
        "      numDaysInMilk,\n",
        "      CalvingSeason,\n",
        "      CalvingDate,\n",
        "      ##Hour,\n",
        "      SensorValue,\n",
        "      MilkingType,\n",
        "      LactationNumber\n",
        "      ) %>%\n",
        "  tidyr::drop_na()"
      ]
    },
    {
      "cell_type": "code",
      "execution_count": null,
      "metadata": {
        "id": "QO-3moVnlJ5P"
      },
      "outputs": [],
      "source": [
        "%%R\n",
        "AnalysisData <- BehaviorData %>%\n",
        "  dplyr::inner_join(\n",
        "      MrtData,\n",
        "      by = c(\"HerdIdentifier\", \"AnimalIdentifier\", \"CalvingDate\")\n",
        "  )"
      ]
    },
    {
      "cell_type": "code",
      "execution_count": null,
      "metadata": {
        "colab": {
          "base_uri": "https://localhost:8080/"
        },
        "id": "Vx5vqyn2R-27",
        "outputId": "cef66a1f-78ea-4ae8-874c-087ab7f53dcc"
      },
      "outputs": [
        {
          "name": "stdout",
          "output_type": "stream",
          "text": [
            "# A tibble: 2 × 3\n",
            "  CalvingGroup  Mean    sd\n",
            "  <fct>        <dbl> <dbl>\n",
            "1 PostCalving   630.  161.\n",
            "2 PreCalving    777.  165.\n"
          ]
        }
      ],
      "source": [
        "%%R\n",
        "AnalysisData %>%\n",
        "group_by(CalvingGroup)%>%\n",
        "dplyr::summarise(Mean=mean(SensorValue, na.RM=TRUE), sd=sd(SensorValue))"
      ]
    },
    {
      "cell_type": "code",
      "execution_count": null,
      "metadata": {
        "colab": {
          "base_uri": "https://localhost:8080/"
        },
        "id": "6tB88jG161J_",
        "outputId": "422276af-c3fb-4ded-f09b-f3cee74c6263"
      },
      "outputs": [
        {
          "name": "stdout",
          "output_type": "stream",
          "text": [
            "# A tibble: 6 × 16\n",
            "  AnimalIdentifier HerdIdentifier LactationIdentifier  Parity MonthsInMilk\n",
            "  <fct>            <fct>          <fct>                <fct>  <fct>       \n",
            "1 923683065        2011           923683065-2016-09-24 3+     0           \n",
            "2 923683065        2011           923683065-2016-09-24 3+     0           \n",
            "3 923683065        2011           923683065-2016-09-24 3+     0           \n",
            "4 923683065        2011           923683065-2016-09-24 3+     0           \n",
            "5 923683065        2011           923683065-2016-09-24 3+     1           \n",
            "6 923683065        2011           923683065-2016-09-24 3+     1           \n",
            "# ℹ 11 more variables: DaysInMilk <fct>, numMonthsInMilk <int>,\n",
            "#   numDaysInMilk <int>, CalvingSeason <fct>, CalvingDate <dttm>,\n",
            "#   SensorValue <dbl>, MilkingType <fct>, LactationNumber <fct>, MRT <dbl>,\n",
            "#   MRTQuantile <chr>, AmountMPRNext <dbl>\n"
          ]
        }
      ],
      "source": [
        "%%R\n",
        "head(AnalysisData)"
      ]
    },
    {
      "cell_type": "code",
      "execution_count": null,
      "metadata": {
        "id": "nkiBWTIOCOUC"
      },
      "outputs": [],
      "source": [
        "%%R\n",
        "AnalysisData$MRTQuantile = factor(AnalysisData$MRTQuantile)\n",
        "AnalysisData$MRTQuantile = relevel(AnalysisData$MRTQuantile,ref = \"LOW MRT\")"
      ]
    },
    {
      "cell_type": "code",
      "execution_count": null,
      "metadata": {
        "colab": {
          "base_uri": "https://localhost:8080/"
        },
        "id": "YrABNkkZZnJl",
        "outputId": "0fb9dc32-6141-4e98-c058-41525f3c3c50"
      },
      "outputs": [
        {
          "name": "stdout",
          "output_type": "stream",
          "text": [
            "tibble [87,465 × 16] (S3: tbl_df/tbl/data.frame)\n",
            " $ AnimalIdentifier   : Factor w/ 2525 levels \"10464100825\",..: 1687 1687 1687 1687 1687 1687 1687 845 845 845 ...\n",
            " $ HerdIdentifier     : Factor w/ 9 levels \"2011\",\"2297\",..: 1 1 1 1 1 1 1 4 4 4 ...\n",
            " $ LactationIdentifier: Factor w/ 4278 levels \"10464100825-2017-01-13\",..: 3463 3463 3463 3463 3463 3463 3463 1581 1581 1581 ...\n",
            " $ Parity             : Factor w/ 3 levels \"1\",\"2\",\"3+\": 3 3 3 3 3 3 3 2 2 2 ...\n",
            " $ MonthsInMilk       : Factor w/ 2 levels \"0\",\"1\": 1 1 1 1 2 2 2 1 1 1 ...\n",
            " $ DaysInMilk         : Factor w/ 42 levels \"-21\",\"-20\",\"-19\",..: 1 11 14 20 28 35 37 1 2 5 ...\n",
            " $ numMonthsInMilk    : int [1:87465] 0 0 0 0 1 1 1 0 0 0 ...\n",
            " $ numDaysInMilk      : int [1:87465] -21 -11 -8 -2 7 14 16 -21 -20 -17 ...\n",
            " $ CalvingSeason      : Factor w/ 4 levels \"Autumn\",\"Spring\",..: 1 1 1 1 1 1 1 2 2 2 ...\n",
            " $ CalvingDate        : POSIXct[1:87465], format: \"2016-09-24\" \"2016-09-24\" ...\n",
            " $ SensorValue        : num [1:87465] 737 821 740 721 534 625 619 871 858 894 ...\n",
            " $ MilkingType        : Factor w/ 2 levels \"AMS\",\"CMS\": 2 2 2 2 2 2 2 2 2 2 ...\n",
            " $ LactationNumber    : Factor w/ 13 levels \"1\",\"2\",\"3\",\"4\",..: 3 3 3 3 3 3 3 2 2 2 ...\n",
            " $ MRT                : num [1:87465] 2.76 2.76 2.76 2.76 2.76 ...\n",
            " $ MRTQuantile        : chr [1:87465] \"HIGH MRT\" \"HIGH MRT\" \"HIGH MRT\" \"HIGH MRT\" ...\n",
            " $ AmountMPRNext      : num [1:87465] 44.7 44.7 44.7 44.7 44.7 44.7 44.7 42.4 42.4 42.4 ...\n"
          ]
        }
      ],
      "source": [
        "%%R\n",
        "str(AnalysisData)"
      ]
    },
    {
      "cell_type": "markdown",
      "metadata": {
        "id": "EaD1nn1VZojW"
      },
      "source": [
        "## Descriptive statistics"
      ]
    },
    {
      "cell_type": "code",
      "execution_count": null,
      "metadata": {
        "colab": {
          "base_uri": "https://localhost:8080/"
        },
        "id": "9srfDDflZv7G",
        "outputId": "b77af012-5a0c-4809-c80b-a7133321b716"
      },
      "outputs": [
        {
          "name": "stdout",
          "output_type": "stream",
          "text": [
            "# A tibble: 2 × 2\n",
            "  Parity Unique_Elements\n",
            "  <fct>            <int>\n",
            "1 2                  756\n",
            "2 3+                1625\n"
          ]
        }
      ],
      "source": [
        "%%R\n",
        "# Total Lactation Per Parity\n",
        "AnalysisData %>%\n",
        "  group_by(Parity) %>%\n",
        "  summarise(Unique_Elements = n_distinct(AnimalIdentifier, CalvingDate))"
      ]
    },
    {
      "cell_type": "code",
      "execution_count": null,
      "metadata": {
        "colab": {
          "base_uri": "https://localhost:8080/"
        },
        "id": "wxlS0c0cZx_E",
        "outputId": "2964b17b-65b3-4350-a0eb-2d55d2f7e478"
      },
      "outputs": [
        {
          "name": "stdout",
          "output_type": "stream",
          "text": [
            "# A tibble: 1 × 1\n",
            "  Unique_Elements\n",
            "            <int>\n",
            "1            1361\n"
          ]
        }
      ],
      "source": [
        "%%R\n",
        "# Total Number Animals\n",
        "AnalysisData %>%\n",
        "  summarise(Unique_Elements = n_distinct(AnimalIdentifier))"
      ]
    },
    {
      "cell_type": "code",
      "execution_count": null,
      "metadata": {
        "colab": {
          "base_uri": "https://localhost:8080/"
        },
        "id": "BMF_Bm7cxGvo",
        "outputId": "49af5ae9-6c4d-4d94-beb8-90776fa24efd"
      },
      "outputs": [
        {
          "name": "stdout",
          "output_type": "stream",
          "text": [
            "# A tibble: 10 × 2\n",
            "   LactationNumber Unique_Elements\n",
            "   <fct>                     <int>\n",
            " 1 2                           756\n",
            " 2 3                           641\n",
            " 3 4                           449\n",
            " 4 5                           274\n",
            " 5 6                           151\n",
            " 6 7                            57\n",
            " 7 8                            30\n",
            " 8 9                            14\n",
            " 9 10                            9\n",
            "10 11                            1\n"
          ]
        }
      ],
      "source": [
        "%%R\n",
        "# Number of Animals per Lactation\n",
        "AnalysisData %>%\n",
        "  group_by(LactationNumber) %>%\n",
        "  summarise(Unique_Elements = n_distinct(AnimalIdentifier, CalvingDate, Parity))"
      ]
    },
    {
      "cell_type": "markdown",
      "metadata": {
        "id": "1DD1irHVZ0vs"
      },
      "source": [
        "# Model building"
      ]
    },
    {
      "cell_type": "markdown",
      "source": [
        "##Multivariable Models"
      ],
      "metadata": {
        "id": "Vcsz1vCNH4-F"
      }
    },
    {
      "cell_type": "code",
      "execution_count": null,
      "metadata": {
        "id": "N2pB1m1lXFCW"
      },
      "outputs": [],
      "source": [
        "%%R\n",
        "Model2.0 <- lme4::lmer(\n",
        "                  SensorValue ~\n",
        "                  Parity + DaysInMilk + CalvingSeason + HerdIdentifier +  MRTQuantile +\n",
        "                  (1 + numDaysInMilk|LactationIdentifier),\n",
        "                  REML = FALSE,\n",
        "                  data = AnalysisData\n",
        "                  )"
      ]
    },
    {
      "cell_type": "code",
      "execution_count": null,
      "metadata": {
        "colab": {
          "base_uri": "https://localhost:8080/"
        },
        "id": "_jkt1d5IbXsd",
        "outputId": "e7ff26f9-8a4c-407c-a1c7-14ac9d608aae"
      },
      "outputs": [
        {
          "name": "stdout",
          "output_type": "stream",
          "text": [
            "Single term deletions\n",
            "\n",
            "Model:\n",
            "SensorValue ~ Parity + DaysInMilk + CalvingSeason + HerdIdentifier + \n",
            "    MRTQuantile + (1 + numDaysInMilk | LactationIdentifier)\n",
            "               npar     AIC     LRT   Pr(Chi)    \n",
            "<none>              1083962                      \n",
            "Parity            1 1083961     0.1    0.7184    \n",
            "DaysInMilk       41 1094619 10738.3 < 2.2e-16 ***\n",
            "CalvingSeason     3 1084023    66.2 2.813e-14 ***\n",
            "HerdIdentifier    6 1084278   328.0 < 2.2e-16 ***\n",
            "MRTQuantile       2 1083959     0.3    0.8772    \n",
            "---\n",
            "Signif. codes:  0 ‘***’ 0.001 ‘**’ 0.01 ‘*’ 0.05 ‘.’ 0.1 ‘ ’ 1\n"
          ]
        }
      ],
      "source": [
        "%%R\n",
        "drop1(Model2.0,test=\"Chisq\")"
      ]
    },
    {
      "cell_type": "markdown",
      "metadata": {
        "id": "9XZ9DvYyaWu4"
      },
      "source": [
        "## Introduction of interactions"
      ]
    },
    {
      "cell_type": "markdown",
      "metadata": {
        "id": "Qhp46ofuaanX"
      },
      "source": [
        "### Interactions with DaysInMilk"
      ]
    },
    {
      "cell_type": "code",
      "execution_count": null,
      "metadata": {
        "colab": {
          "base_uri": "https://localhost:8080/"
        },
        "id": "GwUvYh3GcTk2",
        "outputId": "634cfa99-882e-4ff0-ead1-a6741c5d8b56"
      },
      "outputs": [
        {
          "name": "stdout",
          "output_type": "stream",
          "text": [
            "Data: AnalysisData\n",
            "Models:\n",
            "Model2.0: SensorValue ~ Parity + DaysInMilk + CalvingSeason + HerdIdentifier + MRTQuantile + (1 + numDaysInMilk | LactationIdentifier)\n",
            "Model2.1: SensorValue ~ DaysInMilk * Parity + CalvingSeason + HerdIdentifier + MRTQuantile + (1 + numDaysInMilk | LactationIdentifier)\n",
            "         npar     AIC     BIC  logLik deviance  Chisq Df Pr(>Chisq)    \n",
            "Model2.0   58 1083962 1084506 -541923  1083846                         \n",
            "Model2.1   99 1083951 1084880 -541877  1083753 93.229 41  6.082e-06 ***\n",
            "---\n",
            "Signif. codes:  0 ‘***’ 0.001 ‘**’ 0.01 ‘*’ 0.05 ‘.’ 0.1 ‘ ’ 1\n"
          ]
        }
      ],
      "source": [
        "%%R\n",
        "Model2.1 <- lme4::lmer(\n",
        "                  SensorValue ~\n",
        "                  DaysInMilk*Parity + CalvingSeason + HerdIdentifier + MRTQuantile +\n",
        "                  (1 + numDaysInMilk| LactationIdentifier),\n",
        "                  REML = FALSE,\n",
        "                  data = AnalysisData\n",
        "                  )\n",
        "anova(Model2.0,Model2.1,test=\"Chisq\")"
      ]
    },
    {
      "cell_type": "code",
      "execution_count": null,
      "metadata": {
        "colab": {
          "base_uri": "https://localhost:8080/"
        },
        "id": "0NJnAdV6anvu",
        "outputId": "ce528c95-a257-4df9-82bf-9d0469a23ccf"
      },
      "outputs": [
        {
          "name": "stdout",
          "output_type": "stream",
          "text": [
            "Data: AnalysisData\n",
            "Models:\n",
            "Model2.0: SensorValue ~ Parity + DaysInMilk + CalvingSeason + HerdIdentifier + MRTQuantile + (1 + numDaysInMilk | LactationIdentifier)\n",
            "Model2.2: SensorValue ~ DaysInMilk * HerdIdentifier + CalvingSeason + Parity + MRTQuantile + (1 + numDaysInMilk | LactationIdentifier)\n",
            "         npar     AIC     BIC  logLik deviance  Chisq  Df Pr(>Chisq)    \n",
            "Model2.0   58 1083962 1084506 -541923  1083846                          \n",
            "Model2.2  304 1082390 1085241 -540891  1081782 2064.2 246  < 2.2e-16 ***\n",
            "---\n",
            "Signif. codes:  0 ‘***’ 0.001 ‘**’ 0.01 ‘*’ 0.05 ‘.’ 0.1 ‘ ’ 1\n"
          ]
        }
      ],
      "source": [
        "%%R\n",
        "Model2.2 <- lme4::lmer(\n",
        "                  SensorValue ~\n",
        "                  DaysInMilk*HerdIdentifier + CalvingSeason + Parity + MRTQuantile +\n",
        "                  (1 + numDaysInMilk| LactationIdentifier),\n",
        "                  REML = FALSE,\n",
        "                  data = AnalysisData\n",
        "                  )\n",
        "anova(Model2.0,Model2.2,test=\"Chisq\")"
      ]
    },
    {
      "cell_type": "code",
      "execution_count": null,
      "metadata": {
        "colab": {
          "base_uri": "https://localhost:8080/"
        },
        "id": "HAEnlbtnap8-",
        "outputId": "dd28a90d-10fc-40b6-85ba-68287ae2cf1a"
      },
      "outputs": [
        {
          "name": "stdout",
          "output_type": "stream",
          "text": [
            "Data: AnalysisData\n",
            "Models:\n",
            "Model2.0: SensorValue ~ Parity + DaysInMilk + CalvingSeason + HerdIdentifier + MRTQuantile + (1 + numDaysInMilk | LactationIdentifier)\n",
            "Model2.3: SensorValue ~ DaysInMilk * CalvingSeason + Parity + HerdIdentifier + MRTQuantile + (1 + numDaysInMilk | LactationIdentifier)\n",
            "         npar     AIC     BIC  logLik deviance  Chisq  Df Pr(>Chisq)    \n",
            "Model2.0   58 1083962 1084506 -541923  1083846                          \n",
            "Model2.3  181 1083858 1085556 -541748  1083496 349.97 123  < 2.2e-16 ***\n",
            "---\n",
            "Signif. codes:  0 ‘***’ 0.001 ‘**’ 0.01 ‘*’ 0.05 ‘.’ 0.1 ‘ ’ 1\n"
          ]
        }
      ],
      "source": [
        "%%R\n",
        "Model2.3 <- lme4::lmer(\n",
        "                  SensorValue ~\n",
        "                  DaysInMilk*CalvingSeason + Parity + HerdIdentifier + MRTQuantile +\n",
        "                  (1 + numDaysInMilk| LactationIdentifier),\n",
        "                  REML = FALSE,\n",
        "                  data = AnalysisData\n",
        "                  )\n",
        "anova(Model2.0,Model2.3,test=\"Chisq\")"
      ]
    },
    {
      "cell_type": "code",
      "execution_count": null,
      "metadata": {
        "colab": {
          "base_uri": "https://localhost:8080/"
        },
        "id": "Gp-EXGH3RqK9",
        "outputId": "ae506e8e-b3f4-4f9e-941e-84caa5463030"
      },
      "outputs": [
        {
          "name": "stdout",
          "output_type": "stream",
          "text": [
            "Data: AnalysisData\n",
            "Models:\n",
            "Model2.0: SensorValue ~ Parity + DaysInMilk + CalvingSeason + HerdIdentifier + MRTQuantile + (1 + numDaysInMilk | LactationIdentifier)\n",
            "Model2.4: SensorValue ~ DaysInMilk * MRTQuantile + Parity + HerdIdentifier + CalvingSeason + (1 + numDaysInMilk | LactationIdentifier)\n",
            "         npar     AIC     BIC  logLik deviance  Chisq Df Pr(>Chisq)  \n",
            "Model2.0   58 1083962 1084506 -541923  1083846                       \n",
            "Model2.4  140 1084018 1085331 -541869  1083738 108.04 82    0.02858 *\n",
            "---\n",
            "Signif. codes:  0 ‘***’ 0.001 ‘**’ 0.01 ‘*’ 0.05 ‘.’ 0.1 ‘ ’ 1\n"
          ]
        }
      ],
      "source": [
        "%%R\n",
        "Model2.4 <- lme4::lmer(\n",
        "                  SensorValue ~\n",
        "                  DaysInMilk*MRTQuantile + Parity + HerdIdentifier + CalvingSeason +\n",
        "                  (1 + numDaysInMilk| LactationIdentifier),\n",
        "                  REML = FALSE,\n",
        "                  data = AnalysisData\n",
        "                  )\n",
        "anova(Model2.0,Model2.4,test=\"Chisq\")"
      ]
    },
    {
      "cell_type": "markdown",
      "metadata": {
        "id": "TZTRb2NUatVq"
      },
      "source": [
        "## Multiple interactions"
      ]
    },
    {
      "cell_type": "code",
      "execution_count": null,
      "metadata": {
        "colab": {
          "background_save": true
        },
        "id": "bBZXJsARqhsX",
        "outputId": "38236eae-3955-46d6-ac30-1b3eaa2fb9f6"
      },
      "outputs": [
        {
          "name": "stdout",
          "output_type": "stream",
          "text": [
            "Data: AnalysisData\n",
            "Models:\n",
            "Model2.0: SensorValue ~ Parity + DaysInMilk + CalvingSeason + HerdIdentifier + MRTQuantile + (1 + numDaysInMilk | LactationIdentifier)\n",
            "Model2.5: SensorValue ~ DaysInMilk * CalvingSeason + DaysInMilk * Parity + DaysInMilk * MRTQuantile + DaysInMilk * HerdIdentifier + (1 + numDaysInMilk | LactationIdentifier)\n",
            "         npar     AIC     BIC  logLik deviance  Chisq  Df Pr(>Chisq)    \n",
            "Model2.0   58 1083962 1084506 -541923  1083846                          \n",
            "Model2.5  550 1082320 1087478 -540610  1081220 2626.7 492  < 2.2e-16 ***\n",
            "---\n",
            "Signif. codes:  0 ‘***’ 0.001 ‘**’ 0.01 ‘*’ 0.05 ‘.’ 0.1 ‘ ’ 1\n"
          ]
        }
      ],
      "source": [
        "%%R\n",
        "Model2.5 <- lme4::lmer(\n",
        "                  SensorValue ~\n",
        "                  DaysInMilk*CalvingSeason +\n",
        "                  DaysInMilk*Parity +\n",
        "                  DaysInMilk*MRTQuantile +\n",
        "                  DaysInMilk*HerdIdentifier +\n",
        "                  (1 + numDaysInMilk|LactationIdentifier),\n",
        "                  REML = FALSE,\n",
        "                  data = AnalysisData\n",
        "                  )\n",
        "anova(Model2.0,Model2.5,test=\"Chisq\")"
      ]
    },
    {
      "cell_type": "code",
      "execution_count": null,
      "metadata": {
        "colab": {
          "background_save": true
        },
        "id": "7fK8J7xra5LU",
        "outputId": "abd94e80-753c-4c28-bb79-0b65601e54c9"
      },
      "outputs": [
        {
          "name": "stdout",
          "output_type": "stream",
          "text": [
            "Single term deletions\n",
            "\n",
            "Model:\n",
            "SensorValue ~ DaysInMilk * CalvingSeason + DaysInMilk * Parity + \n",
            "    DaysInMilk * MRTQuantile + DaysInMilk * HerdIdentifier + \n",
            "    (1 + numDaysInMilk | LactationIdentifier)\n",
            "                          npar     AIC     LRT   Pr(Chi)    \n",
            "<none>                         1082320                      \n",
            "DaysInMilk:CalvingSeason   123 1082417  343.46 < 2.2e-16 ***\n",
            "DaysInMilk:Parity           41 1082341  103.50 2.577e-07 ***\n",
            "DaysInMilk:MRTQuantile      82 1082274  118.09  0.005595 ** \n",
            "DaysInMilk:HerdIdentifier  246 1083906 2078.69 < 2.2e-16 ***\n",
            "---\n",
            "Signif. codes:  0 ‘***’ 0.001 ‘**’ 0.01 ‘*’ 0.05 ‘.’ 0.1 ‘ ’ 1\n"
          ]
        }
      ],
      "source": [
        "%%R\n",
        "finalModel <- Model2.5\n",
        "Modeldrop <- drop1(finalModel, test=\"Chisq\")\n",
        "if(\"Pr(>F)\" %in% colnames(Modeldrop))\n",
        "{\n",
        "  Pvalues <- Modeldrop$`Pr(>F)`\n",
        "} else\n",
        "{\n",
        "  Pvalues <- Modeldrop$`Pr(Chi)`\n",
        "}\n",
        "Modeldrop"
      ]
    },
    {
      "cell_type": "code",
      "execution_count": null,
      "metadata": {
        "id": "KS6AOklKa7uw"
      },
      "outputs": [],
      "source": [
        "%%R\n",
        "save(finalModel, file=\"/content/drive/Shareddrives/Bovi-Analytics/Projects/CelienKemel/Models/finalmodelLyingtimeDaysInMilk.rdata\")"
      ]
    },
    {
      "cell_type": "code",
      "execution_count": null,
      "metadata": {
        "id": "NAxyakLpQKz7"
      },
      "outputs": [],
      "source": [
        "%%R\n",
        "load(file=\"/content/drive/Shareddrives/Bovi-Analytics/Projects/CelienKemel/Models/finalmodelLyingtimeDaysInMilk.rdata\")"
      ]
    },
    {
      "cell_type": "markdown",
      "metadata": {
        "id": "fQ72SzOsbA2j"
      },
      "source": [
        "# Final model analysis of variance"
      ]
    },
    {
      "cell_type": "code",
      "execution_count": null,
      "metadata": {
        "colab": {
          "base_uri": "https://localhost:8080/"
        },
        "id": "Xg8svXkGbF5C",
        "outputId": "ccccaaf3-fc0a-4076-e256-e99038f3c638"
      },
      "outputs": [
        {
          "output_type": "stream",
          "name": "stdout",
          "text": [
            "Analysis of Deviance Table (Type II Wald chisquare tests)\n",
            "\n",
            "Response: SensorValue\n",
            "                               Chisq  Df Pr(>Chisq)    \n",
            "DaysInMilk                12546.0886  41  < 2.2e-16 ***\n",
            "CalvingSeason                68.1438   3  1.066e-14 ***\n",
            "Parity                        0.1715   1   0.678786    \n",
            "MRTQuantile                   0.2505   2   0.882259    \n",
            "HerdIdentifier              354.4000   6  < 2.2e-16 ***\n",
            "DaysInMilk:CalvingSeason    345.4101 123  < 2.2e-16 ***\n",
            "DaysInMilk:Parity           102.5774  41  3.454e-07 ***\n",
            "DaysInMilk:MRTQuantile      118.2363  82   0.005451 ** \n",
            "DaysInMilk:HerdIdentifier  2100.9381 246  < 2.2e-16 ***\n",
            "---\n",
            "Signif. codes:  0 ‘***’ 0.001 ‘**’ 0.01 ‘*’ 0.05 ‘.’ 0.1 ‘ ’ 1\n"
          ]
        }
      ],
      "source": [
        "%%R\n",
        "Anova(finalModel)"
      ]
    },
    {
      "cell_type": "markdown",
      "metadata": {
        "id": "KPkbZVgZbJnc"
      },
      "source": [
        "# Final model figures and LSM (95% CI)"
      ]
    },
    {
      "cell_type": "markdown",
      "metadata": {
        "id": "xteNwT2pbO6N"
      },
      "source": [
        "## Main effects"
      ]
    },
    {
      "cell_type": "code",
      "execution_count": null,
      "metadata": {
        "colab": {
          "base_uri": "https://localhost:8080/"
        },
        "id": "SNFZWBKjbRlc",
        "outputId": "1fe03ede-949c-4d0e-bfa3-6f3170504d13"
      },
      "outputs": [
        {
          "output_type": "stream",
          "name": "stderr",
          "text": [
            "WARNING:rpy2.rinterface_lib.callbacks:R[write to console]: Note: D.f. calculations have been disabled because the number of observations exceeds 3000.\n",
            "To enable adjustments, add the argument 'pbkrtest.limit = 87465' (or larger)\n",
            "[or, globally, 'set emm_options(pbkrtest.limit = 87465)' or larger];\n",
            "but be warned that this may result in large computation time and memory use.\n",
            "\n",
            "WARNING:rpy2.rinterface_lib.callbacks:R[write to console]: Note: D.f. calculations have been disabled because the number of observations exceeds 3000.\n",
            "To enable adjustments, add the argument 'lmerTest.limit = 87465' (or larger)\n",
            "[or, globally, 'set emm_options(lmerTest.limit = 87465)' or larger];\n",
            "but be warned that this may result in large computation time and memory use.\n",
            "\n",
            "WARNING:rpy2.rinterface_lib.callbacks:R[write to console]: NOTE: Results may be misleading due to involvement in interactions\n",
            "\n"
          ]
        },
        {
          "output_type": "stream",
          "name": "stdout",
          "text": [
            " DaysInMilk lsmean   SE  df asymp.LCL asymp.UCL .group         \n",
            " 1             606 3.73 Inf       594       618  a             \n",
            " 20            614 4.42 Inf       600       628  ab            \n",
            " 21            615 4.48 Inf       601       630  abc           \n",
            " 19            617 4.37 Inf       603       631  abc           \n",
            " 18            619 4.32 Inf       605       633  abc           \n",
            " 2             621 3.74 Inf       609       634  abcd          \n",
            " 14            622 4.11 Inf       608       635  abcd          \n",
            " 17            622 4.26 Inf       608       636  abcd          \n",
            " 16            623 4.21 Inf       609       636  abcd          \n",
            " 13            625 4.07 Inf       611       638   bcde         \n",
            " 15            625 4.16 Inf       611       638   bcde         \n",
            " 11            626 3.99 Inf       613       639   bcde         \n",
            " 12            627 4.03 Inf       614       640   bcde         \n",
            " 9             627 3.91 Inf       615       640   bcde         \n",
            " 10            631 3.95 Inf       618       644    cdef        \n",
            " 8             631 3.88 Inf       618       643    cdef        \n",
            " 7             637 3.85 Inf       624       649     defg       \n",
            " 6             639 3.82 Inf       627       652      efg       \n",
            " 5             643 3.80 Inf       631       656       fg       \n",
            " 3             645 3.76 Inf       633       657       fg       \n",
            " 4             647 3.78 Inf       635       659        g       \n",
            " -1            722 3.54 Inf       710       733         h      \n",
            " -20           761 3.99 Inf       748       773          i     \n",
            " -19           762 3.95 Inf       749       774          ij    \n",
            " -21           762 4.04 Inf       749       775          ijk   \n",
            " -18           767 3.90 Inf       755       780          ijkl  \n",
            " -17           770 3.86 Inf       757       782          ijklm \n",
            " -15           772 3.79 Inf       760       784          ijklm \n",
            " -16           773 3.82 Inf       760       785          ijklmn\n",
            " -14           776 3.75 Inf       763       788           jklmn\n",
            " -12           778 3.70 Inf       766       790             lmn\n",
            " -2            778 3.54 Inf       767       790            klmn\n",
            " -13           780 3.72 Inf       768       792             lmn\n",
            " -11           781 3.67 Inf       769       793             lmn\n",
            " -6            782 3.57 Inf       770       793             lmn\n",
            " -10           782 3.64 Inf       770       794             lmn\n",
            " -9            783 3.62 Inf       771       794              mn\n",
            " -7            783 3.58 Inf       772       795              mn\n",
            " -3            783 3.54 Inf       772       795              mn\n",
            " -4            785 3.55 Inf       773       796              mn\n",
            " -5            787 3.55 Inf       776       799               n\n",
            " -8            787 3.60 Inf       776       799               n\n",
            "\n",
            "Results are averaged over the levels of: CalvingSeason, Parity, MRTQuantile, HerdIdentifier \n",
            "Degrees-of-freedom method: asymptotic \n",
            "Confidence level used: 0.95 \n",
            "Conf-level adjustment: sidak method for 42 estimates \n",
            "P value adjustment: sidak method for 861 tests \n",
            "significance level used: alpha = 0.05 \n",
            "NOTE: If two or more means share the same grouping symbol,\n",
            "      then we cannot show them to be different.\n",
            "      But we also did not show them to be the same. \n"
          ]
        }
      ],
      "source": [
        "%%R\n",
        "multcomp::cld(lsmeans::lsmeans(finalModel, ~ DaysInMilk), alpha=0.05, Letters=letters, adjust=\"sidak\")"
      ]
    },
    {
      "cell_type": "code",
      "execution_count": null,
      "metadata": {
        "colab": {
          "base_uri": "https://localhost:8080/"
        },
        "id": "xqSz6GpKbUn7",
        "outputId": "4f180196-669e-4e82-e994-a0d262caf836"
      },
      "outputs": [
        {
          "output_type": "stream",
          "name": "stderr",
          "text": [
            "WARNING:rpy2.rinterface_lib.callbacks:R[write to console]: Note: D.f. calculations have been disabled because the number of observations exceeds 3000.\n",
            "To enable adjustments, add the argument 'pbkrtest.limit = 87465' (or larger)\n",
            "[or, globally, 'set emm_options(pbkrtest.limit = 87465)' or larger];\n",
            "but be warned that this may result in large computation time and memory use.\n",
            "\n",
            "WARNING:rpy2.rinterface_lib.callbacks:R[write to console]: Note: D.f. calculations have been disabled because the number of observations exceeds 3000.\n",
            "To enable adjustments, add the argument 'lmerTest.limit = 87465' (or larger)\n",
            "[or, globally, 'set emm_options(lmerTest.limit = 87465)' or larger];\n",
            "but be warned that this may result in large computation time and memory use.\n",
            "\n",
            "WARNING:rpy2.rinterface_lib.callbacks:R[write to console]: NOTE: Results may be misleading due to involvement in interactions\n",
            "\n"
          ]
        },
        {
          "output_type": "stream",
          "name": "stdout",
          "text": [
            " Parity lsmean   SE  df asymp.LCL asymp.UCL .group\n",
            " 3+        699 2.83 Inf       693       705  a    \n",
            " 2         701 4.01 Inf       692       710  a    \n",
            "\n",
            "Results are averaged over the levels of: DaysInMilk, CalvingSeason, MRTQuantile, HerdIdentifier \n",
            "Degrees-of-freedom method: asymptotic \n",
            "Confidence level used: 0.95 \n",
            "Conf-level adjustment: sidak method for 2 estimates \n",
            "significance level used: alpha = 0.05 \n",
            "NOTE: If two or more means share the same grouping symbol,\n",
            "      then we cannot show them to be different.\n",
            "      But we also did not show them to be the same. \n"
          ]
        }
      ],
      "source": [
        "%%R\n",
        "multcomp::cld(lsmeans::lsmeans(finalModel, ~ Parity), alpha=0.05, Letters=letters, adjust=\"sidak\")"
      ]
    },
    {
      "cell_type": "code",
      "execution_count": null,
      "metadata": {
        "colab": {
          "base_uri": "https://localhost:8080/"
        },
        "id": "lWVKjGdfbZD3",
        "outputId": "33e719dc-c188-4d29-d415-7b3a4bf67990"
      },
      "outputs": [
        {
          "output_type": "stream",
          "name": "stderr",
          "text": [
            "WARNING:rpy2.rinterface_lib.callbacks:R[write to console]: Note: D.f. calculations have been disabled because the number of observations exceeds 3000.\n",
            "To enable adjustments, add the argument 'pbkrtest.limit = 87465' (or larger)\n",
            "[or, globally, 'set emm_options(pbkrtest.limit = 87465)' or larger];\n",
            "but be warned that this may result in large computation time and memory use.\n",
            "\n",
            "WARNING:rpy2.rinterface_lib.callbacks:R[write to console]: Note: D.f. calculations have been disabled because the number of observations exceeds 3000.\n",
            "To enable adjustments, add the argument 'lmerTest.limit = 87465' (or larger)\n",
            "[or, globally, 'set emm_options(lmerTest.limit = 87465)' or larger];\n",
            "but be warned that this may result in large computation time and memory use.\n",
            "\n",
            "WARNING:rpy2.rinterface_lib.callbacks:R[write to console]: NOTE: Results may be misleading due to involvement in interactions\n",
            "\n"
          ]
        },
        {
          "output_type": "stream",
          "name": "stdout",
          "text": [
            " CalvingSeason lsmean   SE  df asymp.LCL asymp.UCL .group\n",
            " Summer           685 4.25 Inf       674       695  a    \n",
            " Autumn           686 4.26 Inf       675       696  a    \n",
            " Spring           713 5.22 Inf       700       726   b   \n",
            " Winter           718 4.88 Inf       706       730   b   \n",
            "\n",
            "Results are averaged over the levels of: DaysInMilk, Parity, MRTQuantile, HerdIdentifier \n",
            "Degrees-of-freedom method: asymptotic \n",
            "Confidence level used: 0.95 \n",
            "Conf-level adjustment: sidak method for 4 estimates \n",
            "P value adjustment: sidak method for 6 tests \n",
            "significance level used: alpha = 0.05 \n",
            "NOTE: If two or more means share the same grouping symbol,\n",
            "      then we cannot show them to be different.\n",
            "      But we also did not show them to be the same. \n"
          ]
        }
      ],
      "source": [
        "%%R\n",
        "multcomp::cld(lsmeans::lsmeans(finalModel, ~ CalvingSeason), alpha=0.05, Letters=letters, adjust=\"sidak\")"
      ]
    },
    {
      "cell_type": "code",
      "execution_count": null,
      "metadata": {
        "colab": {
          "base_uri": "https://localhost:8080/"
        },
        "id": "kQhjudmyTtfv",
        "outputId": "b4363f54-7821-4725-ae94-99ed0571e72b"
      },
      "outputs": [
        {
          "output_type": "stream",
          "name": "stderr",
          "text": [
            "WARNING:rpy2.rinterface_lib.callbacks:R[write to console]: Note: D.f. calculations have been disabled because the number of observations exceeds 3000.\n",
            "To enable adjustments, add the argument 'pbkrtest.limit = 87465' (or larger)\n",
            "[or, globally, 'set emm_options(pbkrtest.limit = 87465)' or larger];\n",
            "but be warned that this may result in large computation time and memory use.\n",
            "\n",
            "WARNING:rpy2.rinterface_lib.callbacks:R[write to console]: Note: D.f. calculations have been disabled because the number of observations exceeds 3000.\n",
            "To enable adjustments, add the argument 'lmerTest.limit = 87465' (or larger)\n",
            "[or, globally, 'set emm_options(lmerTest.limit = 87465)' or larger];\n",
            "but be warned that this may result in large computation time and memory use.\n",
            "\n",
            "WARNING:rpy2.rinterface_lib.callbacks:R[write to console]: NOTE: Results may be misleading due to involvement in interactions\n",
            "\n"
          ]
        },
        {
          "output_type": "stream",
          "name": "stdout",
          "text": [
            " MRTQuantile lsmean   SE  df asymp.LCL asymp.UCL .group\n",
            " HIGH MRT       698 4.02 Inf       688       708  a    \n",
            " LOW MRT        701 3.98 Inf       692       711  a    \n",
            " MED MRT        702 4.11 Inf       692       712  a    \n",
            "\n",
            "Results are averaged over the levels of: DaysInMilk, CalvingSeason, Parity, HerdIdentifier \n",
            "Degrees-of-freedom method: asymptotic \n",
            "Confidence level used: 0.95 \n",
            "Conf-level adjustment: sidak method for 3 estimates \n",
            "P value adjustment: sidak method for 3 tests \n",
            "significance level used: alpha = 0.05 \n",
            "NOTE: If two or more means share the same grouping symbol,\n",
            "      then we cannot show them to be different.\n",
            "      But we also did not show them to be the same. \n"
          ]
        }
      ],
      "source": [
        "%%R\n",
        "multcomp::cld(lsmeans::lsmeans(finalModel, ~ MRTQuantile), alpha=0.05, Letters=letters, adjust=\"sidak\")"
      ]
    },
    {
      "cell_type": "markdown",
      "metadata": {
        "id": "O3VXNZwqbdxL"
      },
      "source": [
        "## Interactions"
      ]
    },
    {
      "cell_type": "markdown",
      "metadata": {
        "id": "TrPZ-nb1bgZZ"
      },
      "source": [
        "### DaysInMilk by MRTQuantile"
      ]
    },
    {
      "cell_type": "code",
      "execution_count": null,
      "metadata": {
        "colab": {
          "base_uri": "https://localhost:8080/"
        },
        "id": "FJfSTN3fbqV_",
        "outputId": "d5f78596-ab33-4e5f-e8ce-90f02e822e9d"
      },
      "outputs": [
        {
          "output_type": "stream",
          "name": "stderr",
          "text": [
            "WARNING:rpy2.rinterface_lib.callbacks:R[write to console]: Note: D.f. calculations have been disabled because the number of observations exceeds 3000.\n",
            "To enable adjustments, add the argument 'pbkrtest.limit = 87465' (or larger)\n",
            "[or, globally, 'set emm_options(pbkrtest.limit = 87465)' or larger];\n",
            "but be warned that this may result in large computation time and memory use.\n",
            "\n",
            "WARNING:rpy2.rinterface_lib.callbacks:R[write to console]: Note: D.f. calculations have been disabled because the number of observations exceeds 3000.\n",
            "To enable adjustments, add the argument 'lmerTest.limit = 87465' (or larger)\n",
            "[or, globally, 'set emm_options(lmerTest.limit = 87465)' or larger];\n",
            "but be warned that this may result in large computation time and memory use.\n",
            "\n"
          ]
        },
        {
          "output_type": "stream",
          "name": "stdout",
          "text": [
            "DaysInMilk = -21:\n",
            " MRTQuantile emmean   SE  df asymp.LCL asymp.UCL .group\n",
            " LOW MRT        755 6.43 Inf       740       770  a    \n",
            " MED MRT        762 6.64 Inf       746       777  a    \n",
            " HIGH MRT       769 6.49 Inf       753       784  a    \n",
            "\n",
            "DaysInMilk = -20:\n",
            " MRTQuantile emmean   SE  df asymp.LCL asymp.UCL .group\n",
            " LOW MRT        753 6.35 Inf       738       768  a    \n",
            " MED MRT        763 6.55 Inf       747       778  a    \n",
            " HIGH MRT       766 6.41 Inf       751       781  a    \n",
            "\n",
            "DaysInMilk = -19:\n",
            " MRTQuantile emmean   SE  df asymp.LCL asymp.UCL .group\n",
            " LOW MRT        755 6.28 Inf       740       770  a    \n",
            " MED MRT        756 6.48 Inf       741       772  a    \n",
            " HIGH MRT       774 6.34 Inf       759       789  a    \n",
            "\n",
            "DaysInMilk = -18:\n",
            " MRTQuantile emmean   SE  df asymp.LCL asymp.UCL .group\n",
            " LOW MRT        761 6.20 Inf       746       776  a    \n",
            " MED MRT        768 6.40 Inf       753       783  a    \n",
            " HIGH MRT       773 6.27 Inf       758       788  a    \n",
            "\n",
            "DaysInMilk = -17:\n",
            " MRTQuantile emmean   SE  df asymp.LCL asymp.UCL .group\n",
            " LOW MRT        764 6.14 Inf       749       778  a    \n",
            " HIGH MRT       772 6.21 Inf       757       787  a    \n",
            " MED MRT        774 6.33 Inf       759       789  a    \n",
            "\n",
            "DaysInMilk = -16:\n",
            " MRTQuantile emmean   SE  df asymp.LCL asymp.UCL .group\n",
            " LOW MRT        762 6.07 Inf       747       776  a    \n",
            " MED MRT        774 6.25 Inf       760       789  a    \n",
            " HIGH MRT       781 6.15 Inf       767       796  a    \n",
            "\n",
            "DaysInMilk = -15:\n",
            " MRTQuantile emmean   SE  df asymp.LCL asymp.UCL .group\n",
            " LOW MRT        763 6.02 Inf       749       778  a    \n",
            " MED MRT        775 6.19 Inf       760       790  a    \n",
            " HIGH MRT       777 6.09 Inf       763       792  a    \n",
            "\n",
            "DaysInMilk = -14:\n",
            " MRTQuantile emmean   SE  df asymp.LCL asymp.UCL .group\n",
            " LOW MRT        772 5.96 Inf       758       786  a    \n",
            " HIGH MRT       774 6.02 Inf       759       788  a    \n",
            " MED MRT        781 6.14 Inf       766       796  a    \n",
            "\n",
            "DaysInMilk = -13:\n",
            " MRTQuantile emmean   SE  df asymp.LCL asymp.UCL .group\n",
            " LOW MRT        773 5.92 Inf       759       787  a    \n",
            " MED MRT        778 6.11 Inf       763       793  a    \n",
            " HIGH MRT       788 5.98 Inf       774       802  a    \n",
            "\n",
            "DaysInMilk = -12:\n",
            " MRTQuantile emmean   SE  df asymp.LCL asymp.UCL .group\n",
            " LOW MRT        764 5.87 Inf       750       778  a    \n",
            " MED MRT        783 6.05 Inf       769       797   b   \n",
            " HIGH MRT       787 5.94 Inf       773       801   b   \n",
            "\n",
            "DaysInMilk = -11:\n",
            " MRTQuantile emmean   SE  df asymp.LCL asymp.UCL .group\n",
            " LOW MRT        775 5.82 Inf       761       789  a    \n",
            " MED MRT        782 6.01 Inf       768       796  a    \n",
            " HIGH MRT       785 5.89 Inf       771       800  a    \n",
            "\n",
            "DaysInMilk = -10:\n",
            " MRTQuantile emmean   SE  df asymp.LCL asymp.UCL .group\n",
            " LOW MRT        774 5.79 Inf       760       788  a    \n",
            " HIGH MRT       782 5.85 Inf       768       796  a    \n",
            " MED MRT        789 5.97 Inf       775       804  a    \n",
            "\n",
            "DaysInMilk = -9:\n",
            " MRTQuantile emmean   SE  df asymp.LCL asymp.UCL .group\n",
            " LOW MRT        778 5.75 Inf       765       792  a    \n",
            " MED MRT        784 5.93 Inf       770       798  a    \n",
            " HIGH MRT       786 5.80 Inf       772       800  a    \n",
            "\n",
            "DaysInMilk = -8:\n",
            " MRTQuantile emmean   SE  df asymp.LCL asymp.UCL .group\n",
            " LOW MRT        780 5.73 Inf       766       794  a    \n",
            " MED MRT        786 5.89 Inf       772       800  a    \n",
            " HIGH MRT       796 5.77 Inf       783       810  a    \n",
            "\n",
            "DaysInMilk = -7:\n",
            " MRTQuantile emmean   SE  df asymp.LCL asymp.UCL .group\n",
            " LOW MRT        775 5.70 Inf       761       788  a    \n",
            " MED MRT        787 5.87 Inf       773       801  a    \n",
            " HIGH MRT       788 5.74 Inf       774       801  a    \n",
            "\n",
            "DaysInMilk = -6:\n",
            " MRTQuantile emmean   SE  df asymp.LCL asymp.UCL .group\n",
            " LOW MRT        776 5.68 Inf       762       789  a    \n",
            " HIGH MRT       785 5.72 Inf       771       798  a    \n",
            " MED MRT        785 5.85 Inf       771       799  a    \n",
            "\n",
            "DaysInMilk = -5:\n",
            " MRTQuantile emmean   SE  df asymp.LCL asymp.UCL .group\n",
            " LOW MRT        780 5.66 Inf       766       793  a    \n",
            " MED MRT        789 5.83 Inf       775       803  a    \n",
            " HIGH MRT       793 5.70 Inf       779       806  a    \n",
            "\n",
            "DaysInMilk = -4:\n",
            " MRTQuantile emmean   SE  df asymp.LCL asymp.UCL .group\n",
            " LOW MRT        780 5.64 Inf       767       794  a    \n",
            " HIGH MRT       787 5.69 Inf       773       800  a    \n",
            " MED MRT        787 5.83 Inf       773       801  a    \n",
            "\n",
            "DaysInMilk = -3:\n",
            " MRTQuantile emmean   SE  df asymp.LCL asymp.UCL .group\n",
            " LOW MRT        780 5.63 Inf       767       793  a    \n",
            " MED MRT        783 5.82 Inf       769       797  a    \n",
            " HIGH MRT       787 5.68 Inf       773       801  a    \n",
            "\n",
            "DaysInMilk = -2:\n",
            " MRTQuantile emmean   SE  df asymp.LCL asymp.UCL .group\n",
            " LOW MRT        775 5.64 Inf       761       788  a    \n",
            " MED MRT        780 5.81 Inf       766       794  a    \n",
            " HIGH MRT       780 5.68 Inf       767       794  a    \n",
            "\n",
            "DaysInMilk = -1:\n",
            " MRTQuantile emmean   SE  df asymp.LCL asymp.UCL .group\n",
            " LOW MRT        717 5.62 Inf       703       730  a    \n",
            " MED MRT        722 5.81 Inf       708       735  a    \n",
            " HIGH MRT       727 5.68 Inf       714       741  a    \n",
            "\n",
            "DaysInMilk = 1:\n",
            " MRTQuantile emmean   SE  df asymp.LCL asymp.UCL .group\n",
            " HIGH MRT       596 5.92 Inf       582       610  a    \n",
            " MED MRT        598 6.11 Inf       583       613  a    \n",
            " LOW MRT        624 5.97 Inf       610       638   b   \n",
            "\n",
            "DaysInMilk = 2:\n",
            " MRTQuantile emmean   SE  df asymp.LCL asymp.UCL .group\n",
            " HIGH MRT       616 5.94 Inf       602       630  a    \n",
            " MED MRT        622 6.13 Inf       607       637  a    \n",
            " LOW MRT        626 5.98 Inf       612       641  a    \n",
            "\n",
            "DaysInMilk = 3:\n",
            " MRTQuantile emmean   SE  df asymp.LCL asymp.UCL .group\n",
            " HIGH MRT       639 5.96 Inf       625       653  a    \n",
            " MED MRT        642 6.15 Inf       628       657  a    \n",
            " LOW MRT        653 6.01 Inf       639       667  a    \n",
            "\n",
            "DaysInMilk = 4:\n",
            " MRTQuantile emmean   SE  df asymp.LCL asymp.UCL .group\n",
            " HIGH MRT       641 6.01 Inf       626       655  a    \n",
            " MED MRT        648 6.18 Inf       633       662  a    \n",
            " LOW MRT        653 6.05 Inf       639       667  a    \n",
            "\n",
            "DaysInMilk = 5:\n",
            " MRTQuantile emmean   SE  df asymp.LCL asymp.UCL .group\n",
            " HIGH MRT       637 6.04 Inf       623       652  a    \n",
            " MED MRT        639 6.21 Inf       625       654  a    \n",
            " LOW MRT        653 6.08 Inf       639       668  a    \n",
            "\n",
            "DaysInMilk = 6:\n",
            " MRTQuantile emmean   SE  df asymp.LCL asymp.UCL .group\n",
            " HIGH MRT       630 6.08 Inf       616       645  a    \n",
            " MED MRT        641 6.26 Inf       626       656  a    \n",
            " LOW MRT        646 6.12 Inf       632       661  a    \n",
            "\n",
            "DaysInMilk = 7:\n",
            " MRTQuantile emmean   SE  df asymp.LCL asymp.UCL .group\n",
            " HIGH MRT       630 6.11 Inf       616       645  a    \n",
            " LOW MRT        638 6.16 Inf       623       652  a    \n",
            " MED MRT        642 6.30 Inf       627       657  a    \n",
            "\n",
            "DaysInMilk = 8:\n",
            " MRTQuantile emmean   SE  df asymp.LCL asymp.UCL .group\n",
            " HIGH MRT       627 6.16 Inf       613       642  a    \n",
            " MED MRT        630 6.35 Inf       615       645  a    \n",
            " LOW MRT        635 6.22 Inf       620       650  a    \n",
            "\n",
            "DaysInMilk = 9:\n",
            " MRTQuantile emmean   SE  df asymp.LCL asymp.UCL .group\n",
            " HIGH MRT       623 6.22 Inf       608       638  a    \n",
            " MED MRT        628 6.40 Inf       613       643  a    \n",
            " LOW MRT        631 6.26 Inf       616       646  a    \n",
            "\n",
            "DaysInMilk = 10:\n",
            " MRTQuantile emmean   SE  df asymp.LCL asymp.UCL .group\n",
            " HIGH MRT       625 6.28 Inf       610       639  a    \n",
            " MED MRT        629 6.45 Inf       613       644  a    \n",
            " LOW MRT        639 6.32 Inf       624       654  a    \n",
            "\n",
            "DaysInMilk = 11:\n",
            " MRTQuantile emmean   SE  df asymp.LCL asymp.UCL .group\n",
            " HIGH MRT       611 6.34 Inf       596       626  a    \n",
            " MED MRT        632 6.51 Inf       617       648   b   \n",
            " LOW MRT        635 6.38 Inf       619       650   b   \n",
            "\n",
            "DaysInMilk = 12:\n",
            " MRTQuantile emmean   SE  df asymp.LCL asymp.UCL .group\n",
            " HIGH MRT       613 6.41 Inf       598       629  a    \n",
            " MED MRT        632 6.58 Inf       616       648  ab   \n",
            " LOW MRT        636 6.43 Inf       620       651   b   \n",
            "\n",
            "DaysInMilk = 13:\n",
            " MRTQuantile emmean   SE  df asymp.LCL asymp.UCL .group\n",
            " HIGH MRT       616 6.48 Inf       600       631  a    \n",
            " MED MRT        623 6.66 Inf       607       638  a    \n",
            " LOW MRT        635 6.49 Inf       620       651  a    \n",
            "\n",
            "DaysInMilk = 14:\n",
            " MRTQuantile emmean   SE  df asymp.LCL asymp.UCL .group\n",
            " HIGH MRT       606 6.55 Inf       590       621  a    \n",
            " LOW MRT        629 6.57 Inf       613       645   b   \n",
            " MED MRT        630 6.73 Inf       614       646   b   \n",
            "\n",
            "DaysInMilk = 15:\n",
            " MRTQuantile emmean   SE  df asymp.LCL asymp.UCL .group\n",
            " HIGH MRT       613 6.62 Inf       598       629  a    \n",
            " MED MRT        625 6.81 Inf       608       641  ab   \n",
            " LOW MRT        636 6.64 Inf       621       652   b   \n",
            "\n",
            "DaysInMilk = 16:\n",
            " MRTQuantile emmean   SE  df asymp.LCL asymp.UCL .group\n",
            " HIGH MRT       614 6.69 Inf       598       630  a    \n",
            " MED MRT        625 6.89 Inf       609       642  a    \n",
            " LOW MRT        628 6.73 Inf       612       644  a    \n",
            "\n",
            "DaysInMilk = 17:\n",
            " MRTQuantile emmean   SE  df asymp.LCL asymp.UCL .group\n",
            " HIGH MRT       608 6.77 Inf       592       624  a    \n",
            " MED MRT        628 6.98 Inf       612       645  ab   \n",
            " LOW MRT        630 6.81 Inf       614       646   b   \n",
            "\n",
            "DaysInMilk = 18:\n",
            " MRTQuantile emmean   SE  df asymp.LCL asymp.UCL .group\n",
            " HIGH MRT       606 6.86 Inf       590       623  a    \n",
            " MED MRT        620 7.06 Inf       603       636  ab   \n",
            " LOW MRT        631 6.90 Inf       614       647   b   \n",
            "\n",
            "DaysInMilk = 19:\n",
            " MRTQuantile emmean   SE  df asymp.LCL asymp.UCL .group\n",
            " HIGH MRT       603 6.94 Inf       586       619  a    \n",
            " MED MRT        619 7.15 Inf       602       636  ab   \n",
            " LOW MRT        629 6.99 Inf       613       646   b   \n",
            "\n",
            "DaysInMilk = 20:\n",
            " MRTQuantile emmean   SE  df asymp.LCL asymp.UCL .group\n",
            " HIGH MRT       601 7.02 Inf       584       617  a    \n",
            " MED MRT        615 7.23 Inf       597       632  ab   \n",
            " LOW MRT        627 7.07 Inf       610       644   b   \n",
            "\n",
            "DaysInMilk = 21:\n",
            " MRTQuantile emmean   SE  df asymp.LCL asymp.UCL .group\n",
            " HIGH MRT       602 7.12 Inf       585       619  a    \n",
            " MED MRT        618 7.33 Inf       600       635  ab   \n",
            " LOW MRT        627 7.16 Inf       609       644   b   \n",
            "\n",
            "Results are averaged over the levels of: CalvingSeason, Parity, HerdIdentifier \n",
            "Degrees-of-freedom method: asymptotic \n",
            "Confidence level used: 0.95 \n",
            "Conf-level adjustment: sidak method for 3 estimates \n",
            "P value adjustment: sidak method for 3 tests \n",
            "significance level used: alpha = 0.05 \n",
            "NOTE: If two or more means share the same grouping symbol,\n",
            "      then we cannot show them to be different.\n",
            "      But we also did not show them to be the same. \n"
          ]
        }
      ],
      "source": [
        "%%R\n",
        "LSMs<-lsmeans::lsmeans(finalModel, pairwise ~ MRTQuantile|DaysInMilk, type = \"response\", glhargs=list())\n",
        "multcomp::cld(LSMs[[1]], alpha=0.05, Letters=letters, adjust=\"sidak\")\n"
      ]
    },
    {
      "cell_type": "code",
      "execution_count": null,
      "metadata": {
        "colab": {
          "base_uri": "https://localhost:8080/"
        },
        "id": "-QL4Jgi9CM2F",
        "outputId": "2859f5df-53fc-45bc-8fc3-935fe87df945"
      },
      "outputs": [
        {
          "output_type": "stream",
          "name": "stdout",
          "text": [
            "DaysInMilk = -21:\n",
            " contrast            estimate   SE  df asymp.LCL asymp.UCL\n",
            " LOW MRT - HIGH MRT -13.50169 8.79 Inf   -34.092     7.089\n",
            " LOW MRT - MED MRT   -6.39705 8.83 Inf   -27.101    14.307\n",
            " HIGH MRT - MED MRT   7.10465 8.96 Inf   -13.884    28.094\n",
            "\n",
            "DaysInMilk = -20:\n",
            " contrast            estimate   SE  df asymp.LCL asymp.UCL\n",
            " LOW MRT - HIGH MRT -12.96360 8.67 Inf   -33.285     7.358\n",
            " LOW MRT - MED MRT  -10.01099 8.72 Inf   -30.451    10.429\n",
            " HIGH MRT - MED MRT   2.95261 8.84 Inf   -17.760    23.665\n",
            "\n",
            "DaysInMilk = -19:\n",
            " contrast            estimate   SE  df asymp.LCL asymp.UCL\n",
            " LOW MRT - HIGH MRT -19.63001 8.58 Inf   -39.732     0.472\n",
            " LOW MRT - MED MRT   -1.81018 8.62 Inf   -22.023    18.403\n",
            " HIGH MRT - MED MRT  17.81983 8.74 Inf    -2.663    38.303\n",
            "\n",
            "DaysInMilk = -18:\n",
            " contrast            estimate   SE  df asymp.LCL asymp.UCL\n",
            " LOW MRT - HIGH MRT -11.55932 8.48 Inf   -31.434     8.315\n",
            " LOW MRT - MED MRT   -7.12637 8.52 Inf   -27.093    12.840\n",
            " HIGH MRT - MED MRT   4.43296 8.64 Inf   -15.812    24.677\n",
            "\n",
            "DaysInMilk = -17:\n",
            " contrast            estimate   SE  df asymp.LCL asymp.UCL\n",
            " LOW MRT - HIGH MRT  -8.47964 8.40 Inf   -28.161    11.201\n",
            " LOW MRT - MED MRT  -10.25826 8.43 Inf   -30.019     9.502\n",
            " HIGH MRT - MED MRT  -1.77863 8.56 Inf   -21.830    18.272\n",
            "\n",
            "DaysInMilk = -16:\n",
            " contrast            estimate   SE  df asymp.LCL asymp.UCL\n",
            " LOW MRT - HIGH MRT -19.62217 8.31 Inf   -39.089    -0.155\n",
            " LOW MRT - MED MRT  -12.63201 8.33 Inf   -32.160     6.896\n",
            " HIGH MRT - MED MRT   6.99015 8.45 Inf   -12.818    26.798\n",
            "\n",
            "DaysInMilk = -15:\n",
            " contrast            estimate   SE  df asymp.LCL asymp.UCL\n",
            " LOW MRT - HIGH MRT -14.06353 8.23 Inf   -33.356     5.229\n",
            " LOW MRT - MED MRT  -11.67837 8.25 Inf   -31.025     7.668\n",
            " HIGH MRT - MED MRT   2.38517 8.37 Inf   -17.224    21.994\n",
            "\n",
            "DaysInMilk = -14:\n",
            " contrast            estimate   SE  df asymp.LCL asymp.UCL\n",
            " LOW MRT - HIGH MRT  -1.71097 8.15 Inf   -20.801    17.379\n",
            " LOW MRT - MED MRT   -8.98098 8.19 Inf   -28.167    10.205\n",
            " HIGH MRT - MED MRT  -7.27001 8.29 Inf   -26.711    12.171\n",
            "\n",
            "DaysInMilk = -13:\n",
            " contrast            estimate   SE  df asymp.LCL asymp.UCL\n",
            " LOW MRT - HIGH MRT -15.48145 8.08 Inf   -34.423     3.460\n",
            " LOW MRT - MED MRT   -5.33592 8.13 Inf   -24.392    13.720\n",
            " HIGH MRT - MED MRT  10.14554 8.24 Inf    -9.157    29.448\n",
            "\n",
            "DaysInMilk = -12:\n",
            " contrast            estimate   SE  df asymp.LCL asymp.UCL\n",
            " LOW MRT - HIGH MRT -23.32925 8.02 Inf   -42.127    -4.532\n",
            " LOW MRT - MED MRT  -19.25117 8.06 Inf   -38.134    -0.368\n",
            " HIGH MRT - MED MRT   4.07807 8.17 Inf   -15.079    23.235\n",
            "\n",
            "DaysInMilk = -11:\n",
            " contrast            estimate   SE  df asymp.LCL asymp.UCL\n",
            " LOW MRT - HIGH MRT -10.80800 7.95 Inf   -29.440     7.824\n",
            " LOW MRT - MED MRT   -7.34333 8.00 Inf   -26.086    11.399\n",
            " HIGH MRT - MED MRT   3.46467 8.11 Inf   -15.539    22.469\n",
            "\n",
            "DaysInMilk = -10:\n",
            " contrast            estimate   SE  df asymp.LCL asymp.UCL\n",
            " LOW MRT - HIGH MRT  -8.25963 7.90 Inf   -26.785    10.266\n",
            " LOW MRT - MED MRT  -15.64408 7.96 Inf   -34.289     3.001\n",
            " HIGH MRT - MED MRT  -7.38446 8.05 Inf   -26.259    11.490\n",
            "\n",
            "DaysInMilk = -9:\n",
            " contrast            estimate   SE  df asymp.LCL asymp.UCL\n",
            " LOW MRT - HIGH MRT  -7.83377 7.85 Inf   -26.221    10.553\n",
            " LOW MRT - MED MRT   -5.51395 7.90 Inf   -24.025    12.997\n",
            " HIGH MRT - MED MRT   2.31981 7.99 Inf   -16.415    21.055\n",
            "\n",
            "DaysInMilk = -8:\n",
            " contrast            estimate   SE  df asymp.LCL asymp.UCL\n",
            " LOW MRT - HIGH MRT -16.31489 7.82 Inf   -34.633     2.003\n",
            " LOW MRT - MED MRT   -5.95984 7.86 Inf   -24.384    12.464\n",
            " HIGH MRT - MED MRT  10.35505 7.95 Inf    -8.286    28.996\n",
            "\n",
            "DaysInMilk = -7:\n",
            " contrast            estimate   SE  df asymp.LCL asymp.UCL\n",
            " LOW MRT - HIGH MRT -12.89214 7.77 Inf   -31.109     5.325\n",
            " LOW MRT - MED MRT  -12.60674 7.83 Inf   -30.951     5.738\n",
            " HIGH MRT - MED MRT   0.28539 7.92 Inf   -18.269    18.840\n",
            "\n",
            "DaysInMilk = -6:\n",
            " contrast            estimate   SE  df asymp.LCL asymp.UCL\n",
            " LOW MRT - HIGH MRT  -8.82785 7.74 Inf   -26.977     9.321\n",
            " LOW MRT - MED MRT   -8.83551 7.80 Inf   -27.110     9.439\n",
            " HIGH MRT - MED MRT  -0.00765 7.88 Inf   -18.485    18.470\n",
            "\n",
            "DaysInMilk = -5:\n",
            " contrast            estimate   SE  df asymp.LCL asymp.UCL\n",
            " LOW MRT - HIGH MRT -12.83815 7.72 Inf   -30.929     5.252\n",
            " LOW MRT - MED MRT   -9.30346 7.77 Inf   -27.518     8.911\n",
            " HIGH MRT - MED MRT   3.53468 7.86 Inf   -14.881    21.950\n",
            "\n",
            "DaysInMilk = -4:\n",
            " contrast            estimate   SE  df asymp.LCL asymp.UCL\n",
            " LOW MRT - HIGH MRT  -6.26460 7.70 Inf   -24.313    11.784\n",
            " LOW MRT - MED MRT   -6.36422 7.76 Inf   -24.545    11.817\n",
            " HIGH MRT - MED MRT  -0.09962 7.85 Inf   -18.489    18.290\n",
            "\n",
            "DaysInMilk = -3:\n",
            " contrast            estimate   SE  df asymp.LCL asymp.UCL\n",
            " LOW MRT - HIGH MRT  -7.02439 7.69 Inf   -25.041    10.992\n",
            " LOW MRT - MED MRT   -3.24691 7.74 Inf   -21.388    14.894\n",
            " HIGH MRT - MED MRT   3.77748 7.83 Inf   -14.579    22.134\n",
            "\n",
            "DaysInMilk = -2:\n",
            " contrast            estimate   SE  df asymp.LCL asymp.UCL\n",
            " LOW MRT - HIGH MRT  -5.61430 7.69 Inf   -23.632    12.404\n",
            " LOW MRT - MED MRT   -5.00127 7.74 Inf   -23.136    13.133\n",
            " HIGH MRT - MED MRT   0.61303 7.82 Inf   -17.721    18.947\n",
            "\n",
            "DaysInMilk = -1:\n",
            " contrast            estimate   SE  df asymp.LCL asymp.UCL\n",
            " LOW MRT - HIGH MRT -10.72138 7.67 Inf   -28.704     7.261\n",
            " LOW MRT - MED MRT   -5.03783 7.72 Inf   -23.142    13.066\n",
            " HIGH MRT - MED MRT   5.68355 7.82 Inf   -12.652    24.019\n",
            "\n",
            "DaysInMilk = 1:\n",
            " contrast            estimate   SE  df asymp.LCL asymp.UCL\n",
            " LOW MRT - HIGH MRT  27.63798 8.07 Inf     8.716    46.559\n",
            " LOW MRT - MED MRT   25.91702 8.18 Inf     6.750    45.084\n",
            " HIGH MRT - MED MRT  -1.72096 8.18 Inf   -20.891    17.449\n",
            "\n",
            "DaysInMilk = 2:\n",
            " contrast            estimate   SE  df asymp.LCL asymp.UCL\n",
            " LOW MRT - HIGH MRT  10.54949 8.09 Inf    -8.412    29.511\n",
            " LOW MRT - MED MRT    4.37900 8.20 Inf   -14.831    23.589\n",
            " HIGH MRT - MED MRT  -6.17049 8.20 Inf   -25.396    13.055\n",
            "\n",
            "DaysInMilk = 3:\n",
            " contrast            estimate   SE  df asymp.LCL asymp.UCL\n",
            " LOW MRT - HIGH MRT  13.92662 8.12 Inf    -5.111    32.964\n",
            " LOW MRT - MED MRT   10.48292 8.23 Inf    -8.806    29.771\n",
            " HIGH MRT - MED MRT  -3.44370 8.23 Inf   -22.742    15.855\n",
            "\n",
            "DaysInMilk = 4:\n",
            " contrast            estimate   SE  df asymp.LCL asymp.UCL\n",
            " LOW MRT - HIGH MRT  12.52055 8.18 Inf    -6.659    31.700\n",
            " LOW MRT - MED MRT    5.36565 8.27 Inf   -14.026    24.758\n",
            " HIGH MRT - MED MRT  -7.15490 8.29 Inf   -26.578    12.268\n",
            "\n",
            "DaysInMilk = 5:\n",
            " contrast            estimate   SE  df asymp.LCL asymp.UCL\n",
            " LOW MRT - HIGH MRT  15.55729 8.23 Inf    -3.724    34.839\n",
            " LOW MRT - MED MRT   13.62067 8.32 Inf    -5.874    33.116\n",
            " HIGH MRT - MED MRT  -1.93661 8.33 Inf   -21.454    17.581\n",
            "\n",
            "DaysInMilk = 6:\n",
            " contrast            estimate   SE  df asymp.LCL asymp.UCL\n",
            " LOW MRT - HIGH MRT  15.79077 8.28 Inf    -3.610    35.192\n",
            " LOW MRT - MED MRT    5.28474 8.37 Inf   -14.332    24.902\n",
            " HIGH MRT - MED MRT -10.50602 8.39 Inf   -30.158     9.146\n",
            "\n",
            "DaysInMilk = 7:\n",
            " contrast            estimate   SE  df asymp.LCL asymp.UCL\n",
            " LOW MRT - HIGH MRT   7.06417 8.33 Inf   -12.463    26.592\n",
            " LOW MRT - MED MRT   -4.13837 8.43 Inf   -23.902    15.625\n",
            " HIGH MRT - MED MRT -11.20254 8.44 Inf   -30.988     8.582\n",
            "\n",
            "DaysInMilk = 8:\n",
            " contrast            estimate   SE  df asymp.LCL asymp.UCL\n",
            " LOW MRT - HIGH MRT   7.84179 8.41 Inf   -11.863    27.546\n",
            " LOW MRT - MED MRT    5.11494 8.50 Inf   -14.810    25.040\n",
            " HIGH MRT - MED MRT  -2.72685 8.51 Inf   -22.661    17.207\n",
            "\n",
            "DaysInMilk = 9:\n",
            " contrast            estimate   SE  df asymp.LCL asymp.UCL\n",
            " LOW MRT - HIGH MRT   8.32058 8.47 Inf   -11.526    28.167\n",
            " LOW MRT - MED MRT    3.20711 8.56 Inf   -16.864    23.278\n",
            " HIGH MRT - MED MRT  -5.11347 8.58 Inf   -25.220    14.993\n",
            "\n",
            "DaysInMilk = 10:\n",
            " contrast            estimate   SE  df asymp.LCL asymp.UCL\n",
            " LOW MRT - HIGH MRT  14.65554 8.55 Inf    -5.382    34.693\n",
            " LOW MRT - MED MRT   10.33024 8.64 Inf    -9.918    30.578\n",
            " HIGH MRT - MED MRT  -4.32530 8.65 Inf   -24.602    15.951\n",
            "\n",
            "DaysInMilk = 11:\n",
            " contrast            estimate   SE  df asymp.LCL asymp.UCL\n",
            " LOW MRT - HIGH MRT  23.65352 8.63 Inf     3.417    43.890\n",
            " LOW MRT - MED MRT    2.19345 8.72 Inf   -18.245    22.632\n",
            " HIGH MRT - MED MRT -21.46007 8.74 Inf   -41.945    -0.975\n",
            "\n",
            "DaysInMilk = 12:\n",
            " contrast            estimate   SE  df asymp.LCL asymp.UCL\n",
            " LOW MRT - HIGH MRT  22.38287 8.72 Inf     1.955    42.811\n",
            " LOW MRT - MED MRT    3.54575 8.80 Inf   -17.083    24.175\n",
            " HIGH MRT - MED MRT -18.83712 8.83 Inf   -39.524     1.850\n",
            "\n",
            "DaysInMilk = 13:\n",
            " contrast            estimate   SE  df asymp.LCL asymp.UCL\n",
            " LOW MRT - HIGH MRT  19.71177 8.80 Inf    -0.914    40.337\n",
            " LOW MRT - MED MRT   12.87357 8.89 Inf    -7.970    33.717\n",
            " HIGH MRT - MED MRT  -6.83820 8.93 Inf   -27.756    14.080\n",
            "\n",
            "DaysInMilk = 14:\n",
            " contrast            estimate   SE  df asymp.LCL asymp.UCL\n",
            " LOW MRT - HIGH MRT  23.25129 8.90 Inf     2.386    44.116\n",
            " LOW MRT - MED MRT   -0.54033 9.00 Inf   -21.626    20.546\n",
            " HIGH MRT - MED MRT -23.79162 9.02 Inf   -44.940    -2.643\n",
            "\n",
            "DaysInMilk = 15:\n",
            " contrast            estimate   SE  df asymp.LCL asymp.UCL\n",
            " LOW MRT - HIGH MRT  23.10278 9.00 Inf     2.013    44.193\n",
            " LOW MRT - MED MRT   11.72845 9.10 Inf    -9.596    33.053\n",
            " HIGH MRT - MED MRT -11.37432 9.12 Inf   -32.760    10.011\n",
            "\n",
            "DaysInMilk = 16:\n",
            " contrast            estimate   SE  df asymp.LCL asymp.UCL\n",
            " LOW MRT - HIGH MRT  14.32500 9.11 Inf    -7.029    35.679\n",
            " LOW MRT - MED MRT    3.22939 9.21 Inf   -18.363    24.822\n",
            " HIGH MRT - MED MRT -11.09560 9.23 Inf   -32.739    10.548\n",
            "\n",
            "DaysInMilk = 17:\n",
            " contrast            estimate   SE  df asymp.LCL asymp.UCL\n",
            " LOW MRT - HIGH MRT  22.29634 9.22 Inf     0.688    43.905\n",
            " LOW MRT - MED MRT    1.79660 9.33 Inf   -20.065    23.658\n",
            " HIGH MRT - MED MRT -20.49975 9.35 Inf   -42.414     1.414\n",
            "\n",
            "DaysInMilk = 18:\n",
            " contrast            estimate   SE  df asymp.LCL asymp.UCL\n",
            " LOW MRT - HIGH MRT  24.43473 9.34 Inf     2.541    46.329\n",
            " LOW MRT - MED MRT   11.08219 9.44 Inf   -11.051    33.216\n",
            " HIGH MRT - MED MRT -13.35254 9.46 Inf   -35.529     8.824\n",
            "\n",
            "DaysInMilk = 19:\n",
            " contrast            estimate   SE  df asymp.LCL asymp.UCL\n",
            " LOW MRT - HIGH MRT  26.73509 9.45 Inf     4.579    48.891\n",
            " LOW MRT - MED MRT   10.19083 9.56 Inf   -12.215    32.596\n",
            " HIGH MRT - MED MRT -16.54426 9.58 Inf   -38.990     5.901\n",
            "\n",
            "DaysInMilk = 20:\n",
            " contrast            estimate   SE  df asymp.LCL asymp.UCL\n",
            " LOW MRT - HIGH MRT  26.49702 9.57 Inf     4.067    48.927\n",
            " LOW MRT - MED MRT   12.46463 9.68 Inf   -10.224    35.153\n",
            " HIGH MRT - MED MRT -14.03239 9.70 Inf   -36.758     8.693\n",
            "\n",
            "DaysInMilk = 21:\n",
            " contrast            estimate   SE  df asymp.LCL asymp.UCL\n",
            " LOW MRT - HIGH MRT  24.91762 9.69 Inf     2.206    47.629\n",
            " LOW MRT - MED MRT    8.89696 9.80 Inf   -14.072    31.866\n",
            " HIGH MRT - MED MRT -16.02065 9.83 Inf   -39.048     7.007\n",
            "\n",
            "Results are averaged over the levels of: CalvingSeason, Parity, HerdIdentifier \n",
            "Degrees-of-freedom method: asymptotic \n",
            "Confidence level used: 0.95 \n",
            "Conf-level adjustment: tukey method for comparing a family of 3 estimates \n"
          ]
        }
      ],
      "source": [
        "%%R\n",
        "confint(LSMs$contrasts)"
      ]
    },
    {
      "cell_type": "markdown",
      "metadata": {
        "id": "b_WFj9RelOVD"
      },
      "source": [
        "Effect Size"
      ]
    },
    {
      "cell_type": "code",
      "execution_count": null,
      "metadata": {
        "id": "CITNcZ-vlHWT"
      },
      "outputs": [],
      "source": [
        "%%R\n",
        "emm <- emmeans(\n",
        "        finalModel,\n",
        "        ~ MRTQuantile|DaysInMilk,\n",
        "        lmer.df = \"asymptotic\",\n",
        "        lmerTest.limit = 11848\n",
        "        )\n",
        "\n",
        "effSizes <- eff_size(emm, sigma = sigma(finalModel), edf = Inf) %>% as.data.frame()\n",
        "\n"
      ]
    },
    {
      "cell_type": "code",
      "source": [
        "%%R\n",
        "pairs(emm, main = \"LOW MRT\")"
      ],
      "metadata": {
        "colab": {
          "base_uri": "https://localhost:8080/"
        },
        "id": "-IbqAhu-0KYb",
        "outputId": "30dd8da8-2b00-4a52-d252-f482617329d8"
      },
      "execution_count": null,
      "outputs": [
        {
          "output_type": "stream",
          "name": "stdout",
          "text": [
            "DaysInMilk = -21:\n",
            " contrast            estimate   SE  df z.ratio p.value\n",
            " LOW MRT - HIGH MRT -13.50169 8.79 Inf  -1.537  0.2737\n",
            " LOW MRT - MED MRT   -6.39705 8.83 Inf  -0.724  0.7492\n",
            " HIGH MRT - MED MRT   7.10465 8.96 Inf   0.793  0.7071\n",
            "\n",
            "DaysInMilk = -20:\n",
            " contrast            estimate   SE  df z.ratio p.value\n",
            " LOW MRT - HIGH MRT -12.96360 8.67 Inf  -1.495  0.2932\n",
            " LOW MRT - MED MRT  -10.01099 8.72 Inf  -1.148  0.4846\n",
            " HIGH MRT - MED MRT   2.95261 8.84 Inf   0.334  0.9403\n",
            "\n",
            "DaysInMilk = -19:\n",
            " contrast            estimate   SE  df z.ratio p.value\n",
            " LOW MRT - HIGH MRT -19.63001 8.58 Inf  -2.289  0.0574\n",
            " LOW MRT - MED MRT   -1.81018 8.62 Inf  -0.210  0.9760\n",
            " HIGH MRT - MED MRT  17.81983 8.74 Inf   2.039  0.1030\n",
            "\n",
            "DaysInMilk = -18:\n",
            " contrast            estimate   SE  df z.ratio p.value\n",
            " LOW MRT - HIGH MRT -11.55932 8.48 Inf  -1.363  0.3604\n",
            " LOW MRT - MED MRT   -7.12637 8.52 Inf  -0.837  0.6803\n",
            " HIGH MRT - MED MRT   4.43296 8.64 Inf   0.513  0.8649\n",
            "\n",
            "DaysInMilk = -17:\n",
            " contrast            estimate   SE  df z.ratio p.value\n",
            " LOW MRT - HIGH MRT  -8.47964 8.40 Inf  -1.010  0.5706\n",
            " LOW MRT - MED MRT  -10.25826 8.43 Inf  -1.217  0.4432\n",
            " HIGH MRT - MED MRT  -1.77863 8.56 Inf  -0.208  0.9765\n",
            "\n",
            "DaysInMilk = -16:\n",
            " contrast            estimate   SE  df z.ratio p.value\n",
            " LOW MRT - HIGH MRT -19.62217 8.31 Inf  -2.362  0.0477\n",
            " LOW MRT - MED MRT  -12.63201 8.33 Inf  -1.516  0.2833\n",
            " HIGH MRT - MED MRT   6.99015 8.45 Inf   0.827  0.6862\n",
            "\n",
            "DaysInMilk = -15:\n",
            " contrast            estimate   SE  df z.ratio p.value\n",
            " LOW MRT - HIGH MRT -14.06353 8.23 Inf  -1.708  0.2020\n",
            " LOW MRT - MED MRT  -11.67837 8.25 Inf  -1.415  0.3332\n",
            " HIGH MRT - MED MRT   2.38517 8.37 Inf   0.285  0.9562\n",
            "\n",
            "DaysInMilk = -14:\n",
            " contrast            estimate   SE  df z.ratio p.value\n",
            " LOW MRT - HIGH MRT  -1.71097 8.15 Inf  -0.210  0.9760\n",
            " LOW MRT - MED MRT   -8.98098 8.19 Inf  -1.097  0.5158\n",
            " HIGH MRT - MED MRT  -7.27001 8.29 Inf  -0.876  0.6552\n",
            "\n",
            "DaysInMilk = -13:\n",
            " contrast            estimate   SE  df z.ratio p.value\n",
            " LOW MRT - HIGH MRT -15.48145 8.08 Inf  -1.916  0.1342\n",
            " LOW MRT - MED MRT   -5.33592 8.13 Inf  -0.656  0.7888\n",
            " HIGH MRT - MED MRT  10.14554 8.24 Inf   1.232  0.4343\n",
            "\n",
            "DaysInMilk = -12:\n",
            " contrast            estimate   SE  df z.ratio p.value\n",
            " LOW MRT - HIGH MRT -23.32925 8.02 Inf  -2.909  0.0102\n",
            " LOW MRT - MED MRT  -19.25117 8.06 Inf  -2.389  0.0445\n",
            " HIGH MRT - MED MRT   4.07807 8.17 Inf   0.499  0.8718\n",
            "\n",
            "DaysInMilk = -11:\n",
            " contrast            estimate   SE  df z.ratio p.value\n",
            " LOW MRT - HIGH MRT -10.80800 7.95 Inf  -1.360  0.3623\n",
            " LOW MRT - MED MRT   -7.34333 8.00 Inf  -0.918  0.6287\n",
            " HIGH MRT - MED MRT   3.46467 8.11 Inf   0.427  0.9043\n",
            "\n",
            "DaysInMilk = -10:\n",
            " contrast            estimate   SE  df z.ratio p.value\n",
            " LOW MRT - HIGH MRT  -8.25963 7.90 Inf  -1.045  0.5485\n",
            " LOW MRT - MED MRT  -15.64408 7.96 Inf  -1.966  0.1206\n",
            " HIGH MRT - MED MRT  -7.38446 8.05 Inf  -0.917  0.6296\n",
            "\n",
            "DaysInMilk = -9:\n",
            " contrast            estimate   SE  df z.ratio p.value\n",
            " LOW MRT - HIGH MRT  -7.83377 7.85 Inf  -0.999  0.5778\n",
            " LOW MRT - MED MRT   -5.51395 7.90 Inf  -0.698  0.7646\n",
            " HIGH MRT - MED MRT   2.31981 7.99 Inf   0.290  0.9546\n",
            "\n",
            "DaysInMilk = -8:\n",
            " contrast            estimate   SE  df z.ratio p.value\n",
            " LOW MRT - HIGH MRT -16.31489 7.82 Inf  -2.087  0.0924\n",
            " LOW MRT - MED MRT   -5.95984 7.86 Inf  -0.758  0.7287\n",
            " HIGH MRT - MED MRT  10.35505 7.95 Inf   1.302  0.3941\n",
            "\n",
            "DaysInMilk = -7:\n",
            " contrast            estimate   SE  df z.ratio p.value\n",
            " LOW MRT - HIGH MRT -12.89214 7.77 Inf  -1.659  0.2213\n",
            " LOW MRT - MED MRT  -12.60674 7.83 Inf  -1.611  0.2411\n",
            " HIGH MRT - MED MRT   0.28539 7.92 Inf   0.036  0.9993\n",
            "\n",
            "DaysInMilk = -6:\n",
            " contrast            estimate   SE  df z.ratio p.value\n",
            " LOW MRT - HIGH MRT  -8.82785 7.74 Inf  -1.140  0.4894\n",
            " LOW MRT - MED MRT   -8.83551 7.80 Inf  -1.133  0.4936\n",
            " HIGH MRT - MED MRT  -0.00765 7.88 Inf  -0.001  1.0000\n",
            "\n",
            "DaysInMilk = -5:\n",
            " contrast            estimate   SE  df z.ratio p.value\n",
            " LOW MRT - HIGH MRT -12.83815 7.72 Inf  -1.663  0.2195\n",
            " LOW MRT - MED MRT   -9.30346 7.77 Inf  -1.197  0.4549\n",
            " HIGH MRT - MED MRT   3.53468 7.86 Inf   0.450  0.8945\n",
            "\n",
            "DaysInMilk = -4:\n",
            " contrast            estimate   SE  df z.ratio p.value\n",
            " LOW MRT - HIGH MRT  -6.26460 7.70 Inf  -0.813  0.6947\n",
            " LOW MRT - MED MRT   -6.36422 7.76 Inf  -0.820  0.6904\n",
            " HIGH MRT - MED MRT  -0.09962 7.85 Inf  -0.013  0.9999\n",
            "\n",
            "DaysInMilk = -3:\n",
            " contrast            estimate   SE  df z.ratio p.value\n",
            " LOW MRT - HIGH MRT  -7.02439 7.69 Inf  -0.914  0.6316\n",
            " LOW MRT - MED MRT   -3.24691 7.74 Inf  -0.419  0.9076\n",
            " HIGH MRT - MED MRT   3.77748 7.83 Inf   0.482  0.8797\n",
            "\n",
            "DaysInMilk = -2:\n",
            " contrast            estimate   SE  df z.ratio p.value\n",
            " LOW MRT - HIGH MRT  -5.61430 7.69 Inf  -0.730  0.7455\n",
            " LOW MRT - MED MRT   -5.00127 7.74 Inf  -0.646  0.7944\n",
            " HIGH MRT - MED MRT   0.61303 7.82 Inf   0.078  0.9966\n",
            "\n",
            "DaysInMilk = -1:\n",
            " contrast            estimate   SE  df z.ratio p.value\n",
            " LOW MRT - HIGH MRT -10.72138 7.67 Inf  -1.397  0.3423\n",
            " LOW MRT - MED MRT   -5.03783 7.72 Inf  -0.652  0.7911\n",
            " HIGH MRT - MED MRT   5.68355 7.82 Inf   0.726  0.7478\n",
            "\n",
            "DaysInMilk = 1:\n",
            " contrast            estimate   SE  df z.ratio p.value\n",
            " LOW MRT - HIGH MRT  27.63798 8.07 Inf   3.423  0.0018\n",
            " LOW MRT - MED MRT   25.91702 8.18 Inf   3.169  0.0044\n",
            " HIGH MRT - MED MRT  -1.72096 8.18 Inf  -0.210  0.9759\n",
            "\n",
            "DaysInMilk = 2:\n",
            " contrast            estimate   SE  df z.ratio p.value\n",
            " LOW MRT - HIGH MRT  10.54949 8.09 Inf   1.304  0.3929\n",
            " LOW MRT - MED MRT    4.37900 8.20 Inf   0.534  0.8545\n",
            " HIGH MRT - MED MRT  -6.17049 8.20 Inf  -0.752  0.7323\n",
            "\n",
            "DaysInMilk = 3:\n",
            " contrast            estimate   SE  df z.ratio p.value\n",
            " LOW MRT - HIGH MRT  13.92662 8.12 Inf   1.715  0.1997\n",
            " LOW MRT - MED MRT   10.48292 8.23 Inf   1.274  0.4100\n",
            " HIGH MRT - MED MRT  -3.44370 8.23 Inf  -0.418  0.9081\n",
            "\n",
            "DaysInMilk = 4:\n",
            " contrast            estimate   SE  df z.ratio p.value\n",
            " LOW MRT - HIGH MRT  12.52055 8.18 Inf   1.530  0.2768\n",
            " LOW MRT - MED MRT    5.36565 8.27 Inf   0.648  0.7932\n",
            " HIGH MRT - MED MRT  -7.15490 8.29 Inf  -0.863  0.6635\n",
            "\n",
            "DaysInMilk = 5:\n",
            " contrast            estimate   SE  df z.ratio p.value\n",
            " LOW MRT - HIGH MRT  15.55729 8.23 Inf   1.891  0.1412\n",
            " LOW MRT - MED MRT   13.62067 8.32 Inf   1.637  0.2299\n",
            " HIGH MRT - MED MRT  -1.93661 8.33 Inf  -0.233  0.9706\n",
            "\n",
            "DaysInMilk = 6:\n",
            " contrast            estimate   SE  df z.ratio p.value\n",
            " LOW MRT - HIGH MRT  15.79077 8.28 Inf   1.908  0.1365\n",
            " LOW MRT - MED MRT    5.28474 8.37 Inf   0.631  0.8028\n",
            " HIGH MRT - MED MRT -10.50602 8.39 Inf  -1.253  0.4220\n",
            "\n",
            "DaysInMilk = 7:\n",
            " contrast            estimate   SE  df z.ratio p.value\n",
            " LOW MRT - HIGH MRT   7.06417 8.33 Inf   0.848  0.6732\n",
            " LOW MRT - MED MRT   -4.13837 8.43 Inf  -0.491  0.8757\n",
            " HIGH MRT - MED MRT -11.20254 8.44 Inf  -1.327  0.3801\n",
            "\n",
            "DaysInMilk = 8:\n",
            " contrast            estimate   SE  df z.ratio p.value\n",
            " LOW MRT - HIGH MRT   7.84179 8.41 Inf   0.933  0.6195\n",
            " LOW MRT - MED MRT    5.11494 8.50 Inf   0.602  0.8192\n",
            " HIGH MRT - MED MRT  -2.72685 8.51 Inf  -0.321  0.9449\n",
            "\n",
            "DaysInMilk = 9:\n",
            " contrast            estimate   SE  df z.ratio p.value\n",
            " LOW MRT - HIGH MRT   8.32058 8.47 Inf   0.983  0.5879\n",
            " LOW MRT - MED MRT    3.20711 8.56 Inf   0.375  0.9256\n",
            " HIGH MRT - MED MRT  -5.11347 8.58 Inf  -0.596  0.8222\n",
            "\n",
            "DaysInMilk = 10:\n",
            " contrast            estimate   SE  df z.ratio p.value\n",
            " LOW MRT - HIGH MRT  14.65554 8.55 Inf   1.714  0.1998\n",
            " LOW MRT - MED MRT   10.33024 8.64 Inf   1.196  0.4557\n",
            " HIGH MRT - MED MRT  -4.32530 8.65 Inf  -0.500  0.8713\n",
            "\n",
            "DaysInMilk = 11:\n",
            " contrast            estimate   SE  df z.ratio p.value\n",
            " LOW MRT - HIGH MRT  23.65352 8.63 Inf   2.739  0.0169\n",
            " LOW MRT - MED MRT    2.19345 8.72 Inf   0.252  0.9657\n",
            " HIGH MRT - MED MRT -21.46007 8.74 Inf  -2.455  0.0375\n",
            "\n",
            "DaysInMilk = 12:\n",
            " contrast            estimate   SE  df z.ratio p.value\n",
            " LOW MRT - HIGH MRT  22.38287 8.72 Inf   2.568  0.0276\n",
            " LOW MRT - MED MRT    3.54575 8.80 Inf   0.403  0.9144\n",
            " HIGH MRT - MED MRT -18.83712 8.83 Inf  -2.134  0.0831\n",
            "\n",
            "DaysInMilk = 13:\n",
            " contrast            estimate   SE  df z.ratio p.value\n",
            " LOW MRT - HIGH MRT  19.71177 8.80 Inf   2.240  0.0647\n",
            " LOW MRT - MED MRT   12.87357 8.89 Inf   1.448  0.3166\n",
            " HIGH MRT - MED MRT  -6.83820 8.93 Inf  -0.766  0.7238\n",
            "\n",
            "DaysInMilk = 14:\n",
            " contrast            estimate   SE  df z.ratio p.value\n",
            " LOW MRT - HIGH MRT  23.25129 8.90 Inf   2.612  0.0244\n",
            " LOW MRT - MED MRT   -0.54033 9.00 Inf  -0.060  0.9980\n",
            " HIGH MRT - MED MRT -23.79162 9.02 Inf  -2.637  0.0228\n",
            "\n",
            "DaysInMilk = 15:\n",
            " contrast            estimate   SE  df z.ratio p.value\n",
            " LOW MRT - HIGH MRT  23.10278 9.00 Inf   2.567  0.0277\n",
            " LOW MRT - MED MRT   11.72845 9.10 Inf   1.289  0.4013\n",
            " HIGH MRT - MED MRT -11.37432 9.12 Inf  -1.247  0.4257\n",
            "\n",
            "DaysInMilk = 16:\n",
            " contrast            estimate   SE  df z.ratio p.value\n",
            " LOW MRT - HIGH MRT  14.32500 9.11 Inf   1.572  0.2577\n",
            " LOW MRT - MED MRT    3.22939 9.21 Inf   0.351  0.9345\n",
            " HIGH MRT - MED MRT -11.09560 9.23 Inf  -1.202  0.4522\n",
            "\n",
            "DaysInMilk = 17:\n",
            " contrast            estimate   SE  df z.ratio p.value\n",
            " LOW MRT - HIGH MRT  22.29634 9.22 Inf   2.418  0.0413\n",
            " LOW MRT - MED MRT    1.79660 9.33 Inf   0.193  0.9798\n",
            " HIGH MRT - MED MRT -20.49975 9.35 Inf  -2.192  0.0724\n",
            "\n",
            "DaysInMilk = 18:\n",
            " contrast            estimate   SE  df z.ratio p.value\n",
            " LOW MRT - HIGH MRT  24.43473 9.34 Inf   2.616  0.0242\n",
            " LOW MRT - MED MRT   11.08219 9.44 Inf   1.173  0.4690\n",
            " HIGH MRT - MED MRT -13.35254 9.46 Inf  -1.411  0.3351\n",
            "\n",
            "DaysInMilk = 19:\n",
            " contrast            estimate   SE  df z.ratio p.value\n",
            " LOW MRT - HIGH MRT  26.73509 9.45 Inf   2.828  0.0130\n",
            " LOW MRT - MED MRT   10.19083 9.56 Inf   1.066  0.5352\n",
            " HIGH MRT - MED MRT -16.54426 9.58 Inf  -1.728  0.1949\n",
            "\n",
            "DaysInMilk = 20:\n",
            " contrast            estimate   SE  df z.ratio p.value\n",
            " LOW MRT - HIGH MRT  26.49702 9.57 Inf   2.769  0.0155\n",
            " LOW MRT - MED MRT   12.46463 9.68 Inf   1.288  0.4022\n",
            " HIGH MRT - MED MRT -14.03239 9.70 Inf  -1.447  0.3167\n",
            "\n",
            "DaysInMilk = 21:\n",
            " contrast            estimate   SE  df z.ratio p.value\n",
            " LOW MRT - HIGH MRT  24.91762 9.69 Inf   2.571  0.0274\n",
            " LOW MRT - MED MRT    8.89696 9.80 Inf   0.908  0.6353\n",
            " HIGH MRT - MED MRT -16.02065 9.83 Inf  -1.631  0.2327\n",
            "\n",
            "Results are averaged over the levels of: CalvingSeason, Parity, HerdIdentifier \n",
            "Degrees-of-freedom method: asymptotic \n",
            "P value adjustment: tukey method for comparing a family of 3 estimates \n"
          ]
        }
      ]
    },
    {
      "cell_type": "code",
      "execution_count": null,
      "metadata": {
        "id": "3rm03NiFlRjz"
      },
      "outputs": [],
      "source": [
        "%%R\n",
        "dfConfInts <- confint(pairs(emm,main = \"LOW MRT\"), method = \"Wald\") %>%\n",
        "  as.data.frame() %>%\n",
        "  mutate(contrast = as.character(contrast),\n",
        "        label = if_else(DaysInMilk == max(as.numeric(DaysInMilk)), as.character(contrast), NA_character_),\n",
        "         significance = as.factor(case_when(\n",
        "             asymp.LCL <= 0 & asymp.UCL <= 0 ~ \"Significant\",\n",
        "             asymp.LCL >= 0 & asymp.UCL >= 0 ~ \"Significant\",\n",
        "             TRUE ~ \"Not-Significant\")),\n",
        "         contrast = as.factor(case_when(\n",
        "             contrast == \"LOW MRT - HIGH MRT\" ~ \"LOW - HIGH\",\n",
        "             contrast == \"LOW MRT - MED MRT\" ~ \"LOW - MED\",\n",
        "             contrast == \"HIGH MRT - MED MRT\" ~ \"HIGH - MED\",\n",
        "             TRUE ~ \"Error\"))\n",
        "         )\n"
      ]
    },
    {
      "cell_type": "code",
      "source": [
        "%%R\n",
        "Significance = dfConfInts %>%pivot_wider(id_cols = DaysInMilk, names_from = contrast, values_from = significance)\n",
        "Significance"
      ],
      "metadata": {
        "colab": {
          "base_uri": "https://localhost:8080/"
        },
        "id": "-IIKDhlW0QM6",
        "outputId": "762287cf-367d-47f8-ca57-44d5812f8bd3"
      },
      "execution_count": null,
      "outputs": [
        {
          "output_type": "stream",
          "name": "stdout",
          "text": [
            "# A tibble: 42 × 4\n",
            "   DaysInMilk `LOW - HIGH`    `LOW - MED`     `HIGH - MED`   \n",
            "   <fct>      <fct>           <fct>           <fct>          \n",
            " 1 -21        Not-Significant Not-Significant Not-Significant\n",
            " 2 -20        Not-Significant Not-Significant Not-Significant\n",
            " 3 -19        Not-Significant Not-Significant Not-Significant\n",
            " 4 -18        Not-Significant Not-Significant Not-Significant\n",
            " 5 -17        Not-Significant Not-Significant Not-Significant\n",
            " 6 -16        Significant     Not-Significant Not-Significant\n",
            " 7 -15        Not-Significant Not-Significant Not-Significant\n",
            " 8 -14        Not-Significant Not-Significant Not-Significant\n",
            " 9 -13        Not-Significant Not-Significant Not-Significant\n",
            "10 -12        Significant     Significant     Not-Significant\n",
            "# ℹ 32 more rows\n",
            "# ℹ Use `print(n = ...)` to see more rows\n"
          ]
        }
      ]
    },
    {
      "cell_type": "markdown",
      "metadata": {
        "id": "_8X87XcdlX-j"
      },
      "source": [
        "Visualizations"
      ]
    },
    {
      "cell_type": "code",
      "source": [
        "%%R\n",
        "\n",
        "group.colors<-c(\"LOW MRT\"=\"#FF0090\", \"HIGH MRT\"=\"#ffa500\", \"MED MRT\"=\"#3891A6\",\"Significant\"=\"#655e5c\")\n",
        "dfLMSs <- multcomp::cld(LSMs[[1]], alpha=0.05, Letters=letters, adjust=\"sidak\")\n",
        "\n",
        "myLoc <-\n",
        "  (which(levels(dfLMSs$DaysInMilk) == \"-1\") +\n",
        "     which(levels(dfLMSs$DaysInMilk) == \"1\")) /\n",
        "  2\n"
      ],
      "metadata": {
        "id": "P_DYWBxW0ZLE"
      },
      "execution_count": null,
      "outputs": []
    },
    {
      "cell_type": "code",
      "execution_count": null,
      "metadata": {
        "colab": {
          "base_uri": "https://localhost:8080/",
          "height": 514
        },
        "id": "X-ObtTjzbuL4",
        "outputId": "996561ac-b3db-44ad-856c-92a1dd29726d"
      },
      "outputs": [
        {
          "output_type": "stream",
          "name": "stdout",
          "text": [
            "Joining with `by = join_by(DaysInMilk)`\n"
          ]
        },
        {
          "output_type": "display_data",
          "data": {
            "image/png": "[encoded data removed]"
          },
          "metadata": {}
        }
      ],
      "source": [
        "%%R\n",
        "\n",
        "p = dfLMSs %>% inner_join(Significance) %>%  mutate(label = if_else(DaysInMilk == max(as.numeric(DaysInMilk)), as.character(MRTQuantile), NA_character_),\n",
        "                                                    significance = case_when(\n",
        "                                                        `LOW - HIGH` == \"Significant\" ~ \"Significant\",\n",
        "                                                        `LOW - MED` == \"Significant\" ~ \"Significant\",\n",
        "                                                        `HIGH - MED` == \"Significant\" ~ \"Significant\",\n",
        "                                                        TRUE ~ \"Not-Significant\"\n",
        "                                                    )) %>%\n",
        "  ggplot(\n",
        "  aes(\n",
        "    x=DaysInMilk,\n",
        "    y=emmean,\n",
        "    group=MRTQuantile,\n",
        "    color=MRTQuantile)\n",
        "    ) +\n",
        "    scale_color_manual(values=group.colors)+\n",
        "    scale_fill_manual(values=group.colors)+\n",
        "    scale_alpha_manual(values = c(\"Not-Significant\"=0,\"Significant\"=0.05))+ # transparency significance rectangles\n",
        "    geom_rect(aes(xmin=as.numeric(DaysInMilk)-0.5, xmax =as.numeric(DaysInMilk)+0.5,ymin=-Inf,ymax=Inf,fill =significance ,alpha = significance),color = NA )+\n",
        "    geom_line(size=2) +\n",
        "    geom_text_repel(data= subset(dfLMSs,DaysInMilk == 21), aes(label = MRTQuantile, colour = MRTQuantile, x = 42, y= emmean),hjust = -0.8, size = 10, nudge_x =7,box.padding = 0.5,direction = \"y\")+\n",
        "    geom_errorbar(\n",
        "    aes(ymin=asymp.LCL,\n",
        "        ymax=asymp.UCL),\n",
        "    width=0.25,\n",
        "    size=1,\n",
        "    position=position_dodge(0.25)) +\n",
        "  labs(\n",
        "    title = \"Lying time (min/day)\",\n",
        "    y=\"Minutes per day\" ,\n",
        "    x = \"Days in milk\") +\n",
        "  theme_bw() +\n",
        "  theme(text = element_text(family = \"Times New Roman\"),plot.margin = unit(c(0.5,0.5,4,0.5), \"lines\")) +\n",
        "  theme(text=element_text(size=28),\n",
        "        plot.title = element_text(hjust = 0.5),\n",
        "        panel.border = element_blank(),\n",
        "        panel.grid.major = element_blank(),\n",
        "        panel.grid.minor = element_blank(),\n",
        "        axis.line = element_line(colour = \"black\"))+\n",
        "  theme (legend.position= \"none\")+\n",
        "  geom_vline(xintercept = myLoc, size = 1, linetype= \"dashed\", color =\"black\")\n",
        "\n",
        "\n",
        "\n",
        "gt <- ggplotGrob(p)\n",
        "gt$layout$clip[gt$layout$name == \"panel\"] <- \"off\"\n",
        "grid.draw(gt)\n",
        "\n"
      ]
    },
    {
      "cell_type": "code",
      "execution_count": null,
      "metadata": {
        "id": "6QKM6C_ol4bs"
      },
      "outputs": [],
      "source": [
        "%%R\n",
        "ggsave(plot = gt, \"/content/drive/Shareddrives/Bovi-Analytics/Projects/CelienKemel/Figures/LyingTimeMRTQuantileByDaysInMilk.png\", width = 24, height = 8)"
      ]
    },
    {
      "cell_type": "code",
      "execution_count": null,
      "metadata": {
        "id": "LZIgA656Htb8",
        "colab": {
          "base_uri": "https://localhost:8080/",
          "height": 497
        },
        "outputId": "f5174856-730e-4d7d-b47c-720d8e03b0f7"
      },
      "outputs": [
        {
          "output_type": "display_data",
          "data": {
            "image/png": "[encoded data removed]"
          },
          "metadata": {}
        }
      ],
      "source": [
        "%%R\n",
        "\n",
        "myLoc <-\n",
        "  (which(levels(dfLMSs$DaysInMilk) == \"-1\") +\n",
        "     which(levels(dfLMSs$DaysInMilk) == \"1\")) /\n",
        "  2\n",
        "\n",
        "group.colors<-c(\"HIGH - MED\"=\"#609436\", \"LOW - MED\"=\"#C040A0\", \"LOW - HIGH\"=\"#FF7F50\",\"Significant\"=\"#171710\")\n",
        "plotEffectSize <- dfConfInts %>%\n",
        "  ggplot(\n",
        "  aes(\n",
        "    x=DaysInMilk,\n",
        "    y=estimate,color = contrast)\n",
        "    ) +\n",
        "    scale_color_manual(values = group.colors)+\n",
        "    scale_fill_manual(values = group.colors)+\n",
        "  geom_hline(yintercept=0, color= \"black\", size=1) +\n",
        "  scale_alpha_manual(values = c(\"Not-Significant\"=0.4,\"Significant\"=1))+ # transparency significance each group\n",
        "  geom_point(aes(alpha = significance),size=5,position=position_dodge(0.5)) +\n",
        "  geom_errorbar(\n",
        "    aes(ymin=asymp.LCL,\n",
        "        ymax=asymp.UCL,\n",
        "        alpha = significance),\n",
        "    position=position_dodge(0.5),\n",
        "    width=0.5,\n",
        "    size=1) +\n",
        "  geom_text_repel(data= subset(dfConfInts,DaysInMilk == 21), aes(label = contrast, colour = contrast, x = 42, y= estimate),hjust = -0.8, size = 10, nudge_x =7,box.padding = 0.5,direction = \"y\") +\n",
        "  labs(\n",
        "    y=\"Effect size\" ,\n",
        "    x = \"Days In Milk\") +\n",
        "  theme_bw() +\n",
        "  theme(text = element_text(family = \"Times New Roman\",size =28),\n",
        "        plot.title = element_blank(),\n",
        "        panel.border = element_blank(),\n",
        "        panel.grid.major = element_blank(),\n",
        "        panel.grid.minor = element_blank(),\n",
        "        axis.line = element_line(colour = \"black\"),\n",
        "        legend.position=\"none\",\n",
        "        legend.title = element_blank(),\n",
        "        plot.margin = unit(c(0.5,0.5,4,0.5), \"lines\"))+\n",
        "  geom_vline(xintercept = myLoc, size = 1, linetype= \"dashed\", color =\"black\")\n",
        "\n",
        "plotEffectSize"
      ]
    },
    {
      "cell_type": "code",
      "execution_count": null,
      "metadata": {
        "id": "7ULplP-Nl7wr"
      },
      "outputs": [],
      "source": [
        "%%R\n",
        "ggsave(plot = plotEffectSize,\"/content/drive/Shareddrives/Bovi-Analytics/Projects/CelienKemel/Figures/LyingTimeMRTQuantileByDaysInMilkeffectPlot.png\", width = 24, height = 6)"
      ]
    },
    {
      "cell_type": "code",
      "execution_count": null,
      "metadata": {
        "colab": {
          "base_uri": "https://localhost:8080/",
          "height": 497
        },
        "id": "3P1U9_eDl_WC",
        "outputId": "739de5e7-fcec-4e62-9f0e-12b4a98f9aba"
      },
      "outputs": [
        {
          "output_type": "display_data",
          "data": {
            "image/png": "[encoded data removed]"
          },
          "metadata": {}
        }
      ],
      "source": [
        "%%R\n",
        "combinedPlot <- ggarrange(\n",
        "    gt,\n",
        "    plotEffectSize,\n",
        "    heights = c(2, 1),\n",
        "    labels = c(\"A)\",\"B)\"),\n",
        "    ncol = 1,\n",
        "    nrow = 2,\n",
        "    align =\"v\",font.label=list(family = \"Times New Roman\",size=24))\n",
        "\n",
        "\n",
        "    combinedPlot"
      ]
    },
    {
      "cell_type": "code",
      "execution_count": null,
      "metadata": {
        "id": "rcGzl7rimCkN"
      },
      "outputs": [],
      "source": [
        "%%R\n",
        "ggsave(plot = combinedPlot,\"/content/drive/Shareddrives/Bovi-Analytics/Projects/CelienKemel/Figures/LyingTimeMRTQuantileByDaysInMilkCombo.png\", width = 24, height = 14)"
      ]
    }
  ],
  "metadata": {
    "colab": {
      "provenance": [],
      "include_colab_link": true
    },
    "kernelspec": {
      "display_name": "Python 3",
      "name": "python3"
    }
  },
  "nbformat": 4,
  "nbformat_minor": 0
}