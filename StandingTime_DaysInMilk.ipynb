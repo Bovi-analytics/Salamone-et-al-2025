{
  "nbformat": 4,
  "nbformat_minor": 0,
  "metadata": {
    "colab": {
      "provenance": [],
      "include_colab_link": true
    },
    "kernelspec": {
      "name": "python3",
      "display_name": "Python 3"
    }
  },
  "cells": [
    {
      "cell_type": "markdown",
      "metadata": {
        "id": "view-in-github",
        "colab_type": "text"
      },
      "source": [
        "<a href=\"https://colab.research.google.com/github/Bovi-analytics/Salamone-et-al-2025/blob/main/StandingTime_DaysInMilk.ipynb\" target=\"_parent\"><img src=\"https://colab.research.google.com/assets/colab-badge.svg\" alt=\"Open In Colab\"/></a>"
      ]
    },
    {
      "cell_type": "markdown",
      "metadata": {
        "id": "z9NEvvUHNdV0"
      },
      "source": [
        "# Statistical notebook for standing time MonthsInMilk"
      ]
    },
    {
      "cell_type": "markdown",
      "metadata": {
        "id": "tBCXdxQ0NmXo"
      },
      "source": [
        "## Importing of google drive"
      ]
    },
    {
      "cell_type": "code",
      "metadata": {
        "colab": {
          "base_uri": "https://localhost:8080/"
        },
        "id": "WCUSUtqb21vg",
        "outputId": "11898d88-5e58-490c-cb15-2685e3ab3260"
      },
      "source": [
        "from google.colab import drive\n",
        "drive.mount('/content/drive')"
      ],
      "execution_count": null,
      "outputs": [
        {
          "output_type": "stream",
          "name": "stdout",
          "text": [
            "Mounted at /content/drive\n"
          ]
        }
      ]
    },
    {
      "cell_type": "markdown",
      "metadata": {
        "id": "8wvg9kh4NxrD"
      },
      "source": [
        "## R loading"
      ]
    },
    {
      "cell_type": "code",
      "metadata": {
        "id": "TxkiqsiB23Kg"
      },
      "source": [
        "%reload_ext rpy2.ipython"
      ],
      "execution_count": null,
      "outputs": []
    },
    {
      "cell_type": "code",
      "metadata": {
        "id": "ShUTX27Z2ZzJ"
      },
      "source": [
        "%%R\n",
        "lib_loc <- \"/content/drive/Shareddrives/Bovi-Analytics/R-lib/\""
      ],
      "execution_count": null,
      "outputs": []
    },
    {
      "cell_type": "code",
      "metadata": {
        "id": "NOidYuwk2iWC",
        "colab": {
          "base_uri": "https://localhost:8080/"
        },
        "outputId": "aca5e1d6-4d0d-4712-e243-f5b1b7e75794"
      },
      "source": [
        "%%R\n",
        ".packages <- c(\"ggplot2\",\n",
        "                  \"readr\",\n",
        "                  \"plyr\",\n",
        "                  \"dplyr\",\n",
        "                  \"tidyr\",\n",
        "                  \"tibble\",\n",
        "                  \"lme4\",\n",
        "                  \"lmerTest\",\n",
        "                  \"multcompView\",\n",
        "                  \"mvtnorm\",\n",
        "                  \"TH.data\",\n",
        "                  \"multcomp\",\n",
        "                  \"emmeans\",\n",
        "                  \"lsmeans\",\n",
        "                  \"carData\",\n",
        "                  \"car\",\n",
        "                  \"stringr\",\n",
        "                  \"cAIC4\",\n",
        "                  \"ggrepel\",\n",
        "                  \"geomtextpath\",\n",
        "                  \"grid\",\n",
        "                  \"sandwich\",\n",
        "                  \"clubSandwich\",\n",
        "                  \"skimr\",\n",
        "                  \"purrr\",\n",
        "                  'cowplot',\n",
        "                  \"ggpubr\"\n",
        "                  )\n",
        "\n",
        "# Install CRAN packages (if not already installed)\n",
        ".inst <- .packages %in% installed.packages(lib.loc=lib_loc)\n",
        "if(length(.packages[!.inst]) > 0) install.packages(.packages[!.inst], lib=lib_loc, repos = \"http://cran.us.r-project.org\")\n",
        "\n",
        "# Load packages into session\n",
        "lapply(.packages, require, character.only=TRUE, lib.loc = lib_loc, quietly = TRUE)"
      ],
      "execution_count": null,
      "outputs": [
        {
          "output_type": "stream",
          "name": "stderr",
          "text": [
            "WARNING:rpy2.rinterface_lib.callbacks:R[write to console]: \n",
            "Attaching package: ‘dplyr’\n",
            "\n",
            "\n",
            "WARNING:rpy2.rinterface_lib.callbacks:R[write to console]: The following objects are masked from ‘package:plyr’:\n",
            "\n",
            "    arrange, count, desc, failwith, id, mutate, rename, summarise,\n",
            "    summarize\n",
            "\n",
            "\n",
            "WARNING:rpy2.rinterface_lib.callbacks:R[write to console]: The following objects are masked from ‘package:stats’:\n",
            "\n",
            "    filter, lag\n",
            "\n",
            "\n",
            "WARNING:rpy2.rinterface_lib.callbacks:R[write to console]: The following objects are masked from ‘package:base’:\n",
            "\n",
            "    intersect, setdiff, setequal, union\n",
            "\n",
            "\n",
            "WARNING:rpy2.rinterface_lib.callbacks:R[write to console]: \n",
            "Attaching package: ‘Matrix’\n",
            "\n",
            "\n",
            "WARNING:rpy2.rinterface_lib.callbacks:R[write to console]: The following objects are masked from ‘package:tidyr’:\n",
            "\n",
            "    expand, pack, unpack\n",
            "\n",
            "\n",
            "WARNING:rpy2.rinterface_lib.callbacks:R[write to console]: \n",
            "Attaching package: ‘lmerTest’\n",
            "\n",
            "\n",
            "WARNING:rpy2.rinterface_lib.callbacks:R[write to console]: The following object is masked from ‘package:lme4’:\n",
            "\n",
            "    lmer\n",
            "\n",
            "\n",
            "WARNING:rpy2.rinterface_lib.callbacks:R[write to console]: The following object is masked from ‘package:stats’:\n",
            "\n",
            "    step\n",
            "\n",
            "\n",
            "WARNING:rpy2.rinterface_lib.callbacks:R[write to console]: \n",
            "Attaching package: ‘MASS’\n",
            "\n",
            "\n",
            "WARNING:rpy2.rinterface_lib.callbacks:R[write to console]: The following object is masked from ‘package:dplyr’:\n",
            "\n",
            "    select\n",
            "\n",
            "\n",
            "WARNING:rpy2.rinterface_lib.callbacks:R[write to console]: \n",
            "Attaching package: ‘TH.data’\n",
            "\n",
            "\n",
            "WARNING:rpy2.rinterface_lib.callbacks:R[write to console]: The following object is masked from ‘package:MASS’:\n",
            "\n",
            "    geyser\n",
            "\n",
            "\n",
            "WARNING:rpy2.rinterface_lib.callbacks:R[write to console]: Welcome to emmeans.\n",
            "Caution: You lose important information if you filter this package's results.\n",
            "See '? untidy'\n",
            "\n",
            "WARNING:rpy2.rinterface_lib.callbacks:R[write to console]: The 'lsmeans' package is now basically a front end for 'emmeans'.\n",
            "Users are encouraged to switch the rest of the way.\n",
            "See help('transition') for more information, including how to\n",
            "convert old 'lsmeans' objects and scripts to work with 'emmeans'.\n",
            "\n",
            "WARNING:rpy2.rinterface_lib.callbacks:R[write to console]: \n",
            "Attaching package: ‘car’\n",
            "\n",
            "\n",
            "WARNING:rpy2.rinterface_lib.callbacks:R[write to console]: The following object is masked from ‘package:dplyr’:\n",
            "\n",
            "    recode\n",
            "\n",
            "\n",
            "WARNING:rpy2.rinterface_lib.callbacks:R[write to console]: \n",
            "Attaching package: ‘nlme’\n",
            "\n",
            "\n",
            "WARNING:rpy2.rinterface_lib.callbacks:R[write to console]: The following object is masked from ‘package:lme4’:\n",
            "\n",
            "    lmList\n",
            "\n",
            "\n",
            "WARNING:rpy2.rinterface_lib.callbacks:R[write to console]: The following object is masked from ‘package:dplyr’:\n",
            "\n",
            "    collapse\n",
            "\n",
            "\n",
            "WARNING:rpy2.rinterface_lib.callbacks:R[write to console]: Registered S3 method overwritten by 'clubSandwich':\n",
            "  method    from    \n",
            "  bread.mlm sandwich\n",
            "\n",
            "WARNING:rpy2.rinterface_lib.callbacks:R[write to console]: \n",
            "Attaching package: ‘purrr’\n",
            "\n",
            "\n",
            "WARNING:rpy2.rinterface_lib.callbacks:R[write to console]: The following object is masked from ‘package:car’:\n",
            "\n",
            "    some\n",
            "\n",
            "\n",
            "WARNING:rpy2.rinterface_lib.callbacks:R[write to console]: The following object is masked from ‘package:plyr’:\n",
            "\n",
            "    compact\n",
            "\n",
            "\n",
            "WARNING:rpy2.rinterface_lib.callbacks:R[write to console]: \n",
            "Attaching package: ‘ggpubr’\n",
            "\n",
            "\n",
            "WARNING:rpy2.rinterface_lib.callbacks:R[write to console]: The following object is masked from ‘package:cowplot’:\n",
            "\n",
            "    get_legend\n",
            "\n",
            "\n",
            "WARNING:rpy2.rinterface_lib.callbacks:R[write to console]: The following object is masked from ‘package:plyr’:\n",
            "\n",
            "    mutate\n",
            "\n",
            "\n"
          ]
        },
        {
          "output_type": "stream",
          "name": "stdout",
          "text": [
            "[[1]]\n",
            "[1] TRUE\n",
            "\n",
            "[[2]]\n",
            "[1] TRUE\n",
            "\n",
            "[[3]]\n",
            "[1] TRUE\n",
            "\n",
            "[[4]]\n",
            "[1] TRUE\n",
            "\n",
            "[[5]]\n",
            "[1] TRUE\n",
            "\n",
            "[[6]]\n",
            "[1] TRUE\n",
            "\n",
            "[[7]]\n",
            "[1] TRUE\n",
            "\n",
            "[[8]]\n",
            "[1] TRUE\n",
            "\n",
            "[[9]]\n",
            "[1] TRUE\n",
            "\n",
            "[[10]]\n",
            "[1] TRUE\n",
            "\n",
            "[[11]]\n",
            "[1] TRUE\n",
            "\n",
            "[[12]]\n",
            "[1] TRUE\n",
            "\n",
            "[[13]]\n",
            "[1] TRUE\n",
            "\n",
            "[[14]]\n",
            "[1] TRUE\n",
            "\n",
            "[[15]]\n",
            "[1] TRUE\n",
            "\n",
            "[[16]]\n",
            "[1] TRUE\n",
            "\n",
            "[[17]]\n",
            "[1] TRUE\n",
            "\n",
            "[[18]]\n",
            "[1] TRUE\n",
            "\n",
            "[[19]]\n",
            "[1] TRUE\n",
            "\n",
            "[[20]]\n",
            "[1] TRUE\n",
            "\n",
            "[[21]]\n",
            "[1] TRUE\n",
            "\n",
            "[[22]]\n",
            "[1] TRUE\n",
            "\n",
            "[[23]]\n",
            "[1] TRUE\n",
            "\n",
            "[[24]]\n",
            "[1] TRUE\n",
            "\n",
            "[[25]]\n",
            "[1] TRUE\n",
            "\n",
            "[[26]]\n",
            "[1] TRUE\n",
            "\n",
            "[[27]]\n",
            "[1] TRUE\n",
            "\n"
          ]
        }
      ]
    },
    {
      "cell_type": "markdown",
      "metadata": {
        "id": "r21I7TJZOF7b"
      },
      "source": [
        "## Data loading into dataframe"
      ]
    },
    {
      "cell_type": "code",
      "metadata": {
        "id": "XKMnpccx3BDP"
      },
      "source": [
        "%%R\n",
        "MrtData <-\n",
        "  readr::read_csv(\n",
        "      \"/content/drive/Shareddrives/Bovi-Analytics/Projects/CelienKemel/NextMilkPredictions.csv\",\n",
        "      col_types = readr::cols(\n",
        "          HerdId = readr::col_character(),\n",
        "          AnimalId = readr::col_character()\n",
        "          )\n",
        "   ) %>%\n",
        "  dplyr::filter(AmountMPRNext > 0.0) %>%\n",
        "  dplyr::filter(DimMPRNext < 45) %>%\n",
        "  dplyr::filter(DimMPRNext > 5) %>%\n",
        "  dplyr::mutate(\n",
        "      AnimalIdentifier = factor(AnimalId),\n",
        "      CalvingDate = CalvingDateNext,\n",
        "      MRT = AmountMPRNext - prediction,\n",
        "      LactationNumber = lactationNumber + 1,\n",
        "      HerdIdentifier = factor(case_when(\n",
        "          HerdId == \"287359\"  ~ \"3\",\n",
        "          HerdId == \"269621\" ~ \"2746\",\n",
        "          HerdId == \"6177195\" ~ \"2514\",\n",
        "          HerdId == \"410638\" ~ \"3314\",\n",
        "          HerdId == \"2209799\" ~ \"544\",\n",
        "          HerdId == \"196062\" ~ \"700\",\n",
        "          HerdId == \"325565\" ~ \"2011\",\n",
        "          HerdId == \"207456\" ~ \"2297\",\n",
        "          TRUE ~  \"UnknownUBN\"\n",
        "      ))) %>%\n",
        "     group_by(HerdId) %>%\n",
        "      mutate( MRTQuantile = case_when(\n",
        "          MRT < quantile(MRT, probs= 0.33) ~ \"LOW MRT\",\n",
        "          MRT <= quantile(MRT, probs= 0.66) ~ \"MED MRT\",\n",
        "          MRT > quantile(MRT, probs= 0.66) ~ \"HIGH MRT\",\n",
        "          TRUE ~\"Missing\")\n",
        "      ) %>%  ungroup() %>%\n",
        "  dplyr::select(\n",
        "      \"AnimalIdentifier\",\n",
        "      \"HerdIdentifier\",\n",
        "      #\"LactationNumber\",\n",
        "      \"CalvingDate\",\n",
        "      \"MRT\",\n",
        "      \"MRTQuantile\",\n",
        "      \"AmountMPRNext\"\n",
        "  )\n"
      ],
      "execution_count": null,
      "outputs": []
    },
    {
      "cell_type": "code",
      "metadata": {
        "id": "EdsoTgv63LDl"
      },
      "source": [
        "%%R\n",
        "BehaviorData <-\n",
        "  readr::read_csv(\"/content/drive/Shareddrives/Bovi-Analytics/Projects/SenseOfSensors/CsvData/SensorAndCalvingDataRepartitioned08032021/ObservationType=InactiveTimeMinutesPerDay/part-00000-tid-3815821870089910923-ec384d9a-727d-46aa-970e-588ecba307c7-410-12.c000.csv\",\n",
        "    col_types = readr::cols(HerdIdentifier = readr::col_character(),\n",
        "        TransitionLactationNumber = readr::col_integer(),\n",
        "        TransitionParity = readr::col_character(),\n",
        "        TransitionMonthsInMilk = readr::col_integer(),\n",
        "        TransitionDaysInMilk = readr::col_integer(),\n",
        "        TransitionCalvingDate = readr::col_character(),\n",
        "        #Hour = readr::col_integer(),\n",
        "        Observations = readr::col_integer())) %>%\n",
        "  dplyr::filter(dplyr::between(TransitionDaysInMilk, -21, 21)) %>%\n",
        "  dplyr::filter(TransitionDaysInMilk != 0) %>%\n",
        "   dplyr::mutate(\n",
        "    CalvingDate = as.Date(TransitionCalvingDate),\n",
        "    AnimalIdentifier = factor(str_replace_all(TransitionAnimalEartag, \"[^0-9.]\", \"\")),\n",
        "    HerdIdentifier = factor(HerdIdentifier),\n",
        "    LactationIdentifier = factor(paste(AnimalIdentifier,CalvingDate,sep=\"-\")),\n",
        "    Parity = factor(TransitionParity),\n",
        "    LactationNumber = factor(TransitionLactationNumber),\n",
        "    MonthsInMilk = factor(TransitionMonthsInMilk),\n",
        "    DaysInMilk = factor (TransitionDaysInMilk),\n",
        "    numMonthsInMilk = TransitionMonthsInMilk,\n",
        "    numDaysInMilk = TransitionDaysInMilk,\n",
        "    CalvingSeason = factor(TransitionSeason),\n",
        "    #Hour = factor(Hour),\n",
        "    SensorValue = ObservationValue,\n",
        "    MilkingType = factor(case_when(\n",
        "   HerdIdentifier %in% c(\"544\", \"2514\", \"3314\")~\"AMS\",\n",
        "    TRUE~\"CMS\")),\n",
        "    CalvingGroup = factor(case_when(\n",
        "          TransitionDaysInMilk <= -1 ~ \"PreCalving\",\n",
        "          TransitionDaysInMilk >= 1 ~ \"PostCalving\",\n",
        "          TRUE ~ \"Missing\"))) %>%\n",
        "dplyr::select(\n",
        "      AnimalIdentifier,\n",
        "      HerdIdentifier,\n",
        "      LactationIdentifier,\n",
        "      Parity,\n",
        "      MonthsInMilk,\n",
        "      DaysInMilk,\n",
        "      CalvingGroup,\n",
        "      numMonthsInMilk,\n",
        "      numDaysInMilk,\n",
        "      CalvingSeason,\n",
        "      CalvingDate,\n",
        "      #Hour,\n",
        "      SensorValue,\n",
        "      MilkingType,\n",
        "      LactationNumber\n",
        "      ) %>%\n",
        "  tidyr::drop_na()"
      ],
      "execution_count": null,
      "outputs": []
    },
    {
      "cell_type": "code",
      "source": [
        "%%R\n",
        "AnalysisData <- BehaviorData %>%\n",
        "  dplyr::inner_join(\n",
        "      MrtData,\n",
        "      by = c(\"HerdIdentifier\", \"AnimalIdentifier\", \"CalvingDate\")\n",
        "  )"
      ],
      "metadata": {
        "id": "lPXBdpTNhYVh"
      },
      "execution_count": null,
      "outputs": []
    },
    {
      "cell_type": "code",
      "source": [
        "%%R\n",
        "AnalysisData %>%\n",
        "group_by(CalvingGroup)%>%\n",
        "dplyr::summarise(Mean=mean(SensorValue, na.RM=TRUE), sd=sd(SensorValue))"
      ],
      "metadata": {
        "colab": {
          "base_uri": "https://localhost:8080/"
        },
        "id": "u-kGjXHqKApS",
        "outputId": "77f3108f-c2fe-4519-edca-04966b278161"
      },
      "execution_count": null,
      "outputs": [
        {
          "output_type": "stream",
          "name": "stdout",
          "text": [
            "# A tibble: 2 × 3\n",
            "  CalvingGroup  Mean    sd\n",
            "  <fct>        <dbl> <dbl>\n",
            "1 PostCalving   583.  160.\n",
            "2 PreCalving    608.  162.\n"
          ]
        }
      ]
    },
    {
      "cell_type": "code",
      "metadata": {
        "colab": {
          "base_uri": "https://localhost:8080/"
        },
        "id": "6tB88jG161J_",
        "outputId": "7d9586e8-ad36-466c-ae07-04711829c5c9"
      },
      "source": [
        "%%R\n",
        "head(AnalysisData)"
      ],
      "execution_count": null,
      "outputs": [
        {
          "output_type": "stream",
          "name": "stdout",
          "text": [
            "# A tibble: 6 × 17\n",
            "  AnimalIdentifier HerdIdentifier LactationIdentifier  Parity MonthsInMilk\n",
            "  <fct>            <fct>          <fct>                <fct>  <fct>       \n",
            "1 486698685        2746           486698685-2017-07-05 3+     0           \n",
            "2 486698685        2746           486698685-2017-07-05 3+     0           \n",
            "3 486698685        2746           486698685-2017-07-05 3+     0           \n",
            "4 486698685        2746           486698685-2017-07-05 3+     0           \n",
            "5 486698685        2746           486698685-2017-07-05 3+     1           \n",
            "6 486698685        2746           486698685-2017-07-05 3+     1           \n",
            "# ℹ 12 more variables: DaysInMilk <fct>, CalvingGroup <fct>,\n",
            "#   numMonthsInMilk <int>, numDaysInMilk <int>, CalvingSeason <fct>,\n",
            "#   CalvingDate <dttm>, SensorValue <dbl>, MilkingType <fct>,\n",
            "#   LactationNumber <fct>, MRT <dbl>, MRTQuantile <chr>, AmountMPRNext <dbl>\n"
          ]
        }
      ]
    },
    {
      "cell_type": "code",
      "source": [
        "%%R\n",
        "AnalysisData$MRTQuantile = factor(AnalysisData$MRTQuantile)\n",
        "AnalysisData$MRTQuantile = relevel(AnalysisData$MRTQuantile,ref = \"LOW MRT\")"
      ],
      "metadata": {
        "id": "T4fWgLqrhiW2"
      },
      "execution_count": null,
      "outputs": []
    },
    {
      "cell_type": "code",
      "metadata": {
        "colab": {
          "base_uri": "https://localhost:8080/"
        },
        "id": "F1V_3TaBTfdf",
        "outputId": "00162287-8251-4243-f1b5-68a769dc65bb"
      },
      "source": [
        "%%R\n",
        "str(AnalysisData)"
      ],
      "execution_count": null,
      "outputs": [
        {
          "output_type": "stream",
          "name": "stdout",
          "text": [
            "tibble [86,178 × 17] (S3: tbl_df/tbl/data.frame)\n",
            " $ AnimalIdentifier   : Factor w/ 2623 levels \"0359563346\",\"0359563389\",..: 31 31 31 31 31 31 31 1371 1371 1371 ...\n",
            " $ HerdIdentifier     : Factor w/ 9 levels \"2011\",\"2297\",..: 4 4 4 4 4 4 4 1 1 1 ...\n",
            " $ LactationIdentifier: Factor w/ 4368 levels \"0359563346-2020-03-28\",..: 44 44 44 44 44 44 44 2713 2713 2713 ...\n",
            " $ Parity             : Factor w/ 3 levels \"1\",\"2\",\"3+\": 3 3 3 3 3 3 3 3 3 3 ...\n",
            " $ MonthsInMilk       : Factor w/ 2 levels \"0\",\"1\": 1 1 1 1 2 2 2 1 1 1 ...\n",
            " $ DaysInMilk         : Factor w/ 42 levels \"-21\",\"-20\",\"-19\",..: 1 2 10 22 23 33 34 5 11 12 ...\n",
            " $ CalvingGroup       : Factor w/ 2 levels \"PostCalving\",..: 2 2 2 1 1 1 1 2 2 2 ...\n",
            " $ numMonthsInMilk    : int [1:86178] 0 0 0 0 1 1 1 0 0 0 ...\n",
            " $ numDaysInMilk      : int [1:86178] -21 -20 -12 1 2 12 13 -17 -11 -10 ...\n",
            " $ CalvingSeason      : Factor w/ 4 levels \"Autumn\",\"Spring\",..: 3 3 3 3 3 3 3 3 3 3 ...\n",
            " $ CalvingDate        : POSIXct[1:86178], format: \"2017-07-05\" \"2017-07-05\" ...\n",
            " $ SensorValue        : num [1:86178] 604 740 412 592 795 515 499 782 808 726 ...\n",
            " $ MilkingType        : Factor w/ 2 levels \"AMS\",\"CMS\": 2 2 2 2 2 2 2 2 2 2 ...\n",
            " $ LactationNumber    : Factor w/ 13 levels \"1\",\"2\",\"3\",\"4\",..: 8 8 8 8 8 8 8 3 3 3 ...\n",
            " $ MRT                : num [1:86178] 3.1 3.1 3.1 3.1 3.1 ...\n",
            " $ MRTQuantile        : Factor w/ 3 levels \"LOW MRT\",\"HIGH MRT\",..: 2 2 2 2 2 2 2 1 1 1 ...\n",
            " $ AmountMPRNext      : num [1:86178] 45.2 45.2 45.2 45.2 45.2 45.2 45.2 35.3 35.3 35.3 ...\n"
          ]
        }
      ]
    },
    {
      "cell_type": "markdown",
      "metadata": {
        "id": "I0qUudXLOcQB"
      },
      "source": [
        "## Descriptive statistics"
      ]
    },
    {
      "cell_type": "code",
      "metadata": {
        "colab": {
          "base_uri": "https://localhost:8080/"
        },
        "id": "27ifJ_zIOiJP",
        "outputId": "57d3a8fc-cdbf-42e7-cee3-45c371d106b7"
      },
      "source": [
        "%%R\n",
        "# Total Lactation Per Parity\n",
        "AnalysisData %>%\n",
        "  group_by(Parity) %>%\n",
        "  summarise(Unique_Elements = n_distinct(AnimalIdentifier, CalvingDate))"
      ],
      "execution_count": null,
      "outputs": [
        {
          "output_type": "stream",
          "name": "stdout",
          "text": [
            "# A tibble: 2 × 2\n",
            "  Parity Unique_Elements\n",
            "  <fct>            <int>\n",
            "1 2                  709\n",
            "2 3+                1571\n"
          ]
        }
      ]
    },
    {
      "cell_type": "code",
      "metadata": {
        "colab": {
          "base_uri": "https://localhost:8080/"
        },
        "id": "H3ZzaFjWOlAQ",
        "outputId": "2b2ec322-b49f-4576-e638-bf969cd96239"
      },
      "source": [
        "%%R\n",
        "# Total Number Animals\n",
        "AnalysisData %>%\n",
        "  summarise(Unique_Elements = n_distinct(AnimalIdentifier))"
      ],
      "execution_count": null,
      "outputs": [
        {
          "output_type": "stream",
          "name": "stdout",
          "text": [
            "# A tibble: 1 × 1\n",
            "  Unique_Elements\n",
            "            <int>\n",
            "1            1314\n"
          ]
        }
      ]
    },
    {
      "cell_type": "code",
      "metadata": {
        "colab": {
          "base_uri": "https://localhost:8080/"
        },
        "id": "5yTkTN4exiMf",
        "outputId": "81cfb0c0-0b34-41d6-a1ab-b3bcb2b3894f"
      },
      "source": [
        "%%R\n",
        "# Number of Animals per Lactation\n",
        "AnalysisData %>%\n",
        "  group_by(LactationNumber) %>%\n",
        "  summarise(Unique_Elements = n_distinct(AnimalIdentifier, CalvingDate, Parity))"
      ],
      "execution_count": null,
      "outputs": [
        {
          "output_type": "stream",
          "name": "stdout",
          "text": [
            "# A tibble: 10 × 2\n",
            "   LactationNumber Unique_Elements\n",
            "   <fct>                     <int>\n",
            " 1 2                           709\n",
            " 2 3                           624\n",
            " 3 4                           430\n",
            " 4 5                           269\n",
            " 5 6                           142\n",
            " 6 7                            56\n",
            " 7 8                            27\n",
            " 8 9                            14\n",
            " 9 10                            8\n",
            "10 11                            1\n"
          ]
        }
      ]
    },
    {
      "cell_type": "markdown",
      "metadata": {
        "id": "N2pvu1lCOnrm"
      },
      "source": [
        "# Model building"
      ]
    },
    {
      "cell_type": "markdown",
      "metadata": {
        "id": "4fXa9WQx6Zzh"
      },
      "source": [
        "## Multivariable models"
      ]
    },
    {
      "cell_type": "code",
      "metadata": {
        "id": "N2pB1m1lXFCW"
      },
      "source": [
        "%%R\n",
        "Model2.0 <- lme4::lmer(\n",
        "                  SensorValue ~\n",
        "                  Parity + DaysInMilk + CalvingSeason + HerdIdentifier + MRTQuantile +\n",
        "                  (1 + numDaysInMilk|LactationIdentifier),\n",
        "                  REML = FALSE,\n",
        "                  data = AnalysisData\n",
        "                  )"
      ],
      "execution_count": null,
      "outputs": []
    },
    {
      "cell_type": "code",
      "metadata": {
        "colab": {
          "base_uri": "https://localhost:8080/"
        },
        "id": "_jkt1d5IbXsd",
        "outputId": "b3bca11b-007d-4523-d04c-0d3313fa77bf"
      },
      "source": [
        "%%R\n",
        "drop1(Model2.0,test=\"Chisq\")"
      ],
      "execution_count": null,
      "outputs": [
        {
          "output_type": "stream",
          "name": "stdout",
          "text": [
            "Single term deletions\n",
            "\n",
            "Model:\n",
            "SensorValue ~ Parity + DaysInMilk + CalvingSeason + HerdIdentifier + \n",
            "    MRTQuantile + (1 + numDaysInMilk | LactationIdentifier)\n",
            "               npar     AIC    LRT   Pr(Chi)    \n",
            "<none>              1045973                     \n",
            "Parity            1 1046344  372.6 < 2.2e-16 ***\n",
            "DaysInMilk       41 1052671 6779.9 < 2.2e-16 ***\n",
            "CalvingSeason     3 1045977   10.1 0.0177605 *  \n",
            "HerdIdentifier    6 1046609  647.7 < 2.2e-16 ***\n",
            "MRTQuantile       2 1045985   16.3 0.0002875 ***\n",
            "---\n",
            "Signif. codes:  0 ‘***’ 0.001 ‘**’ 0.01 ‘*’ 0.05 ‘.’ 0.1 ‘ ’ 1\n"
          ]
        }
      ]
    },
    {
      "cell_type": "markdown",
      "metadata": {
        "id": "IL3gUrjcPNZ_"
      },
      "source": [
        "## Introduction of interactions"
      ]
    },
    {
      "cell_type": "markdown",
      "metadata": {
        "id": "gZsChT6WPUOy"
      },
      "source": [
        "### Interactions with MonthsInMilk"
      ]
    },
    {
      "cell_type": "code",
      "metadata": {
        "colab": {
          "base_uri": "https://localhost:8080/"
        },
        "id": "GwUvYh3GcTk2",
        "outputId": "250bab74-04be-4d1d-b1be-f0967803c1e9"
      },
      "source": [
        "%%R\n",
        "Model2.1 <- lme4::lmer(\n",
        "                  SensorValue ~\n",
        "                  DaysInMilk*Parity + CalvingSeason + HerdIdentifier + MRTQuantile +\n",
        "                   (1 + numDaysInMilk| LactationIdentifier),\n",
        "                  REML = FALSE,\n",
        "                  data = AnalysisData\n",
        "                  )\n",
        "anova(Model2.0,Model2.1,test=\"Chisq\")"
      ],
      "execution_count": null,
      "outputs": [
        {
          "output_type": "stream",
          "name": "stdout",
          "text": [
            "Data: AnalysisData\n",
            "Models:\n",
            "Model2.0: SensorValue ~ Parity + DaysInMilk + CalvingSeason + HerdIdentifier + MRTQuantile + (1 + numDaysInMilk | LactationIdentifier)\n",
            "Model2.1: SensorValue ~ DaysInMilk * Parity + CalvingSeason + HerdIdentifier + MRTQuantile + (1 + numDaysInMilk | LactationIdentifier)\n",
            "         npar     AIC     BIC  logLik deviance  Chisq Df Pr(>Chisq)    \n",
            "Model2.0   58 1045973 1046516 -522929  1045857                         \n",
            "Model2.1   99 1045596 1046523 -522699  1045398 458.94 41  < 2.2e-16 ***\n",
            "---\n",
            "Signif. codes:  0 ‘***’ 0.001 ‘**’ 0.01 ‘*’ 0.05 ‘.’ 0.1 ‘ ’ 1\n"
          ]
        }
      ]
    },
    {
      "cell_type": "code",
      "metadata": {
        "colab": {
          "base_uri": "https://localhost:8080/"
        },
        "id": "nDPBFISf8kGh",
        "outputId": "46a09883-2b31-41a0-d1bc-240c61cc0fe5"
      },
      "source": [
        "%%R\n",
        "Model2.2 <- lme4::lmer(\n",
        "                  SensorValue ~\n",
        "                  DaysInMilk*HerdIdentifier + CalvingSeason + Parity + MRTQuantile +\n",
        "                   (1 + numDaysInMilk| LactationIdentifier),\n",
        "                  REML = FALSE,\n",
        "                  data = AnalysisData\n",
        "                  )\n",
        "anova(Model2.0,Model2.2,test=\"Chisq\")"
      ],
      "execution_count": null,
      "outputs": [
        {
          "output_type": "stream",
          "name": "stdout",
          "text": [
            "Data: AnalysisData\n",
            "Models:\n",
            "Model2.0: SensorValue ~ Parity + DaysInMilk + CalvingSeason + HerdIdentifier + MRTQuantile + (1 + numDaysInMilk | LactationIdentifier)\n",
            "Model2.2: SensorValue ~ DaysInMilk * HerdIdentifier + CalvingSeason + Parity + MRTQuantile + (1 + numDaysInMilk | LactationIdentifier)\n",
            "         npar     AIC     BIC  logLik deviance  Chisq  Df Pr(>Chisq)    \n",
            "Model2.0   58 1045973 1046516 -522929  1045857                          \n",
            "Model2.2  304 1044512 1047359 -521952  1043904 1952.9 246  < 2.2e-16 ***\n",
            "---\n",
            "Signif. codes:  0 ‘***’ 0.001 ‘**’ 0.01 ‘*’ 0.05 ‘.’ 0.1 ‘ ’ 1\n"
          ]
        }
      ]
    },
    {
      "cell_type": "code",
      "metadata": {
        "colab": {
          "base_uri": "https://localhost:8080/"
        },
        "id": "hTma7sXrPjPO",
        "outputId": "a552b090-9a38-4d9f-9dd5-5cc475c1d14f"
      },
      "source": [
        "%%R\n",
        "Model2.3 <- lme4::lmer(\n",
        "                  SensorValue ~\n",
        "                  DaysInMilk*CalvingSeason + Parity + HerdIdentifier + MRTQuantile +\n",
        "                   (1 + numDaysInMilk| LactationIdentifier),\n",
        "                  REML = FALSE,\n",
        "                  data = AnalysisData\n",
        "                  )\n",
        "anova(Model2.0,Model2.3,test=\"Chisq\")"
      ],
      "execution_count": null,
      "outputs": [
        {
          "output_type": "stream",
          "name": "stdout",
          "text": [
            "Data: AnalysisData\n",
            "Models:\n",
            "Model2.0: SensorValue ~ Parity + DaysInMilk + CalvingSeason + HerdIdentifier + MRTQuantile + (1 + numDaysInMilk | LactationIdentifier)\n",
            "Model2.3: SensorValue ~ DaysInMilk * CalvingSeason + Parity + HerdIdentifier + MRTQuantile + (1 + numDaysInMilk | LactationIdentifier)\n",
            "         npar     AIC     BIC  logLik deviance  Chisq  Df Pr(>Chisq)    \n",
            "Model2.0   58 1045973 1046516 -522929  1045857                          \n",
            "Model2.3  181 1045955 1047650 -522797  1045593 263.94 123  2.657e-12 ***\n",
            "---\n",
            "Signif. codes:  0 ‘***’ 0.001 ‘**’ 0.01 ‘*’ 0.05 ‘.’ 0.1 ‘ ’ 1\n"
          ]
        }
      ]
    },
    {
      "cell_type": "code",
      "source": [
        "%%R\n",
        "Model2.4 <- lme4::lmer(\n",
        "                  SensorValue ~\n",
        "                  DaysInMilk*MRTQuantile + Parity + HerdIdentifier + CalvingSeason +\n",
        "                  (1 + numDaysInMilk| LactationIdentifier),\n",
        "                  REML = FALSE,\n",
        "                  data = AnalysisData\n",
        "                  )\n",
        "anova(Model2.0,Model2.4,test=\"Chisq\")"
      ],
      "metadata": {
        "colab": {
          "base_uri": "https://localhost:8080/"
        },
        "id": "YDpgwxDWiycU",
        "outputId": "d070e143-e356-4f25-dcee-1583b9a858b7"
      },
      "execution_count": null,
      "outputs": [
        {
          "output_type": "stream",
          "name": "stdout",
          "text": [
            "Data: AnalysisData\n",
            "Models:\n",
            "Model2.0: SensorValue ~ Parity + DaysInMilk + CalvingSeason + HerdIdentifier + MRTQuantile + (1 + numDaysInMilk | LactationIdentifier)\n",
            "Model2.4: SensorValue ~ DaysInMilk * MRTQuantile + Parity + HerdIdentifier + CalvingSeason + (1 + numDaysInMilk | LactationIdentifier)\n",
            "         npar     AIC     BIC  logLik deviance  Chisq Df Pr(>Chisq)    \n",
            "Model2.0   58 1045973 1046516 -522929  1045857                         \n",
            "Model2.4  140 1045911 1047222 -522816  1045631 225.74 82  2.286e-15 ***\n",
            "---\n",
            "Signif. codes:  0 ‘***’ 0.001 ‘**’ 0.01 ‘*’ 0.05 ‘.’ 0.1 ‘ ’ 1\n"
          ]
        }
      ]
    },
    {
      "cell_type": "markdown",
      "metadata": {
        "id": "5XrFThAYPm2m"
      },
      "source": [
        "## Multiple interactions"
      ]
    },
    {
      "cell_type": "code",
      "metadata": {
        "colab": {
          "base_uri": "https://localhost:8080/"
        },
        "id": "4RuFfByBPqCb",
        "outputId": "6680ae42-14d4-47ea-d117-28b450da364f"
      },
      "source": [
        "%%R\n",
        "Model2.5 <- lme4::lmer(\n",
        "                  SensorValue ~\n",
        "                  DaysInMilk*CalvingSeason +\n",
        "                  DaysInMilk*Parity +\n",
        "                  DaysInMilk*MRTQuantile +\n",
        "                  DaysInMilk*HerdIdentifier +\n",
        "                   (1 + numDaysInMilk| LactationIdentifier),\n",
        "                  REML = FALSE,\n",
        "                  data = AnalysisData\n",
        "                  )\n",
        "anova(Model2.0,Model2.5,test=\"Chisq\")"
      ],
      "execution_count": null,
      "outputs": [
        {
          "output_type": "stream",
          "name": "stdout",
          "text": [
            "Data: AnalysisData\n",
            "Models:\n",
            "Model2.0: SensorValue ~ Parity + DaysInMilk + CalvingSeason + HerdIdentifier + MRTQuantile + (1 + numDaysInMilk | LactationIdentifier)\n",
            "Model2.5: SensorValue ~ DaysInMilk * CalvingSeason + DaysInMilk * Parity + DaysInMilk * MRTQuantile + DaysInMilk * HerdIdentifier + (1 + numDaysInMilk | LactationIdentifier)\n",
            "         npar     AIC     BIC  logLik deviance  Chisq  Df Pr(>Chisq)    \n",
            "Model2.0   58 1045973 1046516 -522929  1045857                          \n",
            "Model2.5  550 1043977 1049127 -521438  1042877 2980.3 492  < 2.2e-16 ***\n",
            "---\n",
            "Signif. codes:  0 ‘***’ 0.001 ‘**’ 0.01 ‘*’ 0.05 ‘.’ 0.1 ‘ ’ 1\n"
          ]
        }
      ]
    },
    {
      "cell_type": "code",
      "metadata": {
        "colab": {
          "base_uri": "https://localhost:8080/"
        },
        "id": "RH18Ph9-PxxG",
        "outputId": "1afee8a0-5eb6-4260-d2f1-7f624c999565"
      },
      "source": [
        "%%R\n",
        "finalModel <- Model2.5\n",
        "Modeldrop <- drop1(finalModel, test=\"Chisq\")\n",
        "if(\"Pr(>F)\" %in% colnames(Modeldrop))\n",
        "{\n",
        "  Pvalues <- Modeldrop$`Pr(>F)\n",
        "} else\n",
        "{\n",
        "  Pvalues <- Modeldrop$`Pr(Chi)`\n",
        "}\n",
        "Modeldrop"
      ],
      "execution_count": null,
      "outputs": [
        {
          "output_type": "stream",
          "name": "stdout",
          "text": [
            "Single term deletions\n",
            "\n",
            "Model:\n",
            "SensorValue ~ DaysInMilk * CalvingSeason + DaysInMilk * Parity + \n",
            "    DaysInMilk * MRTQuantile + DaysInMilk * HerdIdentifier + \n",
            "    (1 + numDaysInMilk | LactationIdentifier)\n",
            "                          npar     AIC     LRT   Pr(Chi)    \n",
            "<none>                         1043977                      \n",
            "DaysInMilk:CalvingSeason   123 1044004  273.24 2.007e-13 ***\n",
            "DaysInMilk:Parity           41 1044396  501.19 < 2.2e-16 ***\n",
            "DaysInMilk:MRTQuantile      82 1044093  280.21 < 2.2e-16 ***\n",
            "DaysInMilk:HerdIdentifier  246 1045488 2003.56 < 2.2e-16 ***\n",
            "---\n",
            "Signif. codes:  0 ‘***’ 0.001 ‘**’ 0.01 ‘*’ 0.05 ‘.’ 0.1 ‘ ’ 1\n"
          ]
        }
      ]
    },
    {
      "cell_type": "code",
      "metadata": {
        "id": "IIxaUUqDP4-a"
      },
      "source": [
        "%%R\n",
        "save(finalModel, file=\"/content/drive/Shareddrives/Bovi-Analytics/Projects/CelienKemel/Models/finalmodelStandingTimeDaysInMilk.rdata\")"
      ],
      "execution_count": null,
      "outputs": []
    },
    {
      "cell_type": "code",
      "metadata": {
        "id": "eYCKcbCzRObk"
      },
      "source": [
        "%%R\n",
        "load(file=\"/content/drive/Shareddrives/Bovi-Analytics/Projects/CelienKemel/Models/finalmodelStandingTimeDaysInMilk.rdata\")"
      ],
      "execution_count": null,
      "outputs": []
    },
    {
      "cell_type": "markdown",
      "metadata": {
        "id": "5ieJW8e5P9w-"
      },
      "source": [
        "# Final model analysis of variance"
      ]
    },
    {
      "cell_type": "code",
      "metadata": {
        "colab": {
          "base_uri": "https://localhost:8080/"
        },
        "id": "gPduQG4QQDVN",
        "outputId": "449402c3-3c03-4447-b801-e056490d79b7"
      },
      "source": [
        "%%R\n",
        "Anova(finalModel)"
      ],
      "execution_count": null,
      "outputs": [
        {
          "output_type": "stream",
          "name": "stdout",
          "text": [
            "Analysis of Deviance Table (Type II Wald chisquare tests)\n",
            "\n",
            "Response: SensorValue\n",
            "                              Chisq  Df Pr(>Chisq)    \n",
            "DaysInMilk                7322.3802  41  < 2.2e-16 ***\n",
            "CalvingSeason                9.8801   3  0.0196131 *  \n",
            "Parity                     411.3505   1  < 2.2e-16 ***\n",
            "MRTQuantile                 17.3664   2  0.0001694 ***\n",
            "HerdIdentifier             764.7000   6  < 2.2e-16 ***\n",
            "DaysInMilk:CalvingSeason   274.1656 123  1.548e-13 ***\n",
            "DaysInMilk:Parity          502.7315  41  < 2.2e-16 ***\n",
            "DaysInMilk:MRTQuantile     281.0834  82  < 2.2e-16 ***\n",
            "DaysInMilk:HerdIdentifier 2046.4903 246  < 2.2e-16 ***\n",
            "---\n",
            "Signif. codes:  0 ‘***’ 0.001 ‘**’ 0.01 ‘*’ 0.05 ‘.’ 0.1 ‘ ’ 1\n"
          ]
        }
      ]
    },
    {
      "cell_type": "markdown",
      "metadata": {
        "id": "HnWrd6qZQIRj"
      },
      "source": [
        "# Final model figures and LSM (95% CI)"
      ]
    },
    {
      "cell_type": "markdown",
      "metadata": {
        "id": "ijKufxH7QKTg"
      },
      "source": [
        "## Main effects"
      ]
    },
    {
      "cell_type": "code",
      "metadata": {
        "colab": {
          "base_uri": "https://localhost:8080/"
        },
        "id": "CAC3h52nQMkm",
        "outputId": "b8b39a90-edf1-4e2c-d2d7-83e1b01b1ab9"
      },
      "source": [
        "%%R\n",
        "multcomp::cld(lsmeans::lsmeans(finalModel, ~ DaysInMilk), alpha=0.05, Letters=letters, adjust=\"sidak\")"
      ],
      "execution_count": null,
      "outputs": [
        {
          "output_type": "stream",
          "name": "stderr",
          "text": [
            "WARNING:rpy2.rinterface_lib.callbacks:R[write to console]: Note: D.f. calculations have been disabled because the number of observations exceeds 3000.\n",
            "To enable adjustments, add the argument 'pbkrtest.limit = 86178' (or larger)\n",
            "[or, globally, 'set emm_options(pbkrtest.limit = 86178)' or larger];\n",
            "but be warned that this may result in large computation time and memory use.\n",
            "\n",
            "WARNING:rpy2.rinterface_lib.callbacks:R[write to console]: Note: D.f. calculations have been disabled because the number of observations exceeds 3000.\n",
            "To enable adjustments, add the argument 'lmerTest.limit = 86178' (or larger)\n",
            "[or, globally, 'set emm_options(lmerTest.limit = 86178)' or larger];\n",
            "but be warned that this may result in large computation time and memory use.\n",
            "\n",
            "WARNING:rpy2.rinterface_lib.callbacks:R[write to console]: NOTE: Results may be misleading due to involvement in interactions\n",
            "\n"
          ]
        },
        {
          "output_type": "stream",
          "name": "stdout",
          "text": [
            " DaysInMilk lsmean   SE  df asymp.LCL asymp.UCL .group             \n",
            " 19            547 3.77 Inf       535       559  a                 \n",
            " 20            548 3.81 Inf       535       560  ab                \n",
            " 17            548 3.71 Inf       536       560  ab                \n",
            " 18            549 3.74 Inf       537       561  ab                \n",
            " 21            549 3.85 Inf       537       561  ab                \n",
            " 13            551 3.59 Inf       540       563  ab                \n",
            " 15            552 3.64 Inf       540       564  ab                \n",
            " 12            552 3.56 Inf       541       564  ab                \n",
            " 16            552 3.68 Inf       540       564  ab                \n",
            " -21           553 3.60 Inf       542       565  abc               \n",
            " 14            554 3.61 Inf       542       566  ab                \n",
            " -18           556 3.50 Inf       544       567  abc               \n",
            " 9             556 3.49 Inf       544       567  abcd              \n",
            " 11            556 3.54 Inf       545       568  abcd              \n",
            " 10            557 3.51 Inf       545       568  abcd              \n",
            " -19           558 3.54 Inf       547       570  abcde             \n",
            " -20           558 3.57 Inf       547       570  abcde             \n",
            " -17           561 3.48 Inf       550       572  abcdef            \n",
            " 8             562 3.47 Inf       551       573   bcdef            \n",
            " -16           565 3.45 Inf       554       576  abcdefg           \n",
            " -15           565 3.42 Inf       554       576   bcdefg           \n",
            " 7             569 3.45 Inf       558       580    cdefgh          \n",
            " -14           570 3.40 Inf       559       581     defgh          \n",
            " 6             572 3.43 Inf       561       583      efghi         \n",
            " -13           572 3.38 Inf       561       583       fghi         \n",
            " -12           573 3.36 Inf       562       584       fghi         \n",
            " 5             576 3.42 Inf       565       587        ghij        \n",
            " -11           579 3.34 Inf       569       590         hij        \n",
            " 4             582 3.40 Inf       571       593         hijk       \n",
            " -10           583 3.32 Inf       572       593         hijk       \n",
            " -9            584 3.30 Inf       573       594          ijk       \n",
            " -8            589 3.29 Inf       578       600           jk       \n",
            " 3             590 3.39 Inf       579       601           jkl      \n",
            " -7            595 3.28 Inf       585       606            klm     \n",
            " -6            603 3.27 Inf       593       614             lmn    \n",
            " 2             604 3.39 Inf       593       615              mn    \n",
            " -5            608 3.26 Inf       598       619               n    \n",
            " -4            613 3.25 Inf       602       623               no   \n",
            " -3            622 3.25 Inf       611       633                op  \n",
            " -2            627 3.25 Inf       616       637                 pq \n",
            " -1            636 3.25 Inf       626       647                  qr\n",
            " 1             644 3.39 Inf       633       655                   r\n",
            "\n",
            "Results are averaged over the levels of: CalvingSeason, Parity, MRTQuantile, HerdIdentifier \n",
            "Degrees-of-freedom method: asymptotic \n",
            "Confidence level used: 0.95 \n",
            "Conf-level adjustment: sidak method for 42 estimates \n",
            "P value adjustment: sidak method for 861 tests \n",
            "significance level used: alpha = 0.05 \n",
            "NOTE: If two or more means share the same grouping symbol,\n",
            "      then we cannot show them to be different.\n",
            "      But we also did not show them to be the same. \n"
          ]
        }
      ]
    },
    {
      "cell_type": "code",
      "metadata": {
        "colab": {
          "base_uri": "https://localhost:8080/"
        },
        "id": "bbafFhXYQSOA",
        "outputId": "23b10635-1001-428c-8b05-958a6a476693"
      },
      "source": [
        "%%R\n",
        "multcomp::cld(lsmeans::lsmeans(finalModel, ~ Parity), alpha=0.05, Letters=letters, adjust=\"sidak\")"
      ],
      "execution_count": null,
      "outputs": [
        {
          "output_type": "stream",
          "name": "stderr",
          "text": [
            "WARNING:rpy2.rinterface_lib.callbacks:R[write to console]: Note: D.f. calculations have been disabled because the number of observations exceeds 3000.\n",
            "To enable adjustments, add the argument 'pbkrtest.limit = 86178' (or larger)\n",
            "[or, globally, 'set emm_options(pbkrtest.limit = 86178)' or larger];\n",
            "but be warned that this may result in large computation time and memory use.\n",
            "\n",
            "WARNING:rpy2.rinterface_lib.callbacks:R[write to console]: Note: D.f. calculations have been disabled because the number of observations exceeds 3000.\n",
            "To enable adjustments, add the argument 'lmerTest.limit = 86178' (or larger)\n",
            "[or, globally, 'set emm_options(lmerTest.limit = 86178)' or larger];\n",
            "but be warned that this may result in large computation time and memory use.\n",
            "\n",
            "WARNING:rpy2.rinterface_lib.callbacks:R[write to console]: NOTE: Results may be misleading due to involvement in interactions\n",
            "\n"
          ]
        },
        {
          "output_type": "stream",
          "name": "stdout",
          "text": [
            " Parity lsmean   SE  df asymp.LCL asymp.UCL .group\n",
            " 2         530 3.81 Inf       521       538  a    \n",
            " 3+        620 2.62 Inf       614       626   b   \n",
            "\n",
            "Results are averaged over the levels of: DaysInMilk, CalvingSeason, MRTQuantile, HerdIdentifier \n",
            "Degrees-of-freedom method: asymptotic \n",
            "Confidence level used: 0.95 \n",
            "Conf-level adjustment: sidak method for 2 estimates \n",
            "significance level used: alpha = 0.05 \n",
            "NOTE: If two or more means share the same grouping symbol,\n",
            "      then we cannot show them to be different.\n",
            "      But we also did not show them to be the same. \n"
          ]
        }
      ]
    },
    {
      "cell_type": "code",
      "metadata": {
        "colab": {
          "base_uri": "https://localhost:8080/"
        },
        "id": "u0rOrqTfQT6-",
        "outputId": "3c75bc00-d5c3-44c5-8a64-f242719e2d3c"
      },
      "source": [
        "%%R\n",
        "multcomp::cld(lsmeans::lsmeans(finalModel, ~ CalvingSeason), alpha=0.05, Letters=letters, adjust=\"sidak\")"
      ],
      "execution_count": null,
      "outputs": [
        {
          "output_type": "stream",
          "name": "stderr",
          "text": [
            "WARNING:rpy2.rinterface_lib.callbacks:R[write to console]: Note: D.f. calculations have been disabled because the number of observations exceeds 3000.\n",
            "To enable adjustments, add the argument 'pbkrtest.limit = 86178' (or larger)\n",
            "[or, globally, 'set emm_options(pbkrtest.limit = 86178)' or larger];\n",
            "but be warned that this may result in large computation time and memory use.\n",
            "\n",
            "WARNING:rpy2.rinterface_lib.callbacks:R[write to console]: Note: D.f. calculations have been disabled because the number of observations exceeds 3000.\n",
            "To enable adjustments, add the argument 'lmerTest.limit = 86178' (or larger)\n",
            "[or, globally, 'set emm_options(lmerTest.limit = 86178)' or larger];\n",
            "but be warned that this may result in large computation time and memory use.\n",
            "\n",
            "WARNING:rpy2.rinterface_lib.callbacks:R[write to console]: NOTE: Results may be misleading due to involvement in interactions\n",
            "\n"
          ]
        },
        {
          "output_type": "stream",
          "name": "stdout",
          "text": [
            " CalvingSeason lsmean   SE  df asymp.LCL asymp.UCL .group\n",
            " Autumn           565 4.05 Inf       555       575  a    \n",
            " Spring           576 4.82 Inf       564       588  a    \n",
            " Summer           578 3.98 Inf       568       588  a    \n",
            " Winter           580 4.61 Inf       568       591  a    \n",
            "\n",
            "Results are averaged over the levels of: DaysInMilk, Parity, MRTQuantile, HerdIdentifier \n",
            "Degrees-of-freedom method: asymptotic \n",
            "Confidence level used: 0.95 \n",
            "Conf-level adjustment: sidak method for 4 estimates \n",
            "P value adjustment: sidak method for 6 tests \n",
            "significance level used: alpha = 0.05 \n",
            "NOTE: If two or more means share the same grouping symbol,\n",
            "      then we cannot show them to be different.\n",
            "      But we also did not show them to be the same. \n"
          ]
        }
      ]
    },
    {
      "cell_type": "code",
      "metadata": {
        "id": "51xJjuntQZS2",
        "colab": {
          "base_uri": "https://localhost:8080/"
        },
        "outputId": "6bfa0600-007f-4da7-e39e-f09c221411a9"
      },
      "source": [
        "%%R\n",
        "multcomp::cld(lsmeans::lsmeans(finalModel, ~ MRTQuantile), alpha=0.05, Letters=letters, adjust=\"sidak\")"
      ],
      "execution_count": null,
      "outputs": [
        {
          "output_type": "stream",
          "name": "stderr",
          "text": [
            "WARNING:rpy2.rinterface_lib.callbacks:R[write to console]: Note: D.f. calculations have been disabled because the number of observations exceeds 3000.\n",
            "To enable adjustments, add the argument 'pbkrtest.limit = 86178' (or larger)\n",
            "[or, globally, 'set emm_options(pbkrtest.limit = 86178)' or larger];\n",
            "but be warned that this may result in large computation time and memory use.\n",
            "\n",
            "WARNING:rpy2.rinterface_lib.callbacks:R[write to console]: Note: D.f. calculations have been disabled because the number of observations exceeds 3000.\n",
            "To enable adjustments, add the argument 'lmerTest.limit = 86178' (or larger)\n",
            "[or, globally, 'set emm_options(lmerTest.limit = 86178)' or larger];\n",
            "but be warned that this may result in large computation time and memory use.\n",
            "\n",
            "WARNING:rpy2.rinterface_lib.callbacks:R[write to console]: NOTE: Results may be misleading due to involvement in interactions\n",
            "\n"
          ]
        },
        {
          "output_type": "stream",
          "name": "stdout",
          "text": [
            " MRTQuantile lsmean   SE  df asymp.LCL asymp.UCL .group\n",
            " HIGH MRT       564 3.74 Inf       556       573  a    \n",
            " MED MRT        571 3.86 Inf       562       580  a    \n",
            " LOW MRT        589 3.75 Inf       580       598   b   \n",
            "\n",
            "Results are averaged over the levels of: DaysInMilk, CalvingSeason, Parity, HerdIdentifier \n",
            "Degrees-of-freedom method: asymptotic \n",
            "Confidence level used: 0.95 \n",
            "Conf-level adjustment: sidak method for 3 estimates \n",
            "P value adjustment: sidak method for 3 tests \n",
            "significance level used: alpha = 0.05 \n",
            "NOTE: If two or more means share the same grouping symbol,\n",
            "      then we cannot show them to be different.\n",
            "      But we also did not show them to be the same. \n"
          ]
        }
      ]
    },
    {
      "cell_type": "markdown",
      "metadata": {
        "id": "sWfRQBRIQb6m"
      },
      "source": [
        "## Interactions"
      ]
    },
    {
      "cell_type": "markdown",
      "metadata": {
        "id": "XYPl1SAwQgHJ"
      },
      "source": [
        "### DaysInMilk by MRTQuantile"
      ]
    },
    {
      "cell_type": "code",
      "source": [
        "%%R\n",
        "LSMs<-lsmeans::lsmeans(finalModel, pairwise ~ MRTQuantile|DaysInMilk, type = \"response\", glhargs=list())\n",
        "multcomp::cld(LSMs[[1]], alpha=0.05, Letters=letters, adjust=\"sidak\")"
      ],
      "metadata": {
        "colab": {
          "base_uri": "https://localhost:8080/"
        },
        "id": "kUoBujcYlx3U",
        "outputId": "f67ce633-7c8c-47ec-b03e-a755e83e28a5"
      },
      "execution_count": null,
      "outputs": [
        {
          "output_type": "stream",
          "name": "stderr",
          "text": [
            "WARNING:rpy2.rinterface_lib.callbacks:R[write to console]: Note: D.f. calculations have been disabled because the number of observations exceeds 3000.\n",
            "To enable adjustments, add the argument 'pbkrtest.limit = 86178' (or larger)\n",
            "[or, globally, 'set emm_options(pbkrtest.limit = 86178)' or larger];\n",
            "but be warned that this may result in large computation time and memory use.\n",
            "\n",
            "WARNING:rpy2.rinterface_lib.callbacks:R[write to console]: Note: D.f. calculations have been disabled because the number of observations exceeds 3000.\n",
            "To enable adjustments, add the argument 'lmerTest.limit = 86178' (or larger)\n",
            "[or, globally, 'set emm_options(lmerTest.limit = 86178)' or larger];\n",
            "but be warned that this may result in large computation time and memory use.\n",
            "\n"
          ]
        },
        {
          "output_type": "stream",
          "name": "stdout",
          "text": [
            "DaysInMilk = -21:\n",
            " MRTQuantile emmean   SE  df asymp.LCL asymp.UCL .group\n",
            " MED MRT        550 5.93 Inf       536       564  a    \n",
            " LOW MRT        555 5.75 Inf       541       568  a    \n",
            " HIGH MRT       555 5.74 Inf       541       569  a    \n",
            "\n",
            "DaysInMilk = -20:\n",
            " MRTQuantile emmean   SE  df asymp.LCL asymp.UCL .group\n",
            " HIGH MRT       554 5.69 Inf       540       567  a    \n",
            " MED MRT        557 5.88 Inf       543       571  a    \n",
            " LOW MRT        564 5.70 Inf       551       578  a    \n",
            "\n",
            "DaysInMilk = -19:\n",
            " MRTQuantile emmean   SE  df asymp.LCL asymp.UCL .group\n",
            " HIGH MRT       552 5.64 Inf       538       565  a    \n",
            " MED MRT        557 5.83 Inf       543       571  a    \n",
            " LOW MRT        566 5.64 Inf       552       579  a    \n",
            "\n",
            "DaysInMilk = -18:\n",
            " MRTQuantile emmean   SE  df asymp.LCL asymp.UCL .group\n",
            " HIGH MRT       551 5.58 Inf       537       564  a    \n",
            " MED MRT        557 5.77 Inf       543       571  a    \n",
            " LOW MRT        559 5.58 Inf       546       573  a    \n",
            "\n",
            "DaysInMilk = -17:\n",
            " MRTQuantile emmean   SE  df asymp.LCL asymp.UCL .group\n",
            " HIGH MRT       557 5.54 Inf       544       570  a    \n",
            " MED MRT        562 5.72 Inf       548       575  a    \n",
            " LOW MRT        564 5.55 Inf       551       578  a    \n",
            "\n",
            "DaysInMilk = -16:\n",
            " MRTQuantile emmean   SE  df asymp.LCL asymp.UCL .group\n",
            " HIGH MRT       562 5.49 Inf       549       575  a    \n",
            " MED MRT        563 5.67 Inf       549       576  a    \n",
            " LOW MRT        570 5.50 Inf       556       583  a    \n",
            "\n",
            "DaysInMilk = -15:\n",
            " MRTQuantile emmean   SE  df asymp.LCL asymp.UCL .group\n",
            " LOW MRT        564 5.46 Inf       551       577  a    \n",
            " HIGH MRT       564 5.46 Inf       551       577  a    \n",
            " MED MRT        566 5.63 Inf       553       580  a    \n",
            "\n",
            "DaysInMilk = -14:\n",
            " MRTQuantile emmean   SE  df asymp.LCL asymp.UCL .group\n",
            " MED MRT        567 5.59 Inf       554       580  a    \n",
            " HIGH MRT       570 5.42 Inf       557       583  a    \n",
            " LOW MRT        574 5.42 Inf       561       587  a    \n",
            "\n",
            "DaysInMilk = -13:\n",
            " MRTQuantile emmean   SE  df asymp.LCL asymp.UCL .group\n",
            " HIGH MRT       567 5.38 Inf       554       580  a    \n",
            " MED MRT        570 5.56 Inf       557       583  a    \n",
            " LOW MRT        580 5.40 Inf       567       592  a    \n",
            "\n",
            "DaysInMilk = -12:\n",
            " MRTQuantile emmean   SE  df asymp.LCL asymp.UCL .group\n",
            " HIGH MRT       568 5.35 Inf       555       580  a    \n",
            " MED MRT        573 5.52 Inf       560       586  a    \n",
            " LOW MRT        579 5.36 Inf       566       592  a    \n",
            "\n",
            "DaysInMilk = -11:\n",
            " MRTQuantile emmean   SE  df asymp.LCL asymp.UCL .group\n",
            " HIGH MRT       572 5.33 Inf       559       585  a    \n",
            " MED MRT        579 5.49 Inf       565       592  a    \n",
            " LOW MRT        588 5.33 Inf       575       601  a    \n",
            "\n",
            "DaysInMilk = -10:\n",
            " MRTQuantile emmean   SE  df asymp.LCL asymp.UCL .group\n",
            " HIGH MRT       578 5.29 Inf       566       591  a    \n",
            " MED MRT        581 5.47 Inf       568       594  a    \n",
            " LOW MRT        588 5.30 Inf       575       601  a    \n",
            "\n",
            "DaysInMilk = -9:\n",
            " MRTQuantile emmean   SE  df asymp.LCL asymp.UCL .group\n",
            " MED MRT        580 5.43 Inf       567       593  a    \n",
            " HIGH MRT       583 5.27 Inf       570       596  a    \n",
            " LOW MRT        588 5.27 Inf       575       601  a    \n",
            "\n",
            "DaysInMilk = -8:\n",
            " MRTQuantile emmean   SE  df asymp.LCL asymp.UCL .group\n",
            " MED MRT        587 5.41 Inf       574       600  a    \n",
            " HIGH MRT       588 5.25 Inf       576       601  a    \n",
            " LOW MRT        592 5.25 Inf       580       605  a    \n",
            "\n",
            "DaysInMilk = -7:\n",
            " MRTQuantile emmean   SE  df asymp.LCL asymp.UCL .group\n",
            " HIGH MRT       590 5.23 Inf       578       602  a    \n",
            " MED MRT        594 5.39 Inf       581       607  a    \n",
            " LOW MRT        601 5.23 Inf       589       614  a    \n",
            "\n",
            "DaysInMilk = -6:\n",
            " MRTQuantile emmean   SE  df asymp.LCL asymp.UCL .group\n",
            " MED MRT        601 5.38 Inf       588       614  a    \n",
            " HIGH MRT       604 5.22 Inf       591       616  a    \n",
            " LOW MRT        605 5.22 Inf       593       617  a    \n",
            "\n",
            "DaysInMilk = -5:\n",
            " MRTQuantile emmean   SE  df asymp.LCL asymp.UCL .group\n",
            " MED MRT        606 5.36 Inf       593       618  a    \n",
            " HIGH MRT       609 5.20 Inf       597       622  a    \n",
            " LOW MRT        610 5.21 Inf       597       622  a    \n",
            "\n",
            "DaysInMilk = -4:\n",
            " MRTQuantile emmean   SE  df asymp.LCL asymp.UCL .group\n",
            " HIGH MRT       608 5.18 Inf       596       620  a    \n",
            " MED MRT        611 5.35 Inf       598       624  a    \n",
            " LOW MRT        620 5.20 Inf       607       632  a    \n",
            "\n",
            "DaysInMilk = -3:\n",
            " MRTQuantile emmean   SE  df asymp.LCL asymp.UCL .group\n",
            " MED MRT        621 5.35 Inf       608       633  a    \n",
            " HIGH MRT       622 5.18 Inf       610       635  a    \n",
            " LOW MRT        623 5.19 Inf       611       635  a    \n",
            "\n",
            "DaysInMilk = -2:\n",
            " MRTQuantile emmean   SE  df asymp.LCL asymp.UCL .group\n",
            " MED MRT        621 5.34 Inf       609       634  a    \n",
            " LOW MRT        629 5.19 Inf       616       641  a    \n",
            " HIGH MRT       631 5.18 Inf       619       643  a    \n",
            "\n",
            "DaysInMilk = -1:\n",
            " MRTQuantile emmean   SE  df asymp.LCL asymp.UCL .group\n",
            " MED MRT        633 5.33 Inf       620       646  a    \n",
            " LOW MRT        634 5.19 Inf       622       647  a    \n",
            " HIGH MRT       642 5.18 Inf       629       654  a    \n",
            "\n",
            "DaysInMilk = 1:\n",
            " MRTQuantile emmean   SE  df asymp.LCL asymp.UCL .group\n",
            " MED MRT        636 5.55 Inf       623       650  a    \n",
            " HIGH MRT       643 5.36 Inf       631       656  a    \n",
            " LOW MRT        652 5.44 Inf       639       665  a    \n",
            "\n",
            "DaysInMilk = 2:\n",
            " MRTQuantile emmean   SE  df asymp.LCL asymp.UCL .group\n",
            " HIGH MRT       589 5.37 Inf       576       602  a    \n",
            " MED MRT        595 5.56 Inf       582       608  a    \n",
            " LOW MRT        630 5.45 Inf       617       643   b   \n",
            "\n",
            "DaysInMilk = 3:\n",
            " MRTQuantile emmean   SE  df asymp.LCL asymp.UCL .group\n",
            " HIGH MRT       569 5.38 Inf       556       582  a    \n",
            " MED MRT        584 5.56 Inf       570       597  a    \n",
            " LOW MRT        618 5.46 Inf       605       631   b   \n",
            "\n",
            "DaysInMilk = 4:\n",
            " MRTQuantile emmean   SE  df asymp.LCL asymp.UCL .group\n",
            " HIGH MRT       559 5.40 Inf       546       572  a    \n",
            " MED MRT        576 5.58 Inf       563       590  a    \n",
            " LOW MRT        609 5.47 Inf       596       622   b   \n",
            "\n",
            "DaysInMilk = 5:\n",
            " MRTQuantile emmean   SE  df asymp.LCL asymp.UCL .group\n",
            " HIGH MRT       556 5.43 Inf       543       569  a    \n",
            " MED MRT        567 5.60 Inf       554       580  a    \n",
            " LOW MRT        606 5.50 Inf       593       619   b   \n",
            "\n",
            "DaysInMilk = 6:\n",
            " MRTQuantile emmean   SE  df asymp.LCL asymp.UCL .group\n",
            " HIGH MRT       549 5.46 Inf       536       562  a    \n",
            " MED MRT        567 5.62 Inf       554       581   b   \n",
            " LOW MRT        599 5.52 Inf       586       612    c  \n",
            "\n",
            "DaysInMilk = 7:\n",
            " MRTQuantile emmean   SE  df asymp.LCL asymp.UCL .group\n",
            " HIGH MRT       547 5.48 Inf       534       560  a    \n",
            " MED MRT        566 5.65 Inf       552       579   b   \n",
            " LOW MRT        595 5.55 Inf       581       608    c  \n",
            "\n",
            "DaysInMilk = 8:\n",
            " MRTQuantile emmean   SE  df asymp.LCL asymp.UCL .group\n",
            " HIGH MRT       546 5.51 Inf       533       559  a    \n",
            " MED MRT        559 5.68 Inf       545       573  a    \n",
            " LOW MRT        582 5.58 Inf       568       595   b   \n",
            "\n",
            "DaysInMilk = 9:\n",
            " MRTQuantile emmean   SE  df asymp.LCL asymp.UCL .group\n",
            " HIGH MRT       538 5.54 Inf       525       551  a    \n",
            " MED MRT        550 5.71 Inf       537       564  a    \n",
            " LOW MRT        579 5.62 Inf       566       593   b   \n",
            "\n",
            "DaysInMilk = 10:\n",
            " MRTQuantile emmean   SE  df asymp.LCL asymp.UCL .group\n",
            " HIGH MRT       537 5.58 Inf       523       550  a    \n",
            " MED MRT        549 5.75 Inf       536       563  a    \n",
            " LOW MRT        584 5.65 Inf       570       597   b   \n",
            "\n",
            "DaysInMilk = 11:\n",
            " MRTQuantile emmean   SE  df asymp.LCL asymp.UCL .group\n",
            " HIGH MRT       539 5.63 Inf       525       552  a    \n",
            " MED MRT        549 5.79 Inf       535       563  a    \n",
            " LOW MRT        582 5.69 Inf       568       595   b   \n",
            "\n",
            "DaysInMilk = 12:\n",
            " MRTQuantile emmean   SE  df asymp.LCL asymp.UCL .group\n",
            " HIGH MRT       532 5.67 Inf       518       545  a    \n",
            " MED MRT        550 5.83 Inf       536       564  a    \n",
            " LOW MRT        574 5.73 Inf       561       588   b   \n",
            "\n",
            "DaysInMilk = 13:\n",
            " MRTQuantile emmean   SE  df asymp.LCL asymp.UCL .group\n",
            " HIGH MRT       530 5.71 Inf       517       544  a    \n",
            " MED MRT        548 5.87 Inf       534       562  a    \n",
            " LOW MRT        575 5.77 Inf       562       589   b   \n",
            "\n",
            "DaysInMilk = 14:\n",
            " MRTQuantile emmean   SE  df asymp.LCL asymp.UCL .group\n",
            " HIGH MRT       531 5.76 Inf       518       545  a    \n",
            " MED MRT        548 5.92 Inf       534       562  a    \n",
            " LOW MRT        582 5.81 Inf       568       596   b   \n",
            "\n",
            "DaysInMilk = 15:\n",
            " MRTQuantile emmean   SE  df asymp.LCL asymp.UCL .group\n",
            " HIGH MRT       531 5.80 Inf       517       545  a    \n",
            " MED MRT        549 5.97 Inf       535       564  a    \n",
            " LOW MRT        575 5.86 Inf       561       589   b   \n",
            "\n",
            "DaysInMilk = 16:\n",
            " MRTQuantile emmean   SE  df asymp.LCL asymp.UCL .group\n",
            " HIGH MRT       532 5.85 Inf       518       546  a    \n",
            " MED MRT        547 6.02 Inf       533       562  a    \n",
            " LOW MRT        577 5.91 Inf       563       591   b   \n",
            "\n",
            "DaysInMilk = 17:\n",
            " MRTQuantile emmean   SE  df asymp.LCL asymp.UCL .group\n",
            " HIGH MRT       534 5.91 Inf       520       548  a    \n",
            " MED MRT        540 6.07 Inf       526       555  a    \n",
            " LOW MRT        571 5.96 Inf       557       585   b   \n",
            "\n",
            "DaysInMilk = 18:\n",
            " MRTQuantile emmean   SE  df asymp.LCL asymp.UCL .group\n",
            " HIGH MRT       530 5.96 Inf       515       544  a    \n",
            " MED MRT        545 6.14 Inf       530       560  a    \n",
            " LOW MRT        572 6.01 Inf       557       586   b   \n",
            "\n",
            "DaysInMilk = 19:\n",
            " MRTQuantile emmean   SE  df asymp.LCL asymp.UCL .group\n",
            " HIGH MRT       529 6.01 Inf       514       543  a    \n",
            " MED MRT        543 6.19 Inf       528       558  a    \n",
            " LOW MRT        570 6.07 Inf       556       585   b   \n",
            "\n",
            "DaysInMilk = 20:\n",
            " MRTQuantile emmean   SE  df asymp.LCL asymp.UCL .group\n",
            " HIGH MRT       528 6.06 Inf       514       543  a    \n",
            " MED MRT        541 6.25 Inf       526       556  a    \n",
            " LOW MRT        574 6.13 Inf       560       589   b   \n",
            "\n",
            "DaysInMilk = 21:\n",
            " MRTQuantile emmean   SE  df asymp.LCL asymp.UCL .group\n",
            " HIGH MRT       533 6.12 Inf       518       548  a    \n",
            " MED MRT        541 6.31 Inf       526       556  a    \n",
            " LOW MRT        573 6.19 Inf       558       587   b   \n",
            "\n",
            "Results are averaged over the levels of: CalvingSeason, Parity, HerdIdentifier \n",
            "Degrees-of-freedom method: asymptotic \n",
            "Confidence level used: 0.95 \n",
            "Conf-level adjustment: sidak method for 3 estimates \n",
            "P value adjustment: sidak method for 3 tests \n",
            "significance level used: alpha = 0.05 \n",
            "NOTE: If two or more means share the same grouping symbol,\n",
            "      then we cannot show them to be different.\n",
            "      But we also did not show them to be the same. \n"
          ]
        }
      ]
    },
    {
      "cell_type": "code",
      "source": [
        "%%R\n",
        "confint(LSMs$contrasts)\n"
      ],
      "metadata": {
        "colab": {
          "base_uri": "https://localhost:8080/"
        },
        "id": "RjppjdOMmFp1",
        "outputId": "a9417134-eaa3-4024-8c50-667cd28341e5"
      },
      "execution_count": null,
      "outputs": [
        {
          "output_type": "stream",
          "name": "stdout",
          "text": [
            "DaysInMilk = -21:\n",
            " contrast           estimate   SE  df asymp.LCL asymp.UCL\n",
            " LOW MRT - HIGH MRT   -0.230 7.81 Inf   -18.533    18.073\n",
            " LOW MRT - MED MRT     4.775 7.89 Inf   -13.706    23.257\n",
            " HIGH MRT - MED MRT    5.005 7.98 Inf   -13.688    23.699\n",
            "\n",
            "DaysInMilk = -20:\n",
            " contrast           estimate   SE  df asymp.LCL asymp.UCL\n",
            " LOW MRT - HIGH MRT   10.692 7.74 Inf    -7.442    28.826\n",
            " LOW MRT - MED MRT     6.992 7.81 Inf   -11.313    25.297\n",
            " HIGH MRT - MED MRT   -3.700 7.90 Inf   -22.222    14.823\n",
            "\n",
            "DaysInMilk = -19:\n",
            " contrast           estimate   SE  df asymp.LCL asymp.UCL\n",
            " LOW MRT - HIGH MRT   13.969 7.67 Inf    -3.997    31.934\n",
            " LOW MRT - MED MRT     8.903 7.74 Inf    -9.240    27.046\n",
            " HIGH MRT - MED MRT   -5.065 7.83 Inf   -23.427    13.296\n",
            "\n",
            "DaysInMilk = -18:\n",
            " contrast           estimate   SE  df asymp.LCL asymp.UCL\n",
            " LOW MRT - HIGH MRT    8.744 7.59 Inf    -9.044    26.533\n",
            " LOW MRT - MED MRT     2.322 7.66 Inf   -15.630    20.274\n",
            " HIGH MRT - MED MRT   -6.423 7.75 Inf   -24.595    11.750\n",
            "\n",
            "DaysInMilk = -17:\n",
            " contrast           estimate   SE  df asymp.LCL asymp.UCL\n",
            " LOW MRT - HIGH MRT    7.383 7.54 Inf   -10.279    25.045\n",
            " LOW MRT - MED MRT     2.807 7.60 Inf   -15.014    20.627\n",
            " HIGH MRT - MED MRT   -4.576 7.70 Inf   -22.617    13.464\n",
            "\n",
            "DaysInMilk = -16:\n",
            " contrast           estimate   SE  df asymp.LCL asymp.UCL\n",
            " LOW MRT - HIGH MRT    7.775 7.47 Inf    -9.738    25.289\n",
            " LOW MRT - MED MRT     6.848 7.54 Inf   -10.822    24.519\n",
            " HIGH MRT - MED MRT   -0.927 7.63 Inf   -18.809    16.955\n",
            "\n",
            "DaysInMilk = -15:\n",
            " contrast           estimate   SE  df asymp.LCL asymp.UCL\n",
            " LOW MRT - HIGH MRT   -0.464 7.42 Inf   -17.854    16.927\n",
            " LOW MRT - MED MRT    -2.825 7.48 Inf   -20.363    14.714\n",
            " HIGH MRT - MED MRT   -2.361 7.57 Inf   -20.109    15.387\n",
            "\n",
            "DaysInMilk = -14:\n",
            " contrast           estimate   SE  df asymp.LCL asymp.UCL\n",
            " LOW MRT - HIGH MRT    3.254 7.36 Inf   -14.007    20.515\n",
            " LOW MRT - MED MRT     6.541 7.43 Inf   -10.867    23.950\n",
            " HIGH MRT - MED MRT    3.287 7.51 Inf   -14.325    20.900\n",
            "\n",
            "DaysInMilk = -13:\n",
            " contrast           estimate   SE  df asymp.LCL asymp.UCL\n",
            " LOW MRT - HIGH MRT   12.597 7.32 Inf    -4.569    29.763\n",
            " LOW MRT - MED MRT     9.708 7.39 Inf    -7.609    27.025\n",
            " HIGH MRT - MED MRT   -2.888 7.47 Inf   -20.406    14.629\n",
            "\n",
            "DaysInMilk = -12:\n",
            " contrast           estimate   SE  df asymp.LCL asymp.UCL\n",
            " LOW MRT - HIGH MRT   11.413 7.28 Inf    -5.649    28.474\n",
            " LOW MRT - MED MRT     5.811 7.35 Inf   -11.404    23.026\n",
            " HIGH MRT - MED MRT   -5.602 7.43 Inf   -23.020    11.816\n",
            "\n",
            "DaysInMilk = -11:\n",
            " contrast           estimate   SE  df asymp.LCL asymp.UCL\n",
            " LOW MRT - HIGH MRT   16.176 7.24 Inf    -0.783    33.135\n",
            " LOW MRT - MED MRT     9.423 7.30 Inf    -7.688    26.534\n",
            " HIGH MRT - MED MRT   -6.753 7.39 Inf   -24.078    10.573\n",
            "\n",
            "DaysInMilk = -10:\n",
            " contrast           estimate   SE  df asymp.LCL asymp.UCL\n",
            " LOW MRT - HIGH MRT    9.442 7.20 Inf    -7.423    26.307\n",
            " LOW MRT - MED MRT     6.641 7.27 Inf   -10.387    23.669\n",
            " HIGH MRT - MED MRT   -2.801 7.35 Inf   -20.035    14.433\n",
            "\n",
            "DaysInMilk = -9:\n",
            " contrast           estimate   SE  df asymp.LCL asymp.UCL\n",
            " LOW MRT - HIGH MRT    4.910 7.16 Inf   -11.870    21.689\n",
            " LOW MRT - MED MRT     8.104 7.23 Inf    -8.833    25.042\n",
            " HIGH MRT - MED MRT    3.195 7.31 Inf   -13.941    20.331\n",
            "\n",
            "DaysInMilk = -8:\n",
            " contrast           estimate   SE  df asymp.LCL asymp.UCL\n",
            " LOW MRT - HIGH MRT    3.573 7.13 Inf   -13.144    20.291\n",
            " LOW MRT - MED MRT     5.251 7.19 Inf   -11.604    22.106\n",
            " HIGH MRT - MED MRT    1.678 7.28 Inf   -15.386    18.742\n",
            "\n",
            "DaysInMilk = -7:\n",
            " contrast           estimate   SE  df asymp.LCL asymp.UCL\n",
            " LOW MRT - HIGH MRT   11.209 7.11 Inf    -5.460    27.877\n",
            " LOW MRT - MED MRT     6.981 7.17 Inf    -9.832    23.793\n",
            " HIGH MRT - MED MRT   -4.228 7.26 Inf   -21.239    12.782\n",
            "\n",
            "DaysInMilk = -6:\n",
            " contrast           estimate   SE  df asymp.LCL asymp.UCL\n",
            " LOW MRT - HIGH MRT    1.160 7.09 Inf   -15.453    17.772\n",
            " LOW MRT - MED MRT     4.164 7.15 Inf   -12.595    20.923\n",
            " HIGH MRT - MED MRT    3.004 7.24 Inf   -13.963    19.971\n",
            "\n",
            "DaysInMilk = -5:\n",
            " contrast           estimate   SE  df asymp.LCL asymp.UCL\n",
            " LOW MRT - HIGH MRT    0.537 7.08 Inf   -16.055    17.129\n",
            " LOW MRT - MED MRT     4.331 7.14 Inf   -12.396    21.059\n",
            " HIGH MRT - MED MRT    3.795 7.22 Inf   -13.124    20.713\n",
            "\n",
            "DaysInMilk = -4:\n",
            " contrast           estimate   SE  df asymp.LCL asymp.UCL\n",
            " LOW MRT - HIGH MRT   11.477 7.06 Inf    -5.063    28.017\n",
            " LOW MRT - MED MRT     8.265 7.12 Inf    -8.422    24.953\n",
            " HIGH MRT - MED MRT   -3.212 7.20 Inf   -20.081    13.657\n",
            "\n",
            "DaysInMilk = -3:\n",
            " contrast           estimate   SE  df asymp.LCL asymp.UCL\n",
            " LOW MRT - HIGH MRT    0.747 7.05 Inf   -15.774    17.268\n",
            " LOW MRT - MED MRT     2.390 7.11 Inf   -14.276    19.055\n",
            " HIGH MRT - MED MRT    1.643 7.19 Inf   -15.217    18.503\n",
            "\n",
            "DaysInMilk = -2:\n",
            " contrast           estimate   SE  df asymp.LCL asymp.UCL\n",
            " LOW MRT - HIGH MRT   -2.280 7.05 Inf   -18.797    14.237\n",
            " LOW MRT - MED MRT     7.156 7.11 Inf    -9.500    23.812\n",
            " HIGH MRT - MED MRT    9.436 7.19 Inf    -7.406    26.279\n",
            "\n",
            "DaysInMilk = -1:\n",
            " contrast           estimate   SE  df asymp.LCL asymp.UCL\n",
            " LOW MRT - HIGH MRT   -7.234 7.04 Inf   -23.736     9.268\n",
            " LOW MRT - MED MRT     1.318 7.10 Inf   -15.326    17.963\n",
            " HIGH MRT - MED MRT    8.552 7.18 Inf    -8.280    25.385\n",
            "\n",
            "DaysInMilk = 1:\n",
            " contrast           estimate   SE  df asymp.LCL asymp.UCL\n",
            " LOW MRT - HIGH MRT    8.434 7.33 Inf    -8.739    25.607\n",
            " LOW MRT - MED MRT    15.575 7.42 Inf    -1.807    32.958\n",
            " HIGH MRT - MED MRT    7.141 7.44 Inf   -10.303    24.586\n",
            "\n",
            "DaysInMilk = 2:\n",
            " contrast           estimate   SE  df asymp.LCL asymp.UCL\n",
            " LOW MRT - HIGH MRT   40.892 7.35 Inf    23.668    58.115\n",
            " LOW MRT - MED MRT    34.736 7.44 Inf    17.308    52.164\n",
            " HIGH MRT - MED MRT   -6.155 7.46 Inf   -23.641    11.330\n",
            "\n",
            "DaysInMilk = 3:\n",
            " contrast           estimate   SE  df asymp.LCL asymp.UCL\n",
            " LOW MRT - HIGH MRT   48.625 7.37 Inf    31.362    65.888\n",
            " LOW MRT - MED MRT    34.086 7.45 Inf    16.634    51.538\n",
            " HIGH MRT - MED MRT  -14.539 7.47 Inf   -32.055     2.978\n",
            "\n",
            "DaysInMilk = 4:\n",
            " contrast           estimate   SE  df asymp.LCL asymp.UCL\n",
            " LOW MRT - HIGH MRT   49.631 7.39 Inf    32.307    66.955\n",
            " LOW MRT - MED MRT    32.412 7.47 Inf    14.909    49.915\n",
            " HIGH MRT - MED MRT  -17.219 7.50 Inf   -34.790     0.353\n",
            "\n",
            "DaysInMilk = 5:\n",
            " contrast           estimate   SE  df asymp.LCL asymp.UCL\n",
            " LOW MRT - HIGH MRT   50.583 7.43 Inf    33.176    67.989\n",
            " LOW MRT - MED MRT    39.474 7.50 Inf    21.897    57.051\n",
            " HIGH MRT - MED MRT  -11.108 7.53 Inf   -28.763     6.546\n",
            "\n",
            "DaysInMilk = 6:\n",
            " contrast           estimate   SE  df asymp.LCL asymp.UCL\n",
            " LOW MRT - HIGH MRT   50.158 7.46 Inf    32.680    67.637\n",
            " LOW MRT - MED MRT    31.485 7.53 Inf    13.841    49.129\n",
            " HIGH MRT - MED MRT  -18.673 7.57 Inf   -36.405    -0.942\n",
            "\n",
            "DaysInMilk = 7:\n",
            " contrast           estimate   SE  df asymp.LCL asymp.UCL\n",
            " LOW MRT - HIGH MRT   47.758 7.49 Inf    30.200    65.316\n",
            " LOW MRT - MED MRT    28.953 7.57 Inf    11.221    46.685\n",
            " HIGH MRT - MED MRT  -18.805 7.60 Inf   -36.614    -0.996\n",
            "\n",
            "DaysInMilk = 8:\n",
            " contrast           estimate   SE  df asymp.LCL asymp.UCL\n",
            " LOW MRT - HIGH MRT   35.762 7.54 Inf    18.099    53.424\n",
            " LOW MRT - MED MRT    22.561 7.60 Inf     4.739    40.384\n",
            " HIGH MRT - MED MRT  -13.200 7.64 Inf   -31.098     4.698\n",
            "\n",
            "DaysInMilk = 9:\n",
            " contrast           estimate   SE  df asymp.LCL asymp.UCL\n",
            " LOW MRT - HIGH MRT   41.554 7.58 Inf    23.784    59.325\n",
            " LOW MRT - MED MRT    29.030 7.65 Inf    11.093    46.966\n",
            " HIGH MRT - MED MRT  -12.525 7.68 Inf   -30.525     5.475\n",
            "\n",
            "DaysInMilk = 10:\n",
            " contrast           estimate   SE  df asymp.LCL asymp.UCL\n",
            " LOW MRT - HIGH MRT   47.012 7.63 Inf    29.124    64.899\n",
            " LOW MRT - MED MRT    34.500 7.70 Inf    16.445    52.556\n",
            " HIGH MRT - MED MRT  -12.511 7.74 Inf   -30.649     5.626\n",
            "\n",
            "DaysInMilk = 11:\n",
            " contrast           estimate   SE  df asymp.LCL asymp.UCL\n",
            " LOW MRT - HIGH MRT   43.029 7.69 Inf    25.009    61.049\n",
            " LOW MRT - MED MRT    32.772 7.76 Inf    14.587    50.957\n",
            " HIGH MRT - MED MRT  -10.257 7.80 Inf   -28.526     8.013\n",
            "\n",
            "DaysInMilk = 12:\n",
            " contrast           estimate   SE  df asymp.LCL asymp.UCL\n",
            " LOW MRT - HIGH MRT   42.351 7.74 Inf    24.208    60.494\n",
            " LOW MRT - MED MRT    24.174 7.81 Inf     5.873    42.476\n",
            " HIGH MRT - MED MRT  -18.177 7.85 Inf   -36.564     0.211\n",
            "\n",
            "DaysInMilk = 13:\n",
            " contrast           estimate   SE  df asymp.LCL asymp.UCL\n",
            " LOW MRT - HIGH MRT   45.079 7.80 Inf    26.802    63.357\n",
            " LOW MRT - MED MRT    27.888 7.87 Inf     9.447    46.330\n",
            " HIGH MRT - MED MRT  -17.191 7.90 Inf   -35.716     1.334\n",
            "\n",
            "DaysInMilk = 14:\n",
            " contrast           estimate   SE  df asymp.LCL asymp.UCL\n",
            " LOW MRT - HIGH MRT   50.864 7.86 Inf    32.452    69.275\n",
            " LOW MRT - MED MRT    34.342 7.93 Inf    15.763    52.922\n",
            " HIGH MRT - MED MRT  -16.521 7.97 Inf   -35.209     2.166\n",
            "\n",
            "DaysInMilk = 15:\n",
            " contrast           estimate   SE  df asymp.LCL asymp.UCL\n",
            " LOW MRT - HIGH MRT   44.399 7.93 Inf    25.825    62.973\n",
            " LOW MRT - MED MRT    25.694 8.00 Inf     6.950    44.437\n",
            " HIGH MRT - MED MRT  -18.705 8.04 Inf   -37.547     0.137\n",
            "\n",
            "DaysInMilk = 16:\n",
            " contrast           estimate   SE  df asymp.LCL asymp.UCL\n",
            " LOW MRT - HIGH MRT   45.562 7.99 Inf    26.837    64.287\n",
            " LOW MRT - MED MRT    29.945 8.07 Inf    11.042    48.848\n",
            " HIGH MRT - MED MRT  -15.617 8.11 Inf   -34.620     3.385\n",
            "\n",
            "DaysInMilk = 17:\n",
            " contrast           estimate   SE  df asymp.LCL asymp.UCL\n",
            " LOW MRT - HIGH MRT   37.567 8.07 Inf    18.663    56.472\n",
            " LOW MRT - MED MRT    30.902 8.14 Inf    11.830    49.974\n",
            " HIGH MRT - MED MRT   -6.666 8.18 Inf   -25.839    12.508\n",
            "\n",
            "DaysInMilk = 18:\n",
            " contrast           estimate   SE  df asymp.LCL asymp.UCL\n",
            " LOW MRT - HIGH MRT   42.110 8.13 Inf    23.053    61.167\n",
            " LOW MRT - MED MRT    26.778 8.21 Inf     7.531    46.025\n",
            " HIGH MRT - MED MRT  -15.332 8.26 Inf   -34.695     4.032\n",
            "\n",
            "DaysInMilk = 19:\n",
            " contrast           estimate   SE  df asymp.LCL asymp.UCL\n",
            " LOW MRT - HIGH MRT   41.561 8.21 Inf    22.329    60.793\n",
            " LOW MRT - MED MRT    27.376 8.29 Inf     7.958    46.794\n",
            " HIGH MRT - MED MRT  -14.185 8.33 Inf   -33.714     5.345\n",
            "\n",
            "DaysInMilk = 20:\n",
            " contrast           estimate   SE  df asymp.LCL asymp.UCL\n",
            " LOW MRT - HIGH MRT   45.880 8.28 Inf    26.463    65.297\n",
            " LOW MRT - MED MRT    33.245 8.37 Inf    13.629    52.860\n",
            " HIGH MRT - MED MRT  -12.636 8.41 Inf   -32.349     7.077\n",
            "\n",
            "DaysInMilk = 21:\n",
            " contrast           estimate   SE  df asymp.LCL asymp.UCL\n",
            " LOW MRT - HIGH MRT   39.534 8.37 Inf    19.915    59.153\n",
            " LOW MRT - MED MRT    31.216 8.45 Inf    11.402    51.029\n",
            " HIGH MRT - MED MRT   -8.318 8.50 Inf   -28.228    11.592\n",
            "\n",
            "Results are averaged over the levels of: CalvingSeason, Parity, HerdIdentifier \n",
            "Degrees-of-freedom method: asymptotic \n",
            "Confidence level used: 0.95 \n",
            "Conf-level adjustment: tukey method for comparing a family of 3 estimates \n"
          ]
        }
      ]
    },
    {
      "cell_type": "markdown",
      "source": [
        "Effect Size"
      ],
      "metadata": {
        "id": "UfCLbrUxxyj_"
      }
    },
    {
      "cell_type": "code",
      "source": [
        "%%R\n",
        "emm <- emmeans(\n",
        "        finalModel,\n",
        "        ~ MRTQuantile|DaysInMilk,\n",
        "        lmer.df = \"asymptotic\",\n",
        "        lmerTest.limit = 11848\n",
        "        )\n",
        "\n",
        "effSizes <- eff_size(emm, sigma = sigma(finalModel), edf = Inf) %>% as.data.frame()"
      ],
      "metadata": {
        "id": "DEU8MiiJxvk6"
      },
      "execution_count": null,
      "outputs": []
    },
    {
      "cell_type": "code",
      "source": [
        "%%R\n",
        "pairs(emm, main = \"LOW MRT\")"
      ],
      "metadata": {
        "colab": {
          "base_uri": "https://localhost:8080/"
        },
        "id": "3nLzEQmbZcoa",
        "outputId": "eadba512-0b62-4fb6-b4c1-b4a47cc2bfb0"
      },
      "execution_count": null,
      "outputs": [
        {
          "output_type": "stream",
          "name": "stdout",
          "text": [
            "DaysInMilk = -21:\n",
            " contrast           estimate   SE  df z.ratio p.value\n",
            " LOW MRT - HIGH MRT   -0.230 7.81 Inf  -0.029  0.9995\n",
            " LOW MRT - MED MRT     4.775 7.89 Inf   0.606  0.8171\n",
            " HIGH MRT - MED MRT    5.005 7.98 Inf   0.628  0.8050\n",
            "\n",
            "DaysInMilk = -20:\n",
            " contrast           estimate   SE  df z.ratio p.value\n",
            " LOW MRT - HIGH MRT   10.692 7.74 Inf   1.382  0.3504\n",
            " LOW MRT - MED MRT     6.992 7.81 Inf   0.895  0.6433\n",
            " HIGH MRT - MED MRT   -3.700 7.90 Inf  -0.468  0.8862\n",
            "\n",
            "DaysInMilk = -19:\n",
            " contrast           estimate   SE  df z.ratio p.value\n",
            " LOW MRT - HIGH MRT   13.969 7.67 Inf   1.822  0.1623\n",
            " LOW MRT - MED MRT     8.903 7.74 Inf   1.150  0.4832\n",
            " HIGH MRT - MED MRT   -5.065 7.83 Inf  -0.647  0.7943\n",
            "\n",
            "DaysInMilk = -18:\n",
            " contrast           estimate   SE  df z.ratio p.value\n",
            " LOW MRT - HIGH MRT    8.744 7.59 Inf   1.152  0.4820\n",
            " LOW MRT - MED MRT     2.322 7.66 Inf   0.303  0.9506\n",
            " HIGH MRT - MED MRT   -6.423 7.75 Inf  -0.828  0.6854\n",
            "\n",
            "DaysInMilk = -17:\n",
            " contrast           estimate   SE  df z.ratio p.value\n",
            " LOW MRT - HIGH MRT    7.383 7.54 Inf   0.980  0.5897\n",
            " LOW MRT - MED MRT     2.807 7.60 Inf   0.369  0.9277\n",
            " HIGH MRT - MED MRT   -4.576 7.70 Inf  -0.595  0.8231\n",
            "\n",
            "DaysInMilk = -16:\n",
            " contrast           estimate   SE  df z.ratio p.value\n",
            " LOW MRT - HIGH MRT    7.775 7.47 Inf   1.040  0.5513\n",
            " LOW MRT - MED MRT     6.848 7.54 Inf   0.908  0.6350\n",
            " HIGH MRT - MED MRT   -0.927 7.63 Inf  -0.122  0.9919\n",
            "\n",
            "DaysInMilk = -15:\n",
            " contrast           estimate   SE  df z.ratio p.value\n",
            " LOW MRT - HIGH MRT   -0.464 7.42 Inf  -0.062  0.9979\n",
            " LOW MRT - MED MRT    -2.825 7.48 Inf  -0.377  0.9245\n",
            " HIGH MRT - MED MRT   -2.361 7.57 Inf  -0.312  0.9478\n",
            "\n",
            "DaysInMilk = -14:\n",
            " contrast           estimate   SE  df z.ratio p.value\n",
            " LOW MRT - HIGH MRT    3.254 7.36 Inf   0.442  0.8980\n",
            " LOW MRT - MED MRT     6.541 7.43 Inf   0.881  0.6525\n",
            " HIGH MRT - MED MRT    3.287 7.51 Inf   0.437  0.8999\n",
            "\n",
            "DaysInMilk = -13:\n",
            " contrast           estimate   SE  df z.ratio p.value\n",
            " LOW MRT - HIGH MRT   12.597 7.32 Inf   1.720  0.1977\n",
            " LOW MRT - MED MRT     9.708 7.39 Inf   1.314  0.3874\n",
            " HIGH MRT - MED MRT   -2.888 7.47 Inf  -0.386  0.9210\n",
            "\n",
            "DaysInMilk = -12:\n",
            " contrast           estimate   SE  df z.ratio p.value\n",
            " LOW MRT - HIGH MRT   11.413 7.28 Inf   1.568  0.2597\n",
            " LOW MRT - MED MRT     5.811 7.35 Inf   0.791  0.7085\n",
            " HIGH MRT - MED MRT   -5.602 7.43 Inf  -0.754  0.7314\n",
            "\n",
            "DaysInMilk = -11:\n",
            " contrast           estimate   SE  df z.ratio p.value\n",
            " LOW MRT - HIGH MRT   16.176 7.24 Inf   2.236  0.0653\n",
            " LOW MRT - MED MRT     9.423 7.30 Inf   1.291  0.4004\n",
            " HIGH MRT - MED MRT   -6.753 7.39 Inf  -0.913  0.6318\n",
            "\n",
            "DaysInMilk = -10:\n",
            " contrast           estimate   SE  df z.ratio p.value\n",
            " LOW MRT - HIGH MRT    9.442 7.20 Inf   1.312  0.3884\n",
            " LOW MRT - MED MRT     6.641 7.27 Inf   0.914  0.6314\n",
            " HIGH MRT - MED MRT   -2.801 7.35 Inf  -0.381  0.9231\n",
            "\n",
            "DaysInMilk = -9:\n",
            " contrast           estimate   SE  df z.ratio p.value\n",
            " LOW MRT - HIGH MRT    4.910 7.16 Inf   0.686  0.7718\n",
            " LOW MRT - MED MRT     8.104 7.23 Inf   1.121  0.5008\n",
            " HIGH MRT - MED MRT    3.195 7.31 Inf   0.437  0.9001\n",
            "\n",
            "DaysInMilk = -8:\n",
            " contrast           estimate   SE  df z.ratio p.value\n",
            " LOW MRT - HIGH MRT    3.573 7.13 Inf   0.501  0.8709\n",
            " LOW MRT - MED MRT     5.251 7.19 Inf   0.730  0.7456\n",
            " HIGH MRT - MED MRT    1.678 7.28 Inf   0.230  0.9711\n",
            "\n",
            "DaysInMilk = -7:\n",
            " contrast           estimate   SE  df z.ratio p.value\n",
            " LOW MRT - HIGH MRT   11.209 7.11 Inf   1.576  0.2560\n",
            " LOW MRT - MED MRT     6.981 7.17 Inf   0.973  0.5939\n",
            " HIGH MRT - MED MRT   -4.228 7.26 Inf  -0.583  0.8295\n",
            "\n",
            "DaysInMilk = -6:\n",
            " contrast           estimate   SE  df z.ratio p.value\n",
            " LOW MRT - HIGH MRT    1.160 7.09 Inf   0.164  0.9854\n",
            " LOW MRT - MED MRT     4.164 7.15 Inf   0.582  0.8296\n",
            " HIGH MRT - MED MRT    3.004 7.24 Inf   0.415  0.9095\n",
            "\n",
            "DaysInMilk = -5:\n",
            " contrast           estimate   SE  df z.ratio p.value\n",
            " LOW MRT - HIGH MRT    0.537 7.08 Inf   0.076  0.9968\n",
            " LOW MRT - MED MRT     4.331 7.14 Inf   0.607  0.8164\n",
            " HIGH MRT - MED MRT    3.795 7.22 Inf   0.526  0.8588\n",
            "\n",
            "DaysInMilk = -4:\n",
            " contrast           estimate   SE  df z.ratio p.value\n",
            " LOW MRT - HIGH MRT   11.477 7.06 Inf   1.626  0.2345\n",
            " LOW MRT - MED MRT     8.265 7.12 Inf   1.161  0.4767\n",
            " HIGH MRT - MED MRT   -3.212 7.20 Inf  -0.446  0.8961\n",
            "\n",
            "DaysInMilk = -3:\n",
            " contrast           estimate   SE  df z.ratio p.value\n",
            " LOW MRT - HIGH MRT    0.747 7.05 Inf   0.106  0.9938\n",
            " LOW MRT - MED MRT     2.390 7.11 Inf   0.336  0.9396\n",
            " HIGH MRT - MED MRT    1.643 7.19 Inf   0.228  0.9717\n",
            "\n",
            "DaysInMilk = -2:\n",
            " contrast           estimate   SE  df z.ratio p.value\n",
            " LOW MRT - HIGH MRT   -2.280 7.05 Inf  -0.324  0.9439\n",
            " LOW MRT - MED MRT     7.156 7.11 Inf   1.007  0.5724\n",
            " HIGH MRT - MED MRT    9.436 7.19 Inf   1.313  0.3878\n",
            "\n",
            "DaysInMilk = -1:\n",
            " contrast           estimate   SE  df z.ratio p.value\n",
            " LOW MRT - HIGH MRT   -7.234 7.04 Inf  -1.027  0.5595\n",
            " LOW MRT - MED MRT     1.318 7.10 Inf   0.186  0.9812\n",
            " HIGH MRT - MED MRT    8.552 7.18 Inf   1.191  0.4587\n",
            "\n",
            "DaysInMilk = 1:\n",
            " contrast           estimate   SE  df z.ratio p.value\n",
            " LOW MRT - HIGH MRT    8.434 7.33 Inf   1.151  0.4826\n",
            " LOW MRT - MED MRT    15.575 7.42 Inf   2.100  0.0898\n",
            " HIGH MRT - MED MRT    7.141 7.44 Inf   0.959  0.6026\n",
            "\n",
            "DaysInMilk = 2:\n",
            " contrast           estimate   SE  df z.ratio p.value\n",
            " LOW MRT - HIGH MRT   40.892 7.35 Inf   5.564  <.0001\n",
            " LOW MRT - MED MRT    34.736 7.44 Inf   4.671  <.0001\n",
            " HIGH MRT - MED MRT   -6.155 7.46 Inf  -0.825  0.6875\n",
            "\n",
            "DaysInMilk = 3:\n",
            " contrast           estimate   SE  df z.ratio p.value\n",
            " LOW MRT - HIGH MRT   48.625 7.37 Inf   6.602  <.0001\n",
            " LOW MRT - MED MRT    34.086 7.45 Inf   4.578  <.0001\n",
            " HIGH MRT - MED MRT  -14.539 7.47 Inf  -1.945  0.1261\n",
            "\n",
            "DaysInMilk = 4:\n",
            " contrast           estimate   SE  df z.ratio p.value\n",
            " LOW MRT - HIGH MRT   49.631 7.39 Inf   6.714  <.0001\n",
            " LOW MRT - MED MRT    32.412 7.47 Inf   4.340  <.0001\n",
            " HIGH MRT - MED MRT  -17.219 7.50 Inf  -2.297  0.0563\n",
            "\n",
            "DaysInMilk = 5:\n",
            " contrast           estimate   SE  df z.ratio p.value\n",
            " LOW MRT - HIGH MRT   50.583 7.43 Inf   6.811  <.0001\n",
            " LOW MRT - MED MRT    39.474 7.50 Inf   5.263  <.0001\n",
            " HIGH MRT - MED MRT  -11.108 7.53 Inf  -1.475  0.3031\n",
            "\n",
            "DaysInMilk = 6:\n",
            " contrast           estimate   SE  df z.ratio p.value\n",
            " LOW MRT - HIGH MRT   50.158 7.46 Inf   6.726  <.0001\n",
            " LOW MRT - MED MRT    31.485 7.53 Inf   4.182  0.0001\n",
            " HIGH MRT - MED MRT  -18.673 7.57 Inf  -2.468  0.0362\n",
            "\n",
            "DaysInMilk = 7:\n",
            " contrast           estimate   SE  df z.ratio p.value\n",
            " LOW MRT - HIGH MRT   47.758 7.49 Inf   6.375  <.0001\n",
            " LOW MRT - MED MRT    28.953 7.57 Inf   3.827  0.0004\n",
            " HIGH MRT - MED MRT  -18.805 7.60 Inf  -2.475  0.0356\n",
            "\n",
            "DaysInMilk = 8:\n",
            " contrast           estimate   SE  df z.ratio p.value\n",
            " LOW MRT - HIGH MRT   35.762 7.54 Inf   4.745  <.0001\n",
            " LOW MRT - MED MRT    22.561 7.60 Inf   2.967  0.0085\n",
            " HIGH MRT - MED MRT  -13.200 7.64 Inf  -1.729  0.1945\n",
            "\n",
            "DaysInMilk = 9:\n",
            " contrast           estimate   SE  df z.ratio p.value\n",
            " LOW MRT - HIGH MRT   41.554 7.58 Inf   5.481  <.0001\n",
            " LOW MRT - MED MRT    29.030 7.65 Inf   3.793  0.0004\n",
            " HIGH MRT - MED MRT  -12.525 7.68 Inf  -1.631  0.2326\n",
            "\n",
            "DaysInMilk = 10:\n",
            " contrast           estimate   SE  df z.ratio p.value\n",
            " LOW MRT - HIGH MRT   47.012 7.63 Inf   6.160  <.0001\n",
            " LOW MRT - MED MRT    34.500 7.70 Inf   4.478  <.0001\n",
            " HIGH MRT - MED MRT  -12.511 7.74 Inf  -1.617  0.2385\n",
            "\n",
            "DaysInMilk = 11:\n",
            " contrast           estimate   SE  df z.ratio p.value\n",
            " LOW MRT - HIGH MRT   43.029 7.69 Inf   5.596  <.0001\n",
            " LOW MRT - MED MRT    32.772 7.76 Inf   4.224  0.0001\n",
            " HIGH MRT - MED MRT  -10.257 7.80 Inf  -1.316  0.3863\n",
            "\n",
            "DaysInMilk = 12:\n",
            " contrast           estimate   SE  df z.ratio p.value\n",
            " LOW MRT - HIGH MRT   42.351 7.74 Inf   5.471  <.0001\n",
            " LOW MRT - MED MRT    24.174 7.81 Inf   3.096  0.0056\n",
            " HIGH MRT - MED MRT  -18.177 7.85 Inf  -2.317  0.0535\n",
            "\n",
            "DaysInMilk = 13:\n",
            " contrast           estimate   SE  df z.ratio p.value\n",
            " LOW MRT - HIGH MRT   45.079 7.80 Inf   5.780  <.0001\n",
            " LOW MRT - MED MRT    27.888 7.87 Inf   3.544  0.0011\n",
            " HIGH MRT - MED MRT  -17.191 7.90 Inf  -2.175  0.0755\n",
            "\n",
            "DaysInMilk = 14:\n",
            " contrast           estimate   SE  df z.ratio p.value\n",
            " LOW MRT - HIGH MRT   50.864 7.86 Inf   6.475  <.0001\n",
            " LOW MRT - MED MRT    34.342 7.93 Inf   4.332  <.0001\n",
            " HIGH MRT - MED MRT  -16.521 7.97 Inf  -2.072  0.0957\n",
            "\n",
            "DaysInMilk = 15:\n",
            " contrast           estimate   SE  df z.ratio p.value\n",
            " LOW MRT - HIGH MRT   44.399 7.93 Inf   5.602  <.0001\n",
            " LOW MRT - MED MRT    25.694 8.00 Inf   3.213  0.0038\n",
            " HIGH MRT - MED MRT  -18.705 8.04 Inf  -2.327  0.0522\n",
            "\n",
            "DaysInMilk = 16:\n",
            " contrast           estimate   SE  df z.ratio p.value\n",
            " LOW MRT - HIGH MRT   45.562 7.99 Inf   5.703  <.0001\n",
            " LOW MRT - MED MRT    29.945 8.07 Inf   3.713  0.0006\n",
            " HIGH MRT - MED MRT  -15.617 8.11 Inf  -1.926  0.1313\n",
            "\n",
            "DaysInMilk = 17:\n",
            " contrast           estimate   SE  df z.ratio p.value\n",
            " LOW MRT - HIGH MRT   37.567 8.07 Inf   4.657  <.0001\n",
            " LOW MRT - MED MRT    30.902 8.14 Inf   3.797  0.0004\n",
            " HIGH MRT - MED MRT   -6.666 8.18 Inf  -0.815  0.6939\n",
            "\n",
            "DaysInMilk = 18:\n",
            " contrast           estimate   SE  df z.ratio p.value\n",
            " LOW MRT - HIGH MRT   42.110 8.13 Inf   5.179  <.0001\n",
            " LOW MRT - MED MRT    26.778 8.21 Inf   3.261  0.0032\n",
            " HIGH MRT - MED MRT  -15.332 8.26 Inf  -1.856  0.1518\n",
            "\n",
            "DaysInMilk = 19:\n",
            " contrast           estimate   SE  df z.ratio p.value\n",
            " LOW MRT - HIGH MRT   41.561 8.21 Inf   5.065  <.0001\n",
            " LOW MRT - MED MRT    27.376 8.29 Inf   3.304  0.0027\n",
            " HIGH MRT - MED MRT  -14.185 8.33 Inf  -1.702  0.2043\n",
            "\n",
            "DaysInMilk = 20:\n",
            " contrast           estimate   SE  df z.ratio p.value\n",
            " LOW MRT - HIGH MRT   45.880 8.28 Inf   5.538  <.0001\n",
            " LOW MRT - MED MRT    33.245 8.37 Inf   3.972  0.0002\n",
            " HIGH MRT - MED MRT  -12.636 8.41 Inf  -1.502  0.2898\n",
            "\n",
            "DaysInMilk = 21:\n",
            " contrast           estimate   SE  df z.ratio p.value\n",
            " LOW MRT - HIGH MRT   39.534 8.37 Inf   4.723  <.0001\n",
            " LOW MRT - MED MRT    31.216 8.45 Inf   3.692  0.0007\n",
            " HIGH MRT - MED MRT   -8.318 8.50 Inf  -0.979  0.5900\n",
            "\n",
            "Results are averaged over the levels of: CalvingSeason, Parity, HerdIdentifier \n",
            "Degrees-of-freedom method: asymptotic \n",
            "P value adjustment: tukey method for comparing a family of 3 estimates \n"
          ]
        }
      ]
    },
    {
      "cell_type": "code",
      "source": [
        "%%R\n",
        "dfConfInts <- confint(pairs(emm,main = \"LOW MRT\"), method = \"Wald\") %>%\n",
        "  as.data.frame() %>%\n",
        "  mutate(contrast = as.character(contrast),\n",
        "        label = if_else(DaysInMilk == max(as.numeric(DaysInMilk)), as.character(contrast), NA_character_),\n",
        "         significance = as.factor(case_when(\n",
        "             asymp.LCL <= 0 & asymp.UCL <= 0 ~ \"Significant\",\n",
        "             asymp.LCL >= 0 & asymp.UCL >= 0 ~ \"Significant\",\n",
        "             TRUE ~ \"Not-Significant\")),\n",
        "         contrast = as.factor(case_when(\n",
        "             contrast == \"LOW MRT - HIGH MRT\" ~ \"LOW - HIGH\",\n",
        "             contrast == \"LOW MRT - MED MRT\" ~ \"LOW - MED\",\n",
        "             contrast == \"HIGH MRT - MED MRT\" ~ \"HIGH - MED\",\n",
        "             TRUE ~ \"Error\"))\n",
        "         )\n",
        "\n"
      ],
      "metadata": {
        "id": "YreAn5Fyx6T8"
      },
      "execution_count": null,
      "outputs": []
    },
    {
      "cell_type": "code",
      "source": [
        "%%R\n",
        "Significance = dfConfInts %>%pivot_wider(id_cols = DaysInMilk, names_from = contrast, values_from = significance)\n",
        "Significance"
      ],
      "metadata": {
        "colab": {
          "base_uri": "https://localhost:8080/"
        },
        "id": "3jpuuei2uLlf",
        "outputId": "9ec0b839-2bb4-4acd-d4f4-66e5b5ccec03"
      },
      "execution_count": null,
      "outputs": [
        {
          "output_type": "stream",
          "name": "stdout",
          "text": [
            "# A tibble: 42 × 4\n",
            "   DaysInMilk `LOW - HIGH`    `LOW - MED`     `HIGH - MED`   \n",
            "   <fct>      <fct>           <fct>           <fct>          \n",
            " 1 -21        Not-Significant Not-Significant Not-Significant\n",
            " 2 -20        Not-Significant Not-Significant Not-Significant\n",
            " 3 -19        Not-Significant Not-Significant Not-Significant\n",
            " 4 -18        Not-Significant Not-Significant Not-Significant\n",
            " 5 -17        Not-Significant Not-Significant Not-Significant\n",
            " 6 -16        Not-Significant Not-Significant Not-Significant\n",
            " 7 -15        Not-Significant Not-Significant Not-Significant\n",
            " 8 -14        Not-Significant Not-Significant Not-Significant\n",
            " 9 -13        Not-Significant Not-Significant Not-Significant\n",
            "10 -12        Not-Significant Not-Significant Not-Significant\n",
            "# ℹ 32 more rows\n",
            "# ℹ Use `print(n = ...)` to see more rows\n"
          ]
        }
      ]
    },
    {
      "cell_type": "markdown",
      "source": [
        "Visualizations"
      ],
      "metadata": {
        "id": "6j-2-vVUx9zI"
      }
    },
    {
      "cell_type": "code",
      "source": [
        "%%R\n",
        "\n",
        "group.colors<-c(\"LOW MRT\"=\"#FF0090\", \"HIGH MRT\"=\"#ffa500\", \"MED MRT\"=\"#3891A6\",\"Significant\"=\"#655e5c\")\n",
        "dfLMSs <- multcomp::cld(LSMs[[1]], alpha=0.05, Letters=letters, adjust=\"sidak\")\n",
        "\n",
        "myLoc <-\n",
        "  (which(levels(dfLMSs$DaysInMilk) == \"-1\") +\n",
        "     which(levels(dfLMSs$DaysInMilk) == \"1\")) /\n",
        "  2\n"
      ],
      "metadata": {
        "id": "_HLr2JPqtFy_"
      },
      "execution_count": null,
      "outputs": []
    },
    {
      "cell_type": "code",
      "metadata": {
        "colab": {
          "base_uri": "https://localhost:8080/",
          "height": 514
        },
        "id": "E-W2875qQ0dY",
        "outputId": "d624beab-fa5b-4009-e565-c651b11664f0"
      },
      "source": [
        "%%R\n",
        "\n",
        "p = dfLMSs %>% inner_join(Significance) %>%  mutate(label = if_else(DaysInMilk == max(as.numeric(DaysInMilk)), as.character(MRTQuantile), NA_character_),\n",
        "                                                    significance = case_when(\n",
        "                                                        `LOW - HIGH` == \"Significant\" ~ \"Significant\",\n",
        "                                                        `LOW - MED` == \"Significant\" ~ \"Significant\",\n",
        "                                                        `HIGH - MED` == \"Significant\" ~ \"Significant\",\n",
        "                                                        TRUE ~ \"Not-Significant\"\n",
        "                                                    )) %>%\n",
        "  ggplot(\n",
        "  aes(\n",
        "    x=DaysInMilk,\n",
        "    y=emmean,\n",
        "    group=MRTQuantile,\n",
        "    color=MRTQuantile)\n",
        "    ) +\n",
        "    scale_color_manual(values=group.colors)+\n",
        "    scale_fill_manual(values=group.colors)+\n",
        "    scale_alpha_manual(values = c(\"Not-Significant\"=0,\"Significant\"=0.05))+ # transparency significance rectangles\n",
        "    geom_rect(aes(xmin=as.numeric(DaysInMilk)-0.5, xmax =as.numeric(DaysInMilk)+0.5,ymin=-Inf,ymax=Inf,fill =significance ,alpha = significance),color = NA )+\n",
        "    geom_line(size=2) +\n",
        "    geom_text_repel(data= subset(dfLMSs,DaysInMilk == 21), aes(label = MRTQuantile, colour = MRTQuantile, x = 42, y= emmean),hjust = -0.8, size = 10, nudge_x =7,box.padding = 0.5,direction = \"y\")+\n",
        "    geom_errorbar(\n",
        "    aes(ymin=asymp.LCL,\n",
        "        ymax=asymp.UCL),\n",
        "    width=0.25,\n",
        "    size=1,\n",
        "    position=position_dodge(0.25)) +\n",
        "  labs(\n",
        "    title = \"Standing time (min/day)\",\n",
        "    y=\"Minutes per day\" ,\n",
        "    x = \"Days in milk\") +\n",
        "  theme_bw() +\n",
        "  theme(text = element_text(family = \"Times New Roman\"),plot.margin = unit(c(0.5,0.5,4,0.5), \"lines\")) +\n",
        "  theme(text=element_text(size=28),\n",
        "        plot.title = element_text(hjust = 0.5),\n",
        "        panel.border = element_blank(),\n",
        "        panel.grid.major = element_blank(),\n",
        "        panel.grid.minor = element_blank(),\n",
        "        axis.line = element_line(colour = \"black\"))+\n",
        "  theme (legend.position= \"none\")+\n",
        "  geom_vline(xintercept = myLoc, size = 1, linetype= \"dashed\", color =\"black\")\n",
        "\n",
        "\n",
        "\n",
        "gt <- ggplotGrob(p)\n",
        "gt$layout$clip[gt$layout$name == \"panel\"] <- \"off\"\n",
        "grid.draw(gt)\n"
      ],
      "execution_count": null,
      "outputs": [
        {
          "output_type": "stream",
          "name": "stdout",
          "text": [
            "Joining with `by = join_by(DaysInMilk)`\n"
          ]
        },
        {
          "output_type": "display_data",
          "data": {
            "image/png": "[encoded data removed]"
          },
          "metadata": {}
        }
      ]
    },
    {
      "cell_type": "code",
      "metadata": {
        "id": "uVIaIkFSr164"
      },
      "source": [
        "%%R\n",
        "ggsave(plot = gt,\"/content/drive/Shareddrives/Bovi-Analytics/Projects/CelienKemel/Figures/StandingTimeMRTQuantileByDaysInMilk.png\", width = 24, height = 8)"
      ],
      "execution_count": null,
      "outputs": []
    },
    {
      "cell_type": "code",
      "source": [
        "%%R\n",
        "\n",
        "myLoc <-\n",
        "  (which(levels(dfLMSs$DaysInMilk) == \"-1\") +\n",
        "     which(levels(dfLMSs$DaysInMilk) == \"1\")) /\n",
        "  2\n",
        "\n",
        "group.colors<-c(\"HIGH - MED\"=\"#609436\", \"LOW - MED\"=\"#C040A0\", \"LOW - HIGH\"=\"#FF7F50\",\"Significant\"=\"#171710\")\n",
        "plotEffectSize <- dfConfInts %>%\n",
        "  ggplot(\n",
        "  aes(\n",
        "    x=DaysInMilk,\n",
        "    y=estimate,color = contrast)\n",
        "    ) +\n",
        "    scale_color_manual(values = group.colors)+\n",
        "    scale_fill_manual(values = group.colors)+\n",
        "  geom_hline(yintercept=0, color= \"black\", size=1) +\n",
        "  scale_alpha_manual(values = c(\"Not-Significant\"=0.4,\"Significant\"=1))+ # transparency significance each group\n",
        "  geom_point(aes(alpha = significance),size=5,position=position_dodge(0.5)) +\n",
        "  geom_errorbar(\n",
        "    aes(ymin=asymp.LCL,\n",
        "        ymax=asymp.UCL,\n",
        "        alpha = significance),\n",
        "    position=position_dodge(0.5),\n",
        "    width=0.5,\n",
        "    size=1) +\n",
        "  geom_text_repel(data= subset(dfConfInts,DaysInMilk == 21), aes(label = contrast, colour = contrast, x = 42, y= estimate),hjust = -0.8, size = 10, nudge_x =7,box.padding = 0.5,direction = \"y\") +\n",
        "  labs(\n",
        "    y=\"Effect size\" ,\n",
        "    x = \"Days In Milk\") +\n",
        "  theme_bw() +\n",
        "  theme(text = element_text(family = \"Times New Roman\",size =28),\n",
        "        plot.title = element_blank(),\n",
        "        panel.border = element_blank(),\n",
        "        panel.grid.major = element_blank(),\n",
        "        panel.grid.minor = element_blank(),\n",
        "        axis.line = element_line(colour = \"black\"),\n",
        "        legend.position=\"none\",\n",
        "        legend.title = element_blank(),\n",
        "        plot.margin = unit(c(0.5,0.5,4,0.5), \"lines\"))+\n",
        "  geom_vline(xintercept = myLoc, size = 1, linetype= \"dashed\", color =\"black\")\n",
        "\n",
        "plotEffectSize"
      ],
      "metadata": {
        "id": "AfMe4G3-yMgX",
        "colab": {
          "base_uri": "https://localhost:8080/",
          "height": 497
        },
        "outputId": "f933e5b0-8b81-4dbd-d775-3c9a0a550431"
      },
      "execution_count": null,
      "outputs": [
        {
          "output_type": "display_data",
          "data": {
            "image/png": "[encoded data removed]"
          },
          "metadata": {}
        }
      ]
    },
    {
      "cell_type": "code",
      "source": [
        "%%R\n",
        "ggsave(plot = plotEffectSize,\"/content/drive/Shareddrives/Bovi-Analytics/Projects/CelienKemel/Figures/StandingTimeMRTQuantileByDaysInMilkeffectPlot.png\", width = 24, height = 6)"
      ],
      "metadata": {
        "id": "lYPlXKkmyQDA"
      },
      "execution_count": null,
      "outputs": []
    },
    {
      "cell_type": "code",
      "source": [
        "%%R\n",
        "combinedPlot <- ggarrange(\n",
        "    gt,\n",
        "    plotEffectSize,\n",
        "    heights = c(2, 1),\n",
        "    labels = c(\"A)\",\"B)\"),\n",
        "    ncol = 1,\n",
        "    nrow = 2,\n",
        "    align =\"v\",font.label=list(family = \"Times New Roman\",size=24))\n",
        "\n",
        "\n",
        "    combinedPlot"
      ],
      "metadata": {
        "colab": {
          "base_uri": "https://localhost:8080/",
          "height": 497
        },
        "id": "ke01J9wPybIn",
        "outputId": "431b5520-beb8-48bf-8dd1-05e3a98840a9"
      },
      "execution_count": null,
      "outputs": [
        {
          "output_type": "display_data",
          "data": {
            "image/png": "[encoded data removed]"
          },
          "metadata": {}
        }
      ]
    },
    {
      "cell_type": "code",
      "source": [
        "%%R\n",
        "ggsave(plot = combinedPlot,\"/content/drive/Shareddrives/Bovi-Analytics/Projects/CelienKemel/Figures/StandingTimeMRTQuantileByDaysInMilkCombo.png\", width = 24, height = 14)"
      ],
      "metadata": {
        "id": "3_1gWJ0HyebL"
      },
      "execution_count": null,
      "outputs": []
    }
  ]
}