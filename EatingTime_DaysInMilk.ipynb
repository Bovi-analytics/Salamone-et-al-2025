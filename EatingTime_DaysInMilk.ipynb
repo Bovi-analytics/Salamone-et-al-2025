{
  "cells": [
    {
      "cell_type": "markdown",
      "metadata": {
        "id": "view-in-github",
        "colab_type": "text"
      },
      "source": [
        "<a href=\"https://colab.research.google.com/github/Bovi-analytics/Salamone-et-al-2025/blob/main/EatingTime_DaysInMilk.ipynb\" target=\"_parent\"><img src=\"https://colab.research.google.com/assets/colab-badge.svg\" alt=\"Open In Colab\"/></a>"
      ]
    },
    {
      "cell_type": "markdown",
      "metadata": {
        "id": "bA6soJRe_ctZ"
      },
      "source": [
        "# Statistical notebook for eating time DaysInMilk"
      ]
    },
    {
      "cell_type": "markdown",
      "metadata": {
        "id": "E4n6rd-m_lSR"
      },
      "source": [
        "## Importing of google drive"
      ]
    },
    {
      "cell_type": "code",
      "execution_count": null,
      "metadata": {
        "colab": {
          "base_uri": "https://localhost:8080/"
        },
        "id": "WCUSUtqb21vg",
        "outputId": "5c62edfa-332e-46d7-9c4e-54f112a913f4"
      },
      "outputs": [
        {
          "output_type": "stream",
          "name": "stdout",
          "text": [
            "Mounted at /content/drive\n"
          ]
        }
      ],
      "source": [
        "from google.colab import drive\n",
        "drive.mount('/content/drive')"
      ]
    },
    {
      "cell_type": "markdown",
      "metadata": {
        "id": "Ma0Aajwx_r51"
      },
      "source": [
        "## R loading"
      ]
    },
    {
      "cell_type": "code",
      "execution_count": null,
      "metadata": {
        "id": "TxkiqsiB23Kg"
      },
      "outputs": [],
      "source": [
        "%reload_ext rpy2.ipython"
      ]
    },
    {
      "cell_type": "code",
      "execution_count": null,
      "metadata": {
        "id": "tV7fJnp73fqX"
      },
      "outputs": [],
      "source": [
        "%%R\n",
        "lib_loc <- \"/content/drive/Shareddrives/Bovi-Analytics/R-lib/\""
      ]
    },
    {
      "cell_type": "code",
      "execution_count": null,
      "metadata": {
        "colab": {
          "base_uri": "https://localhost:8080/"
        },
        "id": "nzQ3HPLB3TAQ",
        "outputId": "b307401b-e7d5-4f93-8171-5df14f15e155"
      },
      "outputs": [
        {
          "output_type": "stream",
          "name": "stderr",
          "text": [
            "WARNING:rpy2.rinterface_lib.callbacks:R[write to console]: \n",
            "Attaching package: ‘dplyr’\n",
            "\n",
            "\n",
            "WARNING:rpy2.rinterface_lib.callbacks:R[write to console]: The following objects are masked from ‘package:plyr’:\n",
            "\n",
            "    arrange, count, desc, failwith, id, mutate, rename, summarise,\n",
            "    summarize\n",
            "\n",
            "\n",
            "WARNING:rpy2.rinterface_lib.callbacks:R[write to console]: The following objects are masked from ‘package:stats’:\n",
            "\n",
            "    filter, lag\n",
            "\n",
            "\n",
            "WARNING:rpy2.rinterface_lib.callbacks:R[write to console]: The following objects are masked from ‘package:base’:\n",
            "\n",
            "    intersect, setdiff, setequal, union\n",
            "\n",
            "\n",
            "WARNING:rpy2.rinterface_lib.callbacks:R[write to console]: \n",
            "Attaching package: ‘Matrix’\n",
            "\n",
            "\n",
            "WARNING:rpy2.rinterface_lib.callbacks:R[write to console]: The following objects are masked from ‘package:tidyr’:\n",
            "\n",
            "    expand, pack, unpack\n",
            "\n",
            "\n",
            "WARNING:rpy2.rinterface_lib.callbacks:R[write to console]: \n",
            "Attaching package: ‘lmerTest’\n",
            "\n",
            "\n",
            "WARNING:rpy2.rinterface_lib.callbacks:R[write to console]: The following object is masked from ‘package:lme4’:\n",
            "\n",
            "    lmer\n",
            "\n",
            "\n",
            "WARNING:rpy2.rinterface_lib.callbacks:R[write to console]: The following object is masked from ‘package:stats’:\n",
            "\n",
            "    step\n",
            "\n",
            "\n",
            "WARNING:rpy2.rinterface_lib.callbacks:R[write to console]: \n",
            "Attaching package: ‘MASS’\n",
            "\n",
            "\n",
            "WARNING:rpy2.rinterface_lib.callbacks:R[write to console]: The following object is masked from ‘package:dplyr’:\n",
            "\n",
            "    select\n",
            "\n",
            "\n",
            "WARNING:rpy2.rinterface_lib.callbacks:R[write to console]: \n",
            "Attaching package: ‘TH.data’\n",
            "\n",
            "\n",
            "WARNING:rpy2.rinterface_lib.callbacks:R[write to console]: The following object is masked from ‘package:MASS’:\n",
            "\n",
            "    geyser\n",
            "\n",
            "\n",
            "WARNING:rpy2.rinterface_lib.callbacks:R[write to console]: Welcome to emmeans.\n",
            "Caution: You lose important information if you filter this package's results.\n",
            "See '? untidy'\n",
            "\n",
            "WARNING:rpy2.rinterface_lib.callbacks:R[write to console]: The 'lsmeans' package is now basically a front end for 'emmeans'.\n",
            "Users are encouraged to switch the rest of the way.\n",
            "See help('transition') for more information, including how to\n",
            "convert old 'lsmeans' objects and scripts to work with 'emmeans'.\n",
            "\n",
            "WARNING:rpy2.rinterface_lib.callbacks:R[write to console]: \n",
            "Attaching package: ‘car’\n",
            "\n",
            "\n",
            "WARNING:rpy2.rinterface_lib.callbacks:R[write to console]: The following object is masked from ‘package:dplyr’:\n",
            "\n",
            "    recode\n",
            "\n",
            "\n",
            "WARNING:rpy2.rinterface_lib.callbacks:R[write to console]: \n",
            "Attaching package: ‘nlme’\n",
            "\n",
            "\n",
            "WARNING:rpy2.rinterface_lib.callbacks:R[write to console]: The following object is masked from ‘package:lme4’:\n",
            "\n",
            "    lmList\n",
            "\n",
            "\n",
            "WARNING:rpy2.rinterface_lib.callbacks:R[write to console]: The following object is masked from ‘package:dplyr’:\n",
            "\n",
            "    collapse\n",
            "\n",
            "\n",
            "WARNING:rpy2.rinterface_lib.callbacks:R[write to console]: Registered S3 method overwritten by 'clubSandwich':\n",
            "  method    from    \n",
            "  bread.mlm sandwich\n",
            "\n",
            "WARNING:rpy2.rinterface_lib.callbacks:R[write to console]: \n",
            "Attaching package: ‘purrr’\n",
            "\n",
            "\n",
            "WARNING:rpy2.rinterface_lib.callbacks:R[write to console]: The following object is masked from ‘package:car’:\n",
            "\n",
            "    some\n",
            "\n",
            "\n",
            "WARNING:rpy2.rinterface_lib.callbacks:R[write to console]: The following object is masked from ‘package:plyr’:\n",
            "\n",
            "    compact\n",
            "\n",
            "\n",
            "WARNING:rpy2.rinterface_lib.callbacks:R[write to console]: \n",
            "Attaching package: ‘ggpubr’\n",
            "\n",
            "\n",
            "WARNING:rpy2.rinterface_lib.callbacks:R[write to console]: The following object is masked from ‘package:cowplot’:\n",
            "\n",
            "    get_legend\n",
            "\n",
            "\n",
            "WARNING:rpy2.rinterface_lib.callbacks:R[write to console]: The following object is masked from ‘package:plyr’:\n",
            "\n",
            "    mutate\n",
            "\n",
            "\n"
          ]
        },
        {
          "output_type": "stream",
          "name": "stdout",
          "text": [
            "[[1]]\n",
            "[1] TRUE\n",
            "\n",
            "[[2]]\n",
            "[1] TRUE\n",
            "\n",
            "[[3]]\n",
            "[1] TRUE\n",
            "\n",
            "[[4]]\n",
            "[1] TRUE\n",
            "\n",
            "[[5]]\n",
            "[1] TRUE\n",
            "\n",
            "[[6]]\n",
            "[1] TRUE\n",
            "\n",
            "[[7]]\n",
            "[1] TRUE\n",
            "\n",
            "[[8]]\n",
            "[1] TRUE\n",
            "\n",
            "[[9]]\n",
            "[1] TRUE\n",
            "\n",
            "[[10]]\n",
            "[1] TRUE\n",
            "\n",
            "[[11]]\n",
            "[1] TRUE\n",
            "\n",
            "[[12]]\n",
            "[1] TRUE\n",
            "\n",
            "[[13]]\n",
            "[1] TRUE\n",
            "\n",
            "[[14]]\n",
            "[1] TRUE\n",
            "\n",
            "[[15]]\n",
            "[1] TRUE\n",
            "\n",
            "[[16]]\n",
            "[1] TRUE\n",
            "\n",
            "[[17]]\n",
            "[1] TRUE\n",
            "\n",
            "[[18]]\n",
            "[1] TRUE\n",
            "\n",
            "[[19]]\n",
            "[1] TRUE\n",
            "\n",
            "[[20]]\n",
            "[1] TRUE\n",
            "\n",
            "[[21]]\n",
            "[1] TRUE\n",
            "\n",
            "[[22]]\n",
            "[1] TRUE\n",
            "\n",
            "[[23]]\n",
            "[1] TRUE\n",
            "\n",
            "[[24]]\n",
            "[1] TRUE\n",
            "\n",
            "[[25]]\n",
            "[1] TRUE\n",
            "\n",
            "[[26]]\n",
            "[1] TRUE\n",
            "\n",
            "[[27]]\n",
            "[1] TRUE\n",
            "\n"
          ]
        }
      ],
      "source": [
        "%%R\n",
        ".packages <- c(\"ggplot2\",\n",
        "                  \"readr\",\n",
        "                  \"plyr\",\n",
        "                  \"dplyr\",\n",
        "                  \"tidyr\",\n",
        "                  \"tibble\",\n",
        "                  \"lme4\",\n",
        "                  \"lmerTest\",\n",
        "                  \"multcompView\",\n",
        "                  \"mvtnorm\",\n",
        "                  \"TH.data\",\n",
        "                  \"multcomp\",\n",
        "                  \"emmeans\",\n",
        "                  \"lsmeans\",\n",
        "                  \"carData\",\n",
        "                  \"car\",\n",
        "                  \"stringr\",\n",
        "                  \"cAIC4\",\n",
        "                  \"ggrepel\",\n",
        "                  \"geomtextpath\",\n",
        "                  \"grid\",\n",
        "                  \"sandwich\",\n",
        "                  \"clubSandwich\",\n",
        "                  \"skimr\",\n",
        "                  \"purrr\",\n",
        "                  'cowplot',\n",
        "                  \"ggpubr\"\n",
        "                  )\n",
        "\n",
        "# Install CRAN packages (if not already installed)\n",
        ".inst <- .packages %in% installed.packages(lib.loc=lib_loc)\n",
        "if(length(.packages[!.inst]) > 0) install.packages(.packages[!.inst], lib=lib_loc, repos = \"http://cran.us.r-project.org\")\n",
        "\n",
        "# Load packages into session\n",
        "lapply(.packages, require, character.only=TRUE, lib.loc = lib_loc, quietly = TRUE)"
      ]
    },
    {
      "cell_type": "markdown",
      "metadata": {
        "id": "j96Qh2mb_8Gq"
      },
      "source": [
        "## Data loading into dataframe"
      ]
    },
    {
      "cell_type": "code",
      "execution_count": null,
      "metadata": {
        "id": "QCrWvMNts1ck"
      },
      "outputs": [],
      "source": [
        "%%R\n",
        "MrtData <-\n",
        "  readr::read_csv(\n",
        "      \"/content/drive/Shareddrives/Bovi-Analytics/Projects/CelienKemel/NextMilkPredictions.csv\",\n",
        "      col_types = readr::cols(\n",
        "          HerdId = readr::col_character(),\n",
        "          AnimalId = readr::col_character()\n",
        "          )\n",
        "   ) %>%\n",
        "  dplyr::filter(AmountMPRNext > 0.0) %>%\n",
        "  dplyr::filter(DimMPRNext < 45) %>% #HIER FILTER TOEVOEGEN ANDERE MODELLEN\n",
        "  dplyr::filter(DimMPRNext > 5) %>% # HIER OOK\n",
        "  dplyr::mutate(\n",
        "      AnimalIdentifier = factor(AnimalId),\n",
        "      CalvingDate = CalvingDateNext,\n",
        "      MRT = AmountMPRNext - prediction,\n",
        "      LactationNumber = lactationNumber + 1,\n",
        "      HerdIdentifier = factor(case_when(\n",
        "          HerdId == \"287359\"  ~ \"3\",\n",
        "          HerdId == \"269621\" ~ \"2746\",\n",
        "          HerdId == \"6177195\" ~ \"2514\",\n",
        "          HerdId == \"410638\" ~ \"3314\",\n",
        "          HerdId == \"2209799\" ~ \"544\",\n",
        "          HerdId == \"196062\" ~ \"700\",\n",
        "          HerdId == \"325565\" ~ \"2011\",\n",
        "          HerdId == \"207456\" ~ \"2297\",\n",
        "          TRUE ~  \"UnknownUBN\"\n",
        "      )))%>%\n",
        "      group_by(HerdId) %>%\n",
        "      mutate( MRTQuantile = case_when(\n",
        "          MRT < quantile(MRT, probs= 0.33) ~ \"LOW MRT\",\n",
        "          MRT <= quantile(MRT, probs= 0.66) ~ \"MED MRT\",\n",
        "          MRT > quantile(MRT, probs= 0.66) ~ \"HIGH MRT\",\n",
        "          TRUE ~\"Missing\")\n",
        "      ) %>%  ungroup() %>%\n",
        "      dplyr::select(\n",
        "      \"AnimalIdentifier\",\n",
        "      \"HerdIdentifier\",\n",
        "      #\"LactationNumber\",\n",
        "      \"CalvingDate\",\n",
        "      \"MRT\",\n",
        "      \"MRTQuantile\",\n",
        "      \"AmountMPRNext\"\n",
        "  )\n",
        "\n",
        "\n"
      ]
    },
    {
      "cell_type": "code",
      "execution_count": null,
      "metadata": {
        "id": "Wf7VvT4z-NAg"
      },
      "outputs": [],
      "source": [
        "%%R\n",
        "group.colors<-c(\"LOW MRT\"=\"#FF0090\", \"HIGH MRT\"=\"#ffa500\", \"MED MRT\"=\"#3891A6\")\n",
        "Visualisation = MrtData %>% filter(MRTQuantile == \"LOW MRT\")\n",
        "A = ggplot(Visualisation,aes(x=AmountMPRNext, y = MRT, colour = MRTQuantile))+\n",
        "geom_hline(yintercept=0, color= \"black\", size=1)+\n",
        "geom_point(position = \"jitter\") +\n",
        "  ylim(-40, 40) + xlim(10,80) +\n",
        "  theme_bw() +\n",
        "  guides(colour = guide_legend(override.aes = list(size=12)))+\n",
        "  theme(text = element_text(family = \"Times New Roman\"),plot.margin = unit(c(1,0,1,0), \"lines\")) +\n",
        "  theme(text=element_text(size=25),\n",
        "        legend.title = element_blank(),\n",
        "        plot.title = element_text(hjust = 0.5),\n",
        "        panel.border = element_blank(),\n",
        "        axis.title.x=element_blank(),\n",
        "        axis.title.y=element_blank(),\n",
        "        panel.grid.minor = element_blank(),\n",
        "        axis.line = element_line(colour = \"black\"))+\n",
        "        labs(\n",
        "        y=\"MRT\" ,\n",
        "        x = \"Milk production first test day\") +\n",
        "        scale_color_manual(values=group.colors)+\n",
        "    theme (legend.position= \"none\")\n",
        "Visualisation = MrtData %>% filter(MRTQuantile == \"MED MRT\")\n",
        "B = ggplot(Visualisation,aes(x=AmountMPRNext, y = MRT, colour = MRTQuantile))+\n",
        "geom_hline(yintercept=0, color= \"black\", size=1)+\n",
        "geom_point(position = \"jitter\") +\n",
        "  ylim(-40, 40) + xlim(10,80) +\n",
        "  geom_vline(xintercept = 11.5)+\n",
        "  theme_bw() +\n",
        "  guides(y = \"none\",colour = guide_legend(override.aes = list(size=12)))+\n",
        "  theme(text = element_text(family = \"Times New Roman\"),plot.margin = unit(c(1,0,1,0), \"lines\")) +\n",
        "  theme(text=element_text(size=25),\n",
        "        legend.title = element_blank(),\n",
        "        plot.title = element_text(hjust = 0.5),\n",
        "        panel.border = element_blank(),\n",
        "        panel.grid.minor = element_blank(),\n",
        "        axis.title.x=element_blank(),\n",
        "        axis.title.y=element_blank(),\n",
        "        axis.text.y=element_blank(),\n",
        "        axis.ticks.y=element_blank(),\n",
        "        axis.line = element_line(colour = \"black\"))+\n",
        "        scale_color_manual(values=group.colors)+\n",
        "    theme (legend.position= \"none\")\n",
        "\n",
        "Visualisation = MrtData %>% filter(MRTQuantile == \"HIGH MRT\")\n",
        "C= ggplot(Visualisation,aes(x=AmountMPRNext, y = MRT, colour = MRTQuantile))+\n",
        "geom_hline(yintercept=0, color= \"black\", size=1)+\n",
        "geom_point(position = \"jitter\") +\n",
        "  ylim(-40, 40) + xlim(10,80) +\n",
        "  geom_vline(xintercept = 11.5)+\n",
        "  theme_bw() +\n",
        "  guides(y = \"none\",colour = guide_legend(override.aes = list(size=12)))+\n",
        "  theme(text = element_text(family = \"Times New Roman\"),plot.margin = unit(c(1,0,1,0), \"lines\")) +\n",
        "  theme(text=element_text(size=25),\n",
        "        legend.title = element_blank(),\n",
        "        plot.title = element_text(hjust = 0.5),\n",
        "        panel.border = element_blank(),\n",
        "        panel.grid.minor = element_blank(),\n",
        "        axis.title.x=element_blank(),\n",
        "        axis.title.y=element_blank(),\n",
        "        axis.text.y=element_blank(),\n",
        "        axis.ticks.y=element_blank(),\n",
        "        axis.line = element_line(colour = \"black\")) +\n",
        "        scale_color_manual(values=group.colors)+\n",
        "    theme (legend.position= \"none\")\n",
        "\n"
      ]
    },
    {
      "cell_type": "code",
      "source": [
        "%%R\n",
        "\n",
        " ggarrange(A, B, C, ncol = 3,\n",
        "          widths = c(1,0.95,0.95) ,\n",
        "          heights = c(12,12,12),\n",
        "          nrow = 1, align = \"h\",legend = \"top\")+\n",
        "                annotate(\n",
        "                    geom=\"text\",\n",
        "                    x= 0,\n",
        "                    y= 0.47,\n",
        "                    label = \"MRT\",\n",
        "                    angle = 90,\n",
        "                    family = \"Times New Roman\",\n",
        "                    size = 12)+\n",
        "                annotate(\n",
        "                    geom=\"text\",\n",
        "                    x= 0.5,\n",
        "                    y= 0,\n",
        "                    label = expression(\"Milk yield 1\"^\"st\"*\" TD\"),\n",
        "                    family = \"Times New Roman\",\n",
        "                    size = 12)+\n",
        "                    guides(y = \"none\",x=\"none\") + theme(axis.line = element_blank(),panel.grid.minor = element_blank(),panel.grid.mayor = element_blank())+\n",
        "                    #theme_bw() +\n",
        "                    theme(plot.margin = unit(c(2,2,2,2),\"lines\"),\n",
        "                    legend.text=element_text(size=12),\n",
        "                    panel.border = element_blank(),\n",
        "                    panel.background=element_rect(fill = \"white\",color= \"white\"))\n",
        "\n"
      ],
      "metadata": {
        "colab": {
          "base_uri": "https://localhost:8080/",
          "height": 497
        },
        "id": "dqmAfmIdp4Hu",
        "outputId": "3f5c89d7-caf7-42de-905b-3fcfbb42e2ef"
      },
      "execution_count": null,
      "outputs": [
        {
          "output_type": "display_data",
          "data": {
            "image/png": "[encoded data removed]"
          },
          "metadata": {}
        }
      ]
    },
    {
      "cell_type": "code",
      "source": [
        "%%R\n",
        "ggsave(\"/content/drive/Shareddrives/Bovi-Analytics/Projects/CelienKemel/Figures/VisualisationMRTData.png\", width = 15, height = 6)"
      ],
      "metadata": {
        "id": "a2rFmkxjSXby"
      },
      "execution_count": null,
      "outputs": []
    },
    {
      "cell_type": "code",
      "source": [
        "%%R\n",
        "MrtData %>%\n",
        "group_by(HerdIdentifier)%>%\n",
        "skim()"
      ],
      "metadata": {
        "colab": {
          "base_uri": "https://localhost:8080/"
        },
        "id": "QPpk0h30w3jg",
        "outputId": "aee0693e-6aee-404f-e161-77b6d1802595"
      },
      "execution_count": null,
      "outputs": [
        {
          "output_type": "stream",
          "name": "stdout",
          "text": [
            "── Data Summary ────────────────────────\n",
            "                           Values        \n",
            "Name                       Piped data    \n",
            "Number of rows             5353          \n",
            "Number of columns          6             \n",
            "_______________________                  \n",
            "Column type frequency:                   \n",
            "  character                1             \n",
            "  factor                   1             \n",
            "  numeric                  2             \n",
            "  POSIXct                  1             \n",
            "________________________                 \n",
            "Group variables            HerdIdentifier\n",
            "\n",
            "── Variable type: character ────────────────────────────────────────────────────\n",
            "  skim_variable HerdIdentifier n_missing complete_rate min max empty n_unique\n",
            "1 MRTQuantile   2011                   0             1   7   8     0        3\n",
            "2 MRTQuantile   2297                   0             1   7   8     0        3\n",
            "3 MRTQuantile   2514                   0             1   7   8     0        3\n",
            "4 MRTQuantile   2746                   0             1   7   8     0        3\n",
            "5 MRTQuantile   3                      0             1   7   8     0        3\n",
            "6 MRTQuantile   3314                   0             1   7   8     0        3\n",
            "7 MRTQuantile   544                    0             1   7   8     0        3\n",
            "8 MRTQuantile   700                    0             1   7   8     0        3\n",
            "  whitespace\n",
            "1          0\n",
            "2          0\n",
            "3          0\n",
            "4          0\n",
            "5          0\n",
            "6          0\n",
            "7          0\n",
            "8          0\n",
            "\n",
            "── Variable type: factor ───────────────────────────────────────────────────────\n",
            "  skim_variable    HerdIdentifier n_missing complete_rate ordered n_unique\n",
            "1 AnimalIdentifier 2011                   0             1 FALSE        385\n",
            "2 AnimalIdentifier 2297                   0             1 FALSE        244\n",
            "3 AnimalIdentifier 2514                   0             1 FALSE        271\n",
            "4 AnimalIdentifier 2746                   0             1 FALSE        305\n",
            "5 AnimalIdentifier 3                      0             1 FALSE        305\n",
            "6 AnimalIdentifier 3314                   0             1 FALSE        190\n",
            "7 AnimalIdentifier 544                    0             1 FALSE        303\n",
            "8 AnimalIdentifier 700                    0             1 FALSE        222\n",
            "  top_counts                    \n",
            "1 418: 9, 418: 8, 472: 8, 490: 8\n",
            "2 485: 8, 340: 7, 434: 7, 739: 7\n",
            "3 760: 6, 760: 6, 760: 6, 479: 5\n",
            "4 104: 7, 486: 7, 486: 6, 643: 6\n",
            "5 422: 7, 422: 7, 439: 7, 439: 7\n",
            "6 916: 8, 355: 6, 571: 6, 843: 6\n",
            "7 388: 7, 495: 7, 495: 7, 495: 6\n",
            "8 389: 8, 389: 8, 528: 7, 528: 6\n",
            "\n",
            "── Variable type: numeric ──────────────────────────────────────────────────────\n",
            "   skim_variable HerdIdentifier n_missing complete_rate   mean   sd    p0   p25\n",
            " 1 MRT           2011                   0             1 -0.190 5.87 -26.8 -3.72\n",
            " 2 MRT           2297                   0             1 -1.19  5.58 -28.5 -4.18\n",
            " 3 MRT           2514                   0             1 -0.960 7.96 -28.6 -5.83\n",
            " 4 MRT           2746                   0             1 -1.46  6.26 -32.9 -4.85\n",
            " 5 MRT           3                      0             1 -0.763 6.10 -38.4 -4.06\n",
            " 6 MRT           3314                   0             1 -5.08  7.24 -29.9 -8.66\n",
            " 7 MRT           544                    0             1  1.07  7.11 -32.8 -2.88\n",
            " 8 MRT           700                    0             1 -0.961 6.44 -23.0 -4.57\n",
            " 9 AmountMPRNext 2011                   0             1 37.8   6.79  14.9 33.6 \n",
            "10 AmountMPRNext 2297                   0             1 38.4   6.44  11.7 34.7 \n",
            "11 AmountMPRNext 2514                   0             1 41.8   9.22  11.8 36.1 \n",
            "12 AmountMPRNext 2746                   0             1 38.4   7.39   8   33.6 \n",
            "13 AmountMPRNext 3                      0             1 37.8   7.06   6.2 33.3 \n",
            "14 AmountMPRNext 3314                   0             1 34.6   7.80   7.2 30.5 \n",
            "15 AmountMPRNext 544                    0             1 41.4   8.15   8.6 36.9 \n",
            "16 AmountMPRNext 700                    0             1 37.9   7.10  12.2 33.5 \n",
            "       p50    p75 p100 hist \n",
            " 1 -0.0532  3.66  17.8 ▁▁▇▇▁\n",
            " 2 -0.925   2.31  17.2 ▁▁▇▇▁\n",
            " 3 -0.444   4.53  21.1 ▁▂▇▇▁\n",
            " 4 -0.943   2.69  13.3 ▁▁▃▇▂\n",
            " 5 -0.283   2.99  18.1 ▁▁▂▇▁\n",
            " 6 -4.53   -0.771 42.4 ▁▇▃▁▁\n",
            " 7  1.70    5.67  23.6 ▁▁▆▇▁\n",
            " 8 -0.469   3.08  19.8 ▁▂▇▃▁\n",
            " 9 37.7    42.5   56.7 ▁▃▇▆▁\n",
            "10 38.5    42.6   57.8 ▁▁▇▇▁\n",
            "11 42.2    47.3   72.7 ▁▃▇▃▁\n",
            "12 38.8    43.2   59.8 ▁▂▇▇▁\n",
            "13 38      42.1   58.5 ▁▁▇▇▁\n",
            "14 34.4    39.8   85.6 ▁▇▃▁▁\n",
            "15 41.7    46.4   71.1 ▁▂▇▃▁\n",
            "16 38.7    42.9   59.4 ▁▂▇▆▁\n",
            "\n",
            "── Variable type: POSIXct ──────────────────────────────────────────────────────\n",
            "  skim_variable HerdIdentifier n_missing complete_rate min                \n",
            "1 CalvingDate   2011                   0             1 2007-04-15 00:00:00\n",
            "2 CalvingDate   2297                   0             1 2004-10-22 00:00:00\n",
            "3 CalvingDate   2514                   0             1 2011-02-01 00:00:00\n",
            "4 CalvingDate   2746                   0             1 2009-04-06 00:00:00\n",
            "5 CalvingDate   3                      0             1 2008-09-18 00:00:00\n",
            "6 CalvingDate   3314                   0             1 2006-05-26 00:00:00\n",
            "7 CalvingDate   544                    0             1 2007-06-13 00:00:00\n",
            "8 CalvingDate   700                    0             1 2008-04-04 00:00:00\n",
            "  max                 median              n_unique\n",
            "1 2021-03-26 00:00:00 2017-03-26 00:00:00      838\n",
            "2 2021-03-06 00:00:00 2017-06-29 00:00:00      484\n",
            "3 2021-02-28 00:00:00 2017-07-19 00:00:00      472\n",
            "4 2021-03-30 00:00:00 2017-11-29 00:00:00      568\n",
            "5 2021-03-22 00:00:00 2017-04-22 00:00:00      649\n",
            "6 2021-03-26 00:00:00 2017-12-28 00:00:00      405\n",
            "7 2021-03-04 00:00:00 2017-06-21 12:00:00      629\n",
            "8 2021-03-20 00:00:00 2017-06-15 00:00:00      482\n"
          ]
        }
      ]
    },
    {
      "cell_type": "code",
      "source": [
        "%%R\n",
        "MrtData %>%\n",
        "group_by(MRTQuantile)%>%\n",
        "dplyr::summarise(Mean=mean(AmountMPRNext, na.RM=TRUE))"
      ],
      "metadata": {
        "colab": {
          "base_uri": "https://localhost:8080/"
        },
        "id": "ureBNlIAQr6h",
        "outputId": "628a668e-5665-488e-b92b-6a6b0f6f17f6"
      },
      "execution_count": null,
      "outputs": [
        {
          "output_type": "stream",
          "name": "stdout",
          "text": [
            "# A tibble: 3 × 2\n",
            "  MRTQuantile  Mean\n",
            "  <chr>       <dbl>\n",
            "1 HIGH MRT     44.8\n",
            "2 LOW MRT      31.9\n",
            "3 MED MRT      38.9\n"
          ]
        }
      ]
    },
    {
      "cell_type": "code",
      "source": [
        "%%R\n",
        "MrtData %>%\n",
        "group_by(MRTQuantile)%>%\n",
        "dplyr::summarise(sd=sd(AmountMPRNext))"
      ],
      "metadata": {
        "colab": {
          "base_uri": "https://localhost:8080/"
        },
        "id": "vRqmYSS-RDSr",
        "outputId": "a148d0db-3be7-47b6-afc9-e2fd9d463eec"
      },
      "execution_count": null,
      "outputs": [
        {
          "output_type": "stream",
          "name": "stdout",
          "text": [
            "# A tibble: 3 × 2\n",
            "  MRTQuantile    sd\n",
            "  <chr>       <dbl>\n",
            "1 HIGH MRT     5.76\n",
            "2 LOW MRT      6.28\n",
            "3 MED MRT      4.65\n"
          ]
        }
      ]
    },
    {
      "cell_type": "code",
      "source": [
        "%%R\n",
        "MrtData %>%\n",
        "group_by(MRTQuantile)%>%\n",
        "dplyr::summarise(Mean=mean(MRT, na.RM=TRUE))"
      ],
      "metadata": {
        "colab": {
          "base_uri": "https://localhost:8080/"
        },
        "id": "wPE5NxY8UBTe",
        "outputId": "a7c688d9-9bcc-4d1d-ae0f-b4227ceacd43"
      },
      "execution_count": null,
      "outputs": [
        {
          "output_type": "stream",
          "name": "stdout",
          "text": [
            "# A tibble: 3 × 2\n",
            "  MRTQuantile   Mean\n",
            "  <chr>        <dbl>\n",
            "1 HIGH MRT     5.53 \n",
            "2 LOW MRT     -7.96 \n",
            "3 MED MRT     -0.593\n"
          ]
        }
      ]
    },
    {
      "cell_type": "code",
      "source": [
        "%%R\n",
        "MrtData %>%\n",
        "group_by(MRTQuantile)%>%\n",
        "dplyr::summarise(sd=sd(MRT))"
      ],
      "metadata": {
        "colab": {
          "base_uri": "https://localhost:8080/"
        },
        "id": "jZ-0lhjFUQHW",
        "outputId": "f2a3d685-c1ef-4e17-d059-45615dda8e82"
      },
      "execution_count": null,
      "outputs": [
        {
          "output_type": "stream",
          "name": "stdout",
          "text": [
            "# A tibble: 3 × 2\n",
            "  MRTQuantile    sd\n",
            "  <chr>       <dbl>\n",
            "1 HIGH MRT     3.60\n",
            "2 LOW MRT      5.04\n",
            "3 MED MRT      2.08\n"
          ]
        }
      ]
    },
    {
      "cell_type": "code",
      "execution_count": null,
      "metadata": {
        "id": "EdsoTgv63LDl"
      },
      "outputs": [],
      "source": [
        "%%R\n",
        "BehaviorData <-\n",
        "  readr::read_csv(\"/content/drive/Shareddrives/Bovi-Analytics/Projects/SenseOfSensors/CsvData/SensorAndCalvingDataRepartitioned08032021/ObservationType=EatingTimeMinutesPerDay/part-00000-tid-3815821870089910923-ec384d9a-727d-46aa-970e-588ecba307c7-410-6.c000.csv\",\n",
        "    col_types = readr::cols(HerdIdentifier = readr::col_character(),\n",
        "        TransitionLactationNumber = readr::col_integer(),\n",
        "        TransitionParity = readr::col_character(),\n",
        "        TransitionMonthsInMilk = readr::col_integer(),\n",
        "        TransitionDaysInMilk = readr::col_integer(),\n",
        "        TransitionCalvingDate = readr::col_character(),\n",
        "        ##Hour = readr::col_integer(),\n",
        "        Observations = readr::col_integer())) %>%\n",
        "  dplyr::filter(dplyr::between(TransitionDaysInMilk, -21, 21)) %>%\n",
        "  dplyr::filter(TransitionDaysInMilk != 0 ) %>%\n",
        "  dplyr::mutate(\n",
        "    CalvingDate = as.Date (TransitionCalvingDate),\n",
        "    AnimalIdentifier = factor(str_replace_all(TransitionAnimalEartag, \"[^0-9.]\", \"\")),\n",
        "    HerdIdentifier = factor(HerdIdentifier),\n",
        "    LactationIdentifier = factor(paste(AnimalIdentifier,CalvingDate,sep=\"-\")),\n",
        "    Parity = factor(TransitionParity),\n",
        "    LactationNumber = factor(TransitionLactationNumber),\n",
        "    MonthsInMilk = factor(TransitionMonthsInMilk),\n",
        "    DaysInMilk = factor(TransitionDaysInMilk),\n",
        "    numMonthsInMilk = TransitionMonthsInMilk,\n",
        "    numDaysInMilk = TransitionDaysInMilk,\n",
        "    CalvingSeason = factor(TransitionSeason),\n",
        "    ##Hour = factor(Hour),\n",
        "    SensorValue = ObservationValue,\n",
        "    MilkingType = factor(case_when(\n",
        "    HerdIdentifier %in% c(\"544\", \"2514\", \"3314\")~\"AMS\",\n",
        "    TRUE~\"CMS\")),\n",
        "    CalvingGroup = factor(case_when(\n",
        "          TransitionDaysInMilk <= -1 ~ \"PreCalving\",\n",
        "          TransitionDaysInMilk >= 1 ~ \"PostCalving\",\n",
        "          TRUE ~ \"Missing\"))) %>%\n",
        "   dplyr::select(\n",
        "      AnimalIdentifier,\n",
        "      HerdIdentifier,\n",
        "      LactationIdentifier,\n",
        "      Parity,\n",
        "      MonthsInMilk,\n",
        "      DaysInMilk,\n",
        "      CalvingGroup,\n",
        "      numMonthsInMilk,\n",
        "      numDaysInMilk,\n",
        "      CalvingSeason,\n",
        "      CalvingDate,\n",
        "      ##Hour,\n",
        "      SensorValue,\n",
        "      MilkingType,\n",
        "      LactationNumber\n",
        "      ) %>%\n",
        "  tidyr::drop_na()"
      ]
    },
    {
      "cell_type": "code",
      "execution_count": null,
      "metadata": {
        "id": "He9XDarWtgju"
      },
      "outputs": [],
      "source": [
        "%%R\n",
        "AnalysisData <- BehaviorData %>%\n",
        "  dplyr::inner_join(\n",
        "      MrtData,\n",
        "      by = c(\"HerdIdentifier\", \"AnimalIdentifier\", \"CalvingDate\")\n",
        "  )\n"
      ]
    },
    {
      "cell_type": "code",
      "source": [
        "%%R\n",
        "AnalysisData %>%\n",
        "group_by(CalvingGroup)%>%\n",
        "dplyr::summarise(Mean=mean(SensorValue, na.RM=TRUE), sd=sd(SensorValue))"
      ],
      "metadata": {
        "colab": {
          "base_uri": "https://localhost:8080/"
        },
        "id": "b018_yUdT_GX",
        "outputId": "ef830b9a-e48f-4471-b8c3-3472f0b1afe6"
      },
      "execution_count": null,
      "outputs": [
        {
          "output_type": "stream",
          "name": "stdout",
          "text": [
            "# A tibble: 2 × 3\n",
            "  CalvingGroup  Mean    sd\n",
            "  <fct>        <dbl> <dbl>\n",
            "1 PostCalving   303.  97.3\n",
            "2 PreCalving    312.  99.3\n"
          ]
        }
      ]
    },
    {
      "cell_type": "code",
      "execution_count": null,
      "metadata": {
        "colab": {
          "base_uri": "https://localhost:8080/"
        },
        "id": "6tB88jG161J_",
        "outputId": "b4977dae-c9cf-4a10-a9fe-668bdd0024d7"
      },
      "outputs": [
        {
          "output_type": "stream",
          "name": "stdout",
          "text": [
            "# A tibble: 6 × 17\n",
            "  AnimalIdentifier HerdIdentifier LactationIdentifier  Parity MonthsInMilk\n",
            "  <fct>            <fct>          <fct>                <fct>  <fct>       \n",
            "1 875084730        2011           875084730-2016-09-26 2      1           \n",
            "2 875084730        2011           875084730-2016-09-26 2      1           \n",
            "3 875084730        2011           875084730-2016-09-26 2      1           \n",
            "4 875084730        2011           875084730-2016-09-26 2      1           \n",
            "5 758616911        2297           758616911-2017-04-09 2      0           \n",
            "6 758616911        2297           758616911-2017-04-09 2      0           \n",
            "# ℹ 12 more variables: DaysInMilk <fct>, CalvingGroup <fct>,\n",
            "#   numMonthsInMilk <int>, numDaysInMilk <int>, CalvingSeason <fct>,\n",
            "#   CalvingDate <dttm>, SensorValue <dbl>, MilkingType <fct>,\n",
            "#   LactationNumber <fct>, MRT <dbl>, MRTQuantile <chr>, AmountMPRNext <dbl>\n"
          ]
        }
      ],
      "source": [
        "%%R\n",
        "head(AnalysisData)"
      ]
    },
    {
      "cell_type": "code",
      "source": [
        "%%R\n",
        "AnalysisData$MRTQuantile = factor(AnalysisData$MRTQuantile)\n",
        "AnalysisData$MRTQuantile = relevel(AnalysisData$MRTQuantile,ref = \"LOW MRT\")"
      ],
      "metadata": {
        "id": "30syqgf8pqUy"
      },
      "execution_count": null,
      "outputs": []
    },
    {
      "cell_type": "code",
      "execution_count": null,
      "metadata": {
        "colab": {
          "base_uri": "https://localhost:8080/"
        },
        "id": "F1V_3TaBTfdf",
        "outputId": "8a33add6-36d9-4cb7-a072-6727989e85f6"
      },
      "outputs": [
        {
          "output_type": "stream",
          "name": "stdout",
          "text": [
            "tibble [86,178 × 17] (S3: tbl_df/tbl/data.frame)\n",
            " $ AnimalIdentifier   : Factor w/ 2623 levels \"0359563346\",\"0359563389\",..: 1404 1404 1404 1404 1179 1179 1179 1179 1179 1179 ...\n",
            " $ HerdIdentifier     : Factor w/ 9 levels \"2011\",\"2297\",..: 1 1 1 1 2 2 2 2 2 2 ...\n",
            " $ LactationIdentifier: Factor w/ 4368 levels \"0359563346-2020-03-28\",..: 2797 2797 2797 2797 2281 2281 2281 2281 2281 2281 ...\n",
            " $ Parity             : Factor w/ 3 levels \"1\",\"2\",\"3+\": 2 2 2 2 2 2 2 2 2 2 ...\n",
            " $ MonthsInMilk       : Factor w/ 2 levels \"0\",\"1\": 2 2 2 2 1 1 1 1 1 1 ...\n",
            " $ DaysInMilk         : Factor w/ 42 levels \"-21\",\"-20\",\"-19\",..: 26 27 32 34 1 2 8 10 13 14 ...\n",
            " $ CalvingGroup       : Factor w/ 2 levels \"PostCalving\",..: 1 1 1 1 2 2 2 2 2 2 ...\n",
            " $ numMonthsInMilk    : int [1:86178] 1 1 1 1 0 0 0 0 0 0 ...\n",
            " $ numDaysInMilk      : int [1:86178] 5 6 11 13 -21 -20 -14 -12 -9 -8 ...\n",
            " $ CalvingSeason      : Factor w/ 4 levels \"Autumn\",\"Spring\",..: 1 1 1 1 2 2 2 2 2 2 ...\n",
            " $ CalvingDate        : POSIXct[1:86178], format: \"2016-09-26\" \"2016-09-26\" ...\n",
            " $ SensorValue        : num [1:86178] 341 309 288 469 263 360 358 371 296 318 ...\n",
            " $ MilkingType        : Factor w/ 2 levels \"AMS\",\"CMS\": 2 2 2 2 2 2 2 2 2 2 ...\n",
            " $ LactationNumber    : Factor w/ 13 levels \"1\",\"2\",\"3\",\"4\",..: 2 2 2 2 2 2 2 2 2 2 ...\n",
            " $ MRT                : num [1:86178] 3.66 3.66 3.66 3.66 1.72 ...\n",
            " $ MRTQuantile        : Factor w/ 3 levels \"LOW MRT\",\"HIGH MRT\",..: 2 2 2 2 2 2 2 2 2 2 ...\n",
            " $ AmountMPRNext      : num [1:86178] 39.9 39.9 39.9 39.9 34.5 34.5 34.5 34.5 34.5 34.5 ...\n"
          ]
        }
      ],
      "source": [
        "%%R\n",
        "str(AnalysisData)"
      ]
    },
    {
      "cell_type": "markdown",
      "metadata": {
        "id": "yq_0sR7phWSH"
      },
      "source": [
        "## Descriptive statistics"
      ]
    },
    {
      "cell_type": "code",
      "execution_count": null,
      "metadata": {
        "colab": {
          "base_uri": "https://localhost:8080/"
        },
        "id": "93-Yu1JyhVJb",
        "outputId": "9541e7ae-63ea-49d5-cc8d-5edb3b4af858"
      },
      "outputs": [
        {
          "output_type": "stream",
          "name": "stdout",
          "text": [
            "# A tibble: 2 × 2\n",
            "  Parity Unique_Elements\n",
            "  <fct>            <int>\n",
            "1 2                  709\n",
            "2 3+                1571\n"
          ]
        }
      ],
      "source": [
        "%%R\n",
        "# Total Lactation Per Parity\n",
        "AnalysisData %>%\n",
        "  group_by(Parity) %>%\n",
        "  summarise(Unique_Elements = n_distinct(AnimalIdentifier,CalvingDate))"
      ]
    },
    {
      "cell_type": "code",
      "execution_count": null,
      "metadata": {
        "colab": {
          "base_uri": "https://localhost:8080/"
        },
        "id": "DNzWlZfA4xqd",
        "outputId": "ac384793-ebae-4d23-a9bc-babe109701c7"
      },
      "outputs": [
        {
          "output_type": "stream",
          "name": "stdout",
          "text": [
            "# A tibble: 1 × 1\n",
            "  Unique_Elements\n",
            "            <int>\n",
            "1            1314\n"
          ]
        }
      ],
      "source": [
        "%%R\n",
        "# Total Number Animals\n",
        "AnalysisData %>%\n",
        "summarise(Unique_Elements = n_distinct(AnimalIdentifier))"
      ]
    },
    {
      "cell_type": "code",
      "execution_count": null,
      "metadata": {
        "colab": {
          "base_uri": "https://localhost:8080/"
        },
        "id": "O9zQgXhG4WIN",
        "outputId": "6f4d4860-83c5-4224-8c73-6938a5f1f6ec"
      },
      "outputs": [
        {
          "output_type": "stream",
          "name": "stdout",
          "text": [
            "# A tibble: 10 × 2\n",
            "   LactationNumber Unique_Elements\n",
            "   <fct>                     <int>\n",
            " 1 2                           709\n",
            " 2 3                           624\n",
            " 3 4                           430\n",
            " 4 5                           269\n",
            " 5 6                           142\n",
            " 6 7                            56\n",
            " 7 8                            27\n",
            " 8 9                            14\n",
            " 9 10                            8\n",
            "10 11                            1\n"
          ]
        }
      ],
      "source": [
        "%%R\n",
        "# Number of Animals per Lactation\n",
        "AnalysisData %>%\n",
        "  group_by(LactationNumber)%>%\n",
        "  summarise(Unique_Elements = n_distinct(AnimalIdentifier, CalvingDate, Parity))"
      ]
    },
    {
      "cell_type": "markdown",
      "metadata": {
        "id": "R3In3XAH6UNw"
      },
      "source": [
        "# Model building"
      ]
    },
    {
      "cell_type": "markdown",
      "metadata": {
        "id": "4fXa9WQx6Zzh"
      },
      "source": [
        "##Multivariable models\n"
      ]
    },
    {
      "cell_type": "code",
      "execution_count": null,
      "metadata": {
        "id": "N2pB1m1lXFCW"
      },
      "outputs": [],
      "source": [
        "%%R\n",
        "Model2.0 <- lme4::lmer(\n",
        "                  SensorValue ~\n",
        "                  Parity + DaysInMilk + CalvingSeason + HerdIdentifier +  MRTQuantile +\n",
        "                  (1 + numDaysInMilk|LactationIdentifier),\n",
        "                  REML = FALSE,\n",
        "                  data = AnalysisData\n",
        "                  )"
      ]
    },
    {
      "cell_type": "code",
      "execution_count": null,
      "metadata": {
        "colab": {
          "base_uri": "https://localhost:8080/"
        },
        "id": "_jkt1d5IbXsd",
        "outputId": "3948c602-4888-45b7-9ad9-a6dde10d7bcc"
      },
      "outputs": [
        {
          "output_type": "stream",
          "name": "stdout",
          "text": [
            "Single term deletions\n",
            "\n",
            "Model:\n",
            "SensorValue ~ Parity + DaysInMilk + CalvingSeason + HerdIdentifier + \n",
            "    MRTQuantile + (1 + numDaysInMilk | LactationIdentifier)\n",
            "               npar    AIC     LRT   Pr(Chi)    \n",
            "<none>              966157                      \n",
            "Parity            1 966491  335.65 < 2.2e-16 ***\n",
            "DaysInMilk       41 967224 1149.03 < 2.2e-16 ***\n",
            "CalvingSeason     3 966173   21.72 7.469e-05 ***\n",
            "HerdIdentifier    6 966379  233.50 < 2.2e-16 ***\n",
            "MRTQuantile       2 966161    8.15   0.01703 *  \n",
            "---\n",
            "Signif. codes:  0 ‘***’ 0.001 ‘**’ 0.01 ‘*’ 0.05 ‘.’ 0.1 ‘ ’ 1\n"
          ]
        }
      ],
      "source": [
        "%%R\n",
        "drop1(Model2.0,test=\"Chisq\")"
      ]
    },
    {
      "cell_type": "markdown",
      "metadata": {
        "id": "ljVTKt-Pctv0"
      },
      "source": [
        "## Introduction of interactions"
      ]
    },
    {
      "cell_type": "markdown",
      "metadata": {
        "id": "79oMxviecv0k"
      },
      "source": [
        "### Interactions with DaysInMilk"
      ]
    },
    {
      "cell_type": "code",
      "execution_count": null,
      "metadata": {
        "colab": {
          "base_uri": "https://localhost:8080/"
        },
        "id": "kO8mZS_-5EK9",
        "outputId": "daa36879-6fe7-40eb-cc01-797de25cd5c1"
      },
      "outputs": [
        {
          "output_type": "stream",
          "name": "stdout",
          "text": [
            "Data: AnalysisData\n",
            "Models:\n",
            "Model2.0: SensorValue ~ Parity + DaysInMilk + CalvingSeason + HerdIdentifier + MRTQuantile + (1 + numDaysInMilk | LactationIdentifier)\n",
            "Model2.1: SensorValue ~ DaysInMilk * Parity + CalvingSeason + MRTQuantile + HerdIdentifier + (1 + numDaysInMilk | LactationIdentifier)\n",
            "         npar    AIC    BIC  logLik deviance  Chisq Df Pr(>Chisq)    \n",
            "Model2.0   58 966157 966700 -483021   966041                         \n",
            "Model2.1   99 966061 966988 -482931   965863 178.52 41  < 2.2e-16 ***\n",
            "---\n",
            "Signif. codes:  0 ‘***’ 0.001 ‘**’ 0.01 ‘*’ 0.05 ‘.’ 0.1 ‘ ’ 1\n"
          ]
        }
      ],
      "source": [
        "%%R\n",
        "Model2.1 <- lme4::lmer(\n",
        "                  SensorValue ~\n",
        "                  DaysInMilk*Parity + CalvingSeason + MRTQuantile + HerdIdentifier+\n",
        "                 (1 + numDaysInMilk|LactationIdentifier),\n",
        "                  REML = FALSE,\n",
        "                  data = AnalysisData\n",
        "                  )\n",
        "anova(Model2.0,Model2.1,test=\"Chisq\")"
      ]
    },
    {
      "cell_type": "code",
      "execution_count": null,
      "metadata": {
        "colab": {
          "base_uri": "https://localhost:8080/"
        },
        "id": "mkVcZec9cyCk",
        "outputId": "b06def13-16f1-45b4-d625-e47e9e00b508"
      },
      "outputs": [
        {
          "output_type": "stream",
          "name": "stdout",
          "text": [
            "Data: AnalysisData\n",
            "Models:\n",
            "Model2.0: SensorValue ~ Parity + DaysInMilk + CalvingSeason + HerdIdentifier + MRTQuantile + (1 + numDaysInMilk | LactationIdentifier)\n",
            "Model2.2: SensorValue ~ DaysInMilk * HerdIdentifier + CalvingSeason + Parity + MRTQuantile + (1 + numDaysInMilk | LactationIdentifier)\n",
            "         npar    AIC    BIC  logLik deviance Chisq  Df Pr(>Chisq)    \n",
            "Model2.0   58 966157 966700 -483021   966041                         \n",
            "Model2.2  304 964698 967545 -482045   964090  1951 246  < 2.2e-16 ***\n",
            "---\n",
            "Signif. codes:  0 ‘***’ 0.001 ‘**’ 0.01 ‘*’ 0.05 ‘.’ 0.1 ‘ ’ 1\n"
          ]
        }
      ],
      "source": [
        "%%R\n",
        "Model2.2 <- lme4::lmer(\n",
        "                  SensorValue ~\n",
        "                  DaysInMilk*HerdIdentifier + CalvingSeason + Parity + MRTQuantile +\n",
        "                  (1 + numDaysInMilk| LactationIdentifier),\n",
        "                  REML = FALSE,\n",
        "                  data = AnalysisData\n",
        "                  )\n",
        "anova(Model2.0,Model2.2,test=\"Chisq\")"
      ]
    },
    {
      "cell_type": "code",
      "execution_count": null,
      "metadata": {
        "colab": {
          "base_uri": "https://localhost:8080/"
        },
        "id": "Wb15N_ANcybP",
        "outputId": "9553ded9-c5f5-4101-cb0b-ae162738e9a2"
      },
      "outputs": [
        {
          "output_type": "stream",
          "name": "stdout",
          "text": [
            "Data: AnalysisData\n",
            "Models:\n",
            "Model2.0: SensorValue ~ Parity + DaysInMilk + CalvingSeason + HerdIdentifier + MRTQuantile + (1 + numDaysInMilk | LactationIdentifier)\n",
            "Model2.3: SensorValue ~ DaysInMilk * CalvingSeason + Parity + HerdIdentifier + MRTQuantile + (1 + numDaysInMilk | LactationIdentifier)\n",
            "         npar    AIC    BIC  logLik deviance  Chisq  Df Pr(>Chisq)    \n",
            "Model2.0   58 966157 966700 -483021   966041                          \n",
            "Model2.3  181 965987 967682 -482812   965625 416.43 123  < 2.2e-16 ***\n",
            "---\n",
            "Signif. codes:  0 ‘***’ 0.001 ‘**’ 0.01 ‘*’ 0.05 ‘.’ 0.1 ‘ ’ 1\n"
          ]
        }
      ],
      "source": [
        "%%R\n",
        "Model2.3 <- lme4::lmer(\n",
        "                  SensorValue ~\n",
        "                  DaysInMilk*CalvingSeason + Parity + HerdIdentifier + MRTQuantile +\n",
        "                  (1 + numDaysInMilk| LactationIdentifier),\n",
        "                  REML = FALSE,\n",
        "                  data = AnalysisData\n",
        "                  )\n",
        "anova(Model2.0,Model2.3,test=\"Chisq\")"
      ]
    },
    {
      "cell_type": "code",
      "execution_count": null,
      "metadata": {
        "colab": {
          "base_uri": "https://localhost:8080/"
        },
        "id": "xn3w-Oq2zKTW",
        "outputId": "ce9a2bce-0099-4e25-fd9c-57f858e40df7"
      },
      "outputs": [
        {
          "output_type": "stream",
          "name": "stdout",
          "text": [
            "Data: AnalysisData\n",
            "Models:\n",
            "Model2.0: SensorValue ~ Parity + DaysInMilk + CalvingSeason + HerdIdentifier + MRTQuantile + (1 + numDaysInMilk | LactationIdentifier)\n",
            "Model2.4: SensorValue ~ DaysInMilk * MRTQuantile + Parity + HerdIdentifier + CalvingSeason + (1 + numDaysInMilk | LactationIdentifier)\n",
            "         npar    AIC    BIC  logLik deviance  Chisq Df Pr(>Chisq)  \n",
            "Model2.0   58 966157 966700 -483021   966041                       \n",
            "Model2.4  140 966210 967521 -482965   965930 111.42 82    0.01704 *\n",
            "---\n",
            "Signif. codes:  0 ‘***’ 0.001 ‘**’ 0.01 ‘*’ 0.05 ‘.’ 0.1 ‘ ’ 1\n"
          ]
        }
      ],
      "source": [
        "%%R\n",
        "Model2.4 <- lme4::lmer(\n",
        "                  SensorValue ~\n",
        "                  DaysInMilk*MRTQuantile + Parity + HerdIdentifier + CalvingSeason +\n",
        "                  (1 + numDaysInMilk| LactationIdentifier),\n",
        "                  REML = FALSE,\n",
        "                  data = AnalysisData\n",
        "                  )\n",
        "anova(Model2.0,Model2.4,test=\"Chisq\")"
      ]
    },
    {
      "cell_type": "markdown",
      "metadata": {
        "id": "fmKSPEKhd0XJ"
      },
      "source": [
        "## Multiple interactions"
      ]
    },
    {
      "cell_type": "code",
      "execution_count": null,
      "metadata": {
        "id": "G9DNu0yqUp3j"
      },
      "outputs": [],
      "source": [
        "%%R\n",
        "Model2.5 <- lme4::lmer(\n",
        "                  SensorValue ~\n",
        "                  DaysInMilk*CalvingSeason +\n",
        "                  DaysInMilk*Parity +\n",
        "                  DaysInMilk*HerdIdentifier +\n",
        "                  DaysInMilk*MRTQuantile +\n",
        "                  (1 + numDaysInMilk| LactationIdentifier),\n",
        "                  REML = FALSE,\n",
        "                  data = AnalysisData\n",
        "                  )"
      ]
    },
    {
      "cell_type": "code",
      "execution_count": null,
      "metadata": {
        "colab": {
          "base_uri": "https://localhost:8080/"
        },
        "id": "VNnl2eKxc9ug",
        "outputId": "036f82b8-465e-48e2-ebfa-9d900f2b1cc5"
      },
      "outputs": [
        {
          "output_type": "stream",
          "name": "stdout",
          "text": [
            "Data: AnalysisData\n",
            "Models:\n",
            "Model2.0: SensorValue ~ Parity + DaysInMilk + CalvingSeason + HerdIdentifier + MRTQuantile + (1 + numDaysInMilk | LactationIdentifier)\n",
            "Model2.5: SensorValue ~ DaysInMilk * CalvingSeason + DaysInMilk * Parity + DaysInMilk * HerdIdentifier + DaysInMilk * MRTQuantile + (1 + numDaysInMilk | LactationIdentifier)\n",
            "         npar    AIC    BIC  logLik deviance Chisq  Df Pr(>Chisq)    \n",
            "Model2.0   58 966157 966700 -483021   966041                         \n",
            "Model2.5  550 964486 969636 -481693   963386  2655 492  < 2.2e-16 ***\n",
            "---\n",
            "Signif. codes:  0 ‘***’ 0.001 ‘**’ 0.01 ‘*’ 0.05 ‘.’ 0.1 ‘ ’ 1\n"
          ]
        }
      ],
      "source": [
        "%%R\n",
        "anova(Model2.0,Model2.5,test=\"Chisq\")"
      ]
    },
    {
      "cell_type": "code",
      "execution_count": null,
      "metadata": {
        "id": "PXmtOkhWV7Z2"
      },
      "outputs": [],
      "source": [
        "%%R\n",
        "finalModel <- Model2.5"
      ]
    },
    {
      "cell_type": "code",
      "execution_count": null,
      "metadata": {
        "colab": {
          "base_uri": "https://localhost:8080/"
        },
        "id": "iwk8mtFH997x",
        "outputId": "62639a78-325c-43ee-8e4a-733abc14aed2"
      },
      "outputs": [
        {
          "output_type": "stream",
          "name": "stdout",
          "text": [
            "Single term deletions\n",
            "\n",
            "Model:\n",
            "SensorValue ~ DaysInMilk * CalvingSeason + DaysInMilk * Parity + \n",
            "    DaysInMilk * HerdIdentifier + DaysInMilk * MRTQuantile + \n",
            "    (1 + numDaysInMilk | LactationIdentifier)\n",
            "                          npar    AIC     LRT Pr(Chi)    \n",
            "<none>                         964486                    \n",
            "DaysInMilk:CalvingSeason   123 964635  394.92 < 2e-16 ***\n",
            "DaysInMilk:Parity           41 964596  191.80 < 2e-16 ***\n",
            "DaysInMilk:HerdIdentifier  246 965946 1951.82 < 2e-16 ***\n",
            "DaysInMilk:MRTQuantile      82 964436  114.21 0.01083 *  \n",
            "---\n",
            "Signif. codes:  0 ‘***’ 0.001 ‘**’ 0.01 ‘*’ 0.05 ‘.’ 0.1 ‘ ’ 1\n"
          ]
        }
      ],
      "source": [
        "%%R\n",
        "Modeldrop <- drop1(finalModel, test=\"Chisq\")\n",
        "if(\"Pr(>F)\" %in% colnames(Modeldrop))\n",
        "{\n",
        "  Pvalues <- Modeldrop$`Pr(>F)`\n",
        "} else\n",
        "{\n",
        "  Pvalues <- Modeldrop$`Pr(Chi)`\n",
        "}\n",
        "Modeldrop"
      ]
    },
    {
      "cell_type": "code",
      "execution_count": null,
      "metadata": {
        "id": "Tei50epK7u5q"
      },
      "outputs": [],
      "source": [
        "%%R\n",
        "save(finalModel, file=\"/content/drive/Shareddrives/Bovi-Analytics/Projects/CelienKemel/Models/finalmodelEatingtimeperDay.rdata\")"
      ]
    },
    {
      "cell_type": "code",
      "execution_count": null,
      "metadata": {
        "id": "mJ-cenI9Gk0z"
      },
      "outputs": [],
      "source": [
        "%%R\n",
        "load(file=\"/content/drive/Shareddrives/Bovi-Analytics/Projects/CelienKemel/Models/finalmodelEatingtimeperDay.rdata\")"
      ]
    },
    {
      "cell_type": "markdown",
      "metadata": {
        "id": "AVDpPc5Id49m"
      },
      "source": [
        "# Final model analysis of variance"
      ]
    },
    {
      "cell_type": "code",
      "execution_count": null,
      "metadata": {
        "colab": {
          "base_uri": "https://localhost:8080/"
        },
        "id": "A2Pht69s724t",
        "outputId": "d2c5b398-640f-43a7-c461-ca36e5bdd384"
      },
      "outputs": [
        {
          "output_type": "stream",
          "name": "stdout",
          "text": [
            "Analysis of Deviance Table (Type II Wald chisquare tests)\n",
            "\n",
            "Response: SensorValue\n",
            "                              Chisq  Df Pr(>Chisq)    \n",
            "DaysInMilk                1210.0676  41  < 2.2e-16 ***\n",
            "CalvingSeason               22.4291   3  5.311e-05 ***\n",
            "Parity                     371.2740   1  < 2.2e-16 ***\n",
            "HerdIdentifier             254.0630   6  < 2.2e-16 ***\n",
            "MRTQuantile                  8.4856   2    0.01437 *  \n",
            "DaysInMilk:CalvingSeason   396.5676 123  < 2.2e-16 ***\n",
            "DaysInMilk:Parity          192.0900  41  < 2.2e-16 ***\n",
            "DaysInMilk:HerdIdentifier 1992.7225 246  < 2.2e-16 ***\n",
            "DaysInMilk:MRTQuantile     114.3606  82    0.01057 *  \n",
            "---\n",
            "Signif. codes:  0 ‘***’ 0.001 ‘**’ 0.01 ‘*’ 0.05 ‘.’ 0.1 ‘ ’ 1\n"
          ]
        }
      ],
      "source": [
        "%%R\n",
        "Anova(finalModel)"
      ]
    },
    {
      "cell_type": "markdown",
      "metadata": {
        "id": "o_lNMoApe7rx"
      },
      "source": [
        "# Final model figures and LSM (95% CI)"
      ]
    },
    {
      "cell_type": "markdown",
      "metadata": {
        "id": "IYoGfSjXfAE5"
      },
      "source": [
        "## Main effects"
      ]
    },
    {
      "cell_type": "code",
      "source": [
        "%%R\n",
        "summary(finalModel)"
      ],
      "metadata": {
        "id": "s8tm8ZxZn8gL",
        "colab": {
          "base_uri": "https://localhost:8080/"
        },
        "outputId": "e35c961c-3369-47c6-f18e-8b65ce8d5223"
      },
      "execution_count": null,
      "outputs": [
        {
          "output_type": "stream",
          "name": "stdout",
          "text": [
            "Linear mixed model fit by maximum likelihood  ['lmerMod']\n",
            "Formula: SensorValue ~ DaysInMilk * CalvingSeason + DaysInMilk * Parity +  \n",
            "    DaysInMilk * HerdIdentifier + DaysInMilk * MRTQuantile +  \n",
            "    (1 + numDaysInMilk | LactationIdentifier)\n",
            "   Data: AnalysisData\n",
            "\n",
            "      AIC       BIC    logLik  deviance  df.resid \n",
            " 964486.1  969636.4 -481693.1  963386.1     85628 \n",
            "\n",
            "Scaled residuals: \n",
            "    Min      1Q  Median      3Q     Max \n",
            "-7.7856 -0.5367  0.0098  0.5605  7.3764 \n",
            "\n",
            "Random effects:\n",
            " Groups              Name          Variance Std.Dev. Corr\n",
            " LactationIdentifier (Intercept)   3990.523 63.171       \n",
            "                     numDaysInMilk    5.234  2.288   0.09\n",
            " Residual                          3598.724 59.989       \n",
            "Number of obs: 86178, groups:  LactationIdentifier, 2280\n",
            "\n",
            "Fixed effects:\n",
            "                                    Estimate Std. Error t value\n",
            "(Intercept)                        3.348e+02  6.920e+00  48.377\n",
            "DaysInMilk-20                     -1.567e+00  6.189e+00  -0.253\n",
            "DaysInMilk-19                     -1.363e+01  6.192e+00  -2.201\n",
            "DaysInMilk-18                     -1.191e+01  6.198e+00  -1.921\n",
            "DaysInMilk-17                     -6.828e+00  6.210e+00  -1.100\n",
            "DaysInMilk-16                     -9.818e+00  6.226e+00  -1.577\n",
            "DaysInMilk-15                     -6.274e+00  6.248e+00  -1.004\n",
            "DaysInMilk-14                     -7.120e+00  6.274e+00  -1.135\n",
            "DaysInMilk-13                     -9.310e+00  6.314e+00  -1.475\n",
            "DaysInMilk-12                     -1.082e+01  6.348e+00  -1.704\n",
            "DaysInMilk-11                     -1.717e+01  6.385e+00  -2.689\n",
            "DaysInMilk-10                     -1.382e+01  6.423e+00  -2.152\n",
            "DaysInMilk-9                      -1.853e+01  6.460e+00  -2.868\n",
            "DaysInMilk-8                      -1.750e+01  6.498e+00  -2.693\n",
            "DaysInMilk-7                      -1.946e+01  6.560e+00  -2.967\n",
            "DaysInMilk-6                      -2.156e+01  6.616e+00  -3.259\n",
            "DaysInMilk-5                      -2.710e+01  6.684e+00  -4.054\n",
            "DaysInMilk-4                      -2.708e+01  6.749e+00  -4.012\n",
            "DaysInMilk-3                      -2.624e+01  6.818e+00  -3.849\n",
            "DaysInMilk-2                      -2.637e+01  6.889e+00  -3.828\n",
            "DaysInMilk-1                      -2.788e+01  6.959e+00  -4.006\n",
            "DaysInMilk1                       -2.004e+00  7.229e+00  -0.277\n",
            "DaysInMilk2                       -5.520e+00  7.330e+00  -0.753\n",
            "DaysInMilk3                       -4.902e+00  7.409e+00  -0.662\n",
            "DaysInMilk4                       -2.226e+00  7.498e+00  -0.297\n",
            "DaysInMilk5                       -3.310e-01  7.595e+00  -0.044\n",
            "DaysInMilk6                       -3.911e+00  7.690e+00  -0.509\n",
            "DaysInMilk7                        2.720e+00  7.786e+00   0.349\n",
            "DaysInMilk8                        3.633e+00  7.885e+00   0.461\n",
            "DaysInMilk9                        3.640e+00  7.979e+00   0.456\n",
            "DaysInMilk10                       6.982e+00  8.083e+00   0.864\n",
            "DaysInMilk11                       4.878e+00  8.187e+00   0.596\n",
            "DaysInMilk12                       3.118e+00  8.290e+00   0.376\n",
            "DaysInMilk13                       1.010e+01  8.394e+00   1.203\n",
            "DaysInMilk14                       5.917e+00  8.502e+00   0.696\n",
            "DaysInMilk15                       4.443e+00  8.616e+00   0.516\n",
            "DaysInMilk16                       2.465e+00  8.725e+00   0.283\n",
            "DaysInMilk17                       5.186e+00  8.839e+00   0.587\n",
            "DaysInMilk18                       7.595e+00  8.949e+00   0.849\n",
            "DaysInMilk19                       1.118e+01  9.055e+00   1.235\n",
            "DaysInMilk20                       8.353e+00  9.172e+00   0.911\n",
            "DaysInMilk21                       5.009e+00  9.291e+00   0.539\n",
            "CalvingSeasonSpring               -1.604e+01  6.076e+00  -2.640\n",
            "CalvingSeasonSummer               -6.343e+00  5.479e+00  -1.158\n",
            "CalvingSeasonWinter               -1.730e+01  5.843e+00  -2.961\n",
            "Parity3+                          -5.667e+01  4.508e+00 -12.571\n",
            "HerdIdentifier2297                 2.855e+01  7.286e+00   3.918\n",
            "HerdIdentifier2514                 2.076e+01  7.344e+00   2.828\n",
            "HerdIdentifier2746                 7.558e+01  7.006e+00  10.788\n",
            "HerdIdentifier3                    7.345e+01  7.346e+00   9.999\n",
            "HerdIdentifier3314                 3.319e+00  7.645e+00   0.434\n",
            "HerdIdentifier544                  5.390e+01  6.830e+00   7.892\n",
            "MRTQuantileHIGH MRT                2.993e+00  5.017e+00   0.597\n",
            "MRTQuantileMED MRT                -1.915e-02  5.066e+00  -0.004\n",
            "DaysInMilk-20:CalvingSeasonSpring  1.444e+00  5.399e+00   0.267\n",
            "DaysInMilk-19:CalvingSeasonSpring  1.862e+00  5.404e+00   0.345\n",
            "DaysInMilk-18:CalvingSeasonSpring -4.499e+00  5.398e+00  -0.834\n",
            "DaysInMilk-17:CalvingSeasonSpring -3.945e-01  5.416e+00  -0.073\n",
            "DaysInMilk-16:CalvingSeasonSpring -3.138e+00  5.432e+00  -0.578\n",
            "DaysInMilk-15:CalvingSeasonSpring -5.120e+00  5.451e+00  -0.939\n",
            "DaysInMilk-14:CalvingSeasonSpring -6.860e+00  5.473e+00  -1.253\n",
            "DaysInMilk-13:CalvingSeasonSpring -6.217e+00  5.509e+00  -1.129\n",
            "DaysInMilk-12:CalvingSeasonSpring -3.970e+00  5.540e+00  -0.717\n",
            "DaysInMilk-11:CalvingSeasonSpring -2.697e+00  5.572e+00  -0.484\n",
            "DaysInMilk-10:CalvingSeasonSpring  1.820e+00  5.607e+00   0.325\n",
            "DaysInMilk-9:CalvingSeasonSpring  -2.296e+00  5.645e+00  -0.407\n",
            "DaysInMilk-8:CalvingSeasonSpring  -2.911e+00  5.686e+00  -0.512\n",
            "DaysInMilk-7:CalvingSeasonSpring   1.339e+00  5.737e+00   0.233\n",
            "DaysInMilk-6:CalvingSeasonSpring   2.452e+00  5.790e+00   0.423\n",
            "DaysInMilk-5:CalvingSeasonSpring   8.650e+00  5.848e+00   1.479\n",
            "DaysInMilk-4:CalvingSeasonSpring   4.966e+00  5.900e+00   0.842\n",
            "DaysInMilk-3:CalvingSeasonSpring   2.713e+00  5.965e+00   0.455\n",
            "DaysInMilk-2:CalvingSeasonSpring   1.115e-02  6.022e+00   0.002\n",
            "DaysInMilk-1:CalvingSeasonSpring   9.761e-01  6.087e+00   0.160\n",
            "DaysInMilk1:CalvingSeasonSpring   -9.781e-01  6.398e+00  -0.153\n",
            "DaysInMilk2:CalvingSeasonSpring    5.631e+00  6.476e+00   0.870\n",
            "DaysInMilk3:CalvingSeasonSpring    1.130e+01  6.546e+00   1.726\n",
            "DaysInMilk4:CalvingSeasonSpring    1.623e+01  6.627e+00   2.448\n",
            "DaysInMilk5:CalvingSeasonSpring    1.446e+01  6.709e+00   2.156\n",
            "DaysInMilk6:CalvingSeasonSpring    1.479e+01  6.789e+00   2.178\n",
            "DaysInMilk7:CalvingSeasonSpring    1.884e+01  6.872e+00   2.742\n",
            "DaysInMilk8:CalvingSeasonSpring    2.197e+01  6.962e+00   3.155\n",
            "DaysInMilk9:CalvingSeasonSpring    1.809e+01  7.045e+00   2.568\n",
            "DaysInMilk10:CalvingSeasonSpring   2.033e+01  7.144e+00   2.846\n",
            "DaysInMilk11:CalvingSeasonSpring   2.099e+01  7.236e+00   2.901\n",
            "DaysInMilk12:CalvingSeasonSpring   2.305e+01  7.329e+00   3.145\n",
            "DaysInMilk13:CalvingSeasonSpring   2.144e+01  7.424e+00   2.888\n",
            "DaysInMilk14:CalvingSeasonSpring   2.606e+01  7.520e+00   3.465\n",
            "DaysInMilk15:CalvingSeasonSpring   2.750e+01  7.617e+00   3.610\n",
            "DaysInMilk16:CalvingSeasonSpring   3.154e+01  7.718e+00   4.086\n",
            "DaysInMilk17:CalvingSeasonSpring   3.006e+01  7.817e+00   3.845\n",
            "DaysInMilk18:CalvingSeasonSpring   3.368e+01  7.920e+00   4.252\n",
            "DaysInMilk19:CalvingSeasonSpring   3.168e+01  8.018e+00   3.951\n",
            "DaysInMilk20:CalvingSeasonSpring   3.233e+01  8.119e+00   3.982\n",
            "DaysInMilk21:CalvingSeasonSpring   3.459e+01  8.228e+00   4.204\n",
            "DaysInMilk-20:CalvingSeasonSummer -2.477e+00  4.879e+00  -0.508\n",
            "DaysInMilk-19:CalvingSeasonSummer  3.619e+00  4.883e+00   0.741\n",
            "DaysInMilk-18:CalvingSeasonSummer -3.469e-02  4.881e+00  -0.007\n",
            "DaysInMilk-17:CalvingSeasonSummer  8.166e+00  4.899e+00   1.667\n",
            "DaysInMilk-16:CalvingSeasonSummer  6.952e+00  4.911e+00   1.416\n",
            "DaysInMilk-15:CalvingSeasonSummer  2.448e+00  4.926e+00   0.497\n",
            "DaysInMilk-14:CalvingSeasonSummer -2.807e+00  4.946e+00  -0.567\n",
            "DaysInMilk-13:CalvingSeasonSummer  2.693e+00  4.978e+00   0.541\n",
            "DaysInMilk-12:CalvingSeasonSummer  4.767e+00  5.004e+00   0.953\n",
            "DaysInMilk-11:CalvingSeasonSummer  4.315e+00  5.035e+00   0.857\n",
            "DaysInMilk-10:CalvingSeasonSummer  1.091e+01  5.069e+00   2.152\n",
            "DaysInMilk-9:CalvingSeasonSummer   1.181e+01  5.101e+00   2.314\n",
            "DaysInMilk-8:CalvingSeasonSummer   3.012e+00  5.142e+00   0.586\n",
            "DaysInMilk-7:CalvingSeasonSummer   5.920e+00  5.188e+00   1.141\n",
            "DaysInMilk-6:CalvingSeasonSummer   1.037e+01  5.232e+00   1.982\n",
            "DaysInMilk-5:CalvingSeasonSummer   1.349e+01  5.282e+00   2.555\n",
            "DaysInMilk-4:CalvingSeasonSummer   9.576e+00  5.332e+00   1.796\n",
            "DaysInMilk-3:CalvingSeasonSummer   1.029e+01  5.383e+00   1.911\n",
            "DaysInMilk-2:CalvingSeasonSummer   7.191e+00  5.440e+00   1.322\n",
            "DaysInMilk-1:CalvingSeasonSummer   1.561e+01  5.493e+00   2.841\n",
            "DaysInMilk1:CalvingSeasonSummer    9.270e+00  5.751e+00   1.612\n",
            "DaysInMilk2:CalvingSeasonSummer    1.421e+00  5.822e+00   0.244\n",
            "DaysInMilk3:CalvingSeasonSummer    1.874e+00  5.888e+00   0.318\n",
            "DaysInMilk4:CalvingSeasonSummer    7.021e+00  5.958e+00   1.178\n",
            "DaysInMilk5:CalvingSeasonSummer    4.910e+00  6.032e+00   0.814\n",
            "DaysInMilk6:CalvingSeasonSummer    4.979e-01  6.105e+00   0.082\n",
            "DaysInMilk7:CalvingSeasonSummer    3.633e+00  6.182e+00   0.588\n",
            "DaysInMilk8:CalvingSeasonSummer   -1.553e+00  6.260e+00  -0.248\n",
            "DaysInMilk9:CalvingSeasonSummer    3.407e-01  6.341e+00   0.054\n",
            "DaysInMilk10:CalvingSeasonSummer   2.911e+00  6.427e+00   0.453\n",
            "DaysInMilk11:CalvingSeasonSummer   2.106e-01  6.511e+00   0.032\n",
            "DaysInMilk12:CalvingSeasonSummer   2.709e+00  6.596e+00   0.411\n",
            "DaysInMilk13:CalvingSeasonSummer  -6.411e+00  6.682e+00  -0.959\n",
            "DaysInMilk14:CalvingSeasonSummer  -3.109e+00  6.769e+00  -0.459\n",
            "DaysInMilk15:CalvingSeasonSummer  -2.638e+00  6.859e+00  -0.385\n",
            "DaysInMilk16:CalvingSeasonSummer  -2.944e+00  6.948e+00  -0.424\n",
            "DaysInMilk17:CalvingSeasonSummer  -3.620e+00  7.041e+00  -0.514\n",
            "DaysInMilk18:CalvingSeasonSummer  -1.722e+00  7.130e+00  -0.241\n",
            "DaysInMilk19:CalvingSeasonSummer   8.963e-01  7.220e+00   0.124\n",
            "DaysInMilk20:CalvingSeasonSummer   1.067e+00  7.315e+00   0.146\n",
            "DaysInMilk21:CalvingSeasonSummer   3.372e-01  7.410e+00   0.046\n",
            "DaysInMilk-20:CalvingSeasonWinter  8.286e-01  5.179e+00   0.160\n",
            "DaysInMilk-19:CalvingSeasonWinter  5.729e+00  5.185e+00   1.105\n",
            "DaysInMilk-18:CalvingSeasonWinter -6.912e-02  5.187e+00  -0.013\n",
            "DaysInMilk-17:CalvingSeasonWinter  5.164e+00  5.199e+00   0.993\n",
            "DaysInMilk-16:CalvingSeasonWinter  2.913e+00  5.217e+00   0.558\n",
            "DaysInMilk-15:CalvingSeasonWinter -3.089e+00  5.239e+00  -0.590\n",
            "DaysInMilk-14:CalvingSeasonWinter -1.970e+00  5.259e+00  -0.375\n",
            "DaysInMilk-13:CalvingSeasonWinter  5.955e-01  5.288e+00   0.113\n",
            "DaysInMilk-12:CalvingSeasonWinter  3.702e+00  5.317e+00   0.696\n",
            "DaysInMilk-11:CalvingSeasonWinter -4.311e+00  5.348e+00  -0.806\n",
            "DaysInMilk-10:CalvingSeasonWinter  2.544e+00  5.386e+00   0.472\n",
            "DaysInMilk-9:CalvingSeasonWinter   1.575e+00  5.420e+00   0.291\n",
            "DaysInMilk-8:CalvingSeasonWinter  -5.255e+00  5.464e+00  -0.962\n",
            "DaysInMilk-7:CalvingSeasonWinter   1.152e+00  5.515e+00   0.209\n",
            "DaysInMilk-6:CalvingSeasonWinter   3.490e+00  5.562e+00   0.627\n",
            "DaysInMilk-5:CalvingSeasonWinter   5.848e-01  5.617e+00   0.104\n",
            "DaysInMilk-4:CalvingSeasonWinter  -4.709e-01  5.671e+00  -0.083\n",
            "DaysInMilk-3:CalvingSeasonWinter   2.339e+00  5.728e+00   0.408\n",
            "DaysInMilk-2:CalvingSeasonWinter  -5.273e+00  5.788e+00  -0.911\n",
            "DaysInMilk-1:CalvingSeasonWinter  -7.762e+00  5.848e+00  -1.327\n",
            "DaysInMilk1:CalvingSeasonWinter   -1.701e+01  6.176e+00  -2.754\n",
            "DaysInMilk2:CalvingSeasonWinter   -1.400e+01  6.249e+00  -2.241\n",
            "DaysInMilk3:CalvingSeasonWinter    8.205e-01  6.320e+00   0.130\n",
            "DaysInMilk4:CalvingSeasonWinter   -5.116e-01  6.398e+00  -0.080\n",
            "DaysInMilk5:CalvingSeasonWinter    1.098e+00  6.481e+00   0.169\n",
            "DaysInMilk6:CalvingSeasonWinter   -7.738e+00  6.563e+00  -1.179\n",
            "DaysInMilk7:CalvingSeasonWinter   -3.428e+00  6.644e+00  -0.516\n",
            "DaysInMilk8:CalvingSeasonWinter   -2.526e+00  6.728e+00  -0.375\n",
            "DaysInMilk9:CalvingSeasonWinter    9.644e-01  6.817e+00   0.141\n",
            "DaysInMilk10:CalvingSeasonWinter  -1.926e+00  6.909e+00  -0.279\n",
            "DaysInMilk11:CalvingSeasonWinter   3.217e+00  7.002e+00   0.459\n",
            "DaysInMilk12:CalvingSeasonWinter   2.162e+00  7.087e+00   0.305\n",
            "DaysInMilk13:CalvingSeasonWinter   6.053e+00  7.181e+00   0.843\n",
            "DaysInMilk14:CalvingSeasonWinter   6.932e+00  7.276e+00   0.953\n",
            "DaysInMilk15:CalvingSeasonWinter   1.067e+01  7.375e+00   1.446\n",
            "DaysInMilk16:CalvingSeasonWinter   1.634e+01  7.474e+00   2.186\n",
            "DaysInMilk17:CalvingSeasonWinter   1.218e+01  7.572e+00   1.609\n",
            "DaysInMilk18:CalvingSeasonWinter   1.129e+01  7.670e+00   1.472\n",
            "DaysInMilk19:CalvingSeasonWinter   1.049e+01  7.768e+00   1.351\n",
            "DaysInMilk20:CalvingSeasonWinter   1.143e+01  7.871e+00   1.453\n",
            "DaysInMilk21:CalvingSeasonWinter   1.224e+01  7.975e+00   1.535\n",
            "DaysInMilk-20:Parity3+             8.552e-01  4.003e+00   0.214\n",
            "DaysInMilk-19:Parity3+             2.513e+00  4.008e+00   0.627\n",
            "DaysInMilk-18:Parity3+             5.383e+00  4.006e+00   1.344\n",
            "DaysInMilk-17:Parity3+            -4.797e+00  4.022e+00  -1.193\n",
            "DaysInMilk-16:Parity3+             1.468e+00  4.027e+00   0.365\n",
            "DaysInMilk-15:Parity3+            -6.742e-01  4.044e+00  -0.167\n",
            "DaysInMilk-14:Parity3+            -1.950e-01  4.061e+00  -0.048\n",
            "DaysInMilk-13:Parity3+             1.945e+00  4.086e+00   0.476\n",
            "DaysInMilk-12:Parity3+             1.981e-01  4.109e+00   0.048\n",
            "DaysInMilk-11:Parity3+             4.420e+00  4.135e+00   1.069\n",
            "DaysInMilk-10:Parity3+            -2.110e+00  4.162e+00  -0.507\n",
            "DaysInMilk-9:Parity3+              3.664e+00  4.187e+00   0.875\n",
            "DaysInMilk-8:Parity3+              4.661e+00  4.218e+00   1.105\n",
            "DaysInMilk-7:Parity3+              5.248e+00  4.255e+00   1.233\n",
            "DaysInMilk-6:Parity3+              3.887e+00  4.294e+00   0.905\n",
            "DaysInMilk-5:Parity3+              6.577e+00  4.336e+00   1.517\n",
            "DaysInMilk-4:Parity3+              1.274e+00  4.377e+00   0.291\n",
            "DaysInMilk-3:Parity3+              6.631e+00  4.423e+00   1.499\n",
            "DaysInMilk-2:Parity3+              2.737e+00  4.470e+00   0.612\n",
            "DaysInMilk-1:Parity3+             -3.244e+00  4.518e+00  -0.718\n",
            "DaysInMilk1:Parity3+              -2.427e+01  4.728e+00  -5.134\n",
            "DaysInMilk2:Parity3+              -1.853e+01  4.782e+00  -3.876\n",
            "DaysInMilk3:Parity3+              -1.187e+01  4.833e+00  -2.456\n",
            "DaysInMilk4:Parity3+              -1.012e+01  4.891e+00  -2.069\n",
            "DaysInMilk5:Parity3+              -6.234e+00  4.955e+00  -1.258\n",
            "DaysInMilk6:Parity3+               1.749e-01  5.015e+00   0.035\n",
            "DaysInMilk7:Parity3+              -8.501e-01  5.077e+00  -0.167\n",
            "DaysInMilk8:Parity3+              -9.297e-01  5.142e+00  -0.181\n",
            "DaysInMilk9:Parity3+              -7.408e-01  5.208e+00  -0.142\n",
            "DaysInMilk10:Parity3+              2.163e-01  5.276e+00   0.041\n",
            "DaysInMilk11:Parity3+              1.639e-01  5.347e+00   0.031\n",
            "DaysInMilk12:Parity3+              7.122e-01  5.413e+00   0.132\n",
            "DaysInMilk13:Parity3+              4.464e+00  5.483e+00   0.814\n",
            "DaysInMilk14:Parity3+              1.795e+00  5.552e+00   0.323\n",
            "DaysInMilk15:Parity3+              1.803e+00  5.627e+00   0.320\n",
            "DaysInMilk16:Parity3+              3.823e+00  5.699e+00   0.671\n",
            "DaysInMilk17:Parity3+              4.753e+00  5.773e+00   0.823\n",
            "DaysInMilk18:Parity3+              6.428e+00  5.849e+00   1.099\n",
            "DaysInMilk19:Parity3+              5.217e+00  5.921e+00   0.881\n",
            "DaysInMilk20:Parity3+              4.544e+00  5.996e+00   0.758\n",
            "DaysInMilk21:Parity3+              5.251e+00  6.075e+00   0.864\n",
            "DaysInMilk-20:HerdIdentifier2297  -6.210e+00  6.466e+00  -0.960\n",
            "DaysInMilk-19:HerdIdentifier2297   3.794e+00  6.471e+00   0.586\n",
            "DaysInMilk-18:HerdIdentifier2297   6.626e+00  6.476e+00   1.023\n",
            "DaysInMilk-17:HerdIdentifier2297   1.577e+00  6.501e+00   0.243\n",
            "DaysInMilk-16:HerdIdentifier2297   7.369e+00  6.516e+00   1.131\n",
            "DaysInMilk-15:HerdIdentifier2297   5.404e+00  6.546e+00   0.826\n",
            "DaysInMilk-14:HerdIdentifier2297   1.442e+01  6.566e+00   2.197\n",
            "DaysInMilk-13:HerdIdentifier2297   7.094e+00  6.604e+00   1.074\n",
            "DaysInMilk-12:HerdIdentifier2297   6.059e+00  6.641e+00   0.912\n",
            "DaysInMilk-11:HerdIdentifier2297   4.546e+00  6.680e+00   0.680\n",
            "DaysInMilk-10:HerdIdentifier2297  -5.242e-01  6.725e+00  -0.078\n",
            "DaysInMilk-9:HerdIdentifier2297   -1.531e+00  6.779e+00  -0.226\n",
            "DaysInMilk-8:HerdIdentifier2297    3.118e+00  6.833e+00   0.456\n",
            "DaysInMilk-7:HerdIdentifier2297   -4.347e+00  6.890e+00  -0.631\n",
            "DaysInMilk-6:HerdIdentifier2297   -5.792e+00  6.954e+00  -0.833\n",
            "DaysInMilk-5:HerdIdentifier2297   -5.181e-01  7.024e+00  -0.074\n",
            "DaysInMilk-4:HerdIdentifier2297   -1.826e+00  7.085e+00  -0.258\n",
            "DaysInMilk-3:HerdIdentifier2297   -8.629e+00  7.161e+00  -1.205\n",
            "DaysInMilk-2:HerdIdentifier2297    1.467e+00  7.235e+00   0.203\n",
            "DaysInMilk-1:HerdIdentifier2297    7.829e-02  7.307e+00   0.011\n",
            "DaysInMilk1:HerdIdentifier2297     1.545e+01  7.773e+00   1.988\n",
            "DaysInMilk2:HerdIdentifier2297     1.301e+01  7.872e+00   1.653\n",
            "DaysInMilk3:HerdIdentifier2297     4.034e+00  7.961e+00   0.507\n",
            "DaysInMilk4:HerdIdentifier2297    -3.038e+00  8.055e+00  -0.377\n",
            "DaysInMilk5:HerdIdentifier2297    -1.595e+01  8.160e+00  -1.955\n",
            "DaysInMilk6:HerdIdentifier2297    -2.229e+01  8.252e+00  -2.702\n",
            "DaysInMilk7:HerdIdentifier2297    -2.962e+01  8.345e+00  -3.549\n",
            "DaysInMilk8:HerdIdentifier2297    -2.820e+01  8.457e+00  -3.335\n",
            "DaysInMilk9:HerdIdentifier2297    -3.431e+01  8.565e+00  -4.006\n",
            "DaysInMilk10:HerdIdentifier2297   -4.204e+01  8.679e+00  -4.844\n",
            "DaysInMilk11:HerdIdentifier2297   -3.775e+01  8.806e+00  -4.287\n",
            "DaysInMilk12:HerdIdentifier2297   -3.430e+01  8.902e+00  -3.853\n",
            "DaysInMilk13:HerdIdentifier2297   -3.644e+01  9.014e+00  -4.043\n",
            "DaysInMilk14:HerdIdentifier2297   -3.856e+01  9.123e+00  -4.227\n",
            "DaysInMilk15:HerdIdentifier2297   -3.936e+01  9.246e+00  -4.257\n",
            "DaysInMilk16:HerdIdentifier2297   -4.610e+01  9.368e+00  -4.922\n",
            "DaysInMilk17:HerdIdentifier2297   -4.672e+01  9.487e+00  -4.925\n",
            "DaysInMilk18:HerdIdentifier2297   -5.197e+01  9.606e+00  -5.410\n",
            "DaysInMilk19:HerdIdentifier2297   -6.591e+01  9.727e+00  -6.777\n",
            "DaysInMilk20:HerdIdentifier2297   -5.981e+01  9.854e+00  -6.070\n",
            "DaysInMilk21:HerdIdentifier2297   -5.242e+01  9.978e+00  -5.254\n",
            "DaysInMilk-20:HerdIdentifier2514  -3.314e+00  6.502e+00  -0.510\n",
            "DaysInMilk-19:HerdIdentifier2514   2.148e+00  6.504e+00   0.330\n",
            "DaysInMilk-18:HerdIdentifier2514   4.660e+00  6.504e+00   0.717\n",
            "DaysInMilk-17:HerdIdentifier2514   5.072e+00  6.525e+00   0.777\n",
            "DaysInMilk-16:HerdIdentifier2514   5.155e+00  6.546e+00   0.787\n",
            "DaysInMilk-15:HerdIdentifier2514   6.836e+00  6.571e+00   1.040\n",
            "DaysInMilk-14:HerdIdentifier2514   2.872e+00  6.596e+00   0.435\n",
            "DaysInMilk-13:HerdIdentifier2514   8.036e+00  6.634e+00   1.211\n",
            "DaysInMilk-12:HerdIdentifier2514   1.391e+00  6.672e+00   0.209\n",
            "DaysInMilk-11:HerdIdentifier2514   6.662e+00  6.710e+00   0.993\n",
            "DaysInMilk-10:HerdIdentifier2514   1.919e+00  6.754e+00   0.284\n",
            "DaysInMilk-9:HerdIdentifier2514   -5.812e-01  6.804e+00  -0.085\n",
            "DaysInMilk-8:HerdIdentifier2514   -4.208e-01  6.859e+00  -0.061\n",
            "DaysInMilk-7:HerdIdentifier2514    1.646e+00  6.924e+00   0.238\n",
            "DaysInMilk-6:HerdIdentifier2514   -4.881e-01  6.989e+00  -0.070\n",
            "DaysInMilk-5:HerdIdentifier2514    3.776e+00  7.055e+00   0.535\n",
            "DaysInMilk-4:HerdIdentifier2514    2.337e+00  7.123e+00   0.328\n",
            "DaysInMilk-3:HerdIdentifier2514   -7.313e+00  7.193e+00  -1.017\n",
            "DaysInMilk-2:HerdIdentifier2514   -5.062e+00  7.275e+00  -0.696\n",
            "DaysInMilk-1:HerdIdentifier2514   -1.848e+01  7.357e+00  -2.511\n",
            "DaysInMilk1:HerdIdentifier2514    -3.184e+01  7.526e+00  -4.231\n",
            "DaysInMilk2:HerdIdentifier2514    -3.473e+01  7.619e+00  -4.559\n",
            "DaysInMilk3:HerdIdentifier2514    -3.119e+01  7.707e+00  -4.048\n",
            "DaysInMilk4:HerdIdentifier2514    -5.089e+01  7.795e+00  -6.528\n",
            "DaysInMilk5:HerdIdentifier2514    -5.600e+01  7.897e+00  -7.092\n",
            "DaysInMilk6:HerdIdentifier2514    -5.464e+01  7.996e+00  -6.833\n",
            "DaysInMilk7:HerdIdentifier2514    -5.922e+01  8.096e+00  -7.315\n",
            "DaysInMilk8:HerdIdentifier2514    -5.052e+01  8.202e+00  -6.160\n",
            "DaysInMilk9:HerdIdentifier2514    -4.536e+01  8.315e+00  -5.455\n",
            "DaysInMilk10:HerdIdentifier2514   -5.265e+01  8.424e+00  -6.250\n",
            "DaysInMilk11:HerdIdentifier2514   -4.095e+01  8.537e+00  -4.797\n",
            "DaysInMilk12:HerdIdentifier2514   -4.812e+01  8.644e+00  -5.567\n",
            "DaysInMilk13:HerdIdentifier2514   -5.549e+01  8.759e+00  -6.335\n",
            "DaysInMilk14:HerdIdentifier2514   -4.959e+01  8.872e+00  -5.589\n",
            "DaysInMilk15:HerdIdentifier2514   -4.474e+01  8.990e+00  -4.977\n",
            "DaysInMilk16:HerdIdentifier2514   -5.367e+01  9.097e+00  -5.899\n",
            "DaysInMilk17:HerdIdentifier2514   -5.153e+01  9.223e+00  -5.587\n",
            "DaysInMilk18:HerdIdentifier2514   -5.113e+01  9.355e+00  -5.466\n",
            "DaysInMilk19:HerdIdentifier2514   -5.664e+01  9.469e+00  -5.982\n",
            "DaysInMilk20:HerdIdentifier2514   -5.019e+01  9.593e+00  -5.233\n",
            "DaysInMilk21:HerdIdentifier2514   -4.837e+01  9.712e+00  -4.980\n",
            "DaysInMilk-20:HerdIdentifier2746   9.504e+00  6.231e+00   1.525\n",
            "DaysInMilk-19:HerdIdentifier2746   1.200e+01  6.246e+00   1.921\n",
            "DaysInMilk-18:HerdIdentifier2746   5.770e+00  6.225e+00   0.927\n",
            "DaysInMilk-17:HerdIdentifier2746   8.077e+00  6.257e+00   1.291\n",
            "DaysInMilk-16:HerdIdentifier2746   2.268e+00  6.262e+00   0.362\n",
            "DaysInMilk-15:HerdIdentifier2746   3.558e+00  6.285e+00   0.566\n",
            "DaysInMilk-14:HerdIdentifier2746  -8.904e-01  6.307e+00  -0.141\n",
            "DaysInMilk-13:HerdIdentifier2746  -7.083e-02  6.357e+00  -0.011\n",
            "DaysInMilk-12:HerdIdentifier2746  -8.133e+00  6.393e+00  -1.272\n",
            "DaysInMilk-11:HerdIdentifier2746   5.863e-01  6.432e+00   0.091\n",
            "DaysInMilk-10:HerdIdentifier2746  -6.197e+00  6.477e+00  -0.957\n",
            "DaysInMilk-9:HerdIdentifier2746    1.194e-01  6.507e+00   0.018\n",
            "DaysInMilk-8:HerdIdentifier2746   -1.672e+01  6.555e+00  -2.552\n",
            "DaysInMilk-7:HerdIdentifier2746   -2.671e+01  6.613e+00  -4.039\n",
            "DaysInMilk-6:HerdIdentifier2746   -3.299e+01  6.670e+00  -4.946\n",
            "DaysInMilk-5:HerdIdentifier2746   -3.294e+01  6.737e+00  -4.889\n",
            "DaysInMilk-4:HerdIdentifier2746   -4.481e+01  6.797e+00  -6.592\n",
            "DaysInMilk-3:HerdIdentifier2746   -5.033e+01  6.871e+00  -7.325\n",
            "DaysInMilk-2:HerdIdentifier2746   -4.789e+01  6.932e+00  -6.909\n",
            "DaysInMilk-1:HerdIdentifier2746   -4.765e+01  7.003e+00  -6.805\n",
            "DaysInMilk1:HerdIdentifier2746    -5.249e+01  7.421e+00  -7.073\n",
            "DaysInMilk2:HerdIdentifier2746    -7.418e+01  7.515e+00  -9.871\n",
            "DaysInMilk3:HerdIdentifier2746    -7.925e+01  7.593e+00 -10.437\n",
            "DaysInMilk4:HerdIdentifier2746    -7.513e+01  7.691e+00  -9.768\n",
            "DaysInMilk5:HerdIdentifier2746    -7.667e+01  7.784e+00  -9.850\n",
            "DaysInMilk6:HerdIdentifier2746    -8.021e+01  7.883e+00 -10.175\n",
            "DaysInMilk7:HerdIdentifier2746    -8.833e+01  7.987e+00 -11.060\n",
            "DaysInMilk8:HerdIdentifier2746    -7.954e+01  8.089e+00  -9.833\n",
            "DaysInMilk9:HerdIdentifier2746    -8.499e+01  8.190e+00 -10.377\n",
            "DaysInMilk10:HerdIdentifier2746   -1.014e+02  8.305e+00 -12.208\n",
            "DaysInMilk11:HerdIdentifier2746   -9.248e+01  8.404e+00 -11.004\n",
            "DaysInMilk12:HerdIdentifier2746   -9.425e+01  8.516e+00 -11.067\n",
            "DaysInMilk13:HerdIdentifier2746   -9.159e+01  8.630e+00 -10.613\n",
            "DaysInMilk14:HerdIdentifier2746   -8.830e+01  8.750e+00 -10.091\n",
            "DaysInMilk15:HerdIdentifier2746   -8.737e+01  8.863e+00  -9.858\n",
            "DaysInMilk16:HerdIdentifier2746   -8.071e+01  8.984e+00  -8.984\n",
            "DaysInMilk17:HerdIdentifier2746   -7.656e+01  9.099e+00  -8.414\n",
            "DaysInMilk18:HerdIdentifier2746   -8.014e+01  9.217e+00  -8.694\n",
            "DaysInMilk19:HerdIdentifier2746   -8.344e+01  9.338e+00  -8.935\n",
            "DaysInMilk20:HerdIdentifier2746   -8.011e+01  9.456e+00  -8.471\n",
            "DaysInMilk21:HerdIdentifier2746   -7.278e+01  9.588e+00  -7.590\n",
            "DaysInMilk-20:HerdIdentifier3     -8.568e+00  6.511e+00  -1.316\n",
            "DaysInMilk-19:HerdIdentifier3     -8.601e-01  6.515e+00  -0.132\n",
            "DaysInMilk-18:HerdIdentifier3     -1.382e+00  6.527e+00  -0.212\n",
            "DaysInMilk-17:HerdIdentifier3     -9.398e-01  6.540e+00  -0.144\n",
            "DaysInMilk-16:HerdIdentifier3     -1.418e+00  6.562e+00  -0.216\n",
            "DaysInMilk-15:HerdIdentifier3      1.693e+00  6.587e+00   0.257\n",
            "DaysInMilk-14:HerdIdentifier3     -6.652e+00  6.615e+00  -1.006\n",
            "DaysInMilk-13:HerdIdentifier3     -1.057e+01  6.649e+00  -1.590\n",
            "DaysInMilk-12:HerdIdentifier3     -1.419e+01  6.678e+00  -2.125\n",
            "DaysInMilk-11:HerdIdentifier3     -5.530e+00  6.713e+00  -0.824\n",
            "DaysInMilk-10:HerdIdentifier3     -8.119e+00  6.761e+00  -1.201\n",
            "DaysInMilk-9:HerdIdentifier3      -3.978e+00  6.811e+00  -0.584\n",
            "DaysInMilk-8:HerdIdentifier3      -5.057e+00  6.859e+00  -0.737\n",
            "DaysInMilk-7:HerdIdentifier3      -9.223e-01  6.923e+00  -0.133\n",
            "DaysInMilk-6:HerdIdentifier3      -1.730e+01  6.978e+00  -2.480\n",
            "DaysInMilk-5:HerdIdentifier3      -7.334e+00  7.044e+00  -1.041\n",
            "DaysInMilk-4:HerdIdentifier3      -8.109e+00  7.110e+00  -1.140\n",
            "DaysInMilk-3:HerdIdentifier3      -2.063e+01  7.181e+00  -2.873\n",
            "DaysInMilk-2:HerdIdentifier3      -2.166e+01  7.261e+00  -2.984\n",
            "DaysInMilk-1:HerdIdentifier3      -1.971e+01  7.339e+00  -2.686\n",
            "DaysInMilk1:HerdIdentifier3       -3.422e+01  7.738e+00  -4.422\n",
            "DaysInMilk2:HerdIdentifier3       -2.404e+01  7.827e+00  -3.071\n",
            "DaysInMilk3:HerdIdentifier3       -4.054e+01  7.923e+00  -5.117\n",
            "DaysInMilk4:HerdIdentifier3       -5.191e+01  8.010e+00  -6.480\n",
            "DaysInMilk5:HerdIdentifier3       -5.247e+01  8.118e+00  -6.463\n",
            "DaysInMilk6:HerdIdentifier3       -4.533e+01  8.215e+00  -5.517\n",
            "DaysInMilk7:HerdIdentifier3       -5.023e+01  8.319e+00  -6.037\n",
            "DaysInMilk8:HerdIdentifier3       -4.752e+01  8.424e+00  -5.641\n",
            "DaysInMilk9:HerdIdentifier3       -5.339e+01  8.530e+00  -6.260\n",
            "DaysInMilk10:HerdIdentifier3      -5.994e+01  8.645e+00  -6.934\n",
            "DaysInMilk11:HerdIdentifier3      -5.279e+01  8.758e+00  -6.028\n",
            "DaysInMilk12:HerdIdentifier3      -5.322e+01  8.867e+00  -6.002\n",
            "DaysInMilk13:HerdIdentifier3      -5.605e+01  8.988e+00  -6.237\n",
            "DaysInMilk14:HerdIdentifier3      -6.259e+01  9.102e+00  -6.876\n",
            "DaysInMilk15:HerdIdentifier3      -5.081e+01  9.230e+00  -5.505\n",
            "DaysInMilk16:HerdIdentifier3      -5.673e+01  9.352e+00  -6.067\n",
            "DaysInMilk17:HerdIdentifier3      -6.003e+01  9.475e+00  -6.335\n",
            "DaysInMilk18:HerdIdentifier3      -5.790e+01  9.588e+00  -6.039\n",
            "DaysInMilk19:HerdIdentifier3      -7.048e+01  9.709e+00  -7.259\n",
            "DaysInMilk20:HerdIdentifier3      -6.756e+01  9.836e+00  -6.869\n",
            "DaysInMilk21:HerdIdentifier3      -6.080e+01  9.968e+00  -6.099\n",
            "DaysInMilk-20:HerdIdentifier3314   3.347e-01  6.770e+00   0.049\n",
            "DaysInMilk-19:HerdIdentifier3314   8.084e+00  6.774e+00   1.193\n",
            "DaysInMilk-18:HerdIdentifier3314   2.328e+00  6.787e+00   0.343\n",
            "DaysInMilk-17:HerdIdentifier3314   5.656e+00  6.800e+00   0.832\n",
            "DaysInMilk-16:HerdIdentifier3314   2.853e+00  6.823e+00   0.418\n",
            "DaysInMilk-15:HerdIdentifier3314   4.784e+00  6.844e+00   0.699\n",
            "DaysInMilk-14:HerdIdentifier3314   6.258e+00  6.877e+00   0.910\n",
            "DaysInMilk-13:HerdIdentifier3314   3.718e+00  6.914e+00   0.538\n",
            "DaysInMilk-12:HerdIdentifier3314   8.208e+00  6.959e+00   1.179\n",
            "DaysInMilk-11:HerdIdentifier3314   1.136e+01  7.014e+00   1.620\n",
            "DaysInMilk-10:HerdIdentifier3314   1.074e+01  7.056e+00   1.522\n",
            "DaysInMilk-9:HerdIdentifier3314    1.109e+01  7.103e+00   1.562\n",
            "DaysInMilk-8:HerdIdentifier3314    1.606e+01  7.162e+00   2.243\n",
            "DaysInMilk-7:HerdIdentifier3314    1.740e+01  7.231e+00   2.407\n",
            "DaysInMilk-6:HerdIdentifier3314    1.580e+01  7.295e+00   2.166\n",
            "DaysInMilk-5:HerdIdentifier3314    1.593e+01  7.364e+00   2.164\n",
            "DaysInMilk-4:HerdIdentifier3314    1.802e+01  7.436e+00   2.423\n",
            "DaysInMilk-3:HerdIdentifier3314    2.177e+01  7.512e+00   2.898\n",
            "DaysInMilk-2:HerdIdentifier3314    1.582e+01  7.598e+00   2.082\n",
            "DaysInMilk-1:HerdIdentifier3314    2.802e+01  7.677e+00   3.650\n",
            "DaysInMilk1:HerdIdentifier3314     8.213e+00  8.035e+00   1.022\n",
            "DaysInMilk2:HerdIdentifier3314    -1.120e+01  8.126e+00  -1.378\n",
            "DaysInMilk3:HerdIdentifier3314    -2.783e+01  8.216e+00  -3.387\n",
            "DaysInMilk4:HerdIdentifier3314    -3.412e+01  8.327e+00  -4.098\n",
            "DaysInMilk5:HerdIdentifier3314    -3.428e+01  8.431e+00  -4.067\n",
            "DaysInMilk6:HerdIdentifier3314    -3.455e+01  8.542e+00  -4.044\n",
            "DaysInMilk7:HerdIdentifier3314    -4.059e+01  8.647e+00  -4.694\n",
            "DaysInMilk8:HerdIdentifier3314    -4.232e+01  8.756e+00  -4.833\n",
            "DaysInMilk9:HerdIdentifier3314    -4.244e+01  8.867e+00  -4.787\n",
            "DaysInMilk10:HerdIdentifier3314   -4.618e+01  8.989e+00  -5.137\n",
            "DaysInMilk11:HerdIdentifier3314   -4.935e+01  9.116e+00  -5.414\n",
            "DaysInMilk12:HerdIdentifier3314   -4.526e+01  9.235e+00  -4.901\n",
            "DaysInMilk13:HerdIdentifier3314   -5.442e+01  9.352e+00  -5.819\n",
            "DaysInMilk14:HerdIdentifier3314   -5.094e+01  9.480e+00  -5.374\n",
            "DaysInMilk15:HerdIdentifier3314   -4.801e+01  9.600e+00  -5.001\n",
            "DaysInMilk16:HerdIdentifier3314   -5.468e+01  9.726e+00  -5.622\n",
            "DaysInMilk17:HerdIdentifier3314   -4.848e+01  9.856e+00  -4.919\n",
            "DaysInMilk18:HerdIdentifier3314   -5.633e+01  9.985e+00  -5.641\n",
            "DaysInMilk19:HerdIdentifier3314   -5.571e+01  1.011e+01  -5.509\n",
            "DaysInMilk20:HerdIdentifier3314   -5.873e+01  1.024e+01  -5.733\n",
            "DaysInMilk21:HerdIdentifier3314   -4.800e+01  1.038e+01  -4.624\n",
            "DaysInMilk-20:HerdIdentifier544    4.018e+00  6.069e+00   0.662\n",
            "DaysInMilk-19:HerdIdentifier544    3.259e+00  6.069e+00   0.537\n",
            "DaysInMilk-18:HerdIdentifier544    5.682e+00  6.075e+00   0.935\n",
            "DaysInMilk-17:HerdIdentifier544    2.663e+00  6.088e+00   0.438\n",
            "DaysInMilk-16:HerdIdentifier544    2.149e+00  6.108e+00   0.352\n",
            "DaysInMilk-15:HerdIdentifier544    7.180e+00  6.131e+00   1.171\n",
            "DaysInMilk-14:HerdIdentifier544    7.750e+00  6.158e+00   1.259\n",
            "DaysInMilk-13:HerdIdentifier544    2.916e+00  6.190e+00   0.471\n",
            "DaysInMilk-12:HerdIdentifier544    7.513e+00  6.227e+00   1.206\n",
            "DaysInMilk-11:HerdIdentifier544    6.110e+00  6.264e+00   0.975\n",
            "DaysInMilk-10:HerdIdentifier544    3.109e+00  6.303e+00   0.493\n",
            "DaysInMilk-9:HerdIdentifier544     1.147e+01  6.350e+00   1.807\n",
            "DaysInMilk-8:HerdIdentifier544     1.395e+01  6.397e+00   2.181\n",
            "DaysInMilk-7:HerdIdentifier544     1.129e+01  6.454e+00   1.749\n",
            "DaysInMilk-6:HerdIdentifier544     1.684e+01  6.509e+00   2.587\n",
            "DaysInMilk-5:HerdIdentifier544     1.959e+01  6.573e+00   2.980\n",
            "DaysInMilk-4:HerdIdentifier544     1.572e+01  6.634e+00   2.369\n",
            "DaysInMilk-3:HerdIdentifier544     2.111e+01  6.702e+00   3.149\n",
            "DaysInMilk-2:HerdIdentifier544     1.988e+01  6.774e+00   2.934\n",
            "DaysInMilk-1:HerdIdentifier544     2.553e+01  6.847e+00   3.728\n",
            "DaysInMilk1:HerdIdentifier544      2.273e+01  7.193e+00   3.159\n",
            "DaysInMilk2:HerdIdentifier544      7.383e+00  7.276e+00   1.015\n",
            "DaysInMilk3:HerdIdentifier544     -1.000e+01  7.355e+00  -1.360\n",
            "DaysInMilk4:HerdIdentifier544     -2.342e+01  7.443e+00  -3.147\n",
            "DaysInMilk5:HerdIdentifier544     -2.940e+01  7.534e+00  -3.902\n",
            "DaysInMilk6:HerdIdentifier544     -3.088e+01  7.626e+00  -4.049\n",
            "DaysInMilk7:HerdIdentifier544     -3.642e+01  7.721e+00  -4.716\n",
            "DaysInMilk8:HerdIdentifier544     -3.463e+01  7.814e+00  -4.432\n",
            "DaysInMilk9:HerdIdentifier544     -3.644e+01  7.912e+00  -4.606\n",
            "DaysInMilk10:HerdIdentifier544    -4.099e+01  8.014e+00  -5.115\n",
            "DaysInMilk11:HerdIdentifier544    -4.235e+01  8.115e+00  -5.219\n",
            "DaysInMilk12:HerdIdentifier544    -3.491e+01  8.220e+00  -4.247\n",
            "DaysInMilk13:HerdIdentifier544    -3.853e+01  8.327e+00  -4.627\n",
            "DaysInMilk14:HerdIdentifier544    -3.460e+01  8.435e+00  -4.102\n",
            "DaysInMilk15:HerdIdentifier544    -2.946e+01  8.550e+00  -3.445\n",
            "DaysInMilk16:HerdIdentifier544    -3.216e+01  8.663e+00  -3.713\n",
            "DaysInMilk17:HerdIdentifier544    -3.292e+01  8.776e+00  -3.752\n",
            "DaysInMilk18:HerdIdentifier544    -2.989e+01  8.887e+00  -3.363\n",
            "DaysInMilk19:HerdIdentifier544    -3.630e+01  9.002e+00  -4.032\n",
            "DaysInMilk20:HerdIdentifier544    -3.318e+01  9.120e+00  -3.638\n",
            "DaysInMilk21:HerdIdentifier544    -2.229e+01  9.242e+00  -2.412\n",
            "DaysInMilk-20:MRTQuantileHIGH MRT  2.342e+00  4.446e+00   0.527\n",
            "DaysInMilk-19:MRTQuantileHIGH MRT  6.318e+00  4.449e+00   1.420\n",
            "DaysInMilk-18:MRTQuantileHIGH MRT  7.967e+00  4.449e+00   1.791\n",
            "DaysInMilk-17:MRTQuantileHIGH MRT  3.598e+00  4.465e+00   0.806\n",
            "DaysInMilk-16:MRTQuantileHIGH MRT  1.076e+00  4.476e+00   0.240\n",
            "DaysInMilk-15:MRTQuantileHIGH MRT -1.678e-01  4.495e+00  -0.037\n",
            "DaysInMilk-14:MRTQuantileHIGH MRT  3.540e+00  4.513e+00   0.784\n",
            "DaysInMilk-13:MRTQuantileHIGH MRT  2.638e+00  4.540e+00   0.581\n",
            "DaysInMilk-12:MRTQuantileHIGH MRT  4.270e+00  4.565e+00   0.935\n",
            "DaysInMilk-11:MRTQuantileHIGH MRT  5.366e+00  4.592e+00   1.168\n",
            "DaysInMilk-10:MRTQuantileHIGH MRT  5.503e+00  4.622e+00   1.191\n",
            "DaysInMilk-9:MRTQuantileHIGH MRT   2.474e+00  4.654e+00   0.531\n",
            "DaysInMilk-8:MRTQuantileHIGH MRT   2.727e+00  4.693e+00   0.581\n",
            "DaysInMilk-7:MRTQuantileHIGH MRT   1.941e+00  4.735e+00   0.410\n",
            "DaysInMilk-6:MRTQuantileHIGH MRT  -2.471e+00  4.776e+00  -0.517\n",
            "DaysInMilk-5:MRTQuantileHIGH MRT  -7.878e-01  4.825e+00  -0.163\n",
            "DaysInMilk-4:MRTQuantileHIGH MRT   3.239e+00  4.869e+00   0.665\n",
            "DaysInMilk-3:MRTQuantileHIGH MRT  -1.043e-03  4.918e+00   0.000\n",
            "DaysInMilk-2:MRTQuantileHIGH MRT  -2.906e+00  4.971e+00  -0.585\n",
            "DaysInMilk-1:MRTQuantileHIGH MRT  -6.895e+00  5.024e+00  -1.372\n",
            "DaysInMilk1:MRTQuantileHIGH MRT    6.620e+00  5.289e+00   1.252\n",
            "DaysInMilk2:MRTQuantileHIGH MRT    1.398e+01  5.354e+00   2.612\n",
            "DaysInMilk3:MRTQuantileHIGH MRT    1.821e+01  5.414e+00   3.364\n",
            "DaysInMilk4:MRTQuantileHIGH MRT    1.502e+01  5.481e+00   2.740\n",
            "DaysInMilk5:MRTQuantileHIGH MRT    9.753e+00  5.551e+00   1.757\n",
            "DaysInMilk6:MRTQuantileHIGH MRT    1.657e+01  5.619e+00   2.949\n",
            "DaysInMilk7:MRTQuantileHIGH MRT    1.349e+01  5.689e+00   2.371\n",
            "DaysInMilk8:MRTQuantileHIGH MRT    7.014e+00  5.763e+00   1.217\n",
            "DaysInMilk9:MRTQuantileHIGH MRT    1.021e+01  5.838e+00   1.749\n",
            "DaysInMilk10:MRTQuantileHIGH MRT   1.103e+01  5.914e+00   1.864\n",
            "DaysInMilk11:MRTQuantileHIGH MRT   9.587e+00  5.993e+00   1.600\n",
            "DaysInMilk12:MRTQuantileHIGH MRT   1.312e+01  6.069e+00   2.162\n",
            "DaysInMilk13:MRTQuantileHIGH MRT   1.133e+01  6.148e+00   1.843\n",
            "DaysInMilk14:MRTQuantileHIGH MRT   1.579e+01  6.226e+00   2.536\n",
            "DaysInMilk15:MRTQuantileHIGH MRT   1.111e+01  6.310e+00   1.761\n",
            "DaysInMilk16:MRTQuantileHIGH MRT   1.426e+01  6.391e+00   2.231\n",
            "DaysInMilk17:MRTQuantileHIGH MRT   1.128e+01  6.477e+00   1.742\n",
            "DaysInMilk18:MRTQuantileHIGH MRT   9.765e+00  6.558e+00   1.489\n",
            "DaysInMilk19:MRTQuantileHIGH MRT   1.145e+01  6.643e+00   1.723\n",
            "DaysInMilk20:MRTQuantileHIGH MRT   1.230e+01  6.729e+00   1.828\n",
            "DaysInMilk21:MRTQuantileHIGH MRT   8.447e+00  6.818e+00   1.239\n",
            "DaysInMilk-20:MRTQuantileMED MRT   3.062e+00  4.494e+00   0.681\n",
            "DaysInMilk-19:MRTQuantileMED MRT   1.003e+01  4.499e+00   2.230\n",
            "DaysInMilk-18:MRTQuantileMED MRT   4.729e+00  4.496e+00   1.052\n",
            "DaysInMilk-17:MRTQuantileMED MRT   8.391e+00  4.512e+00   1.860\n",
            "DaysInMilk-16:MRTQuantileMED MRT   2.903e+00  4.524e+00   0.642\n",
            "DaysInMilk-15:MRTQuantileMED MRT   5.717e+00  4.540e+00   1.259\n",
            "DaysInMilk-14:MRTQuantileMED MRT   4.613e+00  4.559e+00   1.012\n",
            "DaysInMilk-13:MRTQuantileMED MRT   2.654e+00  4.587e+00   0.579\n",
            "DaysInMilk-12:MRTQuantileMED MRT   4.379e+00  4.614e+00   0.949\n",
            "DaysInMilk-11:MRTQuantileMED MRT   4.335e+00  4.640e+00   0.934\n",
            "DaysInMilk-10:MRTQuantileMED MRT   4.734e+00  4.674e+00   1.013\n",
            "DaysInMilk-9:MRTQuantileMED MRT    4.384e+00  4.705e+00   0.932\n",
            "DaysInMilk-8:MRTQuantileMED MRT    6.452e+00  4.739e+00   1.361\n",
            "DaysInMilk-7:MRTQuantileMED MRT    3.166e+00  4.783e+00   0.662\n",
            "DaysInMilk-6:MRTQuantileMED MRT    4.404e+00  4.824e+00   0.913\n",
            "DaysInMilk-5:MRTQuantileMED MRT    3.059e+00  4.872e+00   0.628\n",
            "DaysInMilk-4:MRTQuantileMED MRT    6.674e+00  4.918e+00   1.357\n",
            "DaysInMilk-3:MRTQuantileMED MRT    2.430e+00  4.968e+00   0.489\n",
            "DaysInMilk-2:MRTQuantileMED MRT    7.385e+00  5.021e+00   1.471\n",
            "DaysInMilk-1:MRTQuantileMED MRT    4.572e+00  5.074e+00   0.901\n",
            "DaysInMilk1:MRTQuantileMED MRT     1.254e+01  5.356e+00   2.341\n",
            "DaysInMilk2:MRTQuantileMED MRT     1.839e+01  5.419e+00   3.394\n",
            "DaysInMilk3:MRTQuantileMED MRT     1.629e+01  5.478e+00   2.974\n",
            "DaysInMilk4:MRTQuantileMED MRT     1.590e+01  5.542e+00   2.870\n",
            "DaysInMilk5:MRTQuantileMED MRT     1.162e+01  5.610e+00   2.072\n",
            "DaysInMilk6:MRTQuantileMED MRT     1.797e+01  5.678e+00   3.166\n",
            "DaysInMilk7:MRTQuantileMED MRT     1.202e+01  5.749e+00   2.090\n",
            "DaysInMilk8:MRTQuantileMED MRT     1.205e+01  5.821e+00   2.070\n",
            "DaysInMilk9:MRTQuantileMED MRT     1.340e+01  5.897e+00   2.272\n",
            "DaysInMilk10:MRTQuantileMED MRT    1.074e+01  5.974e+00   1.798\n",
            "DaysInMilk11:MRTQuantileMED MRT    1.471e+01  6.053e+00   2.430\n",
            "DaysInMilk12:MRTQuantileMED MRT    1.147e+01  6.129e+00   1.871\n",
            "DaysInMilk13:MRTQuantileMED MRT    9.024e+00  6.209e+00   1.453\n",
            "DaysInMilk14:MRTQuantileMED MRT    1.367e+01  6.288e+00   2.174\n",
            "DaysInMilk15:MRTQuantileMED MRT    1.387e+01  6.373e+00   2.176\n",
            "DaysInMilk16:MRTQuantileMED MRT    1.490e+01  6.455e+00   2.308\n",
            "DaysInMilk17:MRTQuantileMED MRT    1.036e+01  6.540e+00   1.585\n",
            "DaysInMilk18:MRTQuantileMED MRT    9.972e+00  6.625e+00   1.505\n",
            "DaysInMilk19:MRTQuantileMED MRT    1.320e+01  6.709e+00   1.967\n",
            "DaysInMilk20:MRTQuantileMED MRT    1.486e+01  6.798e+00   2.186\n",
            "DaysInMilk21:MRTQuantileMED MRT    1.114e+01  6.887e+00   1.617\n"
          ]
        },
        {
          "output_type": "stream",
          "name": "stderr",
          "text": [
            "WARNING:rpy2.rinterface_lib.callbacks:R[write to console]: \n",
            "Correlation matrix not shown by default, as p = 546 > 12.\n",
            "Use print(object, correlation=TRUE)  or\n",
            "    vcov(object)        if you need it\n",
            "\n",
            "\n"
          ]
        },
        {
          "output_type": "stream",
          "name": "stdout",
          "text": [
            "optimizer (nloptwrap) convergence code: 0 (OK)\n",
            "Model failed to converge with max|grad| = 0.359135 (tol = 0.002, component 1)\n",
            "Model is nearly unidentifiable: very large eigenvalue\n",
            " - Rescale variables?\n",
            "\n"
          ]
        }
      ]
    },
    {
      "cell_type": "code",
      "execution_count": null,
      "metadata": {
        "id": "0iqNi254rGC1",
        "colab": {
          "base_uri": "https://localhost:8080/"
        },
        "outputId": "624a5836-8c05-4613-aeda-95529a4c4b92"
      },
      "outputs": [
        {
          "output_type": "stream",
          "name": "stderr",
          "text": [
            "WARNING:rpy2.rinterface_lib.callbacks:R[write to console]: Note: D.f. calculations have been disabled because the number of observations exceeds 3000.\n",
            "To enable adjustments, add the argument 'pbkrtest.limit = 86178' (or larger)\n",
            "[or, globally, 'set emm_options(pbkrtest.limit = 86178)' or larger];\n",
            "but be warned that this may result in large computation time and memory use.\n",
            "\n",
            "WARNING:rpy2.rinterface_lib.callbacks:R[write to console]: Note: D.f. calculations have been disabled because the number of observations exceeds 3000.\n",
            "To enable adjustments, add the argument 'lmerTest.limit = 86178' (or larger)\n",
            "[or, globally, 'set emm_options(lmerTest.limit = 86178)' or larger];\n",
            "but be warned that this may result in large computation time and memory use.\n",
            "\n",
            "WARNING:rpy2.rinterface_lib.callbacks:R[write to console]: NOTE: Results may be misleading due to involvement in interactions\n",
            "\n"
          ]
        },
        {
          "output_type": "stream",
          "name": "stdout",
          "text": [
            " DaysInMilk lsmean   SE  df asymp.LCL asymp.UCL .group         \n",
            " -1            301 2.07 Inf       295       308  a             \n",
            " 10            305 2.26 Inf       297       312  ab            \n",
            " 5             305 2.19 Inf       298       312  abc           \n",
            " 6             305 2.20 Inf       298       312  abc           \n",
            " -2            306 2.07 Inf       299       312  abcd          \n",
            " 7             306 2.21 Inf       299       313  abcd          \n",
            " 9             308 2.24 Inf       300       315  abcde         \n",
            " 8             308 2.23 Inf       300       315  abcde         \n",
            " 11            308 2.28 Inf       301       315  abcde         \n",
            " 12            308 2.30 Inf       301       316  abcde         \n",
            " 4             309 2.18 Inf       302       316  abcde         \n",
            " -3            309 2.07 Inf       303       316  abcde         \n",
            " 2             311 2.16 Inf       304       318   bcde         \n",
            " 13            311 2.32 Inf       303       318   bcde         \n",
            " -4            312 2.07 Inf       305       318   bcde         \n",
            " 14            312 2.34 Inf       304       319   bcdef        \n",
            " 3             312 2.17 Inf       305       319   bcde         \n",
            " 16            313 2.39 Inf       305       321   bcdefg       \n",
            " 17            313 2.41 Inf       305       321   bcdefg       \n",
            " 15            314 2.36 Inf       306       321    cdefg       \n",
            " 1             314 2.16 Inf       307       321    cdefg       \n",
            " 19            314 2.46 Inf       306       322    cdefg       \n",
            " 20            315 2.49 Inf       307       323     defgh      \n",
            " 18            315 2.44 Inf       308       323      efgh      \n",
            " -6            316 2.08 Inf       309       322      efg       \n",
            " -5            316 2.08 Inf       310       323      efg       \n",
            " 21            316 2.52 Inf       308       325      efghi     \n",
            " -7            321 2.09 Inf       314       328       fghij    \n",
            " -8            322 2.09 Inf       315       329        ghijk   \n",
            " -9            325 2.10 Inf       318       332         hijkl  \n",
            " -11           325 2.13 Inf       318       332         hijkl  \n",
            " -10           327 2.12 Inf       320       333          ijklm \n",
            " -12           327 2.14 Inf       321       334          ijklmn\n",
            " -13           328 2.16 Inf       321       335           jklmn\n",
            " -14           330 2.17 Inf       323       337            klmn\n",
            " -16           331 2.20 Inf       323       338             lmn\n",
            " -18           331 2.24 Inf       324       339             lmn\n",
            " -15           332 2.19 Inf       325       339             lmn\n",
            " -19           334 2.27 Inf       327       341              mn\n",
            " -21           334 2.32 Inf       327       342              mn\n",
            " -20           334 2.29 Inf       327       341              mn\n",
            " -17           335 2.23 Inf       328       342               n\n",
            "\n",
            "Results are averaged over the levels of: CalvingSeason, Parity, HerdIdentifier, MRTQuantile \n",
            "Degrees-of-freedom method: asymptotic \n",
            "Confidence level used: 0.95 \n",
            "Conf-level adjustment: sidak method for 42 estimates \n",
            "P value adjustment: sidak method for 861 tests \n",
            "significance level used: alpha = 0.05 \n",
            "NOTE: If two or more means share the same grouping symbol,\n",
            "      then we cannot show them to be different.\n",
            "      But we also did not show them to be the same. \n"
          ]
        }
      ],
      "source": [
        "%%R\n",
        "multcomp::cld(lsmeans::lsmeans(finalModel, ~ DaysInMilk), alpha=0.05, Letters=letters, adjust=\"sidak\")"
      ]
    },
    {
      "cell_type": "code",
      "execution_count": null,
      "metadata": {
        "id": "4Yyx-9gQgIUo",
        "colab": {
          "base_uri": "https://localhost:8080/"
        },
        "outputId": "e309cd84-d9d9-478a-ce16-a487638b4220"
      },
      "outputs": [
        {
          "output_type": "stream",
          "name": "stderr",
          "text": [
            "WARNING:rpy2.rinterface_lib.callbacks:R[write to console]: Note: D.f. calculations have been disabled because the number of observations exceeds 3000.\n",
            "To enable adjustments, add the argument 'pbkrtest.limit = 86178' (or larger)\n",
            "[or, globally, 'set emm_options(pbkrtest.limit = 86178)' or larger];\n",
            "but be warned that this may result in large computation time and memory use.\n",
            "\n",
            "WARNING:rpy2.rinterface_lib.callbacks:R[write to console]: Note: D.f. calculations have been disabled because the number of observations exceeds 3000.\n",
            "To enable adjustments, add the argument 'lmerTest.limit = 86178' (or larger)\n",
            "[or, globally, 'set emm_options(lmerTest.limit = 86178)' or larger];\n",
            "but be warned that this may result in large computation time and memory use.\n",
            "\n",
            "WARNING:rpy2.rinterface_lib.callbacks:R[write to console]: NOTE: Results may be misleading due to involvement in interactions\n",
            "\n"
          ]
        },
        {
          "output_type": "stream",
          "name": "stdout",
          "text": [
            " Parity lsmean   SE  df asymp.LCL asymp.UCL .group\n",
            " 3+        289 1.69 Inf       285       293  a    \n",
            " 2         345 2.46 Inf       340       351   b   \n",
            "\n",
            "Results are averaged over the levels of: DaysInMilk, CalvingSeason, HerdIdentifier, MRTQuantile \n",
            "Degrees-of-freedom method: asymptotic \n",
            "Confidence level used: 0.95 \n",
            "Conf-level adjustment: sidak method for 2 estimates \n",
            "significance level used: alpha = 0.05 \n",
            "NOTE: If two or more means share the same grouping symbol,\n",
            "      then we cannot show them to be different.\n",
            "      But we also did not show them to be the same. \n"
          ]
        }
      ],
      "source": [
        "%%R\n",
        "multcomp::cld(lsmeans::lsmeans(finalModel, ~ Parity), alpha=0.05, Letters=letters, adjust=\"sidak\")"
      ]
    },
    {
      "cell_type": "code",
      "execution_count": null,
      "metadata": {
        "id": "7F-RZM29gLY0",
        "colab": {
          "base_uri": "https://localhost:8080/"
        },
        "outputId": "7e4d721c-6ccf-4f31-de77-d27e39f54887"
      },
      "outputs": [
        {
          "output_type": "stream",
          "name": "stderr",
          "text": [
            "WARNING:rpy2.rinterface_lib.callbacks:R[write to console]: Note: D.f. calculations have been disabled because the number of observations exceeds 3000.\n",
            "To enable adjustments, add the argument 'pbkrtest.limit = 86178' (or larger)\n",
            "[or, globally, 'set emm_options(pbkrtest.limit = 86178)' or larger];\n",
            "but be warned that this may result in large computation time and memory use.\n",
            "\n",
            "WARNING:rpy2.rinterface_lib.callbacks:R[write to console]: Note: D.f. calculations have been disabled because the number of observations exceeds 3000.\n",
            "To enable adjustments, add the argument 'lmerTest.limit = 86178' (or larger)\n",
            "[or, globally, 'set emm_options(lmerTest.limit = 86178)' or larger];\n",
            "but be warned that this may result in large computation time and memory use.\n",
            "\n",
            "WARNING:rpy2.rinterface_lib.callbacks:R[write to console]: NOTE: Results may be misleading due to involvement in interactions\n",
            "\n"
          ]
        },
        {
          "output_type": "stream",
          "name": "stdout",
          "text": [
            " HerdIdentifier lsmean   SE  df asymp.LCL asymp.UCL .group\n",
            " 3314              289 4.24 Inf       277       300  a    \n",
            " 2514              298 3.90 Inf       287       308  a    \n",
            " 2011              301 2.87 Inf       293       308  ab   \n",
            " 2297              314 3.92 Inf       304       325   bc  \n",
            " 2746              329 3.65 Inf       319       339    cd \n",
            " 3                 344 3.94 Inf       333       354     de\n",
            " 544               346 3.57 Inf       336       355      e\n",
            "\n",
            "Results are averaged over the levels of: DaysInMilk, CalvingSeason, Parity, MRTQuantile \n",
            "Degrees-of-freedom method: asymptotic \n",
            "Confidence level used: 0.95 \n",
            "Conf-level adjustment: sidak method for 7 estimates \n",
            "P value adjustment: sidak method for 21 tests \n",
            "significance level used: alpha = 0.05 \n",
            "NOTE: If two or more means share the same grouping symbol,\n",
            "      then we cannot show them to be different.\n",
            "      But we also did not show them to be the same. \n"
          ]
        }
      ],
      "source": [
        "%%R\n",
        "multcomp::cld(lsmeans::lsmeans(finalModel, ~ HerdIdentifier), alpha=0.05, Letters=letters, adjust=\"sidak\")"
      ]
    },
    {
      "cell_type": "code",
      "execution_count": null,
      "metadata": {
        "id": "JDnugQdn6Lx2",
        "colab": {
          "base_uri": "https://localhost:8080/"
        },
        "outputId": "eed4cdd1-77de-4fd2-c6d6-f600e9cea2b0"
      },
      "outputs": [
        {
          "output_type": "stream",
          "name": "stderr",
          "text": [
            "WARNING:rpy2.rinterface_lib.callbacks:R[write to console]: Note: D.f. calculations have been disabled because the number of observations exceeds 3000.\n",
            "To enable adjustments, add the argument 'pbkrtest.limit = 86178' (or larger)\n",
            "[or, globally, 'set emm_options(pbkrtest.limit = 86178)' or larger];\n",
            "but be warned that this may result in large computation time and memory use.\n",
            "\n",
            "WARNING:rpy2.rinterface_lib.callbacks:R[write to console]: Note: D.f. calculations have been disabled because the number of observations exceeds 3000.\n",
            "To enable adjustments, add the argument 'lmerTest.limit = 86178' (or larger)\n",
            "[or, globally, 'set emm_options(lmerTest.limit = 86178)' or larger];\n",
            "but be warned that this may result in large computation time and memory use.\n",
            "\n",
            "WARNING:rpy2.rinterface_lib.callbacks:R[write to console]: NOTE: Results may be misleading due to involvement in interactions\n",
            "\n"
          ]
        },
        {
          "output_type": "stream",
          "name": "stdout",
          "text": [
            " MRTQuantile lsmean   SE  df asymp.LCL asymp.UCL .group\n",
            " LOW MRT        311 2.43 Inf       305       317  a    \n",
            " MED MRT        320 2.49 Inf       314       326   b   \n",
            " HIGH MRT       321 2.42 Inf       315       327   b   \n",
            "\n",
            "Results are averaged over the levels of: DaysInMilk, CalvingSeason, Parity, HerdIdentifier \n",
            "Degrees-of-freedom method: asymptotic \n",
            "Confidence level used: 0.95 \n",
            "Conf-level adjustment: sidak method for 3 estimates \n",
            "P value adjustment: sidak method for 3 tests \n",
            "significance level used: alpha = 0.05 \n",
            "NOTE: If two or more means share the same grouping symbol,\n",
            "      then we cannot show them to be different.\n",
            "      But we also did not show them to be the same. \n"
          ]
        }
      ],
      "source": [
        "%%R\n",
        "multcomp::cld(lsmeans::lsmeans(finalModel, ~ MRTQuantile), alpha=0.05, Letters=letters, adjust=\"sidak\")"
      ]
    },
    {
      "cell_type": "markdown",
      "metadata": {
        "id": "duGZylmVgTAP"
      },
      "source": [
        "## Interactions"
      ]
    },
    {
      "cell_type": "markdown",
      "metadata": {
        "id": "bjo6rxOpgeIH"
      },
      "source": [
        "### DaysInMilk by MRTQuantile"
      ]
    },
    {
      "cell_type": "code",
      "execution_count": null,
      "metadata": {
        "id": "lpz5av826k14",
        "colab": {
          "base_uri": "https://localhost:8080/"
        },
        "outputId": "3c3441a9-8231-41c7-d1eb-045ae3b36ce0"
      },
      "outputs": [
        {
          "output_type": "stream",
          "name": "stderr",
          "text": [
            "WARNING:rpy2.rinterface_lib.callbacks:R[write to console]: Note: D.f. calculations have been disabled because the number of observations exceeds 3000.\n",
            "To enable adjustments, add the argument 'pbkrtest.limit = 86178' (or larger)\n",
            "[or, globally, 'set emm_options(pbkrtest.limit = 86178)' or larger];\n",
            "but be warned that this may result in large computation time and memory use.\n",
            "\n",
            "WARNING:rpy2.rinterface_lib.callbacks:R[write to console]: Note: D.f. calculations have been disabled because the number of observations exceeds 3000.\n",
            "To enable adjustments, add the argument 'lmerTest.limit = 86178' (or larger)\n",
            "[or, globally, 'set emm_options(lmerTest.limit = 86178)' or larger];\n",
            "but be warned that this may result in large computation time and memory use.\n",
            "\n"
          ]
        },
        {
          "output_type": "stream",
          "name": "stdout",
          "text": [
            "DaysInMilk = -21:\n",
            " MRTQuantile emmean   SE  df asymp.LCL asymp.UCL .group\n",
            " MED MRT        333 3.81 Inf       324       342  a    \n",
            " LOW MRT        333 3.70 Inf       324       342  a    \n",
            " HIGH MRT       336 3.69 Inf       327       345  a    \n",
            "\n",
            "DaysInMilk = -20:\n",
            " MRTQuantile emmean   SE  df asymp.LCL asymp.UCL .group\n",
            " LOW MRT        331 3.66 Inf       323       340  a    \n",
            " MED MRT        334 3.77 Inf       325       343  a    \n",
            " HIGH MRT       337 3.65 Inf       328       345  a    \n",
            "\n",
            "DaysInMilk = -19:\n",
            " MRTQuantile emmean   SE  df asymp.LCL asymp.UCL .group\n",
            " LOW MRT        328 3.62 Inf       319       336  a    \n",
            " HIGH MRT       337 3.62 Inf       328       345  a    \n",
            " MED MRT        338 3.74 Inf       329       346  a    \n",
            "\n",
            "DaysInMilk = -18:\n",
            " MRTQuantile emmean   SE  df asymp.LCL asymp.UCL .group\n",
            " LOW MRT        326 3.58 Inf       318       335  a    \n",
            " MED MRT        331 3.69 Inf       322       340  a    \n",
            " HIGH MRT       337 3.58 Inf       328       346  a    \n",
            "\n",
            "DaysInMilk = -17:\n",
            " MRTQuantile emmean   SE  df asymp.LCL asymp.UCL .group\n",
            " LOW MRT        330 3.55 Inf       322       339  a    \n",
            " HIGH MRT       337 3.55 Inf       328       345  a    \n",
            " MED MRT        339 3.66 Inf       330       347  a    \n",
            "\n",
            "DaysInMilk = -16:\n",
            " MRTQuantile emmean   SE  df asymp.LCL asymp.UCL .group\n",
            " LOW MRT        328 3.52 Inf       320       337  a    \n",
            " MED MRT        331 3.63 Inf       322       340  a    \n",
            " HIGH MRT       332 3.51 Inf       324       341  a    \n",
            "\n",
            "DaysInMilk = -15:\n",
            " MRTQuantile emmean   SE  df asymp.LCL asymp.UCL .group\n",
            " LOW MRT        329 3.49 Inf       321       338  a    \n",
            " HIGH MRT       332 3.49 Inf       324       340  a    \n",
            " MED MRT        335 3.60 Inf       326       343  a    \n",
            "\n",
            "DaysInMilk = -14:\n",
            " MRTQuantile emmean   SE  df asymp.LCL asymp.UCL .group\n",
            " LOW MRT        326 3.46 Inf       318       335  a    \n",
            " MED MRT        331 3.57 Inf       322       339  a    \n",
            " HIGH MRT       333 3.46 Inf       325       341  a    \n",
            "\n",
            "DaysInMilk = -13:\n",
            " MRTQuantile emmean   SE  df asymp.LCL asymp.UCL .group\n",
            " LOW MRT        326 3.44 Inf       317       334  a    \n",
            " MED MRT        328 3.54 Inf       320       337  a    \n",
            " HIGH MRT       331 3.43 Inf       323       339  a    \n",
            "\n",
            "DaysInMilk = -12:\n",
            " MRTQuantile emmean   SE  df asymp.LCL asymp.UCL .group\n",
            " LOW MRT        324 3.42 Inf       315       332  a    \n",
            " MED MRT        328 3.52 Inf       320       336  a    \n",
            " HIGH MRT       331 3.41 Inf       323       339  a    \n",
            "\n",
            "DaysInMilk = -11:\n",
            " MRTQuantile emmean   SE  df asymp.LCL asymp.UCL .group\n",
            " LOW MRT        321 3.39 Inf       313       329  a    \n",
            " MED MRT        325 3.50 Inf       317       333  a    \n",
            " HIGH MRT       329 3.39 Inf       321       337  a    \n",
            "\n",
            "DaysInMilk = -10:\n",
            " MRTQuantile emmean   SE  df asymp.LCL asymp.UCL .group\n",
            " LOW MRT        322 3.38 Inf       314       330  a    \n",
            " MED MRT        327 3.48 Inf       319       335  a    \n",
            " HIGH MRT       331 3.37 Inf       323       339  a    \n",
            "\n",
            "DaysInMilk = -9:\n",
            " MRTQuantile emmean   SE  df asymp.LCL asymp.UCL .group\n",
            " LOW MRT        321 3.36 Inf       313       330  a    \n",
            " MED MRT        326 3.46 Inf       318       334  a    \n",
            " HIGH MRT       327 3.35 Inf       319       335  a    \n",
            "\n",
            "DaysInMilk = -8:\n",
            " MRTQuantile emmean   SE  df asymp.LCL asymp.UCL .group\n",
            " LOW MRT        318 3.34 Inf       310       326  a    \n",
            " HIGH MRT       324 3.34 Inf       316       332  a    \n",
            " MED MRT        325 3.44 Inf       316       333  a    \n",
            "\n",
            "DaysInMilk = -7:\n",
            " MRTQuantile emmean   SE  df asymp.LCL asymp.UCL .group\n",
            " LOW MRT        318 3.33 Inf       310       326  a    \n",
            " MED MRT        321 3.43 Inf       313       329  a    \n",
            " HIGH MRT       323 3.33 Inf       315       331  a    \n",
            "\n",
            "DaysInMilk = -6:\n",
            " MRTQuantile emmean   SE  df asymp.LCL asymp.UCL .group\n",
            " LOW MRT        314 3.32 Inf       306       322  a    \n",
            " HIGH MRT       315 3.32 Inf       307       323  a    \n",
            " MED MRT        318 3.42 Inf       310       327  a    \n",
            "\n",
            "DaysInMilk = -5:\n",
            " MRTQuantile emmean   SE  df asymp.LCL asymp.UCL .group\n",
            " LOW MRT        315 3.32 Inf       307       323  a    \n",
            " HIGH MRT       317 3.31 Inf       309       325  a    \n",
            " MED MRT        318 3.41 Inf       310       326  a    \n",
            "\n",
            "DaysInMilk = -4:\n",
            " MRTQuantile emmean   SE  df asymp.LCL asymp.UCL .group\n",
            " LOW MRT        307 3.31 Inf       300       315  a    \n",
            " HIGH MRT       314 3.30 Inf       306       322  a    \n",
            " MED MRT        314 3.41 Inf       306       322  a    \n",
            "\n",
            "DaysInMilk = -3:\n",
            " MRTQuantile emmean   SE  df asymp.LCL asymp.UCL .group\n",
            " LOW MRT        308 3.31 Inf       300       316  a    \n",
            " MED MRT        310 3.40 Inf       302       318  a    \n",
            " HIGH MRT       311 3.30 Inf       303       319  a    \n",
            "\n",
            "DaysInMilk = -2:\n",
            " MRTQuantile emmean   SE  df asymp.LCL asymp.UCL .group\n",
            " LOW MRT        303 3.31 Inf       295       311  a    \n",
            " HIGH MRT       303 3.30 Inf       295       311  a    \n",
            " MED MRT        311 3.40 Inf       302       319  a    \n",
            "\n",
            "DaysInMilk = -1:\n",
            " MRTQuantile emmean   SE  df asymp.LCL asymp.UCL .group\n",
            " HIGH MRT       297 3.30 Inf       289       305  a    \n",
            " LOW MRT        301 3.31 Inf       293       309  a    \n",
            " MED MRT        306 3.40 Inf       298       314  a    \n",
            "\n",
            "DaysInMilk = 1:\n",
            " MRTQuantile emmean   SE  df asymp.LCL asymp.UCL .group\n",
            " LOW MRT        306 3.47 Inf       298       315  a    \n",
            " HIGH MRT       316 3.42 Inf       308       324  ab   \n",
            " MED MRT        319 3.54 Inf       310       327   b   \n",
            "\n",
            "DaysInMilk = 2:\n",
            " MRTQuantile emmean   SE  df asymp.LCL asymp.UCL .group\n",
            " LOW MRT        299 3.48 Inf       291       307  a    \n",
            " HIGH MRT       316 3.43 Inf       308       324   b   \n",
            " MED MRT        317 3.55 Inf       309       326   b   \n",
            "\n",
            "DaysInMilk = 3:\n",
            " MRTQuantile emmean   SE  df asymp.LCL asymp.UCL .group\n",
            " LOW MRT        299 3.49 Inf       291       308  a    \n",
            " MED MRT        316 3.55 Inf       307       324   b   \n",
            " HIGH MRT       321 3.44 Inf       312       329   b   \n",
            "\n",
            "DaysInMilk = 4:\n",
            " MRTQuantile emmean   SE  df asymp.LCL asymp.UCL .group\n",
            " LOW MRT        297 3.50 Inf       289       306  a    \n",
            " MED MRT        313 3.57 Inf       305       322   b   \n",
            " HIGH MRT       315 3.46 Inf       307       324   b   \n",
            "\n",
            "DaysInMilk = 5:\n",
            " MRTQuantile emmean   SE  df asymp.LCL asymp.UCL .group\n",
            " LOW MRT        297 3.52 Inf       288       305  a    \n",
            " MED MRT        308 3.59 Inf       300       317   b   \n",
            " HIGH MRT       310 3.48 Inf       301       318   b   \n",
            "\n",
            "DaysInMilk = 6:\n",
            " MRTQuantile emmean   SE  df asymp.LCL asymp.UCL .group\n",
            " LOW MRT        293 3.54 Inf       284       301  a    \n",
            " MED MRT        311 3.60 Inf       302       319   b   \n",
            " HIGH MRT       312 3.50 Inf       304       321   b   \n",
            "\n",
            "DaysInMilk = 7:\n",
            " MRTQuantile emmean   SE  df asymp.LCL asymp.UCL .group\n",
            " LOW MRT        297 3.56 Inf       288       305  a    \n",
            " MED MRT        309 3.63 Inf       300       317   b   \n",
            " HIGH MRT       313 3.52 Inf       305       321   b   \n",
            "\n",
            "DaysInMilk = 8:\n",
            " MRTQuantile emmean   SE  df asymp.LCL asymp.UCL .group\n",
            " LOW MRT        300 3.58 Inf       292       309  a    \n",
            " HIGH MRT       310 3.54 Inf       302       319  ab   \n",
            " MED MRT        312 3.65 Inf       304       321   b   \n",
            "\n",
            "DaysInMilk = 9:\n",
            " MRTQuantile emmean   SE  df asymp.LCL asymp.UCL .group\n",
            " LOW MRT        299 3.61 Inf       290       307  a    \n",
            " HIGH MRT       312 3.57 Inf       303       320   b   \n",
            " MED MRT        312 3.67 Inf       303       321   b   \n",
            "\n",
            "DaysInMilk = 10:\n",
            " MRTQuantile emmean   SE  df asymp.LCL asymp.UCL .group\n",
            " LOW MRT        296 3.64 Inf       288       305  a    \n",
            " MED MRT        307 3.70 Inf       298       316  ab   \n",
            " HIGH MRT       310 3.60 Inf       302       319   b   \n",
            "\n",
            "DaysInMilk = 11:\n",
            " MRTQuantile emmean   SE  df asymp.LCL asymp.UCL .group\n",
            " LOW MRT        299 3.67 Inf       290       308  a    \n",
            " HIGH MRT       312 3.63 Inf       303       320   b   \n",
            " MED MRT        314 3.74 Inf       305       323   b   \n",
            "\n",
            "DaysInMilk = 12:\n",
            " MRTQuantile emmean   SE  df asymp.LCL asymp.UCL .group\n",
            " LOW MRT        299 3.70 Inf       290       308  a    \n",
            " MED MRT        311 3.76 Inf       302       320  ab   \n",
            " HIGH MRT       315 3.66 Inf       307       324   b   \n",
            "\n",
            "DaysInMilk = 13:\n",
            " MRTQuantile emmean   SE  df asymp.LCL asymp.UCL .group\n",
            " LOW MRT        303 3.73 Inf       294       312  a    \n",
            " MED MRT        312 3.80 Inf       303       321  ab   \n",
            " HIGH MRT       317 3.69 Inf       309       326   b   \n",
            "\n",
            "DaysInMilk = 14:\n",
            " MRTQuantile emmean   SE  df asymp.LCL asymp.UCL .group\n",
            " LOW MRT        301 3.76 Inf       292       310  a    \n",
            " MED MRT        315 3.84 Inf       305       324   b   \n",
            " HIGH MRT       320 3.73 Inf       311       329   b   \n",
            "\n",
            "DaysInMilk = 15:\n",
            " MRTQuantile emmean   SE  df asymp.LCL asymp.UCL .group\n",
            " LOW MRT        304 3.80 Inf       295       314  a    \n",
            " MED MRT        318 3.88 Inf       309       328   b   \n",
            " HIGH MRT       319 3.76 Inf       310       328   b   \n",
            "\n",
            "DaysInMilk = 16:\n",
            " MRTQuantile emmean   SE  df asymp.LCL asymp.UCL .group\n",
            " LOW MRT        302 3.84 Inf       293       312  a    \n",
            " MED MRT        317 3.91 Inf       308       327   b   \n",
            " HIGH MRT       320 3.80 Inf       311       329   b   \n",
            "\n",
            "DaysInMilk = 17:\n",
            " MRTQuantile emmean   SE  df asymp.LCL asymp.UCL .group\n",
            " LOW MRT        305 3.88 Inf       296       314  a    \n",
            " MED MRT        315 3.95 Inf       306       325  ab   \n",
            " HIGH MRT       319 3.84 Inf       310       329   b   \n",
            "\n",
            "DaysInMilk = 18:\n",
            " MRTQuantile emmean   SE  df asymp.LCL asymp.UCL .group\n",
            " LOW MRT        308 3.92 Inf       299       317  a    \n",
            " MED MRT        318 4.00 Inf       308       327  ab   \n",
            " HIGH MRT       321 3.88 Inf       311       330   b   \n",
            "\n",
            "DaysInMilk = 19:\n",
            " MRTQuantile emmean   SE  df asymp.LCL asymp.UCL .group\n",
            " LOW MRT        305 3.96 Inf       296       314  a    \n",
            " MED MRT        318 4.04 Inf       308       328   b   \n",
            " HIGH MRT       319 3.92 Inf       310       329   b   \n",
            "\n",
            "DaysInMilk = 20:\n",
            " MRTQuantile emmean   SE  df asymp.LCL asymp.UCL .group\n",
            " LOW MRT        305 4.00 Inf       295       314  a    \n",
            " MED MRT        320 4.09 Inf       310       330   b   \n",
            " HIGH MRT       320 3.96 Inf       311       330   b   \n",
            "\n",
            "DaysInMilk = 21:\n",
            " MRTQuantile emmean   SE  df asymp.LCL asymp.UCL .group\n",
            " LOW MRT        309 4.05 Inf       299       319  a    \n",
            " MED MRT        320 4.13 Inf       310       330  a    \n",
            " HIGH MRT       320 4.01 Inf       311       330  a    \n",
            "\n",
            "Results are averaged over the levels of: CalvingSeason, Parity, HerdIdentifier \n",
            "Degrees-of-freedom method: asymptotic \n",
            "Confidence level used: 0.95 \n",
            "Conf-level adjustment: sidak method for 3 estimates \n",
            "P value adjustment: sidak method for 3 tests \n",
            "significance level used: alpha = 0.05 \n",
            "NOTE: If two or more means share the same grouping symbol,\n",
            "      then we cannot show them to be different.\n",
            "      But we also did not show them to be the same. \n"
          ]
        }
      ],
      "source": [
        "%%R\n",
        "LSMs<-lsmeans::lsmeans(finalModel, pairwise ~ MRTQuantile|DaysInMilk, type = \"response\", glhargs=list())\n",
        "multcomp::cld(LSMs[[1]], alpha=0.05, Letters=letters, adjust=\"sidak\")"
      ]
    },
    {
      "cell_type": "code",
      "execution_count": null,
      "metadata": {
        "id": "t9jwUEqfry2N",
        "colab": {
          "base_uri": "https://localhost:8080/"
        },
        "outputId": "35285f76-a19a-439d-f88d-071a44a12c7d"
      },
      "outputs": [
        {
          "output_type": "stream",
          "name": "stdout",
          "text": [
            "DaysInMilk = -21:\n",
            " contrast           estimate   SE  df asymp.LCL asymp.UCL\n",
            " LOW MRT - HIGH MRT  -2.9929 5.02 Inf    -14.75     8.766\n",
            " LOW MRT - MED MRT    0.0191 5.07 Inf    -11.85    11.892\n",
            " HIGH MRT - MED MRT   3.0121 5.12 Inf     -9.00    15.021\n",
            "\n",
            "DaysInMilk = -20:\n",
            " contrast           estimate   SE  df asymp.LCL asymp.UCL\n",
            " LOW MRT - HIGH MRT  -5.3345 4.97 Inf    -16.97     6.304\n",
            " LOW MRT - MED MRT   -3.0428 5.01 Inf    -14.79     8.704\n",
            " HIGH MRT - MED MRT   2.2917 5.07 Inf     -9.59    14.178\n",
            "\n",
            "DaysInMilk = -19:\n",
            " contrast           estimate   SE  df asymp.LCL asymp.UCL\n",
            " LOW MRT - HIGH MRT  -9.3108 4.91 Inf    -20.83     2.207\n",
            " LOW MRT - MED MRT  -10.0145 4.96 Inf    -21.65     1.617\n",
            " HIGH MRT - MED MRT  -0.7037 5.02 Inf    -12.47    11.067\n",
            "\n",
            "DaysInMilk = -18:\n",
            " contrast           estimate   SE  df asymp.LCL asymp.UCL\n",
            " LOW MRT - HIGH MRT -10.9600 4.86 Inf    -22.35     0.434\n",
            " LOW MRT - MED MRT   -4.7101 4.91 Inf    -16.21     6.788\n",
            " HIGH MRT - MED MRT   6.2500 4.97 Inf     -5.39    17.889\n",
            "\n",
            "DaysInMilk = -17:\n",
            " contrast           estimate   SE  df asymp.LCL asymp.UCL\n",
            " LOW MRT - HIGH MRT  -6.5907 4.82 Inf    -17.89     4.712\n",
            " LOW MRT - MED MRT   -8.3722 4.87 Inf    -19.78     3.031\n",
            " HIGH MRT - MED MRT  -1.7815 4.93 Inf    -13.32     9.762\n",
            "\n",
            "DaysInMilk = -16:\n",
            " contrast           estimate   SE  df asymp.LCL asymp.UCL\n",
            " LOW MRT - HIGH MRT  -4.0688 4.78 Inf    -15.27     7.129\n",
            " LOW MRT - MED MRT   -2.8842 4.82 Inf    -14.18     8.413\n",
            " HIGH MRT - MED MRT   1.1846 4.88 Inf    -10.25    12.617\n",
            "\n",
            "DaysInMilk = -15:\n",
            " contrast           estimate   SE  df asymp.LCL asymp.UCL\n",
            " LOW MRT - HIGH MRT  -2.8251 4.74 Inf    -13.93     8.284\n",
            " LOW MRT - MED MRT   -5.6976 4.78 Inf    -16.90     5.506\n",
            " HIGH MRT - MED MRT  -2.8725 4.84 Inf    -14.21     8.465\n",
            "\n",
            "DaysInMilk = -14:\n",
            " contrast           estimate   SE  df asymp.LCL asymp.UCL\n",
            " LOW MRT - HIGH MRT  -6.5329 4.70 Inf    -17.55     4.486\n",
            " LOW MRT - MED MRT   -4.5935 4.74 Inf    -15.71     6.519\n",
            " HIGH MRT - MED MRT   1.9393 4.80 Inf     -9.30    13.182\n",
            "\n",
            "DaysInMilk = -13:\n",
            " contrast           estimate   SE  df asymp.LCL asymp.UCL\n",
            " LOW MRT - HIGH MRT  -5.6314 4.67 Inf    -16.58     5.319\n",
            " LOW MRT - MED MRT   -2.6352 4.71 Inf    -13.68     8.411\n",
            " HIGH MRT - MED MRT   2.9962 4.77 Inf     -8.18    14.170\n",
            "\n",
            "DaysInMilk = -12:\n",
            " contrast           estimate   SE  df asymp.LCL asymp.UCL\n",
            " LOW MRT - HIGH MRT  -7.2629 4.64 Inf    -18.14     3.614\n",
            " LOW MRT - MED MRT   -4.3603 4.68 Inf    -15.33     6.614\n",
            " HIGH MRT - MED MRT   2.9027 4.74 Inf     -8.20    14.007\n",
            "\n",
            "DaysInMilk = -11:\n",
            " contrast           estimate   SE  df asymp.LCL asymp.UCL\n",
            " LOW MRT - HIGH MRT  -8.3587 4.61 Inf    -19.17     2.448\n",
            " LOW MRT - MED MRT   -4.3157 4.65 Inf    -15.22     6.587\n",
            " HIGH MRT - MED MRT   4.0430 4.71 Inf     -7.00    15.083\n",
            "\n",
            "DaysInMilk = -10:\n",
            " contrast           estimate   SE  df asymp.LCL asymp.UCL\n",
            " LOW MRT - HIGH MRT  -8.4961 4.58 Inf    -19.24     2.246\n",
            " LOW MRT - MED MRT   -4.7149 4.63 Inf    -15.56     6.131\n",
            " HIGH MRT - MED MRT   3.7812 4.68 Inf     -7.20    14.758\n",
            "\n",
            "DaysInMilk = -9:\n",
            " contrast           estimate   SE  df asymp.LCL asymp.UCL\n",
            " LOW MRT - HIGH MRT  -5.4665 4.56 Inf    -16.15     5.218\n",
            " LOW MRT - MED MRT   -4.3653 4.60 Inf    -15.15     6.419\n",
            " HIGH MRT - MED MRT   1.1012 4.66 Inf     -9.81    12.012\n",
            "\n",
            "DaysInMilk = -8:\n",
            " contrast           estimate   SE  df asymp.LCL asymp.UCL\n",
            " LOW MRT - HIGH MRT  -5.7204 4.54 Inf    -16.36     4.922\n",
            " LOW MRT - MED MRT   -6.4328 4.58 Inf    -17.16     4.297\n",
            " HIGH MRT - MED MRT  -0.7124 4.63 Inf    -11.58    10.150\n",
            "\n",
            "DaysInMilk = -7:\n",
            " contrast           estimate   SE  df asymp.LCL asymp.UCL\n",
            " LOW MRT - HIGH MRT  -4.9341 4.53 Inf    -15.54     5.676\n",
            " LOW MRT - MED MRT   -3.1473 4.57 Inf    -13.85     7.554\n",
            " HIGH MRT - MED MRT   1.7868 4.62 Inf     -9.04    12.614\n",
            "\n",
            "DaysInMilk = -6:\n",
            " contrast           estimate   SE  df asymp.LCL asymp.UCL\n",
            " LOW MRT - HIGH MRT  -0.5224 4.51 Inf    -11.10    10.052\n",
            " LOW MRT - MED MRT   -4.3846 4.55 Inf    -15.05     6.282\n",
            " HIGH MRT - MED MRT  -3.8622 4.61 Inf    -14.66     6.937\n",
            "\n",
            "DaysInMilk = -5:\n",
            " contrast           estimate   SE  df asymp.LCL asymp.UCL\n",
            " LOW MRT - HIGH MRT  -2.2051 4.51 Inf    -12.77     8.357\n",
            " LOW MRT - MED MRT   -3.0395 4.54 Inf    -13.69     7.609\n",
            " HIGH MRT - MED MRT  -0.8344 4.60 Inf    -11.60     9.935\n",
            "\n",
            "DaysInMilk = -4:\n",
            " contrast           estimate   SE  df asymp.LCL asymp.UCL\n",
            " LOW MRT - HIGH MRT  -6.2320 4.49 Inf    -16.76     4.299\n",
            " LOW MRT - MED MRT   -6.6553 4.53 Inf    -17.28     3.969\n",
            " HIGH MRT - MED MRT  -0.4233 4.58 Inf    -11.16    10.317\n",
            "\n",
            "DaysInMilk = -3:\n",
            " contrast           estimate   SE  df asymp.LCL asymp.UCL\n",
            " LOW MRT - HIGH MRT  -2.9919 4.49 Inf    -13.51     7.530\n",
            " LOW MRT - MED MRT   -2.4104 4.53 Inf    -13.02     8.204\n",
            " HIGH MRT - MED MRT   0.5815 4.58 Inf    -10.16    11.320\n",
            "\n",
            "DaysInMilk = -2:\n",
            " contrast           estimate   SE  df asymp.LCL asymp.UCL\n",
            " LOW MRT - HIGH MRT  -0.0865 4.49 Inf    -10.61    10.437\n",
            " LOW MRT - MED MRT   -7.3662 4.53 Inf    -17.98     3.246\n",
            " HIGH MRT - MED MRT  -7.2797 4.58 Inf    -18.01     3.452\n",
            "\n",
            "DaysInMilk = -1:\n",
            " contrast           estimate   SE  df asymp.LCL asymp.UCL\n",
            " LOW MRT - HIGH MRT   3.9020 4.49 Inf     -6.62    14.422\n",
            " LOW MRT - MED MRT   -4.5525 4.53 Inf    -15.16     6.058\n",
            " HIGH MRT - MED MRT  -8.4545 4.58 Inf    -19.19     2.276\n",
            "\n",
            "DaysInMilk = 1:\n",
            " contrast           estimate   SE  df asymp.LCL asymp.UCL\n",
            " LOW MRT - HIGH MRT  -9.6132 4.67 Inf    -20.57     1.340\n",
            " LOW MRT - MED MRT  -12.5169 4.73 Inf    -23.60    -1.431\n",
            " HIGH MRT - MED MRT  -2.9036 4.75 Inf    -14.03     8.224\n",
            "\n",
            "DaysInMilk = 2:\n",
            " contrast           estimate   SE  df asymp.LCL asymp.UCL\n",
            " LOW MRT - HIGH MRT -16.9742 4.69 Inf    -27.97    -5.980\n",
            " LOW MRT - MED MRT  -18.3733 4.75 Inf    -29.50    -7.249\n",
            " HIGH MRT - MED MRT  -1.3992 4.76 Inf    -12.56     9.764\n",
            "\n",
            "DaysInMilk = 3:\n",
            " contrast           estimate   SE  df asymp.LCL asymp.UCL\n",
            " LOW MRT - HIGH MRT -21.2062 4.71 Inf    -32.24   -10.177\n",
            " LOW MRT - MED MRT  -16.2704 4.76 Inf    -27.42    -5.121\n",
            " HIGH MRT - MED MRT   4.9358 4.78 Inf     -6.26    16.129\n",
            "\n",
            "DaysInMilk = 4:\n",
            " contrast           estimate   SE  df asymp.LCL asymp.UCL\n",
            " LOW MRT - HIGH MRT -18.0097 4.73 Inf    -29.09    -6.930\n",
            " LOW MRT - MED MRT  -15.8854 4.78 Inf    -27.08    -4.692\n",
            " HIGH MRT - MED MRT   2.1243 4.80 Inf     -9.12    13.364\n",
            "\n",
            "DaysInMilk = 5:\n",
            " contrast           estimate   SE  df asymp.LCL asymp.UCL\n",
            " LOW MRT - HIGH MRT -12.7462 4.75 Inf    -23.89    -1.603\n",
            " LOW MRT - MED MRT  -11.6036 4.80 Inf    -22.86    -0.351\n",
            " HIGH MRT - MED MRT   1.1427 4.82 Inf    -10.16    12.447\n",
            "\n",
            "DaysInMilk = 6:\n",
            " contrast           estimate   SE  df asymp.LCL asymp.UCL\n",
            " LOW MRT - HIGH MRT -19.5640 4.78 Inf    -30.77    -8.362\n",
            " LOW MRT - MED MRT  -17.9541 4.82 Inf    -29.26    -6.646\n",
            " HIGH MRT - MED MRT   1.6099 4.85 Inf     -9.76    12.976\n",
            "\n",
            "DaysInMilk = 7:\n",
            " contrast           estimate   SE  df asymp.LCL asymp.UCL\n",
            " LOW MRT - HIGH MRT -16.4811 4.81 Inf    -27.75    -5.214\n",
            " LOW MRT - MED MRT  -11.9962 4.85 Inf    -23.37    -0.618\n",
            " HIGH MRT - MED MRT   4.4849 4.88 Inf     -6.94    15.915\n",
            "\n",
            "DaysInMilk = 8:\n",
            " contrast           estimate   SE  df asymp.LCL asymp.UCL\n",
            " LOW MRT - HIGH MRT -10.0069 4.84 Inf    -21.35     1.341\n",
            " LOW MRT - MED MRT  -12.0287 4.89 Inf    -23.48    -0.578\n",
            " HIGH MRT - MED MRT  -2.0219 4.91 Inf    -13.52     9.479\n",
            "\n",
            "DaysInMilk = 9:\n",
            " contrast           estimate   SE  df asymp.LCL asymp.UCL\n",
            " LOW MRT - HIGH MRT -13.2043 4.88 Inf    -24.64    -1.773\n",
            " LOW MRT - MED MRT  -13.3782 4.92 Inf    -24.92    -1.840\n",
            " HIGH MRT - MED MRT  -0.1739 4.94 Inf    -11.76    11.408\n",
            "\n",
            "DaysInMilk = 10:\n",
            " contrast           estimate   SE  df asymp.LCL asymp.UCL\n",
            " LOW MRT - HIGH MRT -14.0198 4.92 Inf    -25.54    -2.497\n",
            " LOW MRT - MED MRT  -10.7219 4.96 Inf    -22.35     0.909\n",
            " HIGH MRT - MED MRT   3.2979 4.99 Inf     -8.39    14.984\n",
            "\n",
            "DaysInMilk = 11:\n",
            " contrast           estimate   SE  df asymp.LCL asymp.UCL\n",
            " LOW MRT - HIGH MRT -12.5797 4.96 Inf    -24.20    -0.956\n",
            " LOW MRT - MED MRT  -14.6870 5.00 Inf    -26.42    -2.957\n",
            " HIGH MRT - MED MRT  -2.1072 5.03 Inf    -13.89     9.680\n",
            "\n",
            "DaysInMilk = 12:\n",
            " contrast           estimate   SE  df asymp.LCL asymp.UCL\n",
            " LOW MRT - HIGH MRT -16.1178 5.00 Inf    -27.84    -4.398\n",
            " LOW MRT - MED MRT  -11.4482 5.04 Inf    -23.27     0.375\n",
            " HIGH MRT - MED MRT   4.6696 5.07 Inf     -7.21    16.550\n",
            "\n",
            "DaysInMilk = 13:\n",
            " contrast           estimate   SE  df asymp.LCL asymp.UCL\n",
            " LOW MRT - HIGH MRT -14.3241 5.04 Inf    -26.15    -2.500\n",
            " LOW MRT - MED MRT   -9.0049 5.09 Inf    -20.94     2.925\n",
            " HIGH MRT - MED MRT   5.3192 5.11 Inf     -6.67    17.306\n",
            "\n",
            "DaysInMilk = 14:\n",
            " contrast           estimate   SE  df asymp.LCL asymp.UCL\n",
            " LOW MRT - HIGH MRT -18.7849 5.09 Inf    -30.71    -6.856\n",
            " LOW MRT - MED MRT  -13.6509 5.14 Inf    -25.69    -1.613\n",
            " HIGH MRT - MED MRT   5.1340 5.17 Inf     -6.98    17.243\n",
            "\n",
            "DaysInMilk = 15:\n",
            " contrast           estimate   SE  df asymp.LCL asymp.UCL\n",
            " LOW MRT - HIGH MRT -14.1039 5.14 Inf    -26.16    -2.052\n",
            " LOW MRT - MED MRT  -13.8477 5.19 Inf    -26.01    -1.686\n",
            " HIGH MRT - MED MRT   0.2562 5.22 Inf    -11.97    12.484\n",
            "\n",
            "DaysInMilk = 16:\n",
            " contrast           estimate   SE  df asymp.LCL asymp.UCL\n",
            " LOW MRT - HIGH MRT -17.2534 5.19 Inf    -29.42    -5.085\n",
            " LOW MRT - MED MRT  -14.8811 5.24 Inf    -27.16    -2.597\n",
            " HIGH MRT - MED MRT   2.3723 5.27 Inf     -9.98    14.723\n",
            "\n",
            "DaysInMilk = 17:\n",
            " contrast           estimate   SE  df asymp.LCL asymp.UCL\n",
            " LOW MRT - HIGH MRT -14.2769 5.25 Inf    -26.58    -1.974\n",
            " LOW MRT - MED MRT  -10.3428 5.30 Inf    -22.76     2.070\n",
            " HIGH MRT - MED MRT   3.9341 5.33 Inf     -8.55    16.415\n",
            "\n",
            "DaysInMilk = 18:\n",
            " contrast           estimate   SE  df asymp.LCL asymp.UCL\n",
            " LOW MRT - HIGH MRT -12.7578 5.30 Inf    -25.18    -0.336\n",
            " LOW MRT - MED MRT   -9.9529 5.35 Inf    -22.50     2.592\n",
            " HIGH MRT - MED MRT   2.8048 5.39 Inf     -9.82    15.428\n",
            "\n",
            "DaysInMilk = 19:\n",
            " contrast           estimate   SE  df asymp.LCL asymp.UCL\n",
            " LOW MRT - HIGH MRT -14.4386 5.36 Inf    -26.99    -1.884\n",
            " LOW MRT - MED MRT  -13.1783 5.41 Inf    -25.85    -0.502\n",
            " HIGH MRT - MED MRT   1.2604 5.44 Inf    -11.49    14.012\n",
            "\n",
            "DaysInMilk = 20:\n",
            " contrast           estimate   SE  df asymp.LCL asymp.UCL\n",
            " LOW MRT - HIGH MRT -15.2945 5.42 Inf    -27.99    -2.599\n",
            " LOW MRT - MED MRT  -14.8392 5.47 Inf    -27.66    -2.015\n",
            " HIGH MRT - MED MRT   0.4553 5.50 Inf    -12.44    13.347\n",
            "\n",
            "DaysInMilk = 21:\n",
            " contrast           estimate   SE  df asymp.LCL asymp.UCL\n",
            " LOW MRT - HIGH MRT -11.4401 5.48 Inf    -24.29     1.406\n",
            " LOW MRT - MED MRT  -11.1168 5.54 Inf    -24.09     1.856\n",
            " HIGH MRT - MED MRT   0.3233 5.56 Inf    -12.72    13.363\n",
            "\n",
            "Results are averaged over the levels of: CalvingSeason, Parity, HerdIdentifier \n",
            "Degrees-of-freedom method: asymptotic \n",
            "Confidence level used: 0.95 \n",
            "Conf-level adjustment: tukey method for comparing a family of 3 estimates \n"
          ]
        }
      ],
      "source": [
        "%%R\n",
        "confint(LSMs$contrasts)"
      ]
    },
    {
      "cell_type": "markdown",
      "source": [
        "Effect Size"
      ],
      "metadata": {
        "id": "tEI9v1e0mFtI"
      }
    },
    {
      "cell_type": "code",
      "source": [
        "%%R\n",
        "emm <- emmeans(\n",
        "        finalModel,\n",
        "        ~ MRTQuantile|DaysInMilk,\n",
        "        lmer.df = \"asymptotic\",\n",
        "        lmerTest.limit = 11848\n",
        "        )\n",
        "\n",
        "effSizes <- eff_size(emm, sigma = sigma(finalModel), edf = Inf) %>% as.data.frame()\n",
        "\n"
      ],
      "metadata": {
        "id": "WVXJLdRLmDfR"
      },
      "execution_count": null,
      "outputs": []
    },
    {
      "cell_type": "code",
      "source": [
        "%%R\n",
        "pairs(emm, main = \"LOW MRT\")"
      ],
      "metadata": {
        "colab": {
          "base_uri": "https://localhost:8080/"
        },
        "id": "BIUDe0aK3YRf",
        "outputId": "d5b2bec0-2a35-407e-df51-6e70aaeacb11"
      },
      "execution_count": null,
      "outputs": [
        {
          "output_type": "stream",
          "name": "stdout",
          "text": [
            "DaysInMilk = -21:\n",
            " contrast           estimate   SE  df z.ratio p.value\n",
            " LOW MRT - HIGH MRT  -2.9929 5.02 Inf  -0.597  0.8220\n",
            " LOW MRT - MED MRT    0.0191 5.07 Inf   0.004  1.0000\n",
            " HIGH MRT - MED MRT   3.0121 5.12 Inf   0.588  0.8266\n",
            "\n",
            "DaysInMilk = -20:\n",
            " contrast           estimate   SE  df z.ratio p.value\n",
            " LOW MRT - HIGH MRT  -5.3345 4.97 Inf  -1.074  0.5301\n",
            " LOW MRT - MED MRT   -3.0428 5.01 Inf  -0.607  0.8163\n",
            " HIGH MRT - MED MRT   2.2917 5.07 Inf   0.452  0.8936\n",
            "\n",
            "DaysInMilk = -19:\n",
            " contrast           estimate   SE  df z.ratio p.value\n",
            " LOW MRT - HIGH MRT  -9.3108 4.91 Inf  -1.895  0.1402\n",
            " LOW MRT - MED MRT  -10.0145 4.96 Inf  -2.018  0.1079\n",
            " HIGH MRT - MED MRT  -0.7037 5.02 Inf  -0.140  0.9892\n",
            "\n",
            "DaysInMilk = -18:\n",
            " contrast           estimate   SE  df z.ratio p.value\n",
            " LOW MRT - HIGH MRT -10.9600 4.86 Inf  -2.254  0.0624\n",
            " LOW MRT - MED MRT   -4.7101 4.91 Inf  -0.960  0.6022\n",
            " HIGH MRT - MED MRT   6.2500 4.97 Inf   1.259  0.4188\n",
            "\n",
            "DaysInMilk = -17:\n",
            " contrast           estimate   SE  df z.ratio p.value\n",
            " LOW MRT - HIGH MRT  -6.5907 4.82 Inf  -1.367  0.3585\n",
            " LOW MRT - MED MRT   -8.3722 4.87 Inf  -1.721  0.1974\n",
            " HIGH MRT - MED MRT  -1.7815 4.93 Inf  -0.362  0.9304\n",
            "\n",
            "DaysInMilk = -16:\n",
            " contrast           estimate   SE  df z.ratio p.value\n",
            " LOW MRT - HIGH MRT  -4.0688 4.78 Inf  -0.852  0.6708\n",
            " LOW MRT - MED MRT   -2.8842 4.82 Inf  -0.598  0.8210\n",
            " HIGH MRT - MED MRT   1.1846 4.88 Inf   0.243  0.9680\n",
            "\n",
            "DaysInMilk = -15:\n",
            " contrast           estimate   SE  df z.ratio p.value\n",
            " LOW MRT - HIGH MRT  -2.8251 4.74 Inf  -0.596  0.8223\n",
            " LOW MRT - MED MRT   -5.6976 4.78 Inf  -1.192  0.4580\n",
            " HIGH MRT - MED MRT  -2.8725 4.84 Inf  -0.594  0.8234\n",
            "\n",
            "DaysInMilk = -14:\n",
            " contrast           estimate   SE  df z.ratio p.value\n",
            " LOW MRT - HIGH MRT  -6.5329 4.70 Inf  -1.390  0.3464\n",
            " LOW MRT - MED MRT   -4.5935 4.74 Inf  -0.969  0.5966\n",
            " HIGH MRT - MED MRT   1.9393 4.80 Inf   0.404  0.9139\n",
            "\n",
            "DaysInMilk = -13:\n",
            " contrast           estimate   SE  df z.ratio p.value\n",
            " LOW MRT - HIGH MRT  -5.6314 4.67 Inf  -1.205  0.4500\n",
            " LOW MRT - MED MRT   -2.6352 4.71 Inf  -0.559  0.8418\n",
            " HIGH MRT - MED MRT   2.9962 4.77 Inf   0.628  0.8045\n",
            "\n",
            "DaysInMilk = -12:\n",
            " contrast           estimate   SE  df z.ratio p.value\n",
            " LOW MRT - HIGH MRT  -7.2629 4.64 Inf  -1.565  0.2610\n",
            " LOW MRT - MED MRT   -4.3603 4.68 Inf  -0.931  0.6205\n",
            " HIGH MRT - MED MRT   2.9027 4.74 Inf   0.613  0.8132\n",
            "\n",
            "DaysInMilk = -11:\n",
            " contrast           estimate   SE  df z.ratio p.value\n",
            " LOW MRT - HIGH MRT  -8.3587 4.61 Inf  -1.813  0.1653\n",
            " LOW MRT - MED MRT   -4.3157 4.65 Inf  -0.928  0.6227\n",
            " HIGH MRT - MED MRT   4.0430 4.71 Inf   0.858  0.6666\n",
            "\n",
            "DaysInMilk = -10:\n",
            " contrast           estimate   SE  df z.ratio p.value\n",
            " LOW MRT - HIGH MRT  -8.4961 4.58 Inf  -1.854  0.1524\n",
            " LOW MRT - MED MRT   -4.7149 4.63 Inf  -1.019  0.5649\n",
            " HIGH MRT - MED MRT   3.7812 4.68 Inf   0.807  0.6985\n",
            "\n",
            "DaysInMilk = -9:\n",
            " contrast           estimate   SE  df z.ratio p.value\n",
            " LOW MRT - HIGH MRT  -5.4665 4.56 Inf  -1.199  0.4537\n",
            " LOW MRT - MED MRT   -4.3653 4.60 Inf  -0.949  0.6094\n",
            " HIGH MRT - MED MRT   1.1012 4.66 Inf   0.237  0.9696\n",
            "\n",
            "DaysInMilk = -8:\n",
            " contrast           estimate   SE  df z.ratio p.value\n",
            " LOW MRT - HIGH MRT  -5.7204 4.54 Inf  -1.260  0.4181\n",
            " LOW MRT - MED MRT   -6.4328 4.58 Inf  -1.405  0.3382\n",
            " HIGH MRT - MED MRT  -0.7124 4.63 Inf  -0.154  0.9871\n",
            "\n",
            "DaysInMilk = -7:\n",
            " contrast           estimate   SE  df z.ratio p.value\n",
            " LOW MRT - HIGH MRT  -4.9341 4.53 Inf  -1.090  0.5203\n",
            " LOW MRT - MED MRT   -3.1473 4.57 Inf  -0.689  0.7698\n",
            " HIGH MRT - MED MRT   1.7868 4.62 Inf   0.387  0.9209\n",
            "\n",
            "DaysInMilk = -6:\n",
            " contrast           estimate   SE  df z.ratio p.value\n",
            " LOW MRT - HIGH MRT  -0.5224 4.51 Inf  -0.116  0.9926\n",
            " LOW MRT - MED MRT   -4.3846 4.55 Inf  -0.963  0.6001\n",
            " HIGH MRT - MED MRT  -3.8622 4.61 Inf  -0.838  0.6793\n",
            "\n",
            "DaysInMilk = -5:\n",
            " contrast           estimate   SE  df z.ratio p.value\n",
            " LOW MRT - HIGH MRT  -2.2051 4.51 Inf  -0.489  0.8764\n",
            " LOW MRT - MED MRT   -3.0395 4.54 Inf  -0.669  0.7815\n",
            " HIGH MRT - MED MRT  -0.8344 4.60 Inf  -0.182  0.9820\n",
            "\n",
            "DaysInMilk = -4:\n",
            " contrast           estimate   SE  df z.ratio p.value\n",
            " LOW MRT - HIGH MRT  -6.2320 4.49 Inf  -1.387  0.3477\n",
            " LOW MRT - MED MRT   -6.6553 4.53 Inf  -1.468  0.3063\n",
            " HIGH MRT - MED MRT  -0.4233 4.58 Inf  -0.092  0.9953\n",
            "\n",
            "DaysInMilk = -3:\n",
            " contrast           estimate   SE  df z.ratio p.value\n",
            " LOW MRT - HIGH MRT  -2.9919 4.49 Inf  -0.666  0.7830\n",
            " LOW MRT - MED MRT   -2.4104 4.53 Inf  -0.532  0.8555\n",
            " HIGH MRT - MED MRT   0.5815 4.58 Inf   0.127  0.9912\n",
            "\n",
            "DaysInMilk = -2:\n",
            " contrast           estimate   SE  df z.ratio p.value\n",
            " LOW MRT - HIGH MRT  -0.0865 4.49 Inf  -0.019  0.9998\n",
            " LOW MRT - MED MRT   -7.3662 4.53 Inf  -1.627  0.2343\n",
            " HIGH MRT - MED MRT  -7.2797 4.58 Inf  -1.590  0.2500\n",
            "\n",
            "DaysInMilk = -1:\n",
            " contrast           estimate   SE  df z.ratio p.value\n",
            " LOW MRT - HIGH MRT   3.9020 4.49 Inf   0.869  0.6597\n",
            " LOW MRT - MED MRT   -4.5525 4.53 Inf  -1.006  0.5733\n",
            " HIGH MRT - MED MRT  -8.4545 4.58 Inf  -1.847  0.1546\n",
            "\n",
            "DaysInMilk = 1:\n",
            " contrast           estimate   SE  df z.ratio p.value\n",
            " LOW MRT - HIGH MRT  -9.6132 4.67 Inf  -2.057  0.0990\n",
            " LOW MRT - MED MRT  -12.5169 4.73 Inf  -2.646  0.0222\n",
            " HIGH MRT - MED MRT  -2.9036 4.75 Inf  -0.612  0.8138\n",
            "\n",
            "DaysInMilk = 2:\n",
            " contrast           estimate   SE  df z.ratio p.value\n",
            " LOW MRT - HIGH MRT -16.9742 4.69 Inf  -3.618  0.0009\n",
            " LOW MRT - MED MRT  -18.3733 4.75 Inf  -3.871  0.0003\n",
            " HIGH MRT - MED MRT  -1.3992 4.76 Inf  -0.294  0.9535\n",
            "\n",
            "DaysInMilk = 3:\n",
            " contrast           estimate   SE  df z.ratio p.value\n",
            " LOW MRT - HIGH MRT -21.2062 4.71 Inf  -4.506  <.0001\n",
            " LOW MRT - MED MRT  -16.2704 4.76 Inf  -3.420  0.0018\n",
            " HIGH MRT - MED MRT   4.9358 4.78 Inf   1.034  0.5557\n",
            "\n",
            "DaysInMilk = 4:\n",
            " contrast           estimate   SE  df z.ratio p.value\n",
            " LOW MRT - HIGH MRT -18.0097 4.73 Inf  -3.810  0.0004\n",
            " LOW MRT - MED MRT  -15.8854 4.78 Inf  -3.326  0.0025\n",
            " HIGH MRT - MED MRT   2.1243 4.80 Inf   0.443  0.8975\n",
            "\n",
            "DaysInMilk = 5:\n",
            " contrast           estimate   SE  df z.ratio p.value\n",
            " LOW MRT - HIGH MRT -12.7462 4.75 Inf  -2.681  0.0201\n",
            " LOW MRT - MED MRT  -11.6036 4.80 Inf  -2.417  0.0414\n",
            " HIGH MRT - MED MRT   1.1427 4.82 Inf   0.237  0.9695\n",
            "\n",
            "DaysInMilk = 6:\n",
            " contrast           estimate   SE  df z.ratio p.value\n",
            " LOW MRT - HIGH MRT -19.5640 4.78 Inf  -4.093  0.0001\n",
            " LOW MRT - MED MRT  -17.9541 4.82 Inf  -3.721  0.0006\n",
            " HIGH MRT - MED MRT   1.6099 4.85 Inf   0.332  0.9411\n",
            "\n",
            "DaysInMilk = 7:\n",
            " contrast           estimate   SE  df z.ratio p.value\n",
            " LOW MRT - HIGH MRT -16.4811 4.81 Inf  -3.428  0.0018\n",
            " LOW MRT - MED MRT  -11.9962 4.85 Inf  -2.471  0.0359\n",
            " HIGH MRT - MED MRT   4.4849 4.88 Inf   0.920  0.6279\n",
            "\n",
            "DaysInMilk = 8:\n",
            " contrast           estimate   SE  df z.ratio p.value\n",
            " LOW MRT - HIGH MRT -10.0069 4.84 Inf  -2.067  0.0968\n",
            " LOW MRT - MED MRT  -12.0287 4.89 Inf  -2.462  0.0368\n",
            " HIGH MRT - MED MRT  -2.0219 4.91 Inf  -0.412  0.9107\n",
            "\n",
            "DaysInMilk = 9:\n",
            " contrast           estimate   SE  df z.ratio p.value\n",
            " LOW MRT - HIGH MRT -13.2043 4.88 Inf  -2.707  0.0186\n",
            " LOW MRT - MED MRT  -13.3782 4.92 Inf  -2.717  0.0181\n",
            " HIGH MRT - MED MRT  -0.1739 4.94 Inf  -0.035  0.9993\n",
            "\n",
            "DaysInMilk = 10:\n",
            " contrast           estimate   SE  df z.ratio p.value\n",
            " LOW MRT - HIGH MRT -14.0198 4.92 Inf  -2.852  0.0121\n",
            " LOW MRT - MED MRT  -10.7219 4.96 Inf  -2.161  0.0781\n",
            " HIGH MRT - MED MRT   3.2979 4.99 Inf   0.661  0.7859\n",
            "\n",
            "DaysInMilk = 11:\n",
            " contrast           estimate   SE  df z.ratio p.value\n",
            " LOW MRT - HIGH MRT -12.5797 4.96 Inf  -2.536  0.0301\n",
            " LOW MRT - MED MRT  -14.6870 5.00 Inf  -2.934  0.0094\n",
            " HIGH MRT - MED MRT  -2.1072 5.03 Inf  -0.419  0.9078\n",
            "\n",
            "DaysInMilk = 12:\n",
            " contrast           estimate   SE  df z.ratio p.value\n",
            " LOW MRT - HIGH MRT -16.1178 5.00 Inf  -3.223  0.0036\n",
            " LOW MRT - MED MRT  -11.4482 5.04 Inf  -2.269  0.0602\n",
            " HIGH MRT - MED MRT   4.6696 5.07 Inf   0.921  0.6269\n",
            "\n",
            "DaysInMilk = 13:\n",
            " contrast           estimate   SE  df z.ratio p.value\n",
            " LOW MRT - HIGH MRT -14.3241 5.04 Inf  -2.839  0.0126\n",
            " LOW MRT - MED MRT   -9.0049 5.09 Inf  -1.769  0.1801\n",
            " HIGH MRT - MED MRT   5.3192 5.11 Inf   1.040  0.5516\n",
            "\n",
            "DaysInMilk = 14:\n",
            " contrast           estimate   SE  df z.ratio p.value\n",
            " LOW MRT - HIGH MRT -18.7849 5.09 Inf  -3.691  0.0007\n",
            " LOW MRT - MED MRT  -13.6509 5.14 Inf  -2.658  0.0215\n",
            " HIGH MRT - MED MRT   5.1340 5.17 Inf   0.994  0.5809\n",
            "\n",
            "DaysInMilk = 15:\n",
            " contrast           estimate   SE  df z.ratio p.value\n",
            " LOW MRT - HIGH MRT -14.1039 5.14 Inf  -2.743  0.0168\n",
            " LOW MRT - MED MRT  -13.8477 5.19 Inf  -2.669  0.0208\n",
            " HIGH MRT - MED MRT   0.2562 5.22 Inf   0.049  0.9987\n",
            "\n",
            "DaysInMilk = 16:\n",
            " contrast           estimate   SE  df z.ratio p.value\n",
            " LOW MRT - HIGH MRT -17.2534 5.19 Inf  -3.323  0.0026\n",
            " LOW MRT - MED MRT  -14.8811 5.24 Inf  -2.839  0.0126\n",
            " HIGH MRT - MED MRT   2.3723 5.27 Inf   0.450  0.8943\n",
            "\n",
            "DaysInMilk = 17:\n",
            " contrast           estimate   SE  df z.ratio p.value\n",
            " LOW MRT - HIGH MRT -14.2769 5.25 Inf  -2.720  0.0179\n",
            " LOW MRT - MED MRT  -10.3428 5.30 Inf  -1.953  0.1241\n",
            " HIGH MRT - MED MRT   3.9341 5.33 Inf   0.739  0.7404\n",
            "\n",
            "DaysInMilk = 18:\n",
            " contrast           estimate   SE  df z.ratio p.value\n",
            " LOW MRT - HIGH MRT -12.7578 5.30 Inf  -2.407  0.0425\n",
            " LOW MRT - MED MRT   -9.9529 5.35 Inf  -1.859  0.1506\n",
            " HIGH MRT - MED MRT   2.8048 5.39 Inf   0.521  0.8612\n",
            "\n",
            "DaysInMilk = 19:\n",
            " contrast           estimate   SE  df z.ratio p.value\n",
            " LOW MRT - HIGH MRT -14.4386 5.36 Inf  -2.695  0.0193\n",
            " LOW MRT - MED MRT  -13.1783 5.41 Inf  -2.437  0.0394\n",
            " HIGH MRT - MED MRT   1.2604 5.44 Inf   0.232  0.9709\n",
            "\n",
            "DaysInMilk = 20:\n",
            " contrast           estimate   SE  df z.ratio p.value\n",
            " LOW MRT - HIGH MRT -15.2945 5.42 Inf  -2.824  0.0132\n",
            " LOW MRT - MED MRT  -14.8392 5.47 Inf  -2.712  0.0184\n",
            " HIGH MRT - MED MRT   0.4553 5.50 Inf   0.083  0.9962\n",
            "\n",
            "DaysInMilk = 21:\n",
            " contrast           estimate   SE  df z.ratio p.value\n",
            " LOW MRT - HIGH MRT -11.4401 5.48 Inf  -2.087  0.0925\n",
            " LOW MRT - MED MRT  -11.1168 5.54 Inf  -2.008  0.1102\n",
            " HIGH MRT - MED MRT   0.3233 5.56 Inf   0.058  0.9981\n",
            "\n",
            "Results are averaged over the levels of: CalvingSeason, Parity, HerdIdentifier \n",
            "Degrees-of-freedom method: asymptotic \n",
            "P value adjustment: tukey method for comparing a family of 3 estimates \n"
          ]
        }
      ]
    },
    {
      "cell_type": "code",
      "source": [
        "%%R\n",
        "dfConfInts <- confint(pairs(emm,main = \"LOW MRT\"), method = \"Wald\") %>%\n",
        "  as.data.frame() %>%\n",
        "  mutate(contrast = as.character(contrast),\n",
        "        label = if_else(DaysInMilk == max(as.numeric(DaysInMilk)), as.character(contrast), NA_character_),\n",
        "         significance = as.factor(case_when(\n",
        "             asymp.LCL <= 0 & asymp.UCL <= 0 ~ \"Significant\",\n",
        "             asymp.LCL >= 0 & asymp.UCL >= 0 ~ \"Significant\",\n",
        "             TRUE ~ \"Not-Significant\")),\n",
        "         contrast = as.factor(case_when(\n",
        "             contrast == \"LOW MRT - HIGH MRT\" ~ \"LOW - HIGH\",\n",
        "             contrast == \"LOW MRT - MED MRT\" ~ \"LOW - MED\",\n",
        "             contrast == \"HIGH MRT - MED MRT\" ~ \"HIGH - MED\",\n",
        "             TRUE ~ \"Error\"))\n",
        "         )"
      ],
      "metadata": {
        "id": "1z7rF64C01_Z"
      },
      "execution_count": null,
      "outputs": []
    },
    {
      "cell_type": "code",
      "source": [
        "%%R\n",
        "Significance = dfConfInts %>%pivot_wider(id_cols = DaysInMilk, names_from = contrast, values_from = significance)\n",
        "Significance"
      ],
      "metadata": {
        "colab": {
          "base_uri": "https://localhost:8080/"
        },
        "id": "9WmWc_yl3lPr",
        "outputId": "019ab03d-bb53-4107-fa34-fd13e10eb85c"
      },
      "execution_count": null,
      "outputs": [
        {
          "output_type": "stream",
          "name": "stdout",
          "text": [
            "# A tibble: 42 × 4\n",
            "   DaysInMilk `LOW - HIGH`    `LOW - MED`     `HIGH - MED`   \n",
            "   <fct>      <fct>           <fct>           <fct>          \n",
            " 1 -21        Not-Significant Not-Significant Not-Significant\n",
            " 2 -20        Not-Significant Not-Significant Not-Significant\n",
            " 3 -19        Not-Significant Not-Significant Not-Significant\n",
            " 4 -18        Not-Significant Not-Significant Not-Significant\n",
            " 5 -17        Not-Significant Not-Significant Not-Significant\n",
            " 6 -16        Not-Significant Not-Significant Not-Significant\n",
            " 7 -15        Not-Significant Not-Significant Not-Significant\n",
            " 8 -14        Not-Significant Not-Significant Not-Significant\n",
            " 9 -13        Not-Significant Not-Significant Not-Significant\n",
            "10 -12        Not-Significant Not-Significant Not-Significant\n",
            "# ℹ 32 more rows\n",
            "# ℹ Use `print(n = ...)` to see more rows\n"
          ]
        }
      ]
    },
    {
      "cell_type": "markdown",
      "source": [
        "Visualizations\n"
      ],
      "metadata": {
        "id": "Q0V_0L7-4Fzq"
      }
    },
    {
      "cell_type": "code",
      "source": [
        "%%R\n",
        "\n",
        "group.colors<-c(\"LOW MRT\"=\"#FF0090\", \"HIGH MRT\"=\"#ffa500\", \"MED MRT\"=\"#3891A6\",\"Significant\"=\"#655e5c\")\n",
        "dfLMSs <- multcomp::cld(LSMs[[1]], alpha=0.05, Letters=letters, adjust=\"sidak\")\n",
        "\n",
        "myLoc <-\n",
        "  (which(levels(dfLMSs$DaysInMilk) == \"-1\") +\n",
        "     which(levels(dfLMSs$DaysInMilk) == \"1\")) /\n",
        "  2\n"
      ],
      "metadata": {
        "id": "I8pBLEug3plF"
      },
      "execution_count": null,
      "outputs": []
    },
    {
      "cell_type": "code",
      "execution_count": null,
      "metadata": {
        "id": "GGTLFjbIgpEc",
        "colab": {
          "base_uri": "https://localhost:8080/",
          "height": 514
        },
        "outputId": "8353b7aa-b04a-42d2-eb44-c2916fa56f8c"
      },
      "outputs": [
        {
          "output_type": "stream",
          "name": "stdout",
          "text": [
            "Joining with `by = join_by(DaysInMilk)`\n"
          ]
        },
        {
          "output_type": "display_data",
          "data": {
            "image/png": "[encoded data removed]"
          },
          "metadata": {}
        }
      ],
      "source": [
        "%%R\n",
        "\n",
        "p = dfLMSs %>% inner_join(Significance) %>%  mutate(label = if_else(DaysInMilk == max(as.numeric(DaysInMilk)), as.character(MRTQuantile), NA_character_),\n",
        "                                                    significance = case_when(\n",
        "                                                        `LOW - HIGH` == \"Significant\" ~ \"Significant\",\n",
        "                                                        `LOW - MED` == \"Significant\" ~ \"Significant\",\n",
        "                                                        `HIGH - MED` == \"Significant\" ~ \"Significant\",\n",
        "                                                        TRUE ~ \"Not-Significant\"\n",
        "                                                    )) %>%\n",
        "  ggplot(\n",
        "  aes(\n",
        "    x=DaysInMilk,\n",
        "    y=emmean,\n",
        "    group=MRTQuantile,\n",
        "    color=MRTQuantile)\n",
        "    ) +\n",
        "    scale_color_manual(values=group.colors)+\n",
        "    scale_fill_manual(values=group.colors)+\n",
        "    scale_alpha_manual(values = c(\"Not-Significant\"=0,\"Significant\"=0.05))+ # transparency significance rectangles\n",
        "    geom_rect(aes(xmin=as.numeric(DaysInMilk)-0.5, xmax =as.numeric(DaysInMilk)+0.5,ymin=-Inf,ymax=Inf,fill =significance ,alpha = significance),color = NA )+\n",
        "    geom_line(size=2) +\n",
        "    geom_text_repel(data= subset(dfLMSs,DaysInMilk == 21), aes(label = MRTQuantile, colour = MRTQuantile, x = 42, y= emmean),hjust = -0.8, size = 10, nudge_x =7,box.padding = 0.5,direction = \"y\")+\n",
        "    geom_errorbar(\n",
        "    aes(ymin=asymp.LCL,\n",
        "        ymax=asymp.UCL),\n",
        "    width=0.25,\n",
        "    size=1,\n",
        "    position=position_dodge(0.25)) +\n",
        "  labs(\n",
        "    title = \"Eating time (min/day)\",\n",
        "    y=\"Minutes per day\" ,\n",
        "    x = \"Days in milk\") +\n",
        "  theme_bw() +\n",
        "  theme(text = element_text(family = \"Times New Roman\"),plot.margin = unit(c(0.5,0.5,4,0.5), \"lines\")) +\n",
        "  theme(text=element_text(size=28),\n",
        "        plot.title = element_text(hjust = 0.5),\n",
        "        panel.border = element_blank(),\n",
        "        panel.grid.major = element_blank(),\n",
        "        panel.grid.minor = element_blank(),\n",
        "        axis.line = element_line(colour = \"black\"))+\n",
        "  theme (legend.position= \"none\")+\n",
        "  geom_vline(xintercept = myLoc, size = 1, linetype= \"dashed\", color =\"black\")\n",
        "\n",
        "\n",
        "\n",
        "gt <- ggplotGrob(p)\n",
        "gt$layout$clip[gt$layout$name == \"panel\"] <- \"off\"\n",
        "grid.draw(gt)\n"
      ]
    },
    {
      "cell_type": "code",
      "execution_count": null,
      "metadata": {
        "id": "qltPHvRmaJCR"
      },
      "outputs": [],
      "source": [
        "%%R\n",
        "ggsave(plot = gt,\"/content/drive/Shareddrives/Bovi-Analytics/Projects/CelienKemel/Figures/EatingTimeMRTQuantileByDaysInMilk.png\", width = 24, height = 8)"
      ]
    },
    {
      "cell_type": "code",
      "source": [
        "%%R\n",
        "\n",
        "myLoc <-\n",
        "  (which(levels(dfLMSs$DaysInMilk) == \"-1\") +\n",
        "     which(levels(dfLMSs$DaysInMilk) == \"1\")) /\n",
        "  2\n",
        "\n",
        "group.colors<-c(\"HIGH - MED\"=\"#609436\", \"LOW - MED\"=\"#C040A0\", \"LOW - HIGH\"=\"#FF7F50\",\"Significant\"=\"#171710\")\n",
        "plotEffectSize <- dfConfInts %>%\n",
        "  ggplot(\n",
        "  aes(\n",
        "    x=DaysInMilk,\n",
        "    y=estimate,color = contrast)\n",
        "    ) +\n",
        "    scale_color_manual(values = group.colors)+\n",
        "    scale_fill_manual(values = group.colors)+\n",
        "  geom_hline(yintercept=0, color= \"black\", size=1) +\n",
        "  scale_alpha_manual(values = c(\"Not-Significant\"=0.4,\"Significant\"=1))+ # transparency significance each group\n",
        "  geom_point(aes(alpha = significance),size=5,position=position_dodge(0.5)) +\n",
        "  geom_errorbar(\n",
        "    aes(ymin=asymp.LCL,\n",
        "        ymax=asymp.UCL,\n",
        "        alpha = significance),\n",
        "    position=position_dodge(0.5),\n",
        "    width=0.5,\n",
        "    size=1) +\n",
        "  geom_text_repel(data= subset(dfConfInts,DaysInMilk == 21), aes(label = contrast, colour = contrast, x = 42, y= estimate),hjust = -0.8, size = 10, nudge_x =7,box.padding = 0.5,direction = \"y\") +\n",
        "  labs(\n",
        "    y=\"Effect size\" ,\n",
        "    x = \"Days In Milk\") +\n",
        "  theme_bw() +\n",
        "  theme(text = element_text(family = \"Times New Roman\",size =28),\n",
        "        plot.title = element_blank(),\n",
        "        panel.border = element_blank(),\n",
        "        panel.grid.major = element_blank(),\n",
        "        panel.grid.minor = element_blank(),\n",
        "        axis.line = element_line(colour = \"black\"),\n",
        "        legend.position=\"none\",\n",
        "        legend.title = element_blank(),\n",
        "        plot.margin = unit(c(0.5,0.5,4,0.5), \"lines\"))+\n",
        "  geom_vline(xintercept = myLoc, size = 1, linetype= \"dashed\", color =\"black\")\n",
        "\n",
        "plotEffectSize"
      ],
      "metadata": {
        "id": "yEB7AhYgozjA",
        "colab": {
          "base_uri": "https://localhost:8080/",
          "height": 497
        },
        "outputId": "92e7ce03-330b-4566-bab9-e5ed1cfee4fd"
      },
      "execution_count": null,
      "outputs": [
        {
          "output_type": "display_data",
          "data": {
            "image/png": "[encoded data removed]"
          },
          "metadata": {}
        }
      ]
    },
    {
      "cell_type": "code",
      "source": [
        "%%R\n",
        "ggsave(plot = plotEffectSize,\"/content/drive/Shareddrives/Bovi-Analytics/Projects/CelienKemel/Figures/EatingTimeMRTQuantileByDaysInMilkeffectPlot.png\", width = 24, height = 6)"
      ],
      "metadata": {
        "id": "DF7hUEvhpTVa"
      },
      "execution_count": null,
      "outputs": []
    },
    {
      "cell_type": "code",
      "source": [
        "%%R\n",
        "combinedPlot <- ggarrange(\n",
        "    gt,\n",
        "    plotEffectSize,\n",
        "    heights = c(2, 1),\n",
        "    labels = c(\"A)\",\"B)\"),\n",
        "    ncol = 1,\n",
        "    nrow = 2,\n",
        "    align =\"v\",font.label=list(family = \"Times New Roman\",size=24))\n",
        "\n",
        "\n",
        "    combinedPlot"
      ],
      "metadata": {
        "colab": {
          "base_uri": "https://localhost:8080/",
          "height": 497
        },
        "id": "llqqiZOByDRK",
        "outputId": "0da84533-82d0-4793-cac9-73e43f978fb2"
      },
      "execution_count": null,
      "outputs": [
        {
          "output_type": "display_data",
          "data": {
            "image/png": "[encoded data removed]"
          },
          "metadata": {}
        }
      ]
    },
    {
      "cell_type": "code",
      "source": [
        "%%R\n",
        "ggsave(plot = combinedPlot,\"/content/drive/Shareddrives/Bovi-Analytics/Projects/CelienKemel/Figures/EatingTimeMRTQuantileByDaysInMilkCombo.png\", width = 24, height = 14)"
      ],
      "metadata": {
        "id": "J0r1EqKvyKVp"
      },
      "execution_count": null,
      "outputs": []
    }
  ],
  "metadata": {
    "colab": {
      "provenance": [],
      "include_colab_link": true
    },
    "kernelspec": {
      "display_name": "Python 3",
      "name": "python3"
    }
  },
  "nbformat": 4,
  "nbformat_minor": 0
}