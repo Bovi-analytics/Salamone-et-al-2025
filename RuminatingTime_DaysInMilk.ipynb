{
  "cells": [
    {
      "cell_type": "markdown",
      "metadata": {
        "id": "view-in-github",
        "colab_type": "text"
      },
      "source": [
        "<a href=\"https://colab.research.google.com/github/Bovi-analytics/Salamone-et-al-2025/blob/main/RuminatingTime_DaysInMilk.ipynb\" target=\"_parent\"><img src=\"https://colab.research.google.com/assets/colab-badge.svg\" alt=\"Open In Colab\"/></a>"
      ]
    },
    {
      "cell_type": "markdown",
      "metadata": {
        "id": "64fdfVwsBBLG"
      },
      "source": [
        "# Statistical notebook for rumination time MonthsInMilk"
      ]
    },
    {
      "cell_type": "markdown",
      "metadata": {
        "id": "LiSiRyzyBQT9"
      },
      "source": [
        "## Importing of google drive"
      ]
    },
    {
      "cell_type": "code",
      "execution_count": null,
      "metadata": {
        "colab": {
          "base_uri": "https://localhost:8080/"
        },
        "id": "WCUSUtqb21vg",
        "outputId": "c7c30c1e-49e3-4cef-9677-cbb2710ec992"
      },
      "outputs": [
        {
          "output_type": "stream",
          "name": "stdout",
          "text": [
            "Mounted at /content/drive\n"
          ]
        }
      ],
      "source": [
        "from google.colab import drive\n",
        "drive.mount('/content/drive')"
      ]
    },
    {
      "cell_type": "markdown",
      "metadata": {
        "id": "JfWDzzUBBWFS"
      },
      "source": [
        "## R loading"
      ]
    },
    {
      "cell_type": "code",
      "execution_count": null,
      "metadata": {
        "id": "TxkiqsiB23Kg"
      },
      "outputs": [],
      "source": [
        "%reload_ext rpy2.ipython"
      ]
    },
    {
      "cell_type": "code",
      "execution_count": null,
      "metadata": {
        "id": "-Eo3GPzU9XAf"
      },
      "outputs": [],
      "source": [
        "%%R\n",
        "lib_loc <- \"/content/drive/Shareddrives/Bovi-Analytics/R-lib/\""
      ]
    },
    {
      "cell_type": "code",
      "execution_count": null,
      "metadata": {
        "colab": {
          "base_uri": "https://localhost:8080/"
        },
        "id": "Rlr2umuA0oSE",
        "outputId": "fae73c64-5506-41ef-f764-28b0cb94aa5d"
      },
      "outputs": [
        {
          "output_type": "stream",
          "name": "stderr",
          "text": [
            "WARNING:rpy2.rinterface_lib.callbacks:R[write to console]: \n",
            "Attaching package: ‘dplyr’\n",
            "\n",
            "\n",
            "WARNING:rpy2.rinterface_lib.callbacks:R[write to console]: The following objects are masked from ‘package:plyr’:\n",
            "\n",
            "    arrange, count, desc, failwith, id, mutate, rename, summarise,\n",
            "    summarize\n",
            "\n",
            "\n",
            "WARNING:rpy2.rinterface_lib.callbacks:R[write to console]: The following objects are masked from ‘package:stats’:\n",
            "\n",
            "    filter, lag\n",
            "\n",
            "\n",
            "WARNING:rpy2.rinterface_lib.callbacks:R[write to console]: The following objects are masked from ‘package:base’:\n",
            "\n",
            "    intersect, setdiff, setequal, union\n",
            "\n",
            "\n",
            "WARNING:rpy2.rinterface_lib.callbacks:R[write to console]: \n",
            "Attaching package: ‘Matrix’\n",
            "\n",
            "\n",
            "WARNING:rpy2.rinterface_lib.callbacks:R[write to console]: The following objects are masked from ‘package:tidyr’:\n",
            "\n",
            "    expand, pack, unpack\n",
            "\n",
            "\n",
            "WARNING:rpy2.rinterface_lib.callbacks:R[write to console]: \n",
            "Attaching package: ‘lmerTest’\n",
            "\n",
            "\n",
            "WARNING:rpy2.rinterface_lib.callbacks:R[write to console]: The following object is masked from ‘package:lme4’:\n",
            "\n",
            "    lmer\n",
            "\n",
            "\n",
            "WARNING:rpy2.rinterface_lib.callbacks:R[write to console]: The following object is masked from ‘package:stats’:\n",
            "\n",
            "    step\n",
            "\n",
            "\n",
            "WARNING:rpy2.rinterface_lib.callbacks:R[write to console]: \n",
            "Attaching package: ‘MASS’\n",
            "\n",
            "\n",
            "WARNING:rpy2.rinterface_lib.callbacks:R[write to console]: The following object is masked from ‘package:dplyr’:\n",
            "\n",
            "    select\n",
            "\n",
            "\n",
            "WARNING:rpy2.rinterface_lib.callbacks:R[write to console]: \n",
            "Attaching package: ‘TH.data’\n",
            "\n",
            "\n",
            "WARNING:rpy2.rinterface_lib.callbacks:R[write to console]: The following object is masked from ‘package:MASS’:\n",
            "\n",
            "    geyser\n",
            "\n",
            "\n",
            "WARNING:rpy2.rinterface_lib.callbacks:R[write to console]: Welcome to emmeans.\n",
            "Caution: You lose important information if you filter this package's results.\n",
            "See '? untidy'\n",
            "\n",
            "WARNING:rpy2.rinterface_lib.callbacks:R[write to console]: The 'lsmeans' package is now basically a front end for 'emmeans'.\n",
            "Users are encouraged to switch the rest of the way.\n",
            "See help('transition') for more information, including how to\n",
            "convert old 'lsmeans' objects and scripts to work with 'emmeans'.\n",
            "\n",
            "WARNING:rpy2.rinterface_lib.callbacks:R[write to console]: \n",
            "Attaching package: ‘car’\n",
            "\n",
            "\n",
            "WARNING:rpy2.rinterface_lib.callbacks:R[write to console]: The following object is masked from ‘package:dplyr’:\n",
            "\n",
            "    recode\n",
            "\n",
            "\n",
            "WARNING:rpy2.rinterface_lib.callbacks:R[write to console]: \n",
            "Attaching package: ‘nlme’\n",
            "\n",
            "\n",
            "WARNING:rpy2.rinterface_lib.callbacks:R[write to console]: The following object is masked from ‘package:lme4’:\n",
            "\n",
            "    lmList\n",
            "\n",
            "\n",
            "WARNING:rpy2.rinterface_lib.callbacks:R[write to console]: The following object is masked from ‘package:dplyr’:\n",
            "\n",
            "    collapse\n",
            "\n",
            "\n",
            "WARNING:rpy2.rinterface_lib.callbacks:R[write to console]: Registered S3 method overwritten by 'clubSandwich':\n",
            "  method    from    \n",
            "  bread.mlm sandwich\n",
            "\n",
            "WARNING:rpy2.rinterface_lib.callbacks:R[write to console]: \n",
            "Attaching package: ‘purrr’\n",
            "\n",
            "\n",
            "WARNING:rpy2.rinterface_lib.callbacks:R[write to console]: The following object is masked from ‘package:car’:\n",
            "\n",
            "    some\n",
            "\n",
            "\n",
            "WARNING:rpy2.rinterface_lib.callbacks:R[write to console]: The following object is masked from ‘package:plyr’:\n",
            "\n",
            "    compact\n",
            "\n",
            "\n",
            "WARNING:rpy2.rinterface_lib.callbacks:R[write to console]: \n",
            "Attaching package: ‘ggpubr’\n",
            "\n",
            "\n",
            "WARNING:rpy2.rinterface_lib.callbacks:R[write to console]: The following object is masked from ‘package:cowplot’:\n",
            "\n",
            "    get_legend\n",
            "\n",
            "\n",
            "WARNING:rpy2.rinterface_lib.callbacks:R[write to console]: The following object is masked from ‘package:plyr’:\n",
            "\n",
            "    mutate\n",
            "\n",
            "\n"
          ]
        },
        {
          "output_type": "stream",
          "name": "stdout",
          "text": [
            "[[1]]\n",
            "[1] TRUE\n",
            "\n",
            "[[2]]\n",
            "[1] TRUE\n",
            "\n",
            "[[3]]\n",
            "[1] TRUE\n",
            "\n",
            "[[4]]\n",
            "[1] TRUE\n",
            "\n",
            "[[5]]\n",
            "[1] TRUE\n",
            "\n",
            "[[6]]\n",
            "[1] TRUE\n",
            "\n",
            "[[7]]\n",
            "[1] TRUE\n",
            "\n",
            "[[8]]\n",
            "[1] TRUE\n",
            "\n",
            "[[9]]\n",
            "[1] TRUE\n",
            "\n",
            "[[10]]\n",
            "[1] TRUE\n",
            "\n",
            "[[11]]\n",
            "[1] TRUE\n",
            "\n",
            "[[12]]\n",
            "[1] TRUE\n",
            "\n",
            "[[13]]\n",
            "[1] TRUE\n",
            "\n",
            "[[14]]\n",
            "[1] TRUE\n",
            "\n",
            "[[15]]\n",
            "[1] TRUE\n",
            "\n",
            "[[16]]\n",
            "[1] TRUE\n",
            "\n",
            "[[17]]\n",
            "[1] TRUE\n",
            "\n",
            "[[18]]\n",
            "[1] TRUE\n",
            "\n",
            "[[19]]\n",
            "[1] TRUE\n",
            "\n",
            "[[20]]\n",
            "[1] TRUE\n",
            "\n",
            "[[21]]\n",
            "[1] TRUE\n",
            "\n",
            "[[22]]\n",
            "[1] TRUE\n",
            "\n",
            "[[23]]\n",
            "[1] TRUE\n",
            "\n",
            "[[24]]\n",
            "[1] TRUE\n",
            "\n",
            "[[25]]\n",
            "[1] TRUE\n",
            "\n",
            "[[26]]\n",
            "[1] TRUE\n",
            "\n",
            "[[27]]\n",
            "[1] TRUE\n",
            "\n"
          ]
        }
      ],
      "source": [
        "%%R\n",
        ".packages <- c(\"ggplot2\",\n",
        "                  \"readr\",\n",
        "                  \"plyr\",\n",
        "                  \"dplyr\",\n",
        "                  \"tidyr\",\n",
        "                  \"tibble\",\n",
        "                  \"lme4\",\n",
        "                  \"lmerTest\",\n",
        "                  \"multcompView\",\n",
        "                  \"mvtnorm\",\n",
        "                  \"TH.data\",\n",
        "                  \"multcomp\",\n",
        "                  \"emmeans\",\n",
        "                  \"lsmeans\",\n",
        "                  \"carData\",\n",
        "                  \"car\",\n",
        "                  \"stringr\",\n",
        "                  \"cAIC4\",\n",
        "                  \"ggrepel\",\n",
        "                  \"geomtextpath\",\n",
        "                  \"grid\",\n",
        "                  \"sandwich\",\n",
        "                  \"clubSandwich\",\n",
        "                  \"skimr\",\n",
        "                  \"purrr\",\n",
        "                  'cowplot',\n",
        "                  \"ggpubr\"\n",
        "                  )\n",
        "\n",
        "\n",
        "\n",
        "# Install CRAN packages (if not already installed)\n",
        ".inst <- .packages %in% installed.packages(lib.loc=lib_loc)\n",
        "if(length(.packages[!.inst]) > 0) install.packages(.packages[!.inst], lib=lib_loc, repos = \"http://cran.us.r-project.org\")\n",
        "\n",
        "# Load packages into session\n",
        "lapply(.packages, require, character.only=TRUE, lib.loc = lib_loc, quietly = TRUE)"
      ]
    },
    {
      "cell_type": "markdown",
      "metadata": {
        "id": "zoVuFL66BxuT"
      },
      "source": [
        "## Data loading into dataframe"
      ]
    },
    {
      "cell_type": "code",
      "execution_count": null,
      "metadata": {
        "id": "XKMnpccx3BDP"
      },
      "outputs": [],
      "source": [
        "%%R\n",
        "MrtData <-\n",
        "  readr::read_csv(\n",
        "      \"/content/drive/Shareddrives/Bovi-Analytics/Projects/CelienKemel/NextMilkPredictions.csv\",\n",
        "      col_types = readr::cols(\n",
        "          HerdId = readr::col_character(),\n",
        "          AnimalId = readr::col_character()\n",
        "          )\n",
        "   ) %>%\n",
        "  dplyr::filter(AmountMPRNext > 0.0) %>%\n",
        "  dplyr::filter(DimMPRNext < 45) %>%\n",
        "  dplyr::filter(DimMPRNext > 5) %>%\n",
        "  dplyr::mutate(\n",
        "      AnimalIdentifier = factor(AnimalId),\n",
        "      CalvingDate = CalvingDateNext,\n",
        "      MRT = AmountMPRNext - prediction,\n",
        "      LactationNumber = lactationNumber + 1,\n",
        "      HerdIdentifier = factor(case_when(\n",
        "          HerdId == \"287359\"  ~ \"3\",\n",
        "          HerdId == \"269621\" ~ \"2746\",\n",
        "          HerdId == \"6177195\" ~ \"2514\",\n",
        "          HerdId == \"410638\" ~ \"3314\",\n",
        "          HerdId == \"2209799\" ~ \"544\",\n",
        "          HerdId == \"196062\" ~ \"700\",\n",
        "          HerdId == \"325565\" ~ \"2011\",\n",
        "          HerdId == \"207456\" ~ \"2297\",\n",
        "          TRUE ~  \"UnknownUBN\"\n",
        "      ))) %>%\n",
        "      group_by(HerdId) %>%\n",
        "      mutate( MRTQuantile = case_when(\n",
        "          MRT < quantile(MRT, probs= 0.33) ~ \"LOW MRT\",\n",
        "          MRT <= quantile(MRT, probs= 0.66) ~ \"MED MRT\",\n",
        "          MRT > quantile(MRT, probs= 0.66) ~ \"HIGH MRT\",\n",
        "          TRUE ~\"Missing\")\n",
        "      ) %>%  ungroup() %>%\n",
        "  dplyr::select(\n",
        "      \"AnimalIdentifier\",\n",
        "      \"HerdIdentifier\",\n",
        "      #\"LactationNumber\",\n",
        "      \"CalvingDate\",\n",
        "      \"MRT\",\n",
        "      \"MRTQuantile\",\n",
        "      \"AmountMPRNext\"\n",
        "  )\n",
        "\n"
      ]
    },
    {
      "cell_type": "code",
      "execution_count": null,
      "metadata": {
        "id": "EdsoTgv63LDl"
      },
      "outputs": [],
      "source": [
        "%%R\n",
        "BehaviorData <-\n",
        "  readr::read_csv(\"/content/drive/Shareddrives/Bovi-Analytics/Projects/SenseOfSensors/CsvData/SensorAndCalvingDataRepartitioned08032021/ObservationType=RuminationTimeMinutesPerDay/part-00000-tid-3815821870089910923-ec384d9a-727d-46aa-970e-588ecba307c7-410-32.c000.csv\",\n",
        "    col_types = readr::cols(HerdIdentifier = readr::col_character(),\n",
        "        TransitionLactationNumber = readr::col_integer(),\n",
        "        TransitionParity = readr::col_character(),\n",
        "        TransitionMonthsInMilk = readr::col_integer(),\n",
        "        TransitionDaysInMilk = readr::col_integer(),\n",
        "        TransitionCalvingDate = readr::col_character(),\n",
        "        ##Hour = readr::col_integer(),\n",
        "        Observations = readr::col_integer())) %>%\n",
        "  dplyr::filter(dplyr::between(TransitionDaysInMilk, -21, 21)) %>%\n",
        "  dplyr::filter(TransitionDaysInMilk != 0 )%>%\n",
        "  dplyr::mutate(\n",
        "    CalvingDate = as.Date(TransitionCalvingDate),\n",
        "    AnimalIdentifier = factor(str_replace_all(TransitionAnimalEartag, \"[^0-9.]\", \"\")),\n",
        "    HerdIdentifier = factor(HerdIdentifier),\n",
        "    LactationIdentifier = factor(paste(AnimalIdentifier,CalvingDate,sep=\"-\")),\n",
        "    Parity = factor(TransitionParity),\n",
        "    LactationNumber = factor(TransitionLactationNumber),\n",
        "    MonthsInMilk = factor(TransitionMonthsInMilk),\n",
        "    DaysInMilk = factor (TransitionDaysInMilk),\n",
        "    numMonthsInMilk = TransitionMonthsInMilk,\n",
        "    numDaysInMilk = TransitionDaysInMilk,\n",
        "    CalvingSeason = factor(TransitionSeason),\n",
        "    ##Hour = factor(Hour),\n",
        "    SensorValue = ObservationValue,\n",
        "    MilkingType = factor(case_when(\n",
        "    HerdIdentifier %in% c(\"544\", \"2514\", \"3314\")~\"AMS\",\n",
        "    TRUE~\"CMS\")),\n",
        "    CalvingGroup = factor(case_when(\n",
        "          TransitionDaysInMilk <= -1 ~ \"PreCalving\",\n",
        "          TransitionDaysInMilk >= 1 ~ \"PostCalving\",\n",
        "          TRUE ~ \"Missing\"))) %>%\n",
        "  dplyr::select(\n",
        "      AnimalIdentifier,\n",
        "      HerdIdentifier,\n",
        "      LactationIdentifier,\n",
        "      Parity,\n",
        "      MonthsInMilk,\n",
        "      DaysInMilk,\n",
        "      CalvingGroup,\n",
        "      numMonthsInMilk,\n",
        "      numDaysInMilk,\n",
        "      CalvingSeason,\n",
        "      CalvingDate,\n",
        "      ##Hour,\n",
        "      SensorValue,\n",
        "      MilkingType,\n",
        "      LactationNumber\n",
        "      ) %>%\n",
        "  tidyr::drop_na()"
      ]
    },
    {
      "cell_type": "code",
      "execution_count": null,
      "metadata": {
        "id": "CYev6-adZjnn"
      },
      "outputs": [],
      "source": [
        "%%R\n",
        "AnalysisData <- BehaviorData %>%\n",
        "  dplyr::inner_join(\n",
        "      MrtData,\n",
        "      by = c(\"HerdIdentifier\", \"AnimalIdentifier\", \"CalvingDate\")\n",
        "  )"
      ]
    },
    {
      "cell_type": "code",
      "source": [
        "%%R\n",
        "AnalysisData %>%\n",
        "group_by(CalvingGroup)%>%\n",
        "dplyr::summarise(Mean=mean(SensorValue, na.RM=TRUE), sd=sd(SensorValue))"
      ],
      "metadata": {
        "colab": {
          "base_uri": "https://localhost:8080/"
        },
        "id": "PZlIpf4yDV1Y",
        "outputId": "555bbdcb-842c-49c7-b946-180579b34381"
      },
      "execution_count": null,
      "outputs": [
        {
          "output_type": "stream",
          "name": "stdout",
          "text": [
            "# A tibble: 2 × 3\n",
            "  CalvingGroup  Mean    sd\n",
            "  <fct>        <dbl> <dbl>\n",
            "1 PostCalving   533.  109.\n",
            "2 PreCalving    498.  112.\n"
          ]
        }
      ]
    },
    {
      "cell_type": "code",
      "execution_count": null,
      "metadata": {
        "colab": {
          "base_uri": "https://localhost:8080/"
        },
        "id": "w6Yrs1OhCaZZ",
        "outputId": "c8ff7709-455a-4d84-a98a-f60ef5e3016a"
      },
      "outputs": [
        {
          "output_type": "stream",
          "name": "stdout",
          "text": [
            "# A tibble: 6 × 17\n",
            "  AnimalIdentifier HerdIdentifier LactationIdentifier  Parity MonthsInMilk\n",
            "  <fct>            <fct>          <fct>                <fct>  <fct>       \n",
            "1 919206098        2746           919206098-2017-12-04 3+     0           \n",
            "2 919206098        2746           919206098-2017-12-04 3+     0           \n",
            "3 919206098        2746           919206098-2017-12-04 3+     0           \n",
            "4 919206098        2746           919206098-2017-12-04 3+     0           \n",
            "5 919206098        2746           919206098-2017-12-04 3+     0           \n",
            "6 919206098        2746           919206098-2017-12-04 3+     1           \n",
            "# ℹ 12 more variables: DaysInMilk <fct>, CalvingGroup <fct>,\n",
            "#   numMonthsInMilk <int>, numDaysInMilk <int>, CalvingSeason <fct>,\n",
            "#   CalvingDate <dttm>, SensorValue <dbl>, MilkingType <fct>,\n",
            "#   LactationNumber <fct>, MRT <dbl>, MRTQuantile <chr>, AmountMPRNext <dbl>\n"
          ]
        }
      ],
      "source": [
        "%%R\n",
        "head(AnalysisData)"
      ]
    },
    {
      "cell_type": "code",
      "source": [
        "\n",
        "%%R\n",
        "AnalysisData$MRTQuantile = factor(AnalysisData$MRTQuantile)\n",
        "AnalysisData$MRTQuantile = relevel(AnalysisData$MRTQuantile,ref = \"LOW MRT\")"
      ],
      "metadata": {
        "id": "5GiCxkRnzxD-"
      },
      "execution_count": null,
      "outputs": []
    },
    {
      "cell_type": "code",
      "execution_count": null,
      "metadata": {
        "colab": {
          "base_uri": "https://localhost:8080/"
        },
        "id": "juntaiFzCerG",
        "outputId": "da0c9c32-95b5-438b-ee7d-a01e83809cca"
      },
      "outputs": [
        {
          "output_type": "stream",
          "name": "stdout",
          "text": [
            "tibble [86,178 × 17] (S3: tbl_df/tbl/data.frame)\n",
            " $ AnimalIdentifier   : Factor w/ 2623 levels \"0359563346\",\"0359563389\",..: 1735 1735 1735 1735 1735 1735 1735 1735 1735 1846 ...\n",
            " $ HerdIdentifier     : Factor w/ 9 levels \"2011\",\"2297\",..: 4 4 4 4 4 4 4 4 4 1 ...\n",
            " $ LactationIdentifier: Factor w/ 4368 levels \"0359563346-2020-03-28\",..: 3539 3539 3539 3539 3539 3539 3539 3539 3539 3810 ...\n",
            " $ Parity             : Factor w/ 3 levels \"1\",\"2\",\"3+\": 3 3 3 3 3 3 3 3 3 2 ...\n",
            " $ MonthsInMilk       : Factor w/ 2 levels \"0\",\"1\": 1 1 1 1 1 2 2 2 2 1 ...\n",
            " $ DaysInMilk         : Factor w/ 42 levels \"-21\",\"-20\",\"-19\",..: 6 12 14 15 19 25 32 36 41 6 ...\n",
            " $ CalvingGroup       : Factor w/ 2 levels \"PostCalving\",..: 2 2 2 2 2 1 1 1 1 2 ...\n",
            " $ numMonthsInMilk    : int [1:86178] 0 0 0 0 0 1 1 1 1 0 ...\n",
            " $ numDaysInMilk      : int [1:86178] -16 -10 -8 -7 -3 4 11 15 20 -16 ...\n",
            " $ CalvingSeason      : Factor w/ 4 levels \"Autumn\",\"Spring\",..: 4 4 4 4 4 4 4 4 4 2 ...\n",
            " $ CalvingDate        : POSIXct[1:86178], format: \"2017-12-04\" \"2017-12-04\" ...\n",
            " $ SensorValue        : num [1:86178] 396 510 513 536 372 528 521 565 554 443 ...\n",
            " $ MilkingType        : Factor w/ 2 levels \"AMS\",\"CMS\": 2 2 2 2 2 2 2 2 2 2 ...\n",
            " $ LactationNumber    : Factor w/ 13 levels \"1\",\"2\",\"3\",\"4\",..: 3 3 3 3 3 3 3 3 3 2 ...\n",
            " $ MRT                : num [1:86178] -2.46 -2.46 -2.46 -2.46 -2.46 ...\n",
            " $ MRTQuantile        : Factor w/ 3 levels \"LOW MRT\",\"HIGH MRT\",..: 3 3 3 3 3 3 3 3 3 1 ...\n",
            " $ AmountMPRNext      : num [1:86178] 43.8 43.8 43.8 43.8 43.8 43.8 43.8 43.8 43.8 26.7 ...\n"
          ]
        }
      ],
      "source": [
        "%%R\n",
        "str(AnalysisData)"
      ]
    },
    {
      "cell_type": "markdown",
      "metadata": {
        "id": "l42FmtZPChUv"
      },
      "source": [
        "## Descriptive statistics"
      ]
    },
    {
      "cell_type": "code",
      "execution_count": null,
      "metadata": {
        "colab": {
          "base_uri": "https://localhost:8080/"
        },
        "id": "1EQ9pN5CCoAc",
        "outputId": "fdeef538-fc32-4d30-e100-4c276896ca5b"
      },
      "outputs": [
        {
          "output_type": "stream",
          "name": "stdout",
          "text": [
            "# A tibble: 2 × 2\n",
            "  Parity Unique_Elements\n",
            "  <fct>            <int>\n",
            "1 2                  709\n",
            "2 3+                1571\n"
          ]
        }
      ],
      "source": [
        "%%R\n",
        "# Total Lactation Per Parity\n",
        "AnalysisData %>%\n",
        "  group_by(Parity) %>%\n",
        "  summarise(Unique_Elements = n_distinct(AnimalIdentifier, CalvingDate))"
      ]
    },
    {
      "cell_type": "code",
      "execution_count": null,
      "metadata": {
        "colab": {
          "base_uri": "https://localhost:8080/"
        },
        "id": "7PUvdlS2dqwG",
        "outputId": "76d8637b-4ead-4e0d-ed52-a004c15f8109"
      },
      "outputs": [
        {
          "output_type": "stream",
          "name": "stdout",
          "text": [
            "# A tibble: 1 × 1\n",
            "  Unique_Elements\n",
            "            <int>\n",
            "1            1314\n"
          ]
        }
      ],
      "source": [
        "%%R\n",
        "# Total Number Animals\n",
        "AnalysisData %>%\n",
        "  summarise(Unique_Elements = n_distinct(AnimalIdentifier))"
      ]
    },
    {
      "cell_type": "code",
      "execution_count": null,
      "metadata": {
        "colab": {
          "base_uri": "https://localhost:8080/"
        },
        "id": "QiHr-5JXCs0f",
        "outputId": "2a58960e-f711-40a0-80d2-d71faef2d0c5"
      },
      "outputs": [
        {
          "output_type": "stream",
          "name": "stdout",
          "text": [
            "# A tibble: 10 × 2\n",
            "   LactationNumber Unique_Elements\n",
            "   <fct>                     <int>\n",
            " 1 2                           709\n",
            " 2 3                           624\n",
            " 3 4                           430\n",
            " 4 5                           269\n",
            " 5 6                           142\n",
            " 6 7                            56\n",
            " 7 8                            27\n",
            " 8 9                            14\n",
            " 9 10                            8\n",
            "10 11                            1\n"
          ]
        }
      ],
      "source": [
        "%%R\n",
        "# Number of Animals per Lactation\n",
        "AnalysisData %>%\n",
        "  group_by(LactationNumber) %>%\n",
        "  summarise(Unique_Elements = n_distinct(AnimalIdentifier, CalvingDate, Parity))"
      ]
    },
    {
      "cell_type": "markdown",
      "metadata": {
        "id": "R3In3XAH6UNw"
      },
      "source": [
        "# Model building"
      ]
    },
    {
      "cell_type": "markdown",
      "metadata": {
        "id": "4fXa9WQx6Zzh"
      },
      "source": [
        "## Multivariable models"
      ]
    },
    {
      "cell_type": "code",
      "execution_count": null,
      "metadata": {
        "id": "N2pB1m1lXFCW"
      },
      "outputs": [],
      "source": [
        "%%R\n",
        "Model2.0 <- lme4::lmer(\n",
        "                  SensorValue ~\n",
        "                  Parity + DaysInMilk + CalvingSeason + HerdIdentifier +  MRTQuantile+\n",
        "                  (1 + numDaysInMilk|LactationIdentifier),\n",
        "                  REML = FALSE,\n",
        "                  data = AnalysisData\n",
        "                  )"
      ]
    },
    {
      "cell_type": "code",
      "execution_count": null,
      "metadata": {
        "colab": {
          "base_uri": "https://localhost:8080/"
        },
        "id": "_jkt1d5IbXsd",
        "outputId": "7088f7a4-798d-4a79-fd9c-6bf69f4bde18"
      },
      "outputs": [
        {
          "output_type": "stream",
          "name": "stdout",
          "text": [
            "Single term deletions\n",
            "\n",
            "Model:\n",
            "SensorValue ~ Parity + DaysInMilk + CalvingSeason + HerdIdentifier + \n",
            "    MRTQuantile + (1 + numDaysInMilk | LactationIdentifier)\n",
            "               npar     AIC    LRT   Pr(Chi)    \n",
            "<none>              1002170                     \n",
            "Parity            1 1002265   96.8 < 2.2e-16 ***\n",
            "DaysInMilk       41 1008305 6216.9 < 2.2e-16 ***\n",
            "CalvingSeason     3 1002194   29.8 1.513e-06 ***\n",
            "HerdIdentifier    6 1002770  611.9 < 2.2e-16 ***\n",
            "MRTQuantile       2 1002182   16.0 0.0003432 ***\n",
            "---\n",
            "Signif. codes:  0 ‘***’ 0.001 ‘**’ 0.01 ‘*’ 0.05 ‘.’ 0.1 ‘ ’ 1\n"
          ]
        }
      ],
      "source": [
        "%%R\n",
        "drop1(Model2.0,test=\"Chisq\")"
      ]
    },
    {
      "cell_type": "markdown",
      "metadata": {
        "id": "77ODuNPrDgMz"
      },
      "source": [
        "## Introduction of interactions"
      ]
    },
    {
      "cell_type": "markdown",
      "metadata": {
        "id": "5-AZ0I91D9wP"
      },
      "source": [
        "### Interactions with DaysInMilk"
      ]
    },
    {
      "cell_type": "code",
      "execution_count": null,
      "metadata": {
        "colab": {
          "base_uri": "https://localhost:8080/"
        },
        "id": "GwUvYh3GcTk2",
        "outputId": "1974f76a-9032-4ffc-97a6-ba192fa15ad6"
      },
      "outputs": [
        {
          "output_type": "stream",
          "name": "stdout",
          "text": [
            "Data: AnalysisData\n",
            "Models:\n",
            "Model2.0: SensorValue ~ Parity + DaysInMilk + CalvingSeason + HerdIdentifier + MRTQuantile + (1 + numDaysInMilk | LactationIdentifier)\n",
            "Model2.1: SensorValue ~ DaysInMilk * Parity + CalvingSeason + HerdIdentifier + MRTQuantile + (1 + numDaysInMilk | LactationIdentifier)\n",
            "         npar     AIC     BIC  logLik deviance  Chisq Df Pr(>Chisq)    \n",
            "Model2.0   58 1002170 1002713 -501027  1002054                         \n",
            "Model2.1   99 1001754 1002682 -500778  1001556 497.25 41  < 2.2e-16 ***\n",
            "---\n",
            "Signif. codes:  0 ‘***’ 0.001 ‘**’ 0.01 ‘*’ 0.05 ‘.’ 0.1 ‘ ’ 1\n"
          ]
        }
      ],
      "source": [
        "%%R\n",
        "Model2.1 <- lme4::lmer(\n",
        "                  SensorValue ~\n",
        "                  DaysInMilk*Parity + CalvingSeason + HerdIdentifier + MRTQuantile +\n",
        "                  (1 + numDaysInMilk| LactationIdentifier),\n",
        "                  REML = FALSE,\n",
        "                  data = AnalysisData\n",
        "                  )\n",
        "anova(Model2.0,Model2.1,test=\"Chisq\")"
      ]
    },
    {
      "cell_type": "code",
      "execution_count": null,
      "metadata": {
        "colab": {
          "base_uri": "https://localhost:8080/"
        },
        "id": "bHfWFaXuCzrL",
        "outputId": "e5e13826-e831-48a4-d187-016ee6ea1aef"
      },
      "outputs": [
        {
          "output_type": "stream",
          "name": "stdout",
          "text": [
            "Data: AnalysisData\n",
            "Models:\n",
            "Model2.0: SensorValue ~ Parity + DaysInMilk + CalvingSeason + HerdIdentifier + MRTQuantile + (1 + numDaysInMilk | LactationIdentifier)\n",
            "Model2.2: SensorValue ~ DaysInMilk * HerdIdentifier + CalvingSeason + Parity + MRTQuantile + (1 + numDaysInMilk | LactationIdentifier)\n",
            "         npar     AIC     BIC  logLik deviance  Chisq  Df Pr(>Chisq)    \n",
            "Model2.0   58 1002170 1002713 -501027  1002054                          \n",
            "Model2.2  304 1001054 1003901 -500223  1000446 1607.8 246  < 2.2e-16 ***\n",
            "---\n",
            "Signif. codes:  0 ‘***’ 0.001 ‘**’ 0.01 ‘*’ 0.05 ‘.’ 0.1 ‘ ’ 1\n"
          ]
        }
      ],
      "source": [
        "%%R\n",
        "Model2.2 <- lme4::lmer(\n",
        "                  SensorValue ~\n",
        "                  DaysInMilk*HerdIdentifier + CalvingSeason + Parity + MRTQuantile +\n",
        "                  (1 + numDaysInMilk| LactationIdentifier),\n",
        "                  REML = FALSE,\n",
        "                  data = AnalysisData\n",
        "                  )\n",
        "anova(Model2.0,Model2.2,test=\"Chisq\")"
      ]
    },
    {
      "cell_type": "code",
      "execution_count": null,
      "metadata": {
        "colab": {
          "base_uri": "https://localhost:8080/"
        },
        "id": "UhQ_QE6QiYgr",
        "outputId": "ce5cf5a0-b481-437e-f6fa-b70352b8d1cb"
      },
      "outputs": [
        {
          "output_type": "stream",
          "name": "stdout",
          "text": [
            "Data: AnalysisData\n",
            "Models:\n",
            "Model2.0: SensorValue ~ Parity + DaysInMilk + CalvingSeason + HerdIdentifier + MRTQuantile + (1 + numDaysInMilk | LactationIdentifier)\n",
            "Model2.3: SensorValue ~ DaysInMilk * CalvingSeason + Parity + HerdIdentifier + MRTQuantile + (1 + numDaysInMilk | LactationIdentifier)\n",
            "         npar     AIC     BIC  logLik deviance  Chisq  Df Pr(>Chisq)  \n",
            "Model2.0   58 1002170 1002713 -501027  1002054                        \n",
            "Model2.3  181 1002264 1003959 -500951  1001902 151.56 123     0.0411 *\n",
            "---\n",
            "Signif. codes:  0 ‘***’ 0.001 ‘**’ 0.01 ‘*’ 0.05 ‘.’ 0.1 ‘ ’ 1\n"
          ]
        }
      ],
      "source": [
        "%%R\n",
        "Model2.3 <- lme4::lmer(\n",
        "                  SensorValue ~\n",
        "                  DaysInMilk*CalvingSeason + Parity + HerdIdentifier + MRTQuantile +\n",
        "                  (1 + numDaysInMilk| LactationIdentifier),\n",
        "                  REML = FALSE,\n",
        "                  data = AnalysisData\n",
        "                  )\n",
        "anova(Model2.0,Model2.3,test=\"Chisq\")"
      ]
    },
    {
      "cell_type": "code",
      "execution_count": null,
      "metadata": {
        "colab": {
          "base_uri": "https://localhost:8080/"
        },
        "id": "lK7eRkweikH8",
        "outputId": "799ae7e9-be8d-4bb5-bed7-96c49bdf37c0"
      },
      "outputs": [
        {
          "output_type": "stream",
          "name": "stdout",
          "text": [
            "Data: AnalysisData\n",
            "Models:\n",
            "Model2.0: SensorValue ~ Parity + DaysInMilk + CalvingSeason + HerdIdentifier + MRTQuantile + (1 + numDaysInMilk | LactationIdentifier)\n",
            "Model2.4: SensorValue ~ DaysInMilk * MRTQuantile + Parity + HerdIdentifier + CalvingSeason + (1 + numDaysInMilk | LactationIdentifier)\n",
            "         npar     AIC     BIC  logLik deviance  Chisq Df Pr(>Chisq)    \n",
            "Model2.0   58 1002170 1002713 -501027  1002054                         \n",
            "Model2.4  140 1002103 1003414 -500912  1001823 230.48 82  4.856e-16 ***\n",
            "---\n",
            "Signif. codes:  0 ‘***’ 0.001 ‘**’ 0.01 ‘*’ 0.05 ‘.’ 0.1 ‘ ’ 1\n"
          ]
        }
      ],
      "source": [
        "%%R\n",
        "Model2.4 <- lme4::lmer(\n",
        "                  SensorValue ~\n",
        "                  DaysInMilk*MRTQuantile + Parity + HerdIdentifier + CalvingSeason +\n",
        "                  (1 + numDaysInMilk| LactationIdentifier),\n",
        "                  REML = FALSE,\n",
        "                  data = AnalysisData\n",
        "                  )\n",
        "anova(Model2.0,Model2.4,test=\"Chisq\")"
      ]
    },
    {
      "cell_type": "markdown",
      "metadata": {
        "id": "rOrMtLRxDyis"
      },
      "source": [
        "## Multiple interactions"
      ]
    },
    {
      "cell_type": "code",
      "execution_count": null,
      "metadata": {
        "id": "kgTbPyEVEIJr"
      },
      "outputs": [],
      "source": [
        "%%R\n",
        "Model2.5 <- lme4::lmer(\n",
        "                  SensorValue ~\n",
        "                  DaysInMilk*CalvingSeason +\n",
        "                  DaysInMilk*Parity +\n",
        "                  DaysInMilk*MRTQuantile +\n",
        "                  DaysInMilk*HerdIdentifier +\n",
        "                  (1 + numDaysInMilk| LactationIdentifier),\n",
        "                  REML = FALSE,\n",
        "                  data = AnalysisData\n",
        "                  )\n",
        "finalModel <- Model2.5"
      ]
    },
    {
      "cell_type": "code",
      "source": [
        "%%R\n",
        "anova(Model2.0,Model2.5,test=\"Chisq\")"
      ],
      "metadata": {
        "colab": {
          "base_uri": "https://localhost:8080/"
        },
        "id": "WcwPWom5DCcD",
        "outputId": "a196830f-3572-4b2f-d52a-f54921bc5a76"
      },
      "execution_count": null,
      "outputs": [
        {
          "output_type": "stream",
          "name": "stdout",
          "text": [
            "Data: AnalysisData\n",
            "Models:\n",
            "Model2.0: SensorValue ~ Parity + DaysInMilk + CalvingSeason + HerdIdentifier + MRTQuantile + (1 + numDaysInMilk | LactationIdentifier)\n",
            "Model2.5: SensorValue ~ DaysInMilk * CalvingSeason + DaysInMilk * Parity + DaysInMilk * MRTQuantile + DaysInMilk * HerdIdentifier + (1 + numDaysInMilk | LactationIdentifier)\n",
            "         npar     AIC     BIC  logLik deviance Chisq  Df Pr(>Chisq)    \n",
            "Model2.0   58 1002170 1002713 -501027  1002054                         \n",
            "Model2.5  550 1000615 1005765 -499757   999515  2539 492  < 2.2e-16 ***\n",
            "---\n",
            "Signif. codes:  0 ‘***’ 0.001 ‘**’ 0.01 ‘*’ 0.05 ‘.’ 0.1 ‘ ’ 1\n"
          ]
        }
      ]
    },
    {
      "cell_type": "code",
      "execution_count": null,
      "metadata": {
        "colab": {
          "base_uri": "https://localhost:8080/"
        },
        "id": "9SpgaGUtERuw",
        "outputId": "3ac3ceeb-6741-44aa-b6ac-bd9cd424cf70"
      },
      "outputs": [
        {
          "output_type": "stream",
          "name": "stdout",
          "text": [
            "Single term deletions\n",
            "\n",
            "Model:\n",
            "SensorValue ~ DaysInMilk * CalvingSeason + DaysInMilk * Parity + \n",
            "    DaysInMilk * MRTQuantile + DaysInMilk * HerdIdentifier + \n",
            "    (1 + numDaysInMilk | LactationIdentifier)\n",
            "                          npar     AIC     LRT   Pr(Chi)    \n",
            "<none>                         1000615                      \n",
            "DaysInMilk:CalvingSeason   123 1000567  197.85  2.17e-05 ***\n",
            "DaysInMilk:Parity           41 1001030  497.34 < 2.2e-16 ***\n",
            "DaysInMilk:MRTQuantile      82 1000725  273.94 < 2.2e-16 ***\n",
            "DaysInMilk:HerdIdentifier  246 1001746 1623.24 < 2.2e-16 ***\n",
            "---\n",
            "Signif. codes:  0 ‘***’ 0.001 ‘**’ 0.01 ‘*’ 0.05 ‘.’ 0.1 ‘ ’ 1\n"
          ]
        }
      ],
      "source": [
        "%%R\n",
        "\n",
        "Modeldrop <- drop1(finalModel, test=\"Chisq\")\n",
        "if(\"Pr(>F)\" %in% colnames(Modeldrop))\n",
        "{\n",
        "  Pvalues <- Modeldrop$`Pr(>F)`\n",
        "} else\n",
        "{\n",
        "  Pvalues <- Modeldrop$`Pr(Chi)`\n",
        "}\n",
        "Modeldrop"
      ]
    },
    {
      "cell_type": "code",
      "execution_count": null,
      "metadata": {
        "id": "sO8WNy-NEZkg"
      },
      "outputs": [],
      "source": [
        "%%R\n",
        "save(finalModel, file=\"/content/drive/Shareddrives/Bovi-Analytics/Projects/CelienKemel/Models/finalmodelRuminationtimeDaysInMilk.rdata\")"
      ]
    },
    {
      "cell_type": "code",
      "execution_count": null,
      "metadata": {
        "id": "kA-1K0AzORcv"
      },
      "outputs": [],
      "source": [
        "%%R\n",
        "load(file=\"/content/drive/Shareddrives/Bovi-Analytics/Projects/CelienKemel/Models/finalmodelRuminationtimeDaysInMilk.rdata\")"
      ]
    },
    {
      "cell_type": "markdown",
      "metadata": {
        "id": "UF79IhRAEfmo"
      },
      "source": [
        "# Final model analysis of variance"
      ]
    },
    {
      "cell_type": "code",
      "execution_count": null,
      "metadata": {
        "colab": {
          "base_uri": "https://localhost:8080/"
        },
        "id": "yd0IDLaBEl9O",
        "outputId": "c0a35bbf-902e-4993-f684-3a2afa658c59"
      },
      "outputs": [
        {
          "output_type": "stream",
          "name": "stdout",
          "text": [
            "Analysis of Deviance Table (Type II Wald chisquare tests)\n",
            "\n",
            "Response: SensorValue\n",
            "                             Chisq  Df Pr(>Chisq)    \n",
            "DaysInMilk                6750.985  41  < 2.2e-16 ***\n",
            "CalvingSeason               31.271   3  7.453e-07 ***\n",
            "Parity                     100.071   1  < 2.2e-16 ***\n",
            "MRTQuantile                 16.433   2  0.0002701 ***\n",
            "HerdIdentifier             718.834   6  < 2.2e-16 ***\n",
            "DaysInMilk:CalvingSeason   198.159 123  2.040e-05 ***\n",
            "DaysInMilk:Parity          499.624  41  < 2.2e-16 ***\n",
            "DaysInMilk:MRTQuantile     275.017  82  < 2.2e-16 ***\n",
            "DaysInMilk:HerdIdentifier 1643.262 246  < 2.2e-16 ***\n",
            "---\n",
            "Signif. codes:  0 ‘***’ 0.001 ‘**’ 0.01 ‘*’ 0.05 ‘.’ 0.1 ‘ ’ 1\n"
          ]
        }
      ],
      "source": [
        "%%R\n",
        "Anova(finalModel)"
      ]
    },
    {
      "cell_type": "markdown",
      "metadata": {
        "id": "IQq7peY6Eoqi"
      },
      "source": [
        "# Final model figures and LSM (95%CI)"
      ]
    },
    {
      "cell_type": "markdown",
      "metadata": {
        "id": "lENmSxBoEvB3"
      },
      "source": [
        "## Main effects"
      ]
    },
    {
      "cell_type": "code",
      "execution_count": null,
      "metadata": {
        "colab": {
          "base_uri": "https://localhost:8080/"
        },
        "id": "ECqJq_RLEylo",
        "outputId": "78e5d9d4-195d-4504-a076-2eb3a1c727a5"
      },
      "outputs": [
        {
          "output_type": "stream",
          "name": "stderr",
          "text": [
            "WARNING:rpy2.rinterface_lib.callbacks:R[write to console]: Note: D.f. calculations have been disabled because the number of observations exceeds 3000.\n",
            "To enable adjustments, add the argument 'pbkrtest.limit = 86178' (or larger)\n",
            "[or, globally, 'set emm_options(pbkrtest.limit = 86178)' or larger];\n",
            "but be warned that this may result in large computation time and memory use.\n",
            "\n",
            "WARNING:rpy2.rinterface_lib.callbacks:R[write to console]: Note: D.f. calculations have been disabled because the number of observations exceeds 3000.\n",
            "To enable adjustments, add the argument 'lmerTest.limit = 86178' (or larger)\n",
            "[or, globally, 'set emm_options(lmerTest.limit = 86178)' or larger];\n",
            "but be warned that this may result in large computation time and memory use.\n",
            "\n",
            "WARNING:rpy2.rinterface_lib.callbacks:R[write to console]: NOTE: Results may be misleading due to involvement in interactions\n",
            "\n"
          ]
        },
        {
          "output_type": "stream",
          "name": "stdout",
          "text": [
            " DaysInMilk lsmean   SE  df asymp.LCL asymp.UCL .group            \n",
            " 1             459 2.44 Inf       451       467  a                \n",
            " -1            484 2.33 Inf       477       492   b               \n",
            " -2            485 2.33 Inf       477       493   bc              \n",
            " -3            488 2.34 Inf       480       496   bc              \n",
            " -4            492 2.34 Inf       484       499   bcd             \n",
            " -5            495 2.35 Inf       487       502    cde            \n",
            " -6            498 2.36 Inf       491       506     def           \n",
            " 2             500 2.44 Inf       492       508     defg          \n",
            " -7            503 2.36 Inf       496       511      efgh         \n",
            " -8            504 2.37 Inf       497       512      efghi        \n",
            " -10           505 2.40 Inf       497       513       fghij       \n",
            " -9            506 2.39 Inf       498       513       fghij       \n",
            " -11           510 2.42 Inf       502       517        ghijk      \n",
            " -12           511 2.43 Inf       503       519        ghijk      \n",
            " -14           513 2.46 Inf       505       521         hijkl     \n",
            " -16           513 2.50 Inf       505       521         hijkl     \n",
            " -13           514 2.45 Inf       506       522          ijkl     \n",
            " 3             516 2.44 Inf       508       524           jkl     \n",
            " -15           516 2.48 Inf       508       524            klm    \n",
            " -17           517 2.53 Inf       509       525            klm    \n",
            " -19           518 2.57 Inf       509       526            klm    \n",
            " -18           518 2.54 Inf       510       526            klm    \n",
            " -20           518 2.60 Inf       510       527            klm    \n",
            " -21           521 2.62 Inf       513       530             lm    \n",
            " 4             527 2.44 Inf       519       535              m    \n",
            " 5             539 2.45 Inf       531       547               n   \n",
            " 6             541 2.46 Inf       533       549               no  \n",
            " 7             542 2.46 Inf       534       550               nop \n",
            " 14            544 2.56 Inf       536       553               nopq\n",
            " 10            545 2.50 Inf       537       553               nopq\n",
            " 11            545 2.52 Inf       537       553               nopq\n",
            " 9             545 2.49 Inf       537       553               nopq\n",
            " 8             546 2.47 Inf       538       554               nopq\n",
            " 12            548 2.53 Inf       540       557               nopq\n",
            " 13            549 2.54 Inf       540       557               nopq\n",
            " 16            550 2.60 Inf       541       558               nopq\n",
            " 15            550 2.58 Inf       541       558                opq\n",
            " 17            551 2.62 Inf       543       560                opq\n",
            " 21            552 2.70 Inf       543       561                opq\n",
            " 20            552 2.68 Inf       544       561                 pq\n",
            " 18            554 2.64 Inf       546       563                  q\n",
            " 19            554 2.66 Inf       546       563                  q\n",
            "\n",
            "Results are averaged over the levels of: CalvingSeason, Parity, MRTQuantile, HerdIdentifier \n",
            "Degrees-of-freedom method: asymptotic \n",
            "Confidence level used: 0.95 \n",
            "Conf-level adjustment: sidak method for 42 estimates \n",
            "P value adjustment: sidak method for 861 tests \n",
            "significance level used: alpha = 0.05 \n",
            "NOTE: If two or more means share the same grouping symbol,\n",
            "      then we cannot show them to be different.\n",
            "      But we also did not show them to be the same. \n"
          ]
        }
      ],
      "source": [
        "%%R\n",
        "multcomp::cld(lsmeans::lsmeans(finalModel, ~ DaysInMilk), alpha=0.05, Letters=letters, adjust=\"sidak\")"
      ]
    },
    {
      "cell_type": "code",
      "execution_count": null,
      "metadata": {
        "colab": {
          "base_uri": "https://localhost:8080/"
        },
        "id": "H7DqWfQgE4FS",
        "outputId": "ebbab012-7527-483f-871a-ba7c86ea8b3e"
      },
      "outputs": [
        {
          "output_type": "stream",
          "name": "stderr",
          "text": [
            "WARNING:rpy2.rinterface_lib.callbacks:R[write to console]: Note: D.f. calculations have been disabled because the number of observations exceeds 3000.\n",
            "To enable adjustments, add the argument 'pbkrtest.limit = 86178' (or larger)\n",
            "[or, globally, 'set emm_options(pbkrtest.limit = 86178)' or larger];\n",
            "but be warned that this may result in large computation time and memory use.\n",
            "\n",
            "WARNING:rpy2.rinterface_lib.callbacks:R[write to console]: Note: D.f. calculations have been disabled because the number of observations exceeds 3000.\n",
            "To enable adjustments, add the argument 'lmerTest.limit = 86178' (or larger)\n",
            "[or, globally, 'set emm_options(lmerTest.limit = 86178)' or larger];\n",
            "but be warned that this may result in large computation time and memory use.\n",
            "\n",
            "WARNING:rpy2.rinterface_lib.callbacks:R[write to console]: NOTE: Results may be misleading due to involvement in interactions\n",
            "\n"
          ]
        },
        {
          "output_type": "stream",
          "name": "stdout",
          "text": [
            " Parity lsmean   SE  df asymp.LCL asymp.UCL .group\n",
            " 3+        508 1.70 Inf       504       512  a    \n",
            " 2         536 2.46 Inf       531       542   b   \n",
            "\n",
            "Results are averaged over the levels of: DaysInMilk, CalvingSeason, MRTQuantile, HerdIdentifier \n",
            "Degrees-of-freedom method: asymptotic \n",
            "Confidence level used: 0.95 \n",
            "Conf-level adjustment: sidak method for 2 estimates \n",
            "significance level used: alpha = 0.05 \n",
            "NOTE: If two or more means share the same grouping symbol,\n",
            "      then we cannot show them to be different.\n",
            "      But we also did not show them to be the same. \n"
          ]
        }
      ],
      "source": [
        "%%R\n",
        "multcomp::cld(lsmeans::lsmeans(finalModel, ~ Parity), alpha=0.05, Letters=letters, adjust=\"sidak\")"
      ]
    },
    {
      "cell_type": "code",
      "execution_count": null,
      "metadata": {
        "colab": {
          "base_uri": "https://localhost:8080/"
        },
        "id": "T1JjeuHlE76d",
        "outputId": "9d358fb5-c607-41a2-fc48-29bda740162c"
      },
      "outputs": [
        {
          "output_type": "stream",
          "name": "stderr",
          "text": [
            "WARNING:rpy2.rinterface_lib.callbacks:R[write to console]: Note: D.f. calculations have been disabled because the number of observations exceeds 3000.\n",
            "To enable adjustments, add the argument 'pbkrtest.limit = 86178' (or larger)\n",
            "[or, globally, 'set emm_options(pbkrtest.limit = 86178)' or larger];\n",
            "but be warned that this may result in large computation time and memory use.\n",
            "\n",
            "WARNING:rpy2.rinterface_lib.callbacks:R[write to console]: Note: D.f. calculations have been disabled because the number of observations exceeds 3000.\n",
            "To enable adjustments, add the argument 'lmerTest.limit = 86178' (or larger)\n",
            "[or, globally, 'set emm_options(lmerTest.limit = 86178)' or larger];\n",
            "but be warned that this may result in large computation time and memory use.\n",
            "\n",
            "WARNING:rpy2.rinterface_lib.callbacks:R[write to console]: NOTE: Results may be misleading due to involvement in interactions\n",
            "\n"
          ]
        },
        {
          "output_type": "stream",
          "name": "stdout",
          "text": [
            " CalvingSeason lsmean   SE  df asymp.LCL asymp.UCL .group\n",
            " Summer           512 2.58 Inf       506       519  a    \n",
            " Spring           520 3.12 Inf       512       528  ab   \n",
            " Autumn           522 2.62 Inf       516       529   b   \n",
            " Winter           534 2.98 Inf       527       542    c  \n",
            "\n",
            "Results are averaged over the levels of: DaysInMilk, Parity, MRTQuantile, HerdIdentifier \n",
            "Degrees-of-freedom method: asymptotic \n",
            "Confidence level used: 0.95 \n",
            "Conf-level adjustment: sidak method for 4 estimates \n",
            "P value adjustment: sidak method for 6 tests \n",
            "significance level used: alpha = 0.05 \n",
            "NOTE: If two or more means share the same grouping symbol,\n",
            "      then we cannot show them to be different.\n",
            "      But we also did not show them to be the same. \n"
          ]
        }
      ],
      "source": [
        "%%R\n",
        "multcomp::cld(lsmeans::lsmeans(finalModel, ~ CalvingSeason), alpha=0.05, Letters=letters, adjust=\"sidak\")"
      ]
    },
    {
      "cell_type": "code",
      "execution_count": null,
      "metadata": {
        "colab": {
          "base_uri": "https://localhost:8080/"
        },
        "id": "JInkz2NGFADO",
        "outputId": "36cf2503-c21a-4eba-8fc6-c9be70c0ea1b"
      },
      "outputs": [
        {
          "output_type": "stream",
          "name": "stderr",
          "text": [
            "WARNING:rpy2.rinterface_lib.callbacks:R[write to console]: Note: D.f. calculations have been disabled because the number of observations exceeds 3000.\n",
            "To enable adjustments, add the argument 'pbkrtest.limit = 86178' (or larger)\n",
            "[or, globally, 'set emm_options(pbkrtest.limit = 86178)' or larger];\n",
            "but be warned that this may result in large computation time and memory use.\n",
            "\n",
            "WARNING:rpy2.rinterface_lib.callbacks:R[write to console]: Note: D.f. calculations have been disabled because the number of observations exceeds 3000.\n",
            "To enable adjustments, add the argument 'lmerTest.limit = 86178' (or larger)\n",
            "[or, globally, 'set emm_options(lmerTest.limit = 86178)' or larger];\n",
            "but be warned that this may result in large computation time and memory use.\n",
            "\n",
            "WARNING:rpy2.rinterface_lib.callbacks:R[write to console]: NOTE: Results may be misleading due to involvement in interactions\n",
            "\n"
          ]
        },
        {
          "output_type": "stream",
          "name": "stdout",
          "text": [
            " MRTQuantile lsmean   SE  df asymp.LCL asymp.UCL .group\n",
            " LOW MRT        514 2.43 Inf       508       520  a    \n",
            " MED MRT        524 2.49 Inf       518       530   b   \n",
            " HIGH MRT       528 2.42 Inf       523       534   b   \n",
            "\n",
            "Results are averaged over the levels of: DaysInMilk, CalvingSeason, Parity, HerdIdentifier \n",
            "Degrees-of-freedom method: asymptotic \n",
            "Confidence level used: 0.95 \n",
            "Conf-level adjustment: sidak method for 3 estimates \n",
            "P value adjustment: sidak method for 3 tests \n",
            "significance level used: alpha = 0.05 \n",
            "NOTE: If two or more means share the same grouping symbol,\n",
            "      then we cannot show them to be different.\n",
            "      But we also did not show them to be the same. \n"
          ]
        }
      ],
      "source": [
        "%%R\n",
        "multcomp::cld(lsmeans::lsmeans(finalModel, ~ MRTQuantile), alpha=0.05, Letters=letters, adjust=\"sidak\")"
      ]
    },
    {
      "cell_type": "markdown",
      "metadata": {
        "id": "6H8NuM30FDfx"
      },
      "source": [
        "## Interactions"
      ]
    },
    {
      "cell_type": "markdown",
      "metadata": {
        "id": "9cxchpv_FHEv"
      },
      "source": [
        "### DaysInMilk by MRTQuantile"
      ]
    },
    {
      "cell_type": "code",
      "execution_count": null,
      "metadata": {
        "colab": {
          "base_uri": "https://localhost:8080/"
        },
        "id": "LkCRgq3-lSM8",
        "outputId": "f40b5235-aa5e-427b-e284-f93e6159a42f"
      },
      "outputs": [
        {
          "output_type": "stream",
          "name": "stderr",
          "text": [
            "WARNING:rpy2.rinterface_lib.callbacks:R[write to console]: Note: D.f. calculations have been disabled because the number of observations exceeds 3000.\n",
            "To enable adjustments, add the argument 'pbkrtest.limit = 86178' (or larger)\n",
            "[or, globally, 'set emm_options(pbkrtest.limit = 86178)' or larger];\n",
            "but be warned that this may result in large computation time and memory use.\n",
            "\n",
            "WARNING:rpy2.rinterface_lib.callbacks:R[write to console]: Note: D.f. calculations have been disabled because the number of observations exceeds 3000.\n",
            "To enable adjustments, add the argument 'lmerTest.limit = 86178' (or larger)\n",
            "[or, globally, 'set emm_options(lmerTest.limit = 86178)' or larger];\n",
            "but be warned that this may result in large computation time and memory use.\n",
            "\n"
          ]
        },
        {
          "output_type": "stream",
          "name": "stdout",
          "text": [
            "DaysInMilk = -21:\n",
            " MRTQuantile emmean   SE  df asymp.LCL asymp.UCL .group\n",
            " HIGH MRT       516 4.17 Inf       506       526  a    \n",
            " MED MRT        523 4.32 Inf       513       534  a    \n",
            " LOW MRT        525 4.18 Inf       515       535  a    \n",
            "\n",
            "DaysInMilk = -20:\n",
            " MRTQuantile emmean   SE  df asymp.LCL asymp.UCL .group\n",
            " MED MRT        518 4.27 Inf       508       528  a    \n",
            " LOW MRT        518 4.14 Inf       508       528  a    \n",
            " HIGH MRT       519 4.13 Inf       509       529  a    \n",
            "\n",
            "DaysInMilk = -19:\n",
            " MRTQuantile emmean   SE  df asymp.LCL asymp.UCL .group\n",
            " MED MRT        516 4.24 Inf       505       526  a    \n",
            " LOW MRT        517 4.10 Inf       508       527  a    \n",
            " HIGH MRT       520 4.10 Inf       510       530  a    \n",
            "\n",
            "DaysInMilk = -18:\n",
            " MRTQuantile emmean   SE  df asymp.LCL asymp.UCL .group\n",
            " MED MRT        516 4.19 Inf       506       526  a    \n",
            " HIGH MRT       519 4.05 Inf       509       528  a    \n",
            " LOW MRT        519 4.05 Inf       509       528  a    \n",
            "\n",
            "DaysInMilk = -17:\n",
            " MRTQuantile emmean   SE  df asymp.LCL asymp.UCL .group\n",
            " HIGH MRT       516 4.03 Inf       507       526  a    \n",
            " LOW MRT        516 4.03 Inf       507       526  a    \n",
            " MED MRT        518 4.16 Inf       508       528  a    \n",
            "\n",
            "DaysInMilk = -16:\n",
            " MRTQuantile emmean   SE  df asymp.LCL asymp.UCL .group\n",
            " HIGH MRT       511 3.99 Inf       501       520  a    \n",
            " LOW MRT        512 3.99 Inf       503       522  a    \n",
            " MED MRT        516 4.12 Inf       506       526  a    \n",
            "\n",
            "DaysInMilk = -15:\n",
            " MRTQuantile emmean   SE  df asymp.LCL asymp.UCL .group\n",
            " HIGH MRT       513 3.96 Inf       504       523  a    \n",
            " LOW MRT        518 3.96 Inf       508       527  a    \n",
            " MED MRT        518 4.08 Inf       508       528  a    \n",
            "\n",
            "DaysInMilk = -14:\n",
            " MRTQuantile emmean   SE  df asymp.LCL asymp.UCL .group\n",
            " HIGH MRT       508 3.93 Inf       499       518  a    \n",
            " LOW MRT        515 3.93 Inf       505       524  a    \n",
            " MED MRT        516 4.05 Inf       507       526  a    \n",
            "\n",
            "DaysInMilk = -13:\n",
            " MRTQuantile emmean   SE  df asymp.LCL asymp.UCL .group\n",
            " MED MRT        511 4.03 Inf       501       520  a    \n",
            " LOW MRT        513 3.91 Inf       504       523  a    \n",
            " HIGH MRT       516 3.90 Inf       507       526  a    \n",
            "\n",
            "DaysInMilk = -12:\n",
            " MRTQuantile emmean   SE  df asymp.LCL asymp.UCL .group\n",
            " HIGH MRT       510 3.88 Inf       501       520  a    \n",
            " LOW MRT        511 3.88 Inf       502       520  a    \n",
            " MED MRT        512 4.00 Inf       502       521  a    \n",
            "\n",
            "DaysInMilk = -11:\n",
            " MRTQuantile emmean   SE  df asymp.LCL asymp.UCL .group\n",
            " LOW MRT        506 3.85 Inf       497       515  a    \n",
            " MED MRT        511 3.98 Inf       501       520  a    \n",
            " HIGH MRT       512 3.85 Inf       503       521  a    \n",
            "\n",
            "DaysInMilk = -10:\n",
            " MRTQuantile emmean   SE  df asymp.LCL asymp.UCL .group\n",
            " LOW MRT        504 3.83 Inf       495       513  a    \n",
            " HIGH MRT       504 3.83 Inf       495       514  a    \n",
            " MED MRT        507 3.95 Inf       497       516  a    \n",
            "\n",
            "DaysInMilk = -9:\n",
            " MRTQuantile emmean   SE  df asymp.LCL asymp.UCL .group\n",
            " LOW MRT        503 3.81 Inf       494       512  a    \n",
            " HIGH MRT       505 3.80 Inf       495       514  a    \n",
            " MED MRT        509 3.93 Inf       499       518  a    \n",
            "\n",
            "DaysInMilk = -8:\n",
            " MRTQuantile emmean   SE  df asymp.LCL asymp.UCL .group\n",
            " LOW MRT        502 3.79 Inf       493       511  a    \n",
            " HIGH MRT       505 3.79 Inf       496       514  a    \n",
            " MED MRT        506 3.90 Inf       496       515  a    \n",
            "\n",
            "DaysInMilk = -7:\n",
            " MRTQuantile emmean   SE  df asymp.LCL asymp.UCL .group\n",
            " LOW MRT        502 3.77 Inf       493       511  a    \n",
            " MED MRT        503 3.89 Inf       493       512  a    \n",
            " HIGH MRT       505 3.77 Inf       496       514  a    \n",
            "\n",
            "DaysInMilk = -6:\n",
            " MRTQuantile emmean   SE  df asymp.LCL asymp.UCL .group\n",
            " LOW MRT        495 3.76 Inf       486       504  a    \n",
            " HIGH MRT       499 3.76 Inf       490       508  a    \n",
            " MED MRT        501 3.88 Inf       492       510  a    \n",
            "\n",
            "DaysInMilk = -5:\n",
            " MRTQuantile emmean   SE  df asymp.LCL asymp.UCL .group\n",
            " HIGH MRT       492 3.74 Inf       483       501  a    \n",
            " MED MRT        496 3.86 Inf       487       505  a    \n",
            " LOW MRT        497 3.75 Inf       488       506  a    \n",
            "\n",
            "DaysInMilk = -4:\n",
            " MRTQuantile emmean   SE  df asymp.LCL asymp.UCL .group\n",
            " LOW MRT        488 3.74 Inf       479       497  a    \n",
            " HIGH MRT       492 3.73 Inf       483       501  a    \n",
            " MED MRT        495 3.85 Inf       486       504  a    \n",
            "\n",
            "DaysInMilk = -3:\n",
            " MRTQuantile emmean   SE  df asymp.LCL asymp.UCL .group\n",
            " LOW MRT        485 3.73 Inf       476       494  a    \n",
            " MED MRT        489 3.84 Inf       479       498  a    \n",
            " HIGH MRT       490 3.72 Inf       481       499  a    \n",
            "\n",
            "DaysInMilk = -2:\n",
            " MRTQuantile emmean   SE  df asymp.LCL asymp.UCL .group\n",
            " MED MRT        484 3.83 Inf       475       493  a    \n",
            " HIGH MRT       484 3.71 Inf       476       493  a    \n",
            " LOW MRT        487 3.73 Inf       478       495  a    \n",
            "\n",
            "DaysInMilk = -1:\n",
            " MRTQuantile emmean   SE  df asymp.LCL asymp.UCL .group\n",
            " HIGH MRT       484 3.71 Inf       475       492  a    \n",
            " MED MRT        484 3.82 Inf       475       493  a    \n",
            " LOW MRT        486 3.72 Inf       477       495  a    \n",
            "\n",
            "DaysInMilk = 1:\n",
            " MRTQuantile emmean   SE  df asymp.LCL asymp.UCL .group\n",
            " HIGH MRT       455 3.85 Inf       445       464  a    \n",
            " LOW MRT        459 3.92 Inf       450       468  a    \n",
            " MED MRT        463 3.99 Inf       453       472  a    \n",
            "\n",
            "DaysInMilk = 2:\n",
            " MRTQuantile emmean   SE  df asymp.LCL asymp.UCL .group\n",
            " LOW MRT        487 3.92 Inf       478       496  a    \n",
            " MED MRT        503 4.00 Inf       493       512   b   \n",
            " HIGH MRT       510 3.85 Inf       501       519   b   \n",
            "\n",
            "DaysInMilk = 3:\n",
            " MRTQuantile emmean   SE  df asymp.LCL asymp.UCL .group\n",
            " LOW MRT        500 3.92 Inf       491       510  a    \n",
            " MED MRT        519 3.99 Inf       509       528   b   \n",
            " HIGH MRT       528 3.86 Inf       519       538   b   \n",
            "\n",
            "DaysInMilk = 4:\n",
            " MRTQuantile emmean   SE  df asymp.LCL asymp.UCL .group\n",
            " LOW MRT        512 3.93 Inf       503       521  a    \n",
            " MED MRT        527 4.00 Inf       517       536   b   \n",
            " HIGH MRT       542 3.87 Inf       532       551    c  \n",
            "\n",
            "DaysInMilk = 5:\n",
            " MRTQuantile emmean   SE  df asymp.LCL asymp.UCL .group\n",
            " LOW MRT        520 3.94 Inf       510       529  a    \n",
            " MED MRT        545 4.01 Inf       535       555   b   \n",
            " HIGH MRT       551 3.89 Inf       542       561   b   \n",
            "\n",
            "DaysInMilk = 6:\n",
            " MRTQuantile emmean   SE  df asymp.LCL asymp.UCL .group\n",
            " LOW MRT        521 3.95 Inf       511       530  a    \n",
            " MED MRT        545 4.02 Inf       535       554   b   \n",
            " HIGH MRT       557 3.90 Inf       548       566   b   \n",
            "\n",
            "DaysInMilk = 7:\n",
            " MRTQuantile emmean   SE  df asymp.LCL asymp.UCL .group\n",
            " LOW MRT        521 3.97 Inf       511       530  a    \n",
            " MED MRT        547 4.03 Inf       537       556   b   \n",
            " HIGH MRT       557 3.91 Inf       548       567   b   \n",
            "\n",
            "DaysInMilk = 8:\n",
            " MRTQuantile emmean   SE  df asymp.LCL asymp.UCL .group\n",
            " LOW MRT        530 3.99 Inf       521       540  a    \n",
            " MED MRT        546 4.05 Inf       537       556   b   \n",
            " HIGH MRT       561 3.93 Inf       551       570    c  \n",
            "\n",
            "DaysInMilk = 9:\n",
            " MRTQuantile emmean   SE  df asymp.LCL asymp.UCL .group\n",
            " LOW MRT        527 4.01 Inf       517       536  a    \n",
            " MED MRT        548 4.06 Inf       538       558   b   \n",
            " HIGH MRT       561 3.95 Inf       551       570   b   \n",
            "\n",
            "DaysInMilk = 10:\n",
            " MRTQuantile emmean   SE  df asymp.LCL asymp.UCL .group\n",
            " LOW MRT        526 4.03 Inf       516       536  a    \n",
            " MED MRT        545 4.09 Inf       535       555   b   \n",
            " HIGH MRT       563 3.97 Inf       553       572    c  \n",
            "\n",
            "DaysInMilk = 11:\n",
            " MRTQuantile emmean   SE  df asymp.LCL asymp.UCL .group\n",
            " LOW MRT        526 4.05 Inf       516       536  a    \n",
            " MED MRT        546 4.12 Inf       536       555   b   \n",
            " HIGH MRT       564 4.00 Inf       554       573    c  \n",
            "\n",
            "DaysInMilk = 12:\n",
            " MRTQuantile emmean   SE  df asymp.LCL asymp.UCL .group\n",
            " LOW MRT        532 4.07 Inf       523       542  a    \n",
            " MED MRT        549 4.13 Inf       539       559   b   \n",
            " HIGH MRT       564 4.02 Inf       554       574    c  \n",
            "\n",
            "DaysInMilk = 13:\n",
            " MRTQuantile emmean   SE  df asymp.LCL asymp.UCL .group\n",
            " LOW MRT        533 4.10 Inf       523       543  a    \n",
            " MED MRT        552 4.16 Inf       542       562   b   \n",
            " HIGH MRT       561 4.04 Inf       551       571   b   \n",
            "\n",
            "DaysInMilk = 14:\n",
            " MRTQuantile emmean   SE  df asymp.LCL asymp.UCL .group\n",
            " LOW MRT        526 4.11 Inf       516       536  a    \n",
            " MED MRT        549 4.19 Inf       539       559   b   \n",
            " HIGH MRT       558 4.08 Inf       549       568   b   \n",
            "\n",
            "DaysInMilk = 15:\n",
            " MRTQuantile emmean   SE  df asymp.LCL asymp.UCL .group\n",
            " LOW MRT        534 4.15 Inf       524       544  a    \n",
            " MED MRT        554 4.22 Inf       543       564   b   \n",
            " HIGH MRT       562 4.10 Inf       552       572   b   \n",
            "\n",
            "DaysInMilk = 16:\n",
            " MRTQuantile emmean   SE  df asymp.LCL asymp.UCL .group\n",
            " LOW MRT        535 4.18 Inf       525       545  a    \n",
            " HIGH MRT       557 4.13 Inf       547       567   b   \n",
            " MED MRT        557 4.25 Inf       547       568   b   \n",
            "\n",
            "DaysInMilk = 17:\n",
            " MRTQuantile emmean   SE  df asymp.LCL asymp.UCL .group\n",
            " LOW MRT        539 4.21 Inf       529       549  a    \n",
            " MED MRT        554 4.28 Inf       544       564   b   \n",
            " HIGH MRT       562 4.17 Inf       552       572   b   \n",
            "\n",
            "DaysInMilk = 18:\n",
            " MRTQuantile emmean   SE  df asymp.LCL asymp.UCL .group\n",
            " LOW MRT        538 4.24 Inf       528       548  a    \n",
            " MED MRT        558 4.32 Inf       548       569   b   \n",
            " HIGH MRT       566 4.20 Inf       556       576   b   \n",
            "\n",
            "DaysInMilk = 19:\n",
            " MRTQuantile emmean   SE  df asymp.LCL asymp.UCL .group\n",
            " LOW MRT        540 4.27 Inf       530       550  a    \n",
            " MED MRT        556 4.35 Inf       546       567   b   \n",
            " HIGH MRT       566 4.23 Inf       556       577   b   \n",
            "\n",
            "DaysInMilk = 20:\n",
            " MRTQuantile emmean   SE  df asymp.LCL asymp.UCL .group\n",
            " LOW MRT        537 4.31 Inf       527       547  a    \n",
            " MED MRT        558 4.39 Inf       547       568   b   \n",
            " HIGH MRT       562 4.26 Inf       552       572   b   \n",
            "\n",
            "DaysInMilk = 21:\n",
            " MRTQuantile emmean   SE  df asymp.LCL asymp.UCL .group\n",
            " LOW MRT        537 4.35 Inf       527       548  a    \n",
            " MED MRT        556 4.43 Inf       546       567   b   \n",
            " HIGH MRT       562 4.30 Inf       551       572   b   \n",
            "\n",
            "Results are averaged over the levels of: CalvingSeason, Parity, HerdIdentifier \n",
            "Degrees-of-freedom method: asymptotic \n",
            "Confidence level used: 0.95 \n",
            "Conf-level adjustment: sidak method for 3 estimates \n",
            "P value adjustment: sidak method for 3 tests \n",
            "significance level used: alpha = 0.05 \n",
            "NOTE: If two or more means share the same grouping symbol,\n",
            "      then we cannot show them to be different.\n",
            "      But we also did not show them to be the same. \n"
          ]
        }
      ],
      "source": [
        "%%R\n",
        "LSMs<-lsmeans::lsmeans(finalModel, pairwise ~ MRTQuantile|DaysInMilk, type = \"response\", glhargs=list())\n",
        "multcomp::cld(LSMs[[1]], alpha=0.05, Letters=letters, adjust=\"sidak\")"
      ]
    },
    {
      "cell_type": "code",
      "execution_count": null,
      "metadata": {
        "colab": {
          "base_uri": "https://localhost:8080/"
        },
        "id": "dcJkD0bMyENH",
        "outputId": "b93e6e04-33d1-4051-b699-c45902803172"
      },
      "outputs": [
        {
          "output_type": "stream",
          "name": "stdout",
          "text": [
            "DaysInMilk = -21:\n",
            " contrast           estimate   SE  df asymp.LCL asymp.UCL\n",
            " LOW MRT - HIGH MRT   9.4594 5.68 Inf   -3.8454     22.76\n",
            " LOW MRT - MED MRT    1.8621 5.73 Inf  -11.5757     15.30\n",
            " HIGH MRT - MED MRT  -7.5973 5.80 Inf  -21.1876      5.99\n",
            "\n",
            "DaysInMilk = -20:\n",
            " contrast           estimate   SE  df asymp.LCL asymp.UCL\n",
            " LOW MRT - HIGH MRT  -1.4293 5.62 Inf  -14.6084     11.75\n",
            " LOW MRT - MED MRT    0.0383 5.68 Inf  -13.2671     13.34\n",
            " HIGH MRT - MED MRT   1.4676 5.74 Inf  -11.9956     14.93\n",
            "\n",
            "DaysInMilk = -19:\n",
            " contrast           estimate   SE  df asymp.LCL asymp.UCL\n",
            " LOW MRT - HIGH MRT  -2.3783 5.57 Inf  -15.4304     10.67\n",
            " LOW MRT - MED MRT    1.8815 5.63 Inf  -11.3034     15.07\n",
            " HIGH MRT - MED MRT   4.2597 5.69 Inf   -9.0837     17.60\n",
            "\n",
            "DaysInMilk = -18:\n",
            " contrast           estimate   SE  df asymp.LCL asymp.UCL\n",
            " LOW MRT - HIGH MRT   0.0641 5.51 Inf  -12.8528     12.98\n",
            " LOW MRT - MED MRT    2.7308 5.56 Inf  -10.3064     15.77\n",
            " HIGH MRT - MED MRT   2.6667 5.63 Inf  -10.5314     15.86\n",
            "\n",
            "DaysInMilk = -17:\n",
            " contrast           estimate   SE  df asymp.LCL asymp.UCL\n",
            " LOW MRT - HIGH MRT   0.0166 5.47 Inf  -12.8065     12.84\n",
            " LOW MRT - MED MRT   -1.3523 5.52 Inf  -14.2918     11.59\n",
            " HIGH MRT - MED MRT  -1.3689 5.59 Inf  -14.4684     11.73\n",
            "\n",
            "DaysInMilk = -16:\n",
            " contrast           estimate   SE  df asymp.LCL asymp.UCL\n",
            " LOW MRT - HIGH MRT   1.4275 5.42 Inf  -11.2813     14.14\n",
            " LOW MRT - MED MRT   -3.5502 5.47 Inf  -16.3738      9.27\n",
            " HIGH MRT - MED MRT  -4.9777 5.54 Inf  -17.9546      8.00\n",
            "\n",
            "DaysInMilk = -15:\n",
            " contrast           estimate   SE  df asymp.LCL asymp.UCL\n",
            " LOW MRT - HIGH MRT   4.2793 5.38 Inf   -8.3349     16.89\n",
            " LOW MRT - MED MRT   -0.2515 5.43 Inf  -12.9733     12.47\n",
            " HIGH MRT - MED MRT  -4.5308 5.49 Inf  -17.4042      8.34\n",
            "\n",
            "DaysInMilk = -14:\n",
            " contrast           estimate   SE  df asymp.LCL asymp.UCL\n",
            " LOW MRT - HIGH MRT   6.4399 5.34 Inf   -6.0729     18.95\n",
            " LOW MRT - MED MRT   -1.5741 5.38 Inf  -14.1938     11.05\n",
            " HIGH MRT - MED MRT  -8.0140 5.45 Inf  -20.7814      4.75\n",
            "\n",
            "DaysInMilk = -13:\n",
            " contrast           estimate   SE  df asymp.LCL asymp.UCL\n",
            " LOW MRT - HIGH MRT  -2.9605 5.31 Inf  -15.3996      9.48\n",
            " LOW MRT - MED MRT    2.6188 5.35 Inf   -9.9303     15.17\n",
            " HIGH MRT - MED MRT   5.5793 5.42 Inf   -7.1139     18.27\n",
            "\n",
            "DaysInMilk = -12:\n",
            " contrast           estimate   SE  df asymp.LCL asymp.UCL\n",
            " LOW MRT - HIGH MRT   0.4381 5.27 Inf  -11.9172     12.79\n",
            " LOW MRT - MED MRT   -1.1278 5.32 Inf  -13.5952     11.34\n",
            " HIGH MRT - MED MRT  -1.5660 5.38 Inf  -14.1799     11.05\n",
            "\n",
            "DaysInMilk = -11:\n",
            " contrast           estimate   SE  df asymp.LCL asymp.UCL\n",
            " LOW MRT - HIGH MRT  -6.4481 5.24 Inf  -18.7195      5.82\n",
            " LOW MRT - MED MRT   -5.2214 5.28 Inf  -17.6039      7.16\n",
            " HIGH MRT - MED MRT   1.2268 5.35 Inf  -11.3120     13.77\n",
            "\n",
            "DaysInMilk = -10:\n",
            " contrast           estimate   SE  df asymp.LCL asymp.UCL\n",
            " LOW MRT - HIGH MRT  -0.3732 5.20 Inf  -12.5669     11.82\n",
            " LOW MRT - MED MRT   -2.6981 5.25 Inf  -15.0121      9.62\n",
            " HIGH MRT - MED MRT  -2.3249 5.32 Inf  -14.7880     10.14\n",
            "\n",
            "DaysInMilk = -9:\n",
            " contrast           estimate   SE  df asymp.LCL asymp.UCL\n",
            " LOW MRT - HIGH MRT  -1.2368 5.17 Inf  -13.3578     10.88\n",
            " LOW MRT - MED MRT   -5.4515 5.22 Inf  -17.6882      6.79\n",
            " HIGH MRT - MED MRT  -4.2148 5.28 Inf  -16.5942      8.16\n",
            "\n",
            "DaysInMilk = -8:\n",
            " contrast           estimate   SE  df asymp.LCL asymp.UCL\n",
            " LOW MRT - HIGH MRT  -3.1633 5.15 Inf  -15.2300      8.90\n",
            " LOW MRT - MED MRT   -3.2642 5.19 Inf  -15.4292      8.90\n",
            " HIGH MRT - MED MRT  -0.1009 5.26 Inf  -12.4173     12.22\n",
            "\n",
            "DaysInMilk = -7:\n",
            " contrast           estimate   SE  df asymp.LCL asymp.UCL\n",
            " LOW MRT - HIGH MRT  -2.8558 5.13 Inf  -14.8772      9.17\n",
            " LOW MRT - MED MRT   -0.4213 5.17 Inf  -12.5470     11.70\n",
            " HIGH MRT - MED MRT   2.4345 5.23 Inf   -9.8332     14.70\n",
            "\n",
            "DaysInMilk = -6:\n",
            " contrast           estimate   SE  df asymp.LCL asymp.UCL\n",
            " LOW MRT - HIGH MRT  -3.5800 5.11 Inf  -15.5486      8.39\n",
            " LOW MRT - MED MRT   -5.4968 5.15 Inf  -17.5713      6.58\n",
            " HIGH MRT - MED MRT  -1.9168 5.22 Inf  -14.1420     10.31\n",
            "\n",
            "DaysInMilk = -5:\n",
            " contrast           estimate   SE  df asymp.LCL asymp.UCL\n",
            " LOW MRT - HIGH MRT   4.9331 5.10 Inf   -7.0110     16.88\n",
            " LOW MRT - MED MRT    0.6561 5.14 Inf  -11.3850     12.70\n",
            " HIGH MRT - MED MRT  -4.2770 5.20 Inf  -16.4534      7.90\n",
            "\n",
            "DaysInMilk = -4:\n",
            " contrast           estimate   SE  df asymp.LCL asymp.UCL\n",
            " LOW MRT - HIGH MRT  -4.3850 5.07 Inf  -16.2761      7.51\n",
            " LOW MRT - MED MRT   -6.9774 5.12 Inf  -18.9752      5.02\n",
            " HIGH MRT - MED MRT  -2.5923 5.17 Inf  -14.7179      9.53\n",
            "\n",
            "DaysInMilk = -3:\n",
            " contrast           estimate   SE  df asymp.LCL asymp.UCL\n",
            " LOW MRT - HIGH MRT  -4.7967 5.06 Inf  -16.6611      7.07\n",
            " LOW MRT - MED MRT   -3.3748 5.11 Inf  -15.3436      8.59\n",
            " HIGH MRT - MED MRT   1.4219 5.17 Inf  -10.6853     13.53\n",
            "\n",
            "DaysInMilk = -2:\n",
            " contrast           estimate   SE  df asymp.LCL asymp.UCL\n",
            " LOW MRT - HIGH MRT   2.1221 5.06 Inf   -9.7265     13.97\n",
            " LOW MRT - MED MRT    2.5705 5.10 Inf   -9.3778     14.52\n",
            " HIGH MRT - MED MRT   0.4484 5.15 Inf  -11.6315     12.53\n",
            "\n",
            "DaysInMilk = -1:\n",
            " contrast           estimate   SE  df asymp.LCL asymp.UCL\n",
            " LOW MRT - HIGH MRT   2.4189 5.04 Inf   -9.4037     14.24\n",
            " LOW MRT - MED MRT    2.1025 5.09 Inf   -9.8220     14.03\n",
            " HIGH MRT - MED MRT  -0.3164 5.14 Inf  -12.3739     11.74\n",
            "\n",
            "DaysInMilk = 1:\n",
            " contrast           estimate   SE  df asymp.LCL asymp.UCL\n",
            " LOW MRT - HIGH MRT   4.5183 5.27 Inf   -7.8372     16.87\n",
            " LOW MRT - MED MRT   -3.7243 5.34 Inf  -16.2386      8.79\n",
            " HIGH MRT - MED MRT  -8.2425 5.35 Inf  -20.7828      4.30\n",
            "\n",
            "DaysInMilk = 2:\n",
            " contrast           estimate   SE  df asymp.LCL asymp.UCL\n",
            " LOW MRT - HIGH MRT -23.0382 5.28 Inf  -35.4172    -10.66\n",
            " LOW MRT - MED MRT  -15.5959 5.35 Inf  -28.1288     -3.06\n",
            " HIGH MRT - MED MRT   7.4423 5.36 Inf   -5.1132     20.00\n",
            "\n",
            "DaysInMilk = 3:\n",
            " contrast           estimate   SE  df asymp.LCL asymp.UCL\n",
            " LOW MRT - HIGH MRT -28.2617 5.29 Inf  -40.6533    -15.87\n",
            " LOW MRT - MED MRT  -18.3357 5.35 Inf  -30.8675     -5.80\n",
            " HIGH MRT - MED MRT   9.9260 5.36 Inf   -2.6338     22.49\n",
            "\n",
            "DaysInMilk = 4:\n",
            " contrast           estimate   SE  df asymp.LCL asymp.UCL\n",
            " LOW MRT - HIGH MRT -29.5943 5.30 Inf  -42.0152    -17.17\n",
            " LOW MRT - MED MRT  -14.9324 5.36 Inf  -27.4848     -2.38\n",
            " HIGH MRT - MED MRT  14.6618 5.37 Inf    2.0780     27.25\n",
            "\n",
            "DaysInMilk = 5:\n",
            " contrast           estimate   SE  df asymp.LCL asymp.UCL\n",
            " LOW MRT - HIGH MRT -31.6463 5.32 Inf  -44.1128    -19.18\n",
            " LOW MRT - MED MRT  -25.3519 5.37 Inf  -37.9429    -12.76\n",
            " HIGH MRT - MED MRT   6.2944 5.39 Inf   -6.3352     18.92\n",
            "\n",
            "DaysInMilk = 6:\n",
            " contrast           estimate   SE  df asymp.LCL asymp.UCL\n",
            " LOW MRT - HIGH MRT -36.1152 5.33 Inf  -48.6176    -23.61\n",
            " LOW MRT - MED MRT  -23.9208 5.39 Inf  -36.5423    -11.30\n",
            " HIGH MRT - MED MRT  12.1944 5.41 Inf   -0.4746     24.86\n",
            "\n",
            "DaysInMilk = 7:\n",
            " contrast           estimate   SE  df asymp.LCL asymp.UCL\n",
            " LOW MRT - HIGH MRT -36.4418 5.35 Inf  -48.9845    -23.90\n",
            " LOW MRT - MED MRT  -25.9833 5.41 Inf  -38.6521    -13.31\n",
            " HIGH MRT - MED MRT  10.4585 5.42 Inf   -2.2488     23.17\n",
            "\n",
            "DaysInMilk = 8:\n",
            " contrast           estimate   SE  df asymp.LCL asymp.UCL\n",
            " LOW MRT - HIGH MRT -30.2633 5.38 Inf  -42.8658    -17.66\n",
            " LOW MRT - MED MRT  -15.8897 5.43 Inf  -28.6068     -3.17\n",
            " HIGH MRT - MED MRT  14.3736 5.44 Inf    1.6204     27.13\n",
            "\n",
            "DaysInMilk = 9:\n",
            " contrast           estimate   SE  df asymp.LCL asymp.UCL\n",
            " LOW MRT - HIGH MRT -34.1982 5.40 Inf  -46.8625    -21.53\n",
            " LOW MRT - MED MRT  -21.4694 5.45 Inf  -34.2525     -8.69\n",
            " HIGH MRT - MED MRT  12.7288 5.47 Inf   -0.0805     25.54\n",
            "\n",
            "DaysInMilk = 10:\n",
            " contrast           estimate   SE  df asymp.LCL asymp.UCL\n",
            " LOW MRT - HIGH MRT -36.8728 5.43 Inf  -49.6055    -24.14\n",
            " LOW MRT - MED MRT  -18.9360 5.48 Inf  -31.7886     -6.08\n",
            " HIGH MRT - MED MRT  17.9368 5.50 Inf    5.0422     30.83\n",
            "\n",
            "DaysInMilk = 11:\n",
            " contrast           estimate   SE  df asymp.LCL asymp.UCL\n",
            " LOW MRT - HIGH MRT -37.4973 5.47 Inf  -50.3103    -24.68\n",
            " LOW MRT - MED MRT  -19.4692 5.52 Inf  -32.3991     -6.54\n",
            " HIGH MRT - MED MRT  18.0280 5.54 Inf    5.0546     31.00\n",
            "\n",
            "DaysInMilk = 12:\n",
            " contrast           estimate   SE  df asymp.LCL asymp.UCL\n",
            " LOW MRT - HIGH MRT -31.5646 5.50 Inf  -44.4475    -18.68\n",
            " LOW MRT - MED MRT  -16.5578 5.54 Inf  -29.5526     -3.56\n",
            " HIGH MRT - MED MRT  15.0068 5.56 Inf    1.9676     28.05\n",
            "\n",
            "DaysInMilk = 13:\n",
            " contrast           estimate   SE  df asymp.LCL asymp.UCL\n",
            " LOW MRT - HIGH MRT -28.1221 5.53 Inf  -41.0846    -15.16\n",
            " LOW MRT - MED MRT  -19.0238 5.58 Inf  -32.1018     -5.95\n",
            " HIGH MRT - MED MRT   9.0983 5.60 Inf   -4.0218     22.22\n",
            "\n",
            "DaysInMilk = 14:\n",
            " contrast           estimate   SE  df asymp.LCL asymp.UCL\n",
            " LOW MRT - HIGH MRT -31.9875 5.56 Inf  -45.0272    -18.95\n",
            " LOW MRT - MED MRT  -22.4034 5.61 Inf  -35.5618     -9.25\n",
            " HIGH MRT - MED MRT   9.5840 5.64 Inf   -3.6374     22.81\n",
            "\n",
            "DaysInMilk = 15:\n",
            " contrast           estimate   SE  df asymp.LCL asymp.UCL\n",
            " LOW MRT - HIGH MRT -27.9412 5.61 Inf  -41.0819    -14.80\n",
            " LOW MRT - MED MRT  -19.6757 5.66 Inf  -32.9362     -6.42\n",
            " HIGH MRT - MED MRT   8.2655 5.68 Inf   -5.0497     21.58\n",
            "\n",
            "DaysInMilk = 16:\n",
            " contrast           estimate   SE  df asymp.LCL asymp.UCL\n",
            " LOW MRT - HIGH MRT -22.4063 5.65 Inf  -35.6371     -9.18\n",
            " LOW MRT - MED MRT  -22.8385 5.70 Inf  -36.1953     -9.48\n",
            " HIGH MRT - MED MRT  -0.4322 5.72 Inf  -13.8449     12.98\n",
            "\n",
            "DaysInMilk = 17:\n",
            " contrast           estimate   SE  df asymp.LCL asymp.UCL\n",
            " LOW MRT - HIGH MRT -22.6903 5.69 Inf  -36.0344     -9.35\n",
            " LOW MRT - MED MRT  -14.8186 5.74 Inf  -28.2793     -1.36\n",
            " HIGH MRT - MED MRT   7.8717 5.77 Inf   -5.6461     21.39\n",
            "\n",
            "DaysInMilk = 18:\n",
            " contrast           estimate   SE  df asymp.LCL asymp.UCL\n",
            " LOW MRT - HIGH MRT -28.2028 5.73 Inf  -41.6355    -14.77\n",
            " LOW MRT - MED MRT  -20.3780 5.79 Inf  -33.9464     -6.81\n",
            " HIGH MRT - MED MRT   7.8247 5.82 Inf   -5.8139     21.46\n",
            "\n",
            "DaysInMilk = 19:\n",
            " contrast           estimate   SE  df asymp.LCL asymp.UCL\n",
            " LOW MRT - HIGH MRT -26.5301 5.78 Inf  -40.0700    -12.99\n",
            " LOW MRT - MED MRT  -16.3057 5.83 Inf  -29.9775     -2.63\n",
            " HIGH MRT - MED MRT  10.2244 5.86 Inf   -3.5133     23.96\n",
            "\n",
            "DaysInMilk = 20:\n",
            " contrast           estimate   SE  df asymp.LCL asymp.UCL\n",
            " LOW MRT - HIGH MRT -25.0275 5.83 Inf  -38.6827    -11.37\n",
            " LOW MRT - MED MRT  -21.0307 5.89 Inf  -34.8284     -7.23\n",
            " HIGH MRT - MED MRT   3.9967 5.91 Inf   -9.8540     17.85\n",
            "\n",
            "DaysInMilk = 21:\n",
            " contrast           estimate   SE  df asymp.LCL asymp.UCL\n",
            " LOW MRT - HIGH MRT -24.0719 5.88 Inf  -37.8561    -10.29\n",
            " LOW MRT - MED MRT  -18.9783 5.94 Inf  -32.9008     -5.06\n",
            " HIGH MRT - MED MRT   5.0937 5.96 Inf   -8.8811     19.07\n",
            "\n",
            "Results are averaged over the levels of: CalvingSeason, Parity, HerdIdentifier \n",
            "Degrees-of-freedom method: asymptotic \n",
            "Confidence level used: 0.95 \n",
            "Conf-level adjustment: tukey method for comparing a family of 3 estimates \n"
          ]
        }
      ],
      "source": [
        "%%R\n",
        "confint(LSMs$contrasts)"
      ]
    },
    {
      "cell_type": "markdown",
      "source": [
        "Effect Size"
      ],
      "metadata": {
        "id": "4wQgPsgWeGwH"
      }
    },
    {
      "cell_type": "code",
      "source": [
        "%%R\n",
        "emm <- emmeans(\n",
        "        finalModel,\n",
        "        ~ MRTQuantile|DaysInMilk,\n",
        "        lmer.df = \"asymptotic\",\n",
        "        lmerTest.limit = 11848\n",
        "        )\n",
        "\n",
        "effSizes <- eff_size(emm, sigma = sigma(finalModel), edf = Inf) %>% as.data.frame()"
      ],
      "metadata": {
        "id": "WaoFTZqyeLmk"
      },
      "execution_count": null,
      "outputs": []
    },
    {
      "cell_type": "code",
      "source": [
        "%%R\n",
        "pairs(emm, main = \"LOW MRT\")"
      ],
      "metadata": {
        "colab": {
          "base_uri": "https://localhost:8080/"
        },
        "id": "f6ntM2sZN78Z",
        "outputId": "fd28659f-3444-4de6-9927-babdca07ab6e"
      },
      "execution_count": null,
      "outputs": [
        {
          "output_type": "stream",
          "name": "stdout",
          "text": [
            "DaysInMilk = -21:\n",
            " contrast           estimate   SE  df z.ratio p.value\n",
            " LOW MRT - HIGH MRT   9.4594 5.68 Inf   1.666  0.2182\n",
            " LOW MRT - MED MRT    1.8621 5.73 Inf   0.325  0.9435\n",
            " HIGH MRT - MED MRT  -7.5973 5.80 Inf  -1.310  0.3894\n",
            "\n",
            "DaysInMilk = -20:\n",
            " contrast           estimate   SE  df z.ratio p.value\n",
            " LOW MRT - HIGH MRT  -1.4293 5.62 Inf  -0.254  0.9650\n",
            " LOW MRT - MED MRT    0.0383 5.68 Inf   0.007  1.0000\n",
            " HIGH MRT - MED MRT   1.4676 5.74 Inf   0.255  0.9647\n",
            "\n",
            "DaysInMilk = -19:\n",
            " contrast           estimate   SE  df z.ratio p.value\n",
            " LOW MRT - HIGH MRT  -2.3783 5.57 Inf  -0.427  0.9044\n",
            " LOW MRT - MED MRT    1.8815 5.63 Inf   0.334  0.9402\n",
            " HIGH MRT - MED MRT   4.2597 5.69 Inf   0.748  0.7347\n",
            "\n",
            "DaysInMilk = -18:\n",
            " contrast           estimate   SE  df z.ratio p.value\n",
            " LOW MRT - HIGH MRT   0.0641 5.51 Inf   0.012  0.9999\n",
            " LOW MRT - MED MRT    2.7308 5.56 Inf   0.491  0.8756\n",
            " HIGH MRT - MED MRT   2.6667 5.63 Inf   0.474  0.8838\n",
            "\n",
            "DaysInMilk = -17:\n",
            " contrast           estimate   SE  df z.ratio p.value\n",
            " LOW MRT - HIGH MRT   0.0166 5.47 Inf   0.003  1.0000\n",
            " LOW MRT - MED MRT   -1.3523 5.52 Inf  -0.245  0.9675\n",
            " HIGH MRT - MED MRT  -1.3689 5.59 Inf  -0.245  0.9675\n",
            "\n",
            "DaysInMilk = -16:\n",
            " contrast           estimate   SE  df z.ratio p.value\n",
            " LOW MRT - HIGH MRT   1.4275 5.42 Inf   0.263  0.9625\n",
            " LOW MRT - MED MRT   -3.5502 5.47 Inf  -0.649  0.7930\n",
            " HIGH MRT - MED MRT  -4.9777 5.54 Inf  -0.899  0.6409\n",
            "\n",
            "DaysInMilk = -15:\n",
            " contrast           estimate   SE  df z.ratio p.value\n",
            " LOW MRT - HIGH MRT   4.2793 5.38 Inf   0.795  0.7060\n",
            " LOW MRT - MED MRT   -0.2515 5.43 Inf  -0.046  0.9988\n",
            " HIGH MRT - MED MRT  -4.5308 5.49 Inf  -0.825  0.6876\n",
            "\n",
            "DaysInMilk = -14:\n",
            " contrast           estimate   SE  df z.ratio p.value\n",
            " LOW MRT - HIGH MRT   6.4399 5.34 Inf   1.206  0.4494\n",
            " LOW MRT - MED MRT   -1.5741 5.38 Inf  -0.292  0.9540\n",
            " HIGH MRT - MED MRT  -8.0140 5.45 Inf  -1.471  0.3049\n",
            "\n",
            "DaysInMilk = -13:\n",
            " contrast           estimate   SE  df z.ratio p.value\n",
            " LOW MRT - HIGH MRT  -2.9605 5.31 Inf  -0.558  0.8425\n",
            " LOW MRT - MED MRT    2.6188 5.35 Inf   0.489  0.8765\n",
            " HIGH MRT - MED MRT   5.5793 5.42 Inf   1.030  0.5578\n",
            "\n",
            "DaysInMilk = -12:\n",
            " contrast           estimate   SE  df z.ratio p.value\n",
            " LOW MRT - HIGH MRT   0.4381 5.27 Inf   0.083  0.9962\n",
            " LOW MRT - MED MRT   -1.1278 5.32 Inf  -0.212  0.9755\n",
            " HIGH MRT - MED MRT  -1.5660 5.38 Inf  -0.291  0.9544\n",
            "\n",
            "DaysInMilk = -11:\n",
            " contrast           estimate   SE  df z.ratio p.value\n",
            " LOW MRT - HIGH MRT  -6.4481 5.24 Inf  -1.232  0.4345\n",
            " LOW MRT - MED MRT   -5.2214 5.28 Inf  -0.988  0.5843\n",
            " HIGH MRT - MED MRT   1.2268 5.35 Inf   0.229  0.9714\n",
            "\n",
            "DaysInMilk = -10:\n",
            " contrast           estimate   SE  df z.ratio p.value\n",
            " LOW MRT - HIGH MRT  -0.3732 5.20 Inf  -0.072  0.9972\n",
            " LOW MRT - MED MRT   -2.6981 5.25 Inf  -0.514  0.8648\n",
            " HIGH MRT - MED MRT  -2.3249 5.32 Inf  -0.437  0.9000\n",
            "\n",
            "DaysInMilk = -9:\n",
            " contrast           estimate   SE  df z.ratio p.value\n",
            " LOW MRT - HIGH MRT  -1.2368 5.17 Inf  -0.239  0.9690\n",
            " LOW MRT - MED MRT   -5.4515 5.22 Inf  -1.044  0.5490\n",
            " HIGH MRT - MED MRT  -4.2148 5.28 Inf  -0.798  0.7043\n",
            "\n",
            "DaysInMilk = -8:\n",
            " contrast           estimate   SE  df z.ratio p.value\n",
            " LOW MRT - HIGH MRT  -3.1633 5.15 Inf  -0.614  0.8122\n",
            " LOW MRT - MED MRT   -3.2642 5.19 Inf  -0.629  0.8042\n",
            " HIGH MRT - MED MRT  -0.1009 5.26 Inf  -0.019  0.9998\n",
            "\n",
            "DaysInMilk = -7:\n",
            " contrast           estimate   SE  df z.ratio p.value\n",
            " LOW MRT - HIGH MRT  -2.8558 5.13 Inf  -0.557  0.8430\n",
            " LOW MRT - MED MRT   -0.4213 5.17 Inf  -0.081  0.9964\n",
            " HIGH MRT - MED MRT   2.4345 5.23 Inf   0.465  0.8876\n",
            "\n",
            "DaysInMilk = -6:\n",
            " contrast           estimate   SE  df z.ratio p.value\n",
            " LOW MRT - HIGH MRT  -3.5800 5.11 Inf  -0.701  0.7629\n",
            " LOW MRT - MED MRT   -5.4968 5.15 Inf  -1.067  0.5347\n",
            " HIGH MRT - MED MRT  -1.9168 5.22 Inf  -0.367  0.9283\n",
            "\n",
            "DaysInMilk = -5:\n",
            " contrast           estimate   SE  df z.ratio p.value\n",
            " LOW MRT - HIGH MRT   4.9331 5.10 Inf   0.968  0.5972\n",
            " LOW MRT - MED MRT    0.6561 5.14 Inf   0.128  0.9910\n",
            " HIGH MRT - MED MRT  -4.2770 5.20 Inf  -0.823  0.6886\n",
            "\n",
            "DaysInMilk = -4:\n",
            " contrast           estimate   SE  df z.ratio p.value\n",
            " LOW MRT - HIGH MRT  -4.3850 5.07 Inf  -0.864  0.6629\n",
            " LOW MRT - MED MRT   -6.9774 5.12 Inf  -1.363  0.3605\n",
            " HIGH MRT - MED MRT  -2.5923 5.17 Inf  -0.501  0.8708\n",
            "\n",
            "DaysInMilk = -3:\n",
            " contrast           estimate   SE  df z.ratio p.value\n",
            " LOW MRT - HIGH MRT  -4.7967 5.06 Inf  -0.948  0.6101\n",
            " LOW MRT - MED MRT   -3.3748 5.11 Inf  -0.661  0.7862\n",
            " HIGH MRT - MED MRT   1.4219 5.17 Inf   0.275  0.9591\n",
            "\n",
            "DaysInMilk = -2:\n",
            " contrast           estimate   SE  df z.ratio p.value\n",
            " LOW MRT - HIGH MRT   2.1221 5.06 Inf   0.420  0.9075\n",
            " LOW MRT - MED MRT    2.5705 5.10 Inf   0.504  0.8693\n",
            " HIGH MRT - MED MRT   0.4484 5.15 Inf   0.087  0.9958\n",
            "\n",
            "DaysInMilk = -1:\n",
            " contrast           estimate   SE  df z.ratio p.value\n",
            " LOW MRT - HIGH MRT   2.4189 5.04 Inf   0.480  0.8810\n",
            " LOW MRT - MED MRT    2.1025 5.09 Inf   0.413  0.9102\n",
            " HIGH MRT - MED MRT  -0.3164 5.14 Inf  -0.061  0.9979\n",
            "\n",
            "DaysInMilk = 1:\n",
            " contrast           estimate   SE  df z.ratio p.value\n",
            " LOW MRT - HIGH MRT   4.5183 5.27 Inf   0.857  0.6674\n",
            " LOW MRT - MED MRT   -3.7243 5.34 Inf  -0.697  0.7649\n",
            " HIGH MRT - MED MRT  -8.2425 5.35 Inf  -1.540  0.2720\n",
            "\n",
            "DaysInMilk = 2:\n",
            " contrast           estimate   SE  df z.ratio p.value\n",
            " LOW MRT - HIGH MRT -23.0382 5.28 Inf  -4.362  <.0001\n",
            " LOW MRT - MED MRT  -15.5959 5.35 Inf  -2.916  0.0099\n",
            " HIGH MRT - MED MRT   7.4423 5.36 Inf   1.389  0.3465\n",
            "\n",
            "DaysInMilk = 3:\n",
            " contrast           estimate   SE  df z.ratio p.value\n",
            " LOW MRT - HIGH MRT -28.2617 5.29 Inf  -5.345  <.0001\n",
            " LOW MRT - MED MRT  -18.3357 5.35 Inf  -3.429  0.0018\n",
            " HIGH MRT - MED MRT   9.9260 5.36 Inf   1.852  0.1528\n",
            "\n",
            "DaysInMilk = 4:\n",
            " contrast           estimate   SE  df z.ratio p.value\n",
            " LOW MRT - HIGH MRT -29.5943 5.30 Inf  -5.584  <.0001\n",
            " LOW MRT - MED MRT  -14.9324 5.36 Inf  -2.788  0.0147\n",
            " HIGH MRT - MED MRT  14.6618 5.37 Inf   2.731  0.0174\n",
            "\n",
            "DaysInMilk = 5:\n",
            " contrast           estimate   SE  df z.ratio p.value\n",
            " LOW MRT - HIGH MRT -31.6463 5.32 Inf  -5.949  <.0001\n",
            " LOW MRT - MED MRT  -25.3519 5.37 Inf  -4.719  <.0001\n",
            " HIGH MRT - MED MRT   6.2944 5.39 Inf   1.168  0.4723\n",
            "\n",
            "DaysInMilk = 6:\n",
            " contrast           estimate   SE  df z.ratio p.value\n",
            " LOW MRT - HIGH MRT -36.1152 5.33 Inf  -6.770  <.0001\n",
            " LOW MRT - MED MRT  -23.9208 5.39 Inf  -4.442  <.0001\n",
            " HIGH MRT - MED MRT  12.1944 5.41 Inf   2.256  0.0622\n",
            "\n",
            "DaysInMilk = 7:\n",
            " contrast           estimate   SE  df z.ratio p.value\n",
            " LOW MRT - HIGH MRT -36.4418 5.35 Inf  -6.809  <.0001\n",
            " LOW MRT - MED MRT  -25.9833 5.41 Inf  -4.807  <.0001\n",
            " HIGH MRT - MED MRT  10.4585 5.42 Inf   1.929  0.1305\n",
            "\n",
            "DaysInMilk = 8:\n",
            " contrast           estimate   SE  df z.ratio p.value\n",
            " LOW MRT - HIGH MRT -30.2633 5.38 Inf  -5.628  <.0001\n",
            " LOW MRT - MED MRT  -15.8897 5.43 Inf  -2.928  0.0095\n",
            " HIGH MRT - MED MRT  14.3736 5.44 Inf   2.641  0.0225\n",
            "\n",
            "DaysInMilk = 9:\n",
            " contrast           estimate   SE  df z.ratio p.value\n",
            " LOW MRT - HIGH MRT -34.1982 5.40 Inf  -6.329  <.0001\n",
            " LOW MRT - MED MRT  -21.4694 5.45 Inf  -3.936  0.0002\n",
            " HIGH MRT - MED MRT  12.7288 5.47 Inf   2.329  0.0519\n",
            "\n",
            "DaysInMilk = 10:\n",
            " contrast           estimate   SE  df z.ratio p.value\n",
            " LOW MRT - HIGH MRT -36.8728 5.43 Inf  -6.787  <.0001\n",
            " LOW MRT - MED MRT  -18.9360 5.48 Inf  -3.453  0.0016\n",
            " HIGH MRT - MED MRT  17.9368 5.50 Inf   3.260  0.0032\n",
            "\n",
            "DaysInMilk = 11:\n",
            " contrast           estimate   SE  df z.ratio p.value\n",
            " LOW MRT - HIGH MRT -37.4973 5.47 Inf  -6.859  <.0001\n",
            " LOW MRT - MED MRT  -19.4692 5.52 Inf  -3.529  0.0012\n",
            " HIGH MRT - MED MRT  18.0280 5.54 Inf   3.257  0.0032\n",
            "\n",
            "DaysInMilk = 12:\n",
            " contrast           estimate   SE  df z.ratio p.value\n",
            " LOW MRT - HIGH MRT -31.5646 5.50 Inf  -5.742  <.0001\n",
            " LOW MRT - MED MRT  -16.5578 5.54 Inf  -2.986  0.0079\n",
            " HIGH MRT - MED MRT  15.0068 5.56 Inf   2.697  0.0192\n",
            "\n",
            "DaysInMilk = 13:\n",
            " contrast           estimate   SE  df z.ratio p.value\n",
            " LOW MRT - HIGH MRT -28.1221 5.53 Inf  -5.085  <.0001\n",
            " LOW MRT - MED MRT  -19.0238 5.58 Inf  -3.409  0.0019\n",
            " HIGH MRT - MED MRT   9.0983 5.60 Inf   1.625  0.2349\n",
            "\n",
            "DaysInMilk = 14:\n",
            " contrast           estimate   SE  df z.ratio p.value\n",
            " LOW MRT - HIGH MRT -31.9875 5.56 Inf  -5.749  <.0001\n",
            " LOW MRT - MED MRT  -22.4034 5.61 Inf  -3.990  0.0002\n",
            " HIGH MRT - MED MRT   9.5840 5.64 Inf   1.699  0.2056\n",
            "\n",
            "DaysInMilk = 15:\n",
            " contrast           estimate   SE  df z.ratio p.value\n",
            " LOW MRT - HIGH MRT -27.9412 5.61 Inf  -4.983  <.0001\n",
            " LOW MRT - MED MRT  -19.6757 5.66 Inf  -3.478  0.0015\n",
            " HIGH MRT - MED MRT   8.2655 5.68 Inf   1.455  0.3129\n",
            "\n",
            "DaysInMilk = 16:\n",
            " contrast           estimate   SE  df z.ratio p.value\n",
            " LOW MRT - HIGH MRT -22.4063 5.65 Inf  -3.969  0.0002\n",
            " LOW MRT - MED MRT  -22.8385 5.70 Inf  -4.007  0.0002\n",
            " HIGH MRT - MED MRT  -0.4322 5.72 Inf  -0.076  0.9969\n",
            "\n",
            "DaysInMilk = 17:\n",
            " contrast           estimate   SE  df z.ratio p.value\n",
            " LOW MRT - HIGH MRT -22.6903 5.69 Inf  -3.985  0.0002\n",
            " LOW MRT - MED MRT  -14.8186 5.74 Inf  -2.580  0.0267\n",
            " HIGH MRT - MED MRT   7.8717 5.77 Inf   1.365  0.3595\n",
            "\n",
            "DaysInMilk = 18:\n",
            " contrast           estimate   SE  df z.ratio p.value\n",
            " LOW MRT - HIGH MRT -28.2028 5.73 Inf  -4.921  <.0001\n",
            " LOW MRT - MED MRT  -20.3780 5.79 Inf  -3.520  0.0013\n",
            " HIGH MRT - MED MRT   7.8247 5.82 Inf   1.345  0.3704\n",
            "\n",
            "DaysInMilk = 19:\n",
            " contrast           estimate   SE  df z.ratio p.value\n",
            " LOW MRT - HIGH MRT -26.5301 5.78 Inf  -4.592  <.0001\n",
            " LOW MRT - MED MRT  -16.3057 5.83 Inf  -2.795  0.0144\n",
            " HIGH MRT - MED MRT  10.2244 5.86 Inf   1.744  0.1888\n",
            "\n",
            "DaysInMilk = 20:\n",
            " contrast           estimate   SE  df z.ratio p.value\n",
            " LOW MRT - HIGH MRT -25.0275 5.83 Inf  -4.296  0.0001\n",
            " LOW MRT - MED MRT  -21.0307 5.89 Inf  -3.572  0.0010\n",
            " HIGH MRT - MED MRT   3.9967 5.91 Inf   0.676  0.7773\n",
            "\n",
            "DaysInMilk = 21:\n",
            " contrast           estimate   SE  df z.ratio p.value\n",
            " LOW MRT - HIGH MRT -24.0719 5.88 Inf  -4.093  0.0001\n",
            " LOW MRT - MED MRT  -18.9783 5.94 Inf  -3.195  0.0040\n",
            " HIGH MRT - MED MRT   5.0937 5.96 Inf   0.854  0.6692\n",
            "\n",
            "Results are averaged over the levels of: CalvingSeason, Parity, HerdIdentifier \n",
            "Degrees-of-freedom method: asymptotic \n",
            "P value adjustment: tukey method for comparing a family of 3 estimates \n"
          ]
        }
      ]
    },
    {
      "cell_type": "code",
      "source": [
        "%%R\n",
        "dfConfInts <- confint(pairs(emm,main = \"LOW MRT\"), method = \"Wald\") %>%\n",
        "  as.data.frame() %>%\n",
        "  mutate(contrast = as.character(contrast),\n",
        "        label = if_else(DaysInMilk == max(as.numeric(DaysInMilk)), as.character(contrast), NA_character_),\n",
        "         significance = as.factor(case_when(\n",
        "             asymp.LCL <= 0 & asymp.UCL <= 0 ~ \"Significant\",\n",
        "             asymp.LCL >= 0 & asymp.UCL >= 0 ~ \"Significant\",\n",
        "             TRUE ~ \"Not-Significant\")),\n",
        "         contrast = as.factor(case_when(\n",
        "             contrast == \"LOW MRT - HIGH MRT\" ~ \"LOW - HIGH\",\n",
        "             contrast == \"LOW MRT - MED MRT\" ~ \"LOW - MED\",\n",
        "             contrast == \"HIGH MRT - MED MRT\" ~ \"HIGH - MED\",\n",
        "             TRUE ~ \"Error\"))\n",
        "         )\n",
        "\n"
      ],
      "metadata": {
        "id": "4MklypYnefpZ"
      },
      "execution_count": null,
      "outputs": []
    },
    {
      "cell_type": "code",
      "source": [
        "%%R\n",
        "Significance = dfConfInts %>%pivot_wider(id_cols = DaysInMilk, names_from = contrast, values_from = significance)\n",
        "Significance"
      ],
      "metadata": {
        "colab": {
          "base_uri": "https://localhost:8080/"
        },
        "id": "KdnD--d8OFGy",
        "outputId": "80a997a8-f38d-4ced-bebb-f8fb00f26c68"
      },
      "execution_count": null,
      "outputs": [
        {
          "output_type": "stream",
          "name": "stdout",
          "text": [
            "# A tibble: 42 × 4\n",
            "   DaysInMilk `LOW - HIGH`    `LOW - MED`     `HIGH - MED`   \n",
            "   <fct>      <fct>           <fct>           <fct>          \n",
            " 1 -21        Not-Significant Not-Significant Not-Significant\n",
            " 2 -20        Not-Significant Not-Significant Not-Significant\n",
            " 3 -19        Not-Significant Not-Significant Not-Significant\n",
            " 4 -18        Not-Significant Not-Significant Not-Significant\n",
            " 5 -17        Not-Significant Not-Significant Not-Significant\n",
            " 6 -16        Not-Significant Not-Significant Not-Significant\n",
            " 7 -15        Not-Significant Not-Significant Not-Significant\n",
            " 8 -14        Not-Significant Not-Significant Not-Significant\n",
            " 9 -13        Not-Significant Not-Significant Not-Significant\n",
            "10 -12        Not-Significant Not-Significant Not-Significant\n",
            "# ℹ 32 more rows\n",
            "# ℹ Use `print(n = ...)` to see more rows\n"
          ]
        }
      ]
    },
    {
      "cell_type": "markdown",
      "source": [
        "Visualizations"
      ],
      "metadata": {
        "id": "FFu0Ic3eY21w"
      }
    },
    {
      "cell_type": "code",
      "source": [
        "%%R\n",
        "\n",
        "group.colors<-c(\"LOW MRT\"=\"#FF0090\", \"HIGH MRT\"=\"#ffa500\", \"MED MRT\"=\"#3891A6\",\"Significant\"=\"#655e5c\")\n",
        "dfLMSs <- multcomp::cld(LSMs[[1]], alpha=0.05, Letters=letters, adjust=\"sidak\")\n",
        "\n",
        "myLoc <-\n",
        "  (which(levels(dfLMSs$DaysInMilk) == \"-1\") +\n",
        "     which(levels(dfLMSs$DaysInMilk) == \"1\")) /\n",
        "  2"
      ],
      "metadata": {
        "id": "PDl5werhOH8P"
      },
      "execution_count": null,
      "outputs": []
    },
    {
      "cell_type": "code",
      "execution_count": null,
      "metadata": {
        "colab": {
          "base_uri": "https://localhost:8080/",
          "height": 514
        },
        "id": "csuFNhx4FU1f",
        "outputId": "8ae6dc0c-c439-4104-dc35-1056eaa0e457"
      },
      "outputs": [
        {
          "output_type": "stream",
          "name": "stdout",
          "text": [
            "Joining with `by = join_by(DaysInMilk)`\n"
          ]
        },
        {
          "output_type": "display_data",
          "data": {
            "image/png": "[encoded data removed]"
          },
          "metadata": {}
        }
      ],
      "source": [
        "%%R\n",
        "\n",
        "p = dfLMSs %>% inner_join(Significance) %>%  mutate(label = if_else(DaysInMilk == max(as.numeric(DaysInMilk)), as.character(MRTQuantile), NA_character_),\n",
        "                                                    significance = case_when(\n",
        "                                                        `LOW - HIGH` == \"Significant\" ~ \"Significant\",\n",
        "                                                        `LOW - MED` == \"Significant\" ~ \"Significant\",\n",
        "                                                        `HIGH - MED` == \"Significant\" ~ \"Significant\",\n",
        "                                                        TRUE ~ \"Not-Significant\"\n",
        "                                                    )) %>%\n",
        "  ggplot(\n",
        "  aes(\n",
        "    x=DaysInMilk,\n",
        "    y=emmean,\n",
        "    group=MRTQuantile,\n",
        "    color=MRTQuantile)\n",
        "    ) +\n",
        "    scale_color_manual(values=group.colors)+\n",
        "    scale_fill_manual(values=group.colors)+\n",
        "    scale_alpha_manual(values = c(\"Not-Significant\"=0,\"Significant\"=0.05))+ # transparency significance rectangles\n",
        "    geom_rect(aes(xmin=as.numeric(DaysInMilk)-0.5, xmax =as.numeric(DaysInMilk)+0.5,ymin=-Inf,ymax=Inf,fill =significance ,alpha = significance),color = NA )+\n",
        "    geom_line(size=2) +\n",
        "    geom_text_repel(data= subset(dfLMSs,DaysInMilk == 21), aes(label = MRTQuantile, colour = MRTQuantile, x = 42, y= emmean),hjust = -0.8, size = 10, nudge_x =7,box.padding = 0.5,direction = \"y\")+\n",
        "    geom_errorbar(\n",
        "    aes(ymin=asymp.LCL,\n",
        "        ymax=asymp.UCL),\n",
        "    width=0.25,\n",
        "    size=1,\n",
        "    position=position_dodge(0.25)) +\n",
        "  labs(\n",
        "    title = \"Rumination time (min/day)\",\n",
        "    y=\"Minutes per day\" ,\n",
        "    x = \"Days in milk\") +\n",
        "  theme_bw() +\n",
        "  theme(text = element_text(family = \"Times New Roman\"),plot.margin = unit(c(0.5,0.5,4,0.5), \"lines\")) +\n",
        "  theme(text=element_text(size=28),\n",
        "        plot.title = element_text(hjust = 0.5),\n",
        "        panel.border = element_blank(),\n",
        "        panel.grid.major = element_blank(),\n",
        "        panel.grid.minor = element_blank(),\n",
        "        axis.line = element_line(colour = \"black\"))+\n",
        "  theme (legend.position= \"none\")+\n",
        "  geom_vline(xintercept = myLoc, size = 1, linetype= \"dashed\", color =\"black\")\n",
        "\n",
        "\n",
        "\n",
        "gt <- ggplotGrob(p)\n",
        "gt$layout$clip[gt$layout$name == \"panel\"] <- \"off\"\n",
        "grid.draw(gt)\n"
      ]
    },
    {
      "cell_type": "code",
      "execution_count": null,
      "metadata": {
        "id": "fYpof4Eyg1MT"
      },
      "outputs": [],
      "source": [
        "%%R\n",
        "ggsave(plot = gt,\"/content/drive/Shareddrives/Bovi-Analytics/Projects/CelienKemel/Figures/RuminationTimeMRTQuantileByDaysInMilk.png\", width = 24, height = 8)"
      ]
    },
    {
      "cell_type": "code",
      "source": [
        "%%R\n",
        "\n",
        "myLoc <-\n",
        "  (which(levels(dfLMSs$DaysInMilk) == \"-1\") +\n",
        "     which(levels(dfLMSs$DaysInMilk) == \"1\")) /\n",
        "  2\n",
        "\n",
        "group.colors<-c(\"HIGH - MED\"=\"#609436\", \"LOW - MED\"=\"#C040A0\", \"LOW - HIGH\"=\"#FF7F50\",\"Significant\"=\"#171710\")\n",
        "plotEffectSize <- dfConfInts %>%\n",
        "  ggplot(\n",
        "  aes(\n",
        "    x=DaysInMilk,\n",
        "    y=estimate,color = contrast)\n",
        "    ) +\n",
        "    scale_color_manual(values = group.colors)+\n",
        "    scale_fill_manual(values = group.colors)+\n",
        "  geom_hline(yintercept=0, color= \"black\", size=1) +\n",
        "  scale_alpha_manual(values = c(\"Not-Significant\"=0.4,\"Significant\"=1))+ # transparency significance each group\n",
        "  geom_point(aes(alpha = significance),size=5,position=position_dodge(0.5)) +\n",
        "  geom_errorbar(\n",
        "    aes(ymin=asymp.LCL,\n",
        "        ymax=asymp.UCL,\n",
        "        alpha = significance),\n",
        "    position=position_dodge(0.5),\n",
        "    width=0.5,\n",
        "    size=1) +\n",
        "  geom_text_repel(data= subset(dfConfInts,DaysInMilk == 21), aes(label = contrast, colour = contrast, x = 42, y= estimate),hjust = -0.8, size = 10, nudge_x =7,box.padding = 0.5,direction = \"y\") +\n",
        "  labs(\n",
        "    y=\"Effect size\" ,\n",
        "    x = \"Days In Milk\") +\n",
        "  theme_bw() +\n",
        "  theme(text = element_text(family = \"Times New Roman\",size =28),\n",
        "        plot.title = element_blank(),\n",
        "        panel.border = element_blank(),\n",
        "        panel.grid.major = element_blank(),\n",
        "        panel.grid.minor = element_blank(),\n",
        "        axis.line = element_line(colour = \"black\"),\n",
        "        legend.position=\"none\",\n",
        "        legend.title = element_blank(),\n",
        "        plot.margin = unit(c(0.5,0.5,4,0.5), \"lines\"))+\n",
        "  geom_vline(xintercept = myLoc, size = 1, linetype= \"dashed\", color =\"black\")\n",
        "\n",
        "plotEffectSize"
      ],
      "metadata": {
        "colab": {
          "base_uri": "https://localhost:8080/",
          "height": 497
        },
        "id": "hfJ1ptpjf_EO",
        "outputId": "b9df4ad2-33bc-438e-fa83-bdb57b626c0a"
      },
      "execution_count": null,
      "outputs": [
        {
          "output_type": "display_data",
          "data": {
            "image/png": "[encoded data removed]"
          },
          "metadata": {}
        }
      ]
    },
    {
      "cell_type": "code",
      "source": [
        "%%R\n",
        "ggsave(plot = plotEffectSize,\"/content/drive/Shareddrives/Bovi-Analytics/Projects/CelienKemel/Figures/RuminatinoTimeMRTQuantileByDaysInMilkeffectPlot.png\", width = 24, height = 6)"
      ],
      "metadata": {
        "id": "tq9v003wgGLF"
      },
      "execution_count": null,
      "outputs": []
    },
    {
      "cell_type": "code",
      "source": [
        "%%R\n",
        "combinedPlot <- ggarrange(\n",
        "    gt,\n",
        "    plotEffectSize,\n",
        "    heights = c(2, 1),\n",
        "    labels = c(\"A)\",\"B)\"),\n",
        "    ncol = 1,\n",
        "    nrow = 2,\n",
        "    align =\"v\",font.label=list(family = \"Times New Roman\",size=24))\n",
        "\n",
        "\n",
        "    combinedPlot"
      ],
      "metadata": {
        "colab": {
          "base_uri": "https://localhost:8080/",
          "height": 497
        },
        "id": "u-bUn8XhgLg0",
        "outputId": "aa1c8d79-fafa-4a23-b38a-d704b61d5028"
      },
      "execution_count": null,
      "outputs": [
        {
          "output_type": "display_data",
          "data": {
            "image/png": "[encoded data removed]"
          },
          "metadata": {}
        }
      ]
    },
    {
      "cell_type": "code",
      "source": [
        "%%R\n",
        "ggsave(plot = combinedPlot,\"/content/drive/Shareddrives/Bovi-Analytics/Projects/CelienKemel/Figures/RuminationTimeMRTQuantileByDaysInMilkCombo.png\", width = 24, height = 14)"
      ],
      "metadata": {
        "id": "J0r1EqKvyKVp"
      },
      "execution_count": null,
      "outputs": []
    }
  ],
  "metadata": {
    "colab": {
      "provenance": [],
      "include_colab_link": true
    },
    "kernelspec": {
      "display_name": "Python 3",
      "name": "python3"
    }
  },
  "nbformat": 4,
  "nbformat_minor": 0
}